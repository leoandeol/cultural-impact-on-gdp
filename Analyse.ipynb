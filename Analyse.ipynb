{
 "cells": [
  {
   "cell_type": "markdown",
   "metadata": {},
   "source": [
    "## Import data"
   ]
  },
  {
   "cell_type": "code",
   "execution_count": 187,
   "metadata": {},
   "outputs": [
    {
     "data": {
      "text/html": [
       "\n",
       "    <div class=\"bk-root\">\n",
       "        <a href=\"https://bokeh.pydata.org\" target=\"_blank\" class=\"bk-logo bk-logo-small bk-logo-notebook\"></a>\n",
       "        <span id=\"42257\">Loading BokehJS ...</span>\n",
       "    </div>"
      ]
     },
     "metadata": {},
     "output_type": "display_data"
    },
    {
     "data": {
      "application/javascript": [
       "\n",
       "(function(root) {\n",
       "  function now() {\n",
       "    return new Date();\n",
       "  }\n",
       "\n",
       "  var force = true;\n",
       "\n",
       "  if (typeof root._bokeh_onload_callbacks === \"undefined\" || force === true) {\n",
       "    root._bokeh_onload_callbacks = [];\n",
       "    root._bokeh_is_loading = undefined;\n",
       "  }\n",
       "\n",
       "  var JS_MIME_TYPE = 'application/javascript';\n",
       "  var HTML_MIME_TYPE = 'text/html';\n",
       "  var EXEC_MIME_TYPE = 'application/vnd.bokehjs_exec.v0+json';\n",
       "  var CLASS_NAME = 'output_bokeh rendered_html';\n",
       "\n",
       "  /**\n",
       "   * Render data to the DOM node\n",
       "   */\n",
       "  function render(props, node) {\n",
       "    var script = document.createElement(\"script\");\n",
       "    node.appendChild(script);\n",
       "  }\n",
       "\n",
       "  /**\n",
       "   * Handle when an output is cleared or removed\n",
       "   */\n",
       "  function handleClearOutput(event, handle) {\n",
       "    var cell = handle.cell;\n",
       "\n",
       "    var id = cell.output_area._bokeh_element_id;\n",
       "    var server_id = cell.output_area._bokeh_server_id;\n",
       "    // Clean up Bokeh references\n",
       "    if (id != null && id in Bokeh.index) {\n",
       "      Bokeh.index[id].model.document.clear();\n",
       "      delete Bokeh.index[id];\n",
       "    }\n",
       "\n",
       "    if (server_id !== undefined) {\n",
       "      // Clean up Bokeh references\n",
       "      var cmd = \"from bokeh.io.state import curstate; print(curstate().uuid_to_server['\" + server_id + \"'].get_sessions()[0].document.roots[0]._id)\";\n",
       "      cell.notebook.kernel.execute(cmd, {\n",
       "        iopub: {\n",
       "          output: function(msg) {\n",
       "            var id = msg.content.text.trim();\n",
       "            if (id in Bokeh.index) {\n",
       "              Bokeh.index[id].model.document.clear();\n",
       "              delete Bokeh.index[id];\n",
       "            }\n",
       "          }\n",
       "        }\n",
       "      });\n",
       "      // Destroy server and session\n",
       "      var cmd = \"import bokeh.io.notebook as ion; ion.destroy_server('\" + server_id + \"')\";\n",
       "      cell.notebook.kernel.execute(cmd);\n",
       "    }\n",
       "  }\n",
       "\n",
       "  /**\n",
       "   * Handle when a new output is added\n",
       "   */\n",
       "  function handleAddOutput(event, handle) {\n",
       "    var output_area = handle.output_area;\n",
       "    var output = handle.output;\n",
       "\n",
       "    // limit handleAddOutput to display_data with EXEC_MIME_TYPE content only\n",
       "    if ((output.output_type != \"display_data\") || (!output.data.hasOwnProperty(EXEC_MIME_TYPE))) {\n",
       "      return\n",
       "    }\n",
       "\n",
       "    var toinsert = output_area.element.find(\".\" + CLASS_NAME.split(' ')[0]);\n",
       "\n",
       "    if (output.metadata[EXEC_MIME_TYPE][\"id\"] !== undefined) {\n",
       "      toinsert[toinsert.length - 1].firstChild.textContent = output.data[JS_MIME_TYPE];\n",
       "      // store reference to embed id on output_area\n",
       "      output_area._bokeh_element_id = output.metadata[EXEC_MIME_TYPE][\"id\"];\n",
       "    }\n",
       "    if (output.metadata[EXEC_MIME_TYPE][\"server_id\"] !== undefined) {\n",
       "      var bk_div = document.createElement(\"div\");\n",
       "      bk_div.innerHTML = output.data[HTML_MIME_TYPE];\n",
       "      var script_attrs = bk_div.children[0].attributes;\n",
       "      for (var i = 0; i < script_attrs.length; i++) {\n",
       "        toinsert[toinsert.length - 1].firstChild.setAttribute(script_attrs[i].name, script_attrs[i].value);\n",
       "      }\n",
       "      // store reference to server id on output_area\n",
       "      output_area._bokeh_server_id = output.metadata[EXEC_MIME_TYPE][\"server_id\"];\n",
       "    }\n",
       "  }\n",
       "\n",
       "  function register_renderer(events, OutputArea) {\n",
       "\n",
       "    function append_mime(data, metadata, element) {\n",
       "      // create a DOM node to render to\n",
       "      var toinsert = this.create_output_subarea(\n",
       "        metadata,\n",
       "        CLASS_NAME,\n",
       "        EXEC_MIME_TYPE\n",
       "      );\n",
       "      this.keyboard_manager.register_events(toinsert);\n",
       "      // Render to node\n",
       "      var props = {data: data, metadata: metadata[EXEC_MIME_TYPE]};\n",
       "      render(props, toinsert[toinsert.length - 1]);\n",
       "      element.append(toinsert);\n",
       "      return toinsert\n",
       "    }\n",
       "\n",
       "    /* Handle when an output is cleared or removed */\n",
       "    events.on('clear_output.CodeCell', handleClearOutput);\n",
       "    events.on('delete.Cell', handleClearOutput);\n",
       "\n",
       "    /* Handle when a new output is added */\n",
       "    events.on('output_added.OutputArea', handleAddOutput);\n",
       "\n",
       "    /**\n",
       "     * Register the mime type and append_mime function with output_area\n",
       "     */\n",
       "    OutputArea.prototype.register_mime_type(EXEC_MIME_TYPE, append_mime, {\n",
       "      /* Is output safe? */\n",
       "      safe: true,\n",
       "      /* Index of renderer in `output_area.display_order` */\n",
       "      index: 0\n",
       "    });\n",
       "  }\n",
       "\n",
       "  // register the mime type if in Jupyter Notebook environment and previously unregistered\n",
       "  if (root.Jupyter !== undefined) {\n",
       "    var events = require('base/js/events');\n",
       "    var OutputArea = require('notebook/js/outputarea').OutputArea;\n",
       "\n",
       "    if (OutputArea.prototype.mime_types().indexOf(EXEC_MIME_TYPE) == -1) {\n",
       "      register_renderer(events, OutputArea);\n",
       "    }\n",
       "  }\n",
       "\n",
       "  \n",
       "  if (typeof (root._bokeh_timeout) === \"undefined\" || force === true) {\n",
       "    root._bokeh_timeout = Date.now() + 5000;\n",
       "    root._bokeh_failed_load = false;\n",
       "  }\n",
       "\n",
       "  var NB_LOAD_WARNING = {'data': {'text/html':\n",
       "     \"<div style='background-color: #fdd'>\\n\"+\n",
       "     \"<p>\\n\"+\n",
       "     \"BokehJS does not appear to have successfully loaded. If loading BokehJS from CDN, this \\n\"+\n",
       "     \"may be due to a slow or bad network connection. Possible fixes:\\n\"+\n",
       "     \"</p>\\n\"+\n",
       "     \"<ul>\\n\"+\n",
       "     \"<li>re-rerun `output_notebook()` to attempt to load from CDN again, or</li>\\n\"+\n",
       "     \"<li>use INLINE resources instead, as so:</li>\\n\"+\n",
       "     \"</ul>\\n\"+\n",
       "     \"<code>\\n\"+\n",
       "     \"from bokeh.resources import INLINE\\n\"+\n",
       "     \"output_notebook(resources=INLINE)\\n\"+\n",
       "     \"</code>\\n\"+\n",
       "     \"</div>\"}};\n",
       "\n",
       "  function display_loaded() {\n",
       "    var el = document.getElementById(\"42257\");\n",
       "    if (el != null) {\n",
       "      el.textContent = \"BokehJS is loading...\";\n",
       "    }\n",
       "    if (root.Bokeh !== undefined) {\n",
       "      if (el != null) {\n",
       "        el.textContent = \"BokehJS \" + root.Bokeh.version + \" successfully loaded.\";\n",
       "      }\n",
       "    } else if (Date.now() < root._bokeh_timeout) {\n",
       "      setTimeout(display_loaded, 100)\n",
       "    }\n",
       "  }\n",
       "\n",
       "\n",
       "  function run_callbacks() {\n",
       "    try {\n",
       "      root._bokeh_onload_callbacks.forEach(function(callback) {\n",
       "        if (callback != null)\n",
       "          callback();\n",
       "      });\n",
       "    } finally {\n",
       "      delete root._bokeh_onload_callbacks\n",
       "    }\n",
       "    console.debug(\"Bokeh: all callbacks have finished\");\n",
       "  }\n",
       "\n",
       "  function load_libs(css_urls, js_urls, callback) {\n",
       "    if (css_urls == null) css_urls = [];\n",
       "    if (js_urls == null) js_urls = [];\n",
       "\n",
       "    root._bokeh_onload_callbacks.push(callback);\n",
       "    if (root._bokeh_is_loading > 0) {\n",
       "      console.debug(\"Bokeh: BokehJS is being loaded, scheduling callback at\", now());\n",
       "      return null;\n",
       "    }\n",
       "    if (js_urls == null || js_urls.length === 0) {\n",
       "      run_callbacks();\n",
       "      return null;\n",
       "    }\n",
       "    console.debug(\"Bokeh: BokehJS not loaded, scheduling load and callback at\", now());\n",
       "    root._bokeh_is_loading = css_urls.length + js_urls.length;\n",
       "\n",
       "    function on_load() {\n",
       "      root._bokeh_is_loading--;\n",
       "      if (root._bokeh_is_loading === 0) {\n",
       "        console.debug(\"Bokeh: all BokehJS libraries/stylesheets loaded\");\n",
       "        run_callbacks()\n",
       "      }\n",
       "    }\n",
       "\n",
       "    function on_error() {\n",
       "      console.error(\"failed to load \" + url);\n",
       "    }\n",
       "\n",
       "    for (var i = 0; i < css_urls.length; i++) {\n",
       "      var url = css_urls[i];\n",
       "      const element = document.createElement(\"link\");\n",
       "      element.onload = on_load;\n",
       "      element.onerror = on_error;\n",
       "      element.rel = \"stylesheet\";\n",
       "      element.type = \"text/css\";\n",
       "      element.href = url;\n",
       "      console.debug(\"Bokeh: injecting link tag for BokehJS stylesheet: \", url);\n",
       "      document.body.appendChild(element);\n",
       "    }\n",
       "\n",
       "    for (var i = 0; i < js_urls.length; i++) {\n",
       "      var url = js_urls[i];\n",
       "      var element = document.createElement('script');\n",
       "      element.onload = on_load;\n",
       "      element.onerror = on_error;\n",
       "      element.async = false;\n",
       "      element.src = url;\n",
       "      console.debug(\"Bokeh: injecting script tag for BokehJS library: \", url);\n",
       "      document.head.appendChild(element);\n",
       "    }\n",
       "  };var element = document.getElementById(\"42257\");\n",
       "  if (element == null) {\n",
       "    console.error(\"Bokeh: ERROR: autoload.js configured with elementid '42257' but no matching script tag was found. \")\n",
       "    return false;\n",
       "  }\n",
       "\n",
       "  function inject_raw_css(css) {\n",
       "    const element = document.createElement(\"style\");\n",
       "    element.appendChild(document.createTextNode(css));\n",
       "    document.body.appendChild(element);\n",
       "  }\n",
       "\n",
       "  var js_urls = [\"https://cdn.pydata.org/bokeh/release/bokeh-1.1.0.min.js\", \"https://cdn.pydata.org/bokeh/release/bokeh-widgets-1.1.0.min.js\", \"https://cdn.pydata.org/bokeh/release/bokeh-tables-1.1.0.min.js\", \"https://cdn.pydata.org/bokeh/release/bokeh-gl-1.1.0.min.js\"];\n",
       "  var css_urls = [\"https://cdn.pydata.org/bokeh/release/bokeh-1.1.0.min.css\", \"https://cdn.pydata.org/bokeh/release/bokeh-widgets-1.1.0.min.css\", \"https://cdn.pydata.org/bokeh/release/bokeh-tables-1.1.0.min.css\"];\n",
       "\n",
       "  var inline_js = [\n",
       "    function(Bokeh) {\n",
       "      Bokeh.set_log_level(\"info\");\n",
       "    },\n",
       "    \n",
       "    function(Bokeh) {\n",
       "      \n",
       "    },\n",
       "    function(Bokeh) {} // ensure no trailing comma for IE\n",
       "  ];\n",
       "\n",
       "  function run_inline_js() {\n",
       "    \n",
       "    if ((root.Bokeh !== undefined) || (force === true)) {\n",
       "      for (var i = 0; i < inline_js.length; i++) {\n",
       "        inline_js[i].call(root, root.Bokeh);\n",
       "      }if (force === true) {\n",
       "        display_loaded();\n",
       "      }} else if (Date.now() < root._bokeh_timeout) {\n",
       "      setTimeout(run_inline_js, 100);\n",
       "    } else if (!root._bokeh_failed_load) {\n",
       "      console.log(\"Bokeh: BokehJS failed to load within specified timeout.\");\n",
       "      root._bokeh_failed_load = true;\n",
       "    } else if (force !== true) {\n",
       "      var cell = $(document.getElementById(\"42257\")).parents('.cell').data().cell;\n",
       "      cell.output_area.append_execute_result(NB_LOAD_WARNING)\n",
       "    }\n",
       "\n",
       "  }\n",
       "\n",
       "  if (root._bokeh_is_loading === 0) {\n",
       "    console.debug(\"Bokeh: BokehJS loaded, going straight to plotting\");\n",
       "    run_inline_js();\n",
       "  } else {\n",
       "    load_libs(css_urls, js_urls, function() {\n",
       "      console.debug(\"Bokeh: BokehJS plotting callback run at\", now());\n",
       "      run_inline_js();\n",
       "    });\n",
       "  }\n",
       "}(window));"
      ],
      "application/vnd.bokehjs_load.v0+json": "\n(function(root) {\n  function now() {\n    return new Date();\n  }\n\n  var force = true;\n\n  if (typeof root._bokeh_onload_callbacks === \"undefined\" || force === true) {\n    root._bokeh_onload_callbacks = [];\n    root._bokeh_is_loading = undefined;\n  }\n\n  \n\n  \n  if (typeof (root._bokeh_timeout) === \"undefined\" || force === true) {\n    root._bokeh_timeout = Date.now() + 5000;\n    root._bokeh_failed_load = false;\n  }\n\n  var NB_LOAD_WARNING = {'data': {'text/html':\n     \"<div style='background-color: #fdd'>\\n\"+\n     \"<p>\\n\"+\n     \"BokehJS does not appear to have successfully loaded. If loading BokehJS from CDN, this \\n\"+\n     \"may be due to a slow or bad network connection. Possible fixes:\\n\"+\n     \"</p>\\n\"+\n     \"<ul>\\n\"+\n     \"<li>re-rerun `output_notebook()` to attempt to load from CDN again, or</li>\\n\"+\n     \"<li>use INLINE resources instead, as so:</li>\\n\"+\n     \"</ul>\\n\"+\n     \"<code>\\n\"+\n     \"from bokeh.resources import INLINE\\n\"+\n     \"output_notebook(resources=INLINE)\\n\"+\n     \"</code>\\n\"+\n     \"</div>\"}};\n\n  function display_loaded() {\n    var el = document.getElementById(\"42257\");\n    if (el != null) {\n      el.textContent = \"BokehJS is loading...\";\n    }\n    if (root.Bokeh !== undefined) {\n      if (el != null) {\n        el.textContent = \"BokehJS \" + root.Bokeh.version + \" successfully loaded.\";\n      }\n    } else if (Date.now() < root._bokeh_timeout) {\n      setTimeout(display_loaded, 100)\n    }\n  }\n\n\n  function run_callbacks() {\n    try {\n      root._bokeh_onload_callbacks.forEach(function(callback) {\n        if (callback != null)\n          callback();\n      });\n    } finally {\n      delete root._bokeh_onload_callbacks\n    }\n    console.debug(\"Bokeh: all callbacks have finished\");\n  }\n\n  function load_libs(css_urls, js_urls, callback) {\n    if (css_urls == null) css_urls = [];\n    if (js_urls == null) js_urls = [];\n\n    root._bokeh_onload_callbacks.push(callback);\n    if (root._bokeh_is_loading > 0) {\n      console.debug(\"Bokeh: BokehJS is being loaded, scheduling callback at\", now());\n      return null;\n    }\n    if (js_urls == null || js_urls.length === 0) {\n      run_callbacks();\n      return null;\n    }\n    console.debug(\"Bokeh: BokehJS not loaded, scheduling load and callback at\", now());\n    root._bokeh_is_loading = css_urls.length + js_urls.length;\n\n    function on_load() {\n      root._bokeh_is_loading--;\n      if (root._bokeh_is_loading === 0) {\n        console.debug(\"Bokeh: all BokehJS libraries/stylesheets loaded\");\n        run_callbacks()\n      }\n    }\n\n    function on_error() {\n      console.error(\"failed to load \" + url);\n    }\n\n    for (var i = 0; i < css_urls.length; i++) {\n      var url = css_urls[i];\n      const element = document.createElement(\"link\");\n      element.onload = on_load;\n      element.onerror = on_error;\n      element.rel = \"stylesheet\";\n      element.type = \"text/css\";\n      element.href = url;\n      console.debug(\"Bokeh: injecting link tag for BokehJS stylesheet: \", url);\n      document.body.appendChild(element);\n    }\n\n    for (var i = 0; i < js_urls.length; i++) {\n      var url = js_urls[i];\n      var element = document.createElement('script');\n      element.onload = on_load;\n      element.onerror = on_error;\n      element.async = false;\n      element.src = url;\n      console.debug(\"Bokeh: injecting script tag for BokehJS library: \", url);\n      document.head.appendChild(element);\n    }\n  };var element = document.getElementById(\"42257\");\n  if (element == null) {\n    console.error(\"Bokeh: ERROR: autoload.js configured with elementid '42257' but no matching script tag was found. \")\n    return false;\n  }\n\n  function inject_raw_css(css) {\n    const element = document.createElement(\"style\");\n    element.appendChild(document.createTextNode(css));\n    document.body.appendChild(element);\n  }\n\n  var js_urls = [\"https://cdn.pydata.org/bokeh/release/bokeh-1.1.0.min.js\", \"https://cdn.pydata.org/bokeh/release/bokeh-widgets-1.1.0.min.js\", \"https://cdn.pydata.org/bokeh/release/bokeh-tables-1.1.0.min.js\", \"https://cdn.pydata.org/bokeh/release/bokeh-gl-1.1.0.min.js\"];\n  var css_urls = [\"https://cdn.pydata.org/bokeh/release/bokeh-1.1.0.min.css\", \"https://cdn.pydata.org/bokeh/release/bokeh-widgets-1.1.0.min.css\", \"https://cdn.pydata.org/bokeh/release/bokeh-tables-1.1.0.min.css\"];\n\n  var inline_js = [\n    function(Bokeh) {\n      Bokeh.set_log_level(\"info\");\n    },\n    \n    function(Bokeh) {\n      \n    },\n    function(Bokeh) {} // ensure no trailing comma for IE\n  ];\n\n  function run_inline_js() {\n    \n    if ((root.Bokeh !== undefined) || (force === true)) {\n      for (var i = 0; i < inline_js.length; i++) {\n        inline_js[i].call(root, root.Bokeh);\n      }if (force === true) {\n        display_loaded();\n      }} else if (Date.now() < root._bokeh_timeout) {\n      setTimeout(run_inline_js, 100);\n    } else if (!root._bokeh_failed_load) {\n      console.log(\"Bokeh: BokehJS failed to load within specified timeout.\");\n      root._bokeh_failed_load = true;\n    } else if (force !== true) {\n      var cell = $(document.getElementById(\"42257\")).parents('.cell').data().cell;\n      cell.output_area.append_execute_result(NB_LOAD_WARNING)\n    }\n\n  }\n\n  if (root._bokeh_is_loading === 0) {\n    console.debug(\"Bokeh: BokehJS loaded, going straight to plotting\");\n    run_inline_js();\n  } else {\n    load_libs(css_urls, js_urls, function() {\n      console.debug(\"Bokeh: BokehJS plotting callback run at\", now());\n      run_inline_js();\n    });\n  }\n}(window));"
     },
     "metadata": {},
     "output_type": "display_data"
    }
   ],
   "source": [
    "import numpy as np\n",
    "import pandas as pd\n",
    "%matplotlib inline\n",
    "import matplotlib.pyplot as plt\n",
    "from sklearn.decomposition import PCA\n",
    "from sklearn.cluster import KMeans, SpectralClustering\n",
    "from sklearn.manifold import TSNE\n",
    "from bokeh.plotting import figure, show, output_file\n",
    "from bokeh.io import output_notebook\n",
    "from bokeh.models import ColumnDataSource, LabelSet\n",
    "import pycountry_convert as pc\n",
    "output_notebook()"
   ]
  },
  {
   "cell_type": "code",
   "execution_count": 188,
   "metadata": {},
   "outputs": [
    {
     "name": "stdout",
     "output_type": "stream",
     "text": [
      "   Unnamed: 0  ctr      country   pdi   idv   mas   uai     ltowvs        ivr\n",
      "0           0  AFE  Africa East  64.0  27.0  41.0  52.0  32.000000  40.000000\n",
      "1           1  AFW  Africa West  77.0  20.0  46.0  54.0   9.000000  78.000000\n",
      "2           2  ALB      Albania   NaN   NaN   NaN   NaN  61.460957  14.508929\n",
      "3           3  ALG      Algeria   NaN   NaN   NaN   NaN  25.944584  32.366071\n",
      "4           4  AND      Andorra   NaN   NaN   NaN   NaN        NaN  65.000000\n",
      "Nb lignes :  111\n",
      "Nb lignes filtrées :  62\n",
      "Index :  Index(['Unnamed: 0', 'ctr', 'country', 'pdi', 'idv', 'mas', 'uai', 'ltowvs',\n",
      "       'ivr'],\n",
      "      dtype='object')\n",
      "    Unnamed: 0  ctr     country   pdi   idv   mas   uai     ltowvs        ivr\n",
      "6            6  ARG   Argentina  49.0  46.0  56.0  86.0  20.403023  61.830357\n",
      "8            8  AUS   Australia  38.0  90.0  61.0  51.0  21.158690  71.428571\n",
      "9            9  AUT     Austria  11.0  55.0  79.0  70.0  60.453401  62.723214\n",
      "11          11  BGD  Bangladesh  80.0  20.0  55.0  60.0  47.103275  19.642857\n",
      "13          13  BEL     Belgium  65.0  75.0  54.0  94.0  81.863980  56.696429\n",
      "17          17  BRA      Brazil  69.0  38.0  49.0  76.0  43.828715  59.151786\n",
      "18          18  BGR    Bulgaria  70.0  30.0  40.0  85.0  69.017632  15.848214\n",
      "20          20  CAN      Canada  39.0  80.0  52.0  48.0  36.020151  68.303571\n",
      "22          22  CHL       Chile  63.0  23.0  28.0  86.0  30.982368  68.000000\n",
      "23          23  CHN       China  80.0  20.0  66.0  30.0  87.405542  23.660714\n"
     ]
    }
   ],
   "source": [
    "dims = pd.read_csv(\"6-dimensions_new.csv\")\n",
    "print(dims.head())\n",
    "print(\"Nb lignes : \",len(dims.index))\n",
    "dims = dims.dropna()\n",
    "dims = dims.drop([0,1,5])\n",
    "#supprimer regions\n",
    "print(\"Nb lignes filtrées : \",len(dims.index))\n",
    "print(\"Index : \",dims.columns)\n",
    "print(dims.head(10))"
   ]
  },
  {
   "cell_type": "code",
   "execution_count": 189,
   "metadata": {},
   "outputs": [],
   "source": [
    "model = SpectralClustering(n_clusters=4,assign_labels=\"discretize\",affinity='nearest_neighbors',random_state=0)\n",
    "X = dims[['pdi', 'idv', 'mas', 'uai', 'ltowvs', 'ivr']]\n",
    "y = dims[\"country\"]\n",
    "clust_labels = model.fit_predict(X)\n",
    "#clust_labels = model.predict(X)\n",
    "#cent = model.cluster_centers_\n",
    "#plt.scatter(mat[:,0],mat[:,1],c=clust_labels)\n",
    "#for i, txt in enumerate(y):\n",
    "#    plt.annotate(txt, (mat[i,0], mat[i,1]))"
   ]
  },
  {
   "cell_type": "code",
   "execution_count": 190,
   "metadata": {},
   "outputs": [
    {
     "data": {
      "text/html": [
       "\n",
       "\n",
       "\n",
       "\n",
       "\n",
       "\n",
       "  <div class=\"bk-root\" id=\"6856dcad-2248-46b8-ae3c-af156396e02f\" data-root-id=\"42258\"></div>\n"
      ]
     },
     "metadata": {},
     "output_type": "display_data"
    },
    {
     "data": {
      "application/javascript": [
       "(function(root) {\n",
       "  function embed_document(root) {\n",
       "    \n",
       "  var docs_json = {\"784e7f42-a412-46b6-80cb-d57e711c3255\":{\"roots\":{\"references\":[{\"attributes\":{\"below\":[{\"id\":\"42269\",\"type\":\"LinearAxis\"}],\"center\":[{\"id\":\"42273\",\"type\":\"Grid\"},{\"id\":\"42278\",\"type\":\"Grid\"},{\"id\":\"42298\",\"type\":\"LabelSet\"}],\"left\":[{\"id\":\"42274\",\"type\":\"LinearAxis\"}],\"renderers\":[{\"id\":\"42296\",\"type\":\"GlyphRenderer\"}],\"title\":{\"id\":\"42259\",\"type\":\"Title\"},\"toolbar\":{\"id\":\"42285\",\"type\":\"Toolbar\"},\"x_range\":{\"id\":\"42261\",\"type\":\"DataRange1d\"},\"x_scale\":{\"id\":\"42265\",\"type\":\"LinearScale\"},\"y_range\":{\"id\":\"42263\",\"type\":\"DataRange1d\"},\"y_scale\":{\"id\":\"42267\",\"type\":\"LinearScale\"}},\"id\":\"42258\",\"subtype\":\"Figure\",\"type\":\"Plot\"},{\"attributes\":{\"formatter\":{\"id\":\"43035\",\"type\":\"BasicTickFormatter\"},\"ticker\":{\"id\":\"42275\",\"type\":\"BasicTicker\"}},\"id\":\"42274\",\"type\":\"LinearAxis\"},{\"attributes\":{},\"id\":\"42284\",\"type\":\"HelpTool\"},{\"attributes\":{\"text\":\"Clustering TSNE\"},\"id\":\"42259\",\"type\":\"Title\"},{\"attributes\":{\"data_source\":{\"id\":\"42292\",\"type\":\"ColumnDataSource\"},\"glyph\":{\"id\":\"42294\",\"type\":\"Circle\"},\"hover_glyph\":null,\"muted_glyph\":null,\"nonselection_glyph\":{\"id\":\"42295\",\"type\":\"Circle\"},\"selection_glyph\":null,\"view\":{\"id\":\"42297\",\"type\":\"CDSView\"}},\"id\":\"42296\",\"type\":\"GlyphRenderer\"},{\"attributes\":{\"callback\":null},\"id\":\"42263\",\"type\":\"DataRange1d\"},{\"attributes\":{},\"id\":\"43039\",\"type\":\"Selection\"},{\"attributes\":{\"callback\":null,\"data\":{\"color\":[\"brown\",\"black\",\"green\",\"blue\",\"green\",\"brown\",\"green\",\"yellow\",\"brown\",\"blue\",\"brown\",\"green\",\"green\",\"green\",\"yellow\",\"green\",\"green\",\"green\",\"green\",\"green\",\"green\",\"blue\",\"green\",\"blue\",\"blue\",\"blue\",\"green\",\"green\",\"blue\",\"blue\",\"green\",\"green\",\"green\",\"blue\",\"green\",\"yellow\",\"red\",\"green\",\"black\",\"green\",\"blue\",\"brown\",\"blue\",\"green\",\"green\",\"green\",\"green\",\"green\",\"blue\",\"green\",\"green\",\"green\",\"green\",\"green\",\"blue\",\"blue\",\"yellow\",\"blue\",\"yellow\",\"brown\",\"brown\",\"blue\"],\"label\":[\"Argentina\",\"Australia\",\"Austria\",\"Bangladesh\",\"Belgium\",\"Brazil\",\"Bulgaria\",\"Canada\",\"Chile\",\"China\",\"Colombia\",\"Croatia\",\"Czech Republic\",\"Denmark\",\"El Salvador\",\"Estonia\",\"Finland\",\"France\",\"Germany\",\"Great Britain\",\"Greece\",\"Hong Kong\",\"Hungary\",\"India\",\"Indonesia\",\"Iran\",\"Ireland\",\"Italy\",\"Japan\",\"South Korea\",\"Latvia\",\"Lithuania\",\"Luxembourg\",\"Malaysia\",\"Malta\",\"Mexico\",\"Morocco\",\"Netherlands\",\"New Zealand\",\"Norway\",\"Pakistan\",\"Peru\",\"Philippines\",\"Poland\",\"Portugal\",\"Romania\",\"Russia\",\"Serbia\",\"Singapore\",\"Slovak Republic\",\"Slovenia\",\"Spain\",\"Sweden\",\"Switzerland\",\"Taiwan\",\"Thailand\",\"Trinidad and Tobago\",\"Turkey\",\"United States\",\"Uruguay\",\"Venezuela\",\"Vietnam\"],\"x\":{\"__ndarray__\":\"o5r+wCfL80KExqZCqg7DwXAlCUKdN9rAG4pgwpKlzUKSQOzBfUo0QVzo3cFVbNHB5YTMQT6yyULxPyLCMRmPwhrml0Jk25FBFO+mQmsk/0K6FnjCIoDeP3wbZkK/M9hAQFSewRi1wUBO4dpCEuksQnJQUUKZAZXCr7OtwgsOk8IfCWlCVb8DwgMbI0HM3PXBGFGUQZI9jUI2UsFCYHypQpRu5sGeLejBCyFSwLCk4EGnnT/C1RUYwjbLT8J4yzLC0gEFwV8BA0JSPQvCOvI5wNqHrUI7NrBCZvqpwsSjVcH4Wi3BxJmHwXRh5EIFcS3CWqstwtPgWME=\",\"dtype\":\"float32\",\"shape\":[62]},\"y\":{\"__ndarray__\":\"XDRowg+HBcJi+iJBFTKEQkPaIUGp96DBso6rQQQCAMK7SEzCVXvKQoXiocKy8xtBrpL8QaPGYcJBcojC+MCIQu/9DsL+dTRBboISQn2WLcHw5AbC8DmvQlR9A0JLsJBCtRWUQjaILsJNkJDAZCfrQR4HVUJWOg1C08eXQvT0pEJT4GhA5Yi2QgSjCMF6qsTC3j8TwhQMZ8KwfoPBtYk9wq5QMELv2vnBSzhkQvUOaMHZFKvBrbqzQdKlFEIVkfNAgsPVQsp/okJPfyXBtxLnP0F/g8J7v/xBM2XSQRsbEsKnCqbCMTgbwfs4pcGCsh/C+iqzwouxtEI=\",\"dtype\":\"float32\",\"shape\":[62]}},\"selected\":{\"id\":\"43039\",\"type\":\"Selection\"},\"selection_policy\":{\"id\":\"43040\",\"type\":\"UnionRenderers\"}},\"id\":\"42292\",\"type\":\"ColumnDataSource\"},{\"attributes\":{\"dimension\":1,\"ticker\":{\"id\":\"42275\",\"type\":\"BasicTicker\"}},\"id\":\"42278\",\"type\":\"Grid\"},{\"attributes\":{\"source\":{\"id\":\"42292\",\"type\":\"ColumnDataSource\"}},\"id\":\"42297\",\"type\":\"CDSView\"},{\"attributes\":{\"source\":{\"id\":\"42292\",\"type\":\"ColumnDataSource\"},\"text\":{\"field\":\"label\"},\"text_align\":\"center\",\"text_color\":{\"value\":\"#555555\"},\"text_font_size\":{\"value\":\"8pt\"},\"x\":{\"field\":\"x\"},\"y\":{\"field\":\"y\"},\"y_offset\":{\"value\":8}},\"id\":\"42298\",\"type\":\"LabelSet\"},{\"attributes\":{\"bottom_units\":\"screen\",\"fill_alpha\":{\"value\":0.5},\"fill_color\":{\"value\":\"lightgrey\"},\"left_units\":\"screen\",\"level\":\"overlay\",\"line_alpha\":{\"value\":1.0},\"line_color\":{\"value\":\"black\"},\"line_dash\":[4,4],\"line_width\":{\"value\":2},\"render_mode\":\"css\",\"right_units\":\"screen\",\"top_units\":\"screen\"},\"id\":\"43041\",\"type\":\"BoxAnnotation\"},{\"attributes\":{},\"id\":\"42265\",\"type\":\"LinearScale\"},{\"attributes\":{},\"id\":\"42267\",\"type\":\"LinearScale\"},{\"attributes\":{},\"id\":\"42280\",\"type\":\"WheelZoomTool\"},{\"attributes\":{\"overlay\":{\"id\":\"43041\",\"type\":\"BoxAnnotation\"}},\"id\":\"42281\",\"type\":\"BoxZoomTool\"},{\"attributes\":{},\"id\":\"43040\",\"type\":\"UnionRenderers\"},{\"attributes\":{},\"id\":\"42282\",\"type\":\"SaveTool\"},{\"attributes\":{},\"id\":\"43035\",\"type\":\"BasicTickFormatter\"},{\"attributes\":{\"callback\":null},\"id\":\"42261\",\"type\":\"DataRange1d\"},{\"attributes\":{},\"id\":\"42283\",\"type\":\"ResetTool\"},{\"attributes\":{\"fill_alpha\":{\"value\":0.2},\"fill_color\":{\"field\":\"color\"},\"line_color\":{\"field\":\"color\"},\"size\":{\"units\":\"screen\",\"value\":10},\"x\":{\"field\":\"x\"},\"y\":{\"field\":\"y\"}},\"id\":\"42294\",\"type\":\"Circle\"},{\"attributes\":{},\"id\":\"42275\",\"type\":\"BasicTicker\"},{\"attributes\":{\"active_drag\":\"auto\",\"active_inspect\":\"auto\",\"active_multi\":null,\"active_scroll\":\"auto\",\"active_tap\":\"auto\",\"tools\":[{\"id\":\"42279\",\"type\":\"PanTool\"},{\"id\":\"42280\",\"type\":\"WheelZoomTool\"},{\"id\":\"42281\",\"type\":\"BoxZoomTool\"},{\"id\":\"42282\",\"type\":\"SaveTool\"},{\"id\":\"42283\",\"type\":\"ResetTool\"},{\"id\":\"42284\",\"type\":\"HelpTool\"}]},\"id\":\"42285\",\"type\":\"Toolbar\"},{\"attributes\":{},\"id\":\"43037\",\"type\":\"BasicTickFormatter\"},{\"attributes\":{\"ticker\":{\"id\":\"42270\",\"type\":\"BasicTicker\"}},\"id\":\"42273\",\"type\":\"Grid\"},{\"attributes\":{\"fill_alpha\":{\"value\":0.1},\"fill_color\":{\"value\":\"#1f77b4\"},\"line_alpha\":{\"value\":0.1},\"line_color\":{\"value\":\"#1f77b4\"},\"size\":{\"units\":\"screen\",\"value\":10},\"x\":{\"field\":\"x\"},\"y\":{\"field\":\"y\"}},\"id\":\"42295\",\"type\":\"Circle\"},{\"attributes\":{\"formatter\":{\"id\":\"43037\",\"type\":\"BasicTickFormatter\"},\"ticker\":{\"id\":\"42270\",\"type\":\"BasicTicker\"}},\"id\":\"42269\",\"type\":\"LinearAxis\"},{\"attributes\":{},\"id\":\"42279\",\"type\":\"PanTool\"},{\"attributes\":{},\"id\":\"42270\",\"type\":\"BasicTicker\"}],\"root_ids\":[\"42258\"]},\"title\":\"Bokeh Application\",\"version\":\"1.1.0\"}};\n",
       "  var render_items = [{\"docid\":\"784e7f42-a412-46b6-80cb-d57e711c3255\",\"roots\":{\"42258\":\"6856dcad-2248-46b8-ae3c-af156396e02f\"}}];\n",
       "  root.Bokeh.embed.embed_items_notebook(docs_json, render_items);\n",
       "\n",
       "  }\n",
       "  if (root.Bokeh !== undefined) {\n",
       "    embed_document(root);\n",
       "  } else {\n",
       "    var attempts = 0;\n",
       "    var timer = setInterval(function(root) {\n",
       "      if (root.Bokeh !== undefined) {\n",
       "        embed_document(root);\n",
       "        clearInterval(timer);\n",
       "      }\n",
       "      attempts++;\n",
       "      if (attempts > 100) {\n",
       "        console.log(\"Bokeh: ERROR: Unable to run BokehJS code because BokehJS library is missing\");\n",
       "        clearInterval(timer);\n",
       "      }\n",
       "    }, 10, root)\n",
       "  }\n",
       "})(window);"
      ],
      "application/vnd.bokehjs_exec.v0+json": ""
     },
     "metadata": {
      "application/vnd.bokehjs_exec.v0+json": {
       "id": "42258"
      }
     },
     "output_type": "display_data"
    }
   ],
   "source": [
    "pca = TSNE(n_components=2,random_state=0,perplexity=20)\n",
    "mat = pca.fit_transform(X,y)\n",
    "p = figure(title = \"Clustering TSNE\")\n",
    "#p.xaxis.axis_label = 'Petal Length'\n",
    "#p.yaxis.axis_label = 'Petal Width'\n",
    "colors = [\"red\",\"blue\",\"green\",\"yellow\",\"black\",\"brown\"]\n",
    "countries = [pc.country_alpha2_to_continent_code(pc.country_name_to_country_alpha2(x)) for x in dims[\"country\"]]\n",
    "#countries = [np.unique(countries).index(x) for x in countries]\n",
    "uniq = list(np.unique(countries))\n",
    "conts = [uniq.index(x) for x in countries]\n",
    "#for i,con in zip(list(range(len(np.unique(countries)))),np.unique(countries)):\n",
    "#    print(np.where(countries==con))\n",
    "#    conts[np.where(countries==con)] = i\n",
    "    \n",
    "source = ColumnDataSource(data={\"x\":mat[:,0], \"y\":mat[:,1], \"label\":y, \n",
    "                                \"color\":list([colors[int(i)] for i in conts])})\n",
    "\n",
    "p.circle(x=\"x\",y=\"y\",color=\"color\", source=source, fill_alpha=0.2, size=10)\n",
    "\n",
    "labels = LabelSet(x=\"x\",y=\"y\",source=source, text=\"label\", y_offset=8,\n",
    "                  text_font_size=\"8pt\", text_color=\"#555555\",\n",
    "                  text_align='center')\n",
    "p.add_layout(labels)\n",
    "\n",
    "#output_file(\"iris.html\", title=\"iris.py example\")\n",
    "\n",
    "show(p)"
   ]
  },
  {
   "cell_type": "code",
   "execution_count": 191,
   "metadata": {},
   "outputs": [
    {
     "data": {
      "text/html": [
       "\n",
       "\n",
       "\n",
       "\n",
       "\n",
       "\n",
       "  <div class=\"bk-root\" id=\"f4f16b1c-5bc8-4928-ae9d-a51e070a5f35\" data-root-id=\"43090\"></div>\n"
      ]
     },
     "metadata": {},
     "output_type": "display_data"
    },
    {
     "data": {
      "application/javascript": [
       "(function(root) {\n",
       "  function embed_document(root) {\n",
       "    \n",
       "  var docs_json = {\"db7423bc-54e0-4324-a20c-df99b0478100\":{\"roots\":{\"references\":[{\"attributes\":{\"below\":[{\"id\":\"43101\",\"type\":\"LinearAxis\"}],\"center\":[{\"id\":\"43105\",\"type\":\"Grid\"},{\"id\":\"43110\",\"type\":\"Grid\"},{\"id\":\"43130\",\"type\":\"LabelSet\"}],\"left\":[{\"id\":\"43106\",\"type\":\"LinearAxis\"}],\"renderers\":[{\"id\":\"43128\",\"type\":\"GlyphRenderer\"}],\"title\":{\"id\":\"43091\",\"type\":\"Title\"},\"toolbar\":{\"id\":\"43117\",\"type\":\"Toolbar\"},\"x_range\":{\"id\":\"43093\",\"type\":\"DataRange1d\"},\"x_scale\":{\"id\":\"43097\",\"type\":\"LinearScale\"},\"y_range\":{\"id\":\"43095\",\"type\":\"DataRange1d\"},\"y_scale\":{\"id\":\"43099\",\"type\":\"LinearScale\"}},\"id\":\"43090\",\"subtype\":\"Figure\",\"type\":\"Plot\"},{\"attributes\":{},\"id\":\"43880\",\"type\":\"UnionRenderers\"},{\"attributes\":{},\"id\":\"43102\",\"type\":\"BasicTicker\"},{\"attributes\":{},\"id\":\"43114\",\"type\":\"SaveTool\"},{\"attributes\":{},\"id\":\"43107\",\"type\":\"BasicTicker\"},{\"attributes\":{\"callback\":null},\"id\":\"43093\",\"type\":\"DataRange1d\"},{\"attributes\":{\"formatter\":{\"id\":\"43877\",\"type\":\"BasicTickFormatter\"},\"ticker\":{\"id\":\"43102\",\"type\":\"BasicTicker\"}},\"id\":\"43101\",\"type\":\"LinearAxis\"},{\"attributes\":{\"ticker\":{\"id\":\"43102\",\"type\":\"BasicTicker\"}},\"id\":\"43105\",\"type\":\"Grid\"},{\"attributes\":{},\"id\":\"43875\",\"type\":\"BasicTickFormatter\"},{\"attributes\":{},\"id\":\"43112\",\"type\":\"WheelZoomTool\"},{\"attributes\":{},\"id\":\"43116\",\"type\":\"HelpTool\"},{\"attributes\":{\"callback\":null,\"data\":{\"color\":[\"brown\",\"black\",\"green\",\"blue\",\"green\",\"brown\",\"green\",\"yellow\",\"brown\",\"blue\",\"brown\",\"green\",\"green\",\"green\",\"yellow\",\"green\",\"green\",\"green\",\"green\",\"green\",\"green\",\"blue\",\"green\",\"blue\",\"blue\",\"blue\",\"green\",\"green\",\"blue\",\"blue\",\"green\",\"green\",\"green\",\"blue\",\"green\",\"yellow\",\"red\",\"green\",\"black\",\"green\",\"blue\",\"brown\",\"blue\",\"green\",\"green\",\"green\",\"green\",\"green\",\"blue\",\"green\",\"green\",\"green\",\"green\",\"green\",\"blue\",\"blue\",\"yellow\",\"blue\",\"yellow\",\"brown\",\"brown\",\"blue\"],\"label\":[\"Argentina\",\"Australia\",\"Austria\",\"Bangladesh\",\"Belgium\",\"Brazil\",\"Bulgaria\",\"Canada\",\"Chile\",\"China\",\"Colombia\",\"Croatia\",\"Czech Republic\",\"Denmark\",\"El Salvador\",\"Estonia\",\"Finland\",\"France\",\"Germany\",\"Great Britain\",\"Greece\",\"Hong Kong\",\"Hungary\",\"India\",\"Indonesia\",\"Iran\",\"Ireland\",\"Italy\",\"Japan\",\"South Korea\",\"Latvia\",\"Lithuania\",\"Luxembourg\",\"Malaysia\",\"Malta\",\"Mexico\",\"Morocco\",\"Netherlands\",\"New Zealand\",\"Norway\",\"Pakistan\",\"Peru\",\"Philippines\",\"Poland\",\"Portugal\",\"Romania\",\"Russia\",\"Serbia\",\"Singapore\",\"Slovak Republic\",\"Slovenia\",\"Spain\",\"Sweden\",\"Switzerland\",\"Taiwan\",\"Thailand\",\"Trinidad and Tobago\",\"Turkey\",\"United States\",\"Uruguay\",\"Venezuela\",\"Vietnam\"],\"x\":{\"__ndarray__\":\"HrHLSv3SJkCwL38LV3JNQBncAyg5/kBAfmzM+cB1QsDH5SBu6z0GQAFcitAoLBzAZyJ8t0teQ8BGq15wKJdIQELwFNg8OCHAgWyl2xtKQcBYsyPFeVEZwJIsMuLMUjvAcwohDonWGMAsVK8lndVQQGYH3crVkRHAAOURJI7v+z+R6PL6/1NBQI63Pin/S/o/+XT8WtjBL0BGLa4PwtdMQJt1QR1U+jPAxJzH9BSjNcBxiy5FA2IpQElAubADHyTA+WBsw6yaPsBIpZjOGYcSQEDkyrJnyEpAN9JWIfciI0DAp9AvsX4xwFt8hzeWgETAf++F3+1wG0C6PG9lMnrmv9RMzJVbnTJA1FnLW/xYNcBPHCpkU4YhQGJ8Stdb5ue//E/k2ZN+IcDQwdd8i6tFQNdRIT0yYU5AqN6oT1pmRUDv1V0+/lpDwMNxofndejbA5noY2ugOM8B+pm2pLH8lwOnvvXNtVjrA7q8SN6wTR8D2O0O/6+NIwPnjPrBzEkbAsfEtOfTOJcBZLOyb2U9AwDd7PAEDTjfA9pKhG+UqB8BPfmzbsE9MQCFkwbIrBUBAgxuTY2fSOcAu80N35qoswB7h9586+SpA5xuMkiutKsCssy/+osVMQMoABHrmhCPAQZOOyTYIHMCxMk/PEZ4wwA==\",\"dtype\":\"float64\",\"shape\":[62]},\"y\":{\"__ndarray__\":\"06tsby2XP0A7oBP4nmgmQEBNv9gZ1yDAG5je1vTg+b/mOFI0cAY1wCuG+4nW5DBAlzc26FigM8AXtiCCiV33P7fbEDEQI0JAYfPLQ/BAQcCK2PjpHuFOQPgfiOs27hHAAmnxc722OsBlbhEuq/QWwJjGEvk/5k1ABcP9JMg0ScCSx2RCvq3FP33+4+a9KyrADEFY5V43Q8AFxfE0ypgtwEo4rOaczjJA+HJfUICRN8BOMt8qelc3wIUEDcYxZi/APpD8qQsGEMDDUlErfoo1QPA+MS+1WR5AYUClMD0SO8Blp/VMSjk3wKLtWafQAEDAdR1Kxaj1RsDrgS1FqNlIwJTfk9p6AyrAgDnP3wQBM0C0j4Q9z7YpQF12vKw2OE1ApbUxJHHvL0CfY7LIwLM1wDbY1vpH6RRAxGWjvWS2DcA8QU/tgBYswHLrSdoTM0BAwYqUzkQ+M0A5NsB3gp7/P8vs8QFpkDZAeT2oYtIZ578uprvtqKw3wB6L3Yi+aRRANtD5Ln5gMsDIw/7Gb544wCLI17WGUSlAa//Y6LJi8z9iv66KvOwkwBpxg0NU/TPAqYpPrqHGM8DUIPiEdR00QEauxl/CJUlAouQoLbvvJ0DWLoeyjlAUQByD7817pz5AgwEwmJ/MUUDE3/fg3x8jwA==\",\"dtype\":\"float64\",\"shape\":[62]}},\"selected\":{\"id\":\"43879\",\"type\":\"Selection\"},\"selection_policy\":{\"id\":\"43880\",\"type\":\"UnionRenderers\"}},\"id\":\"43124\",\"type\":\"ColumnDataSource\"},{\"attributes\":{\"text\":\"Clustering PCA : 57%\"},\"id\":\"43091\",\"type\":\"Title\"},{\"attributes\":{},\"id\":\"43097\",\"type\":\"LinearScale\"},{\"attributes\":{},\"id\":\"43115\",\"type\":\"ResetTool\"},{\"attributes\":{\"active_drag\":\"auto\",\"active_inspect\":\"auto\",\"active_multi\":null,\"active_scroll\":\"auto\",\"active_tap\":\"auto\",\"tools\":[{\"id\":\"43111\",\"type\":\"PanTool\"},{\"id\":\"43112\",\"type\":\"WheelZoomTool\"},{\"id\":\"43113\",\"type\":\"BoxZoomTool\"},{\"id\":\"43114\",\"type\":\"SaveTool\"},{\"id\":\"43115\",\"type\":\"ResetTool\"},{\"id\":\"43116\",\"type\":\"HelpTool\"}]},\"id\":\"43117\",\"type\":\"Toolbar\"},{\"attributes\":{\"fill_alpha\":{\"value\":0.2},\"fill_color\":{\"field\":\"color\"},\"line_color\":{\"field\":\"color\"},\"size\":{\"units\":\"screen\",\"value\":10},\"x\":{\"field\":\"x\"},\"y\":{\"field\":\"y\"}},\"id\":\"43126\",\"type\":\"Circle\"},{\"attributes\":{\"fill_alpha\":{\"value\":0.1},\"fill_color\":{\"value\":\"#1f77b4\"},\"line_alpha\":{\"value\":0.1},\"line_color\":{\"value\":\"#1f77b4\"},\"size\":{\"units\":\"screen\",\"value\":10},\"x\":{\"field\":\"x\"},\"y\":{\"field\":\"y\"}},\"id\":\"43127\",\"type\":\"Circle\"},{\"attributes\":{\"formatter\":{\"id\":\"43875\",\"type\":\"BasicTickFormatter\"},\"ticker\":{\"id\":\"43107\",\"type\":\"BasicTicker\"}},\"id\":\"43106\",\"type\":\"LinearAxis\"},{\"attributes\":{\"callback\":null},\"id\":\"43095\",\"type\":\"DataRange1d\"},{\"attributes\":{\"data_source\":{\"id\":\"43124\",\"type\":\"ColumnDataSource\"},\"glyph\":{\"id\":\"43126\",\"type\":\"Circle\"},\"hover_glyph\":null,\"muted_glyph\":null,\"nonselection_glyph\":{\"id\":\"43127\",\"type\":\"Circle\"},\"selection_glyph\":null,\"view\":{\"id\":\"43129\",\"type\":\"CDSView\"}},\"id\":\"43128\",\"type\":\"GlyphRenderer\"},{\"attributes\":{\"dimension\":1,\"ticker\":{\"id\":\"43107\",\"type\":\"BasicTicker\"}},\"id\":\"43110\",\"type\":\"Grid\"},{\"attributes\":{},\"id\":\"43877\",\"type\":\"BasicTickFormatter\"},{\"attributes\":{\"source\":{\"id\":\"43124\",\"type\":\"ColumnDataSource\"},\"text\":{\"field\":\"label\"},\"text_align\":\"center\",\"text_color\":{\"value\":\"#555555\"},\"text_font_size\":{\"value\":\"8pt\"},\"x\":{\"field\":\"x\"},\"y\":{\"field\":\"y\"},\"y_offset\":{\"value\":8}},\"id\":\"43130\",\"type\":\"LabelSet\"},{\"attributes\":{\"source\":{\"id\":\"43124\",\"type\":\"ColumnDataSource\"}},\"id\":\"43129\",\"type\":\"CDSView\"},{\"attributes\":{},\"id\":\"43111\",\"type\":\"PanTool\"},{\"attributes\":{},\"id\":\"43879\",\"type\":\"Selection\"},{\"attributes\":{},\"id\":\"43099\",\"type\":\"LinearScale\"},{\"attributes\":{\"overlay\":{\"id\":\"43881\",\"type\":\"BoxAnnotation\"}},\"id\":\"43113\",\"type\":\"BoxZoomTool\"},{\"attributes\":{\"bottom_units\":\"screen\",\"fill_alpha\":{\"value\":0.5},\"fill_color\":{\"value\":\"lightgrey\"},\"left_units\":\"screen\",\"level\":\"overlay\",\"line_alpha\":{\"value\":1.0},\"line_color\":{\"value\":\"black\"},\"line_dash\":[4,4],\"line_width\":{\"value\":2},\"render_mode\":\"css\",\"right_units\":\"screen\",\"top_units\":\"screen\"},\"id\":\"43881\",\"type\":\"BoxAnnotation\"}],\"root_ids\":[\"43090\"]},\"title\":\"Bokeh Application\",\"version\":\"1.1.0\"}};\n",
       "  var render_items = [{\"docid\":\"db7423bc-54e0-4324-a20c-df99b0478100\",\"roots\":{\"43090\":\"f4f16b1c-5bc8-4928-ae9d-a51e070a5f35\"}}];\n",
       "  root.Bokeh.embed.embed_items_notebook(docs_json, render_items);\n",
       "\n",
       "  }\n",
       "  if (root.Bokeh !== undefined) {\n",
       "    embed_document(root);\n",
       "  } else {\n",
       "    var attempts = 0;\n",
       "    var timer = setInterval(function(root) {\n",
       "      if (root.Bokeh !== undefined) {\n",
       "        embed_document(root);\n",
       "        clearInterval(timer);\n",
       "      }\n",
       "      attempts++;\n",
       "      if (attempts > 100) {\n",
       "        console.log(\"Bokeh: ERROR: Unable to run BokehJS code because BokehJS library is missing\");\n",
       "        clearInterval(timer);\n",
       "      }\n",
       "    }, 10, root)\n",
       "  }\n",
       "})(window);"
      ],
      "application/vnd.bokehjs_exec.v0+json": ""
     },
     "metadata": {
      "application/vnd.bokehjs_exec.v0+json": {
       "id": "43090"
      }
     },
     "output_type": "display_data"
    }
   ],
   "source": [
    "pca = PCA(n_components=2,random_state=0)\n",
    "mat = pca.fit_transform(X,y)\n",
    "p = figure(title = \"Clustering PCA : \"+str(int(sum(pca.explained_variance_ratio_)*100))+\"%\")\n",
    "#p.xaxis.axis_label = 'Petal Length'\n",
    "#p.yaxis.axis_label = 'Petal Width'\n",
    "colors = [\"red\",\"blue\",\"green\",\"yellow\",\"black\",\"brown\"]\n",
    "countries = [pc.country_alpha2_to_continent_code(pc.country_name_to_country_alpha2(x)) for x in dims[\"country\"]]\n",
    "#countries = [np.unique(countries).index(x) for x in countries]\n",
    "uniq = list(np.unique(countries))\n",
    "conts = [uniq.index(x) for x in countries]\n",
    "#for i,con in zip(list(range(len(np.unique(countries)))),np.unique(countries)):\n",
    "#    print(np.where(countries==con))\n",
    "#    conts[np.where(countries==con)] = i\n",
    "    \n",
    "source = ColumnDataSource(data={\"x\":mat[:,0], \"y\":mat[:,1], \"label\":y, \n",
    "                                \"color\":list([colors[int(i)] for i in conts])})\n",
    "\n",
    "p.circle(x=\"x\",y=\"y\",color=\"color\", source=source, fill_alpha=0.2, size=10)\n",
    "\n",
    "labels = LabelSet(x=\"x\",y=\"y\",source=source, text=\"label\", y_offset=8,\n",
    "                  text_font_size=\"8pt\", text_color=\"#555555\",\n",
    "                  text_align='center')\n",
    "p.add_layout(labels)\n",
    "\n",
    "#output_file(\"iris.html\", title=\"iris.py example\")\n",
    "\n",
    "show(p)"
   ]
  },
  {
   "cell_type": "code",
   "execution_count": 197,
   "metadata": {},
   "outputs": [
    {
     "name": "stderr",
     "output_type": "stream",
     "text": [
      "/home/leo/.local/lib/python3.6/site-packages/bokeh/models/sources.py:164: BokehUserWarning:\n",
      "\n",
      "ColumnDataSource's columns must be of the same length. Current lengths: ('color', 62), ('label', 62), ('x', 62), ('y', 55)\n",
      "\n"
     ]
    },
    {
     "data": {
      "text/html": [
       "\n",
       "\n",
       "\n",
       "\n",
       "\n",
       "\n",
       "  <div class=\"bk-root\" id=\"5b37a66f-e315-4782-8c0a-9fcf5512fe6f\" data-root-id=\"47370\"></div>\n"
      ]
     },
     "metadata": {},
     "output_type": "display_data"
    },
    {
     "data": {
      "application/javascript": [
       "(function(root) {\n",
       "  function embed_document(root) {\n",
       "    \n",
       "  var docs_json = {\"86af4e0f-f51a-4742-aef8-f57a3a90d506\":{\"roots\":{\"references\":[{\"attributes\":{\"below\":[{\"id\":\"47381\",\"type\":\"LinearAxis\"}],\"center\":[{\"id\":\"47385\",\"type\":\"Grid\"},{\"id\":\"47390\",\"type\":\"Grid\"},{\"id\":\"47410\",\"type\":\"LabelSet\"}],\"left\":[{\"id\":\"47386\",\"type\":\"LogAxis\"}],\"renderers\":[{\"id\":\"47408\",\"type\":\"GlyphRenderer\"}],\"title\":{\"id\":\"47371\",\"type\":\"Title\"},\"toolbar\":{\"id\":\"47397\",\"type\":\"Toolbar\"},\"x_range\":{\"id\":\"47373\",\"type\":\"DataRange1d\"},\"x_scale\":{\"id\":\"47377\",\"type\":\"LinearScale\"},\"y_range\":{\"id\":\"47375\",\"type\":\"DataRange1d\"},\"y_scale\":{\"id\":\"47379\",\"type\":\"LogScale\"}},\"id\":\"47370\",\"subtype\":\"Figure\",\"type\":\"Plot\"},{\"attributes\":{\"callback\":null},\"id\":\"47375\",\"type\":\"DataRange1d\"},{\"attributes\":{\"data_source\":{\"id\":\"47404\",\"type\":\"ColumnDataSource\"},\"glyph\":{\"id\":\"47406\",\"type\":\"Circle\"},\"hover_glyph\":null,\"muted_glyph\":null,\"nonselection_glyph\":{\"id\":\"47407\",\"type\":\"Circle\"},\"selection_glyph\":null,\"view\":{\"id\":\"47409\",\"type\":\"CDSView\"}},\"id\":\"47408\",\"type\":\"GlyphRenderer\"},{\"attributes\":{\"callback\":null},\"id\":\"47373\",\"type\":\"DataRange1d\"},{\"attributes\":{\"fill_alpha\":{\"value\":0.1},\"fill_color\":{\"value\":\"#1f77b4\"},\"line_alpha\":{\"value\":0.1},\"line_color\":{\"value\":\"#1f77b4\"},\"size\":{\"units\":\"screen\",\"value\":10},\"x\":{\"field\":\"x\"},\"y\":{\"field\":\"y\"}},\"id\":\"47407\",\"type\":\"Circle\"},{\"attributes\":{},\"id\":\"47394\",\"type\":\"SaveTool\"},{\"attributes\":{\"active_drag\":\"auto\",\"active_inspect\":\"auto\",\"active_multi\":null,\"active_scroll\":\"auto\",\"active_tap\":\"auto\",\"tools\":[{\"id\":\"47391\",\"type\":\"PanTool\"},{\"id\":\"47392\",\"type\":\"WheelZoomTool\"},{\"id\":\"47393\",\"type\":\"BoxZoomTool\"},{\"id\":\"47394\",\"type\":\"SaveTool\"},{\"id\":\"47395\",\"type\":\"ResetTool\"},{\"id\":\"47396\",\"type\":\"HelpTool\"}]},\"id\":\"47397\",\"type\":\"Toolbar\"},{\"attributes\":{\"ticker\":null},\"id\":\"48195\",\"type\":\"LogTickFormatter\"},{\"attributes\":{},\"id\":\"47395\",\"type\":\"ResetTool\"},{\"attributes\":{\"num_minor_ticks\":10},\"id\":\"47387\",\"type\":\"LogTicker\"},{\"attributes\":{\"dimension\":1,\"ticker\":{\"id\":\"47387\",\"type\":\"LogTicker\"}},\"id\":\"47390\",\"type\":\"Grid\"},{\"attributes\":{},\"id\":\"47396\",\"type\":\"HelpTool\"},{\"attributes\":{},\"id\":\"47391\",\"type\":\"PanTool\"},{\"attributes\":{\"bottom_units\":\"screen\",\"fill_alpha\":{\"value\":0.5},\"fill_color\":{\"value\":\"lightgrey\"},\"left_units\":\"screen\",\"level\":\"overlay\",\"line_alpha\":{\"value\":1.0},\"line_color\":{\"value\":\"black\"},\"line_dash\":[4,4],\"line_width\":{\"value\":2},\"render_mode\":\"css\",\"right_units\":\"screen\",\"top_units\":\"screen\"},\"id\":\"48201\",\"type\":\"BoxAnnotation\"},{\"attributes\":{\"text\":\"\"},\"id\":\"47371\",\"type\":\"Title\"},{\"attributes\":{},\"id\":\"48199\",\"type\":\"Selection\"},{\"attributes\":{\"ticker\":{\"id\":\"47382\",\"type\":\"BasicTicker\"}},\"id\":\"47385\",\"type\":\"Grid\"},{\"attributes\":{\"axis_label\":\"ACP 6 dimensions\",\"formatter\":{\"id\":\"48197\",\"type\":\"BasicTickFormatter\"},\"ticker\":{\"id\":\"47382\",\"type\":\"BasicTicker\"}},\"id\":\"47381\",\"type\":\"LinearAxis\"},{\"attributes\":{},\"id\":\"48200\",\"type\":\"UnionRenderers\"},{\"attributes\":{\"overlay\":{\"id\":\"48201\",\"type\":\"BoxAnnotation\"}},\"id\":\"47393\",\"type\":\"BoxZoomTool\"},{\"attributes\":{\"source\":{\"id\":\"47404\",\"type\":\"ColumnDataSource\"},\"text\":{\"field\":\"label\"},\"text_align\":\"center\",\"text_color\":{\"value\":\"#555555\"},\"text_font_size\":{\"value\":\"8pt\"},\"x\":{\"field\":\"x\"},\"y\":{\"field\":\"y\"},\"y_offset\":{\"value\":8}},\"id\":\"47410\",\"type\":\"LabelSet\"},{\"attributes\":{\"source\":{\"id\":\"47404\",\"type\":\"ColumnDataSource\"}},\"id\":\"47409\",\"type\":\"CDSView\"},{\"attributes\":{},\"id\":\"47392\",\"type\":\"WheelZoomTool\"},{\"attributes\":{\"fill_alpha\":{\"value\":0.2},\"fill_color\":{\"field\":\"color\"},\"line_color\":{\"field\":\"color\"},\"size\":{\"units\":\"screen\",\"value\":10},\"x\":{\"field\":\"x\"},\"y\":{\"field\":\"y\"}},\"id\":\"47406\",\"type\":\"Circle\"},{\"attributes\":{},\"id\":\"48197\",\"type\":\"BasicTickFormatter\"},{\"attributes\":{\"axis_label\":\"log PIB\",\"formatter\":{\"id\":\"48195\",\"type\":\"LogTickFormatter\"},\"ticker\":{\"id\":\"47387\",\"type\":\"LogTicker\"}},\"id\":\"47386\",\"type\":\"LogAxis\"},{\"attributes\":{},\"id\":\"47377\",\"type\":\"LinearScale\"},{\"attributes\":{\"callback\":null,\"data\":{\"color\":[\"brown\",\"black\",\"green\",\"blue\",\"green\",\"brown\",\"green\",\"yellow\",\"brown\",\"blue\",\"brown\",\"green\",\"green\",\"green\",\"yellow\",\"green\",\"green\",\"green\",\"green\",\"green\",\"green\",\"blue\",\"green\",\"blue\",\"blue\",\"blue\",\"green\",\"green\",\"blue\",\"blue\",\"green\",\"green\",\"green\",\"blue\",\"green\",\"yellow\",\"red\",\"green\",\"black\",\"green\",\"blue\",\"brown\",\"blue\",\"green\",\"green\",\"green\",\"green\",\"green\",\"blue\",\"green\",\"green\",\"green\",\"green\",\"green\",\"blue\",\"blue\",\"yellow\",\"blue\",\"yellow\",\"brown\",\"brown\",\"blue\"],\"label\":[\"Argentina\",\"Australia\",\"Austria\",\"Bangladesh\",\"Belgium\",\"Brazil\",\"Bulgaria\",\"Canada\",\"Chile\",\"China\",\"Colombia\",\"Croatia\",\"Czech Republic\",\"Denmark\",\"El Salvador\",\"Estonia\",\"Finland\",\"France\",\"Germany\",\"Great Britain\",\"Greece\",\"Hong Kong\",\"Hungary\",\"India\",\"Indonesia\",\"Iran\",\"Ireland\",\"Italy\",\"Japan\",\"South Korea\",\"Latvia\",\"Lithuania\",\"Luxembourg\",\"Malaysia\",\"Malta\",\"Mexico\",\"Morocco\",\"Netherlands\",\"New Zealand\",\"Norway\",\"Pakistan\",\"Peru\",\"Philippines\",\"Poland\",\"Portugal\",\"Romania\",\"Russia\",\"Serbia\",\"Singapore\",\"Slovak Republic\",\"Slovenia\",\"Spain\",\"Sweden\",\"Switzerland\",\"Taiwan\",\"Thailand\",\"Trinidad and Tobago\",\"Turkey\",\"United States\",\"Uruguay\",\"Venezuela\",\"Vietnam\"],\"x\":{\"__ndarray__\":\"fMueRMo6+sKz5onEuGMlRR6casN5EfZE0mviwzwaCUSY+YvE6izERDCpTcTNWoZE8KnLxEITB8ErEnpD9wCBxFfLnMSYZxNFIz4TxWQsq8Qa6gxFwzgjRWm6+USVyTpF+PkqxaOcNcOd2wrFmPE7ReZyMUUe2t9Enx6TxBlYhsNhg8rEV3pyw2Xc6MQ98HHEOE3FxD2HVkP+ONDEzTiYxLADQMSzKR1FTX6pxd62skQXPNvEsG/eRJo7F8ObkCFEbmuvRL8HMsRsERRD1o6uQ+M1bkXeHwBF/MihxJmNo8RUR5tEeDH1xFbZYkXqKefEjwQyxVk1skQ=\",\"dtype\":\"float32\",\"shape\":[62,1]},\"y\":{\"__ndarray__\":\"yaaEPDpPYULs1Rgbi6FzQpf+ENw5PVZCqjFfLZ58WkJxnVQ0zLVGQtUpnYx2YCdCH9WWj8U5ekKP6vDFDLJ2Qo1HgUMZxWNCUvj0R8BnTEIAA7UBYyCkQtsxxAU4FVFCJuGgU/e/RULDMfLNkI+IQqRYF26yiVFC4WZ7dx1ucUJ/6ti+YQQVQunGFO39D0tCuN7VH4S9gUJukm0+mcNGQo41wkmvCydCPerRYSmcPEKIIvcl3Q1pQgpLGh4EmH5CnOQ76IfqUELDYdKa96t6Qo9uubNI+o9CPI6hOTZUI0In4ELZcugqQrmNhu7UHhlCKVxMWcmON0IKe+lpsQhxQrsnjNHbqANCRItNnTlEUUKcSJA4iQ9mQkCtEtK6gVZCrqeMS4StREIxCDJvM39PQgCgEFRAHEZC+GsRjqwKUUL9JBmZa8NbQjHYmM8vN0dCDZIbVKO1REKTiG7kaLNRQgAAAEk2kxVCOVRiWdtNIUL2dwrFfV80QjzdUsqhDiRCiZmd2Y77XELkvXpHUV1XQsG5yqjTuRZCEg8dC/wFaUKhRby9ys4oQgCAlrgOe7BCnMRyqAh/RkI=\",\"dtype\":\"float64\",\"shape\":[55]}},\"selected\":{\"id\":\"48199\",\"type\":\"Selection\"},\"selection_policy\":{\"id\":\"48200\",\"type\":\"UnionRenderers\"}},\"id\":\"47404\",\"type\":\"ColumnDataSource\"},{\"attributes\":{},\"id\":\"47379\",\"type\":\"LogScale\"},{\"attributes\":{},\"id\":\"47382\",\"type\":\"BasicTicker\"}],\"root_ids\":[\"47370\"]},\"title\":\"Bokeh Application\",\"version\":\"1.1.0\"}};\n",
       "  var render_items = [{\"docid\":\"86af4e0f-f51a-4742-aef8-f57a3a90d506\",\"roots\":{\"47370\":\"5b37a66f-e315-4782-8c0a-9fcf5512fe6f\"}}];\n",
       "  root.Bokeh.embed.embed_items_notebook(docs_json, render_items);\n",
       "\n",
       "  }\n",
       "  if (root.Bokeh !== undefined) {\n",
       "    embed_document(root);\n",
       "  } else {\n",
       "    var attempts = 0;\n",
       "    var timer = setInterval(function(root) {\n",
       "      if (root.Bokeh !== undefined) {\n",
       "        embed_document(root);\n",
       "        clearInterval(timer);\n",
       "      }\n",
       "      attempts++;\n",
       "      if (attempts > 100) {\n",
       "        console.log(\"Bokeh: ERROR: Unable to run BokehJS code because BokehJS library is missing\");\n",
       "        clearInterval(timer);\n",
       "      }\n",
       "    }, 10, root)\n",
       "  }\n",
       "})(window);"
      ],
      "application/vnd.bokehjs_exec.v0+json": ""
     },
     "metadata": {
      "application/vnd.bokehjs_exec.v0+json": {
       "id": "47370"
      }
     },
     "output_type": "display_data"
    }
   ],
   "source": [
    "from math import log\n",
    "gdp = pd.read_csv(\"gdp.csv\")\n",
    "gdp = gdp[gdp[\"Country\"].isin(y)]\n",
    "for i in y:\n",
    "    happened = False\n",
    "    for j in gdp[\"Country\"]:\n",
    "        if i == j:\n",
    "            happened = True\n",
    "gdp_x = gdp[\"PIB\"].to_numpy()\n",
    "\n",
    "pca = TSNE(n_components=1,random_state=0)\n",
    "           #,perplexity=20)\n",
    "mat = pca.fit_transform(X,y)\n",
    "p = figure(title = \"\",\n",
    "            y_axis_type=\"log\")\n",
    "p.xaxis.axis_label = 'ACP 6 dimensions'\n",
    "p.yaxis.axis_label = 'log PIB'\n",
    "colors = [\"red\",\"blue\",\"green\",\"yellow\",\"black\",\"brown\"]\n",
    "countries = [pc.country_alpha2_to_continent_code(pc.country_name_to_country_alpha2(x)) for x in dims[\"country\"]]\n",
    "#countries = [np.unique(countries).index(x) for x in countries]\n",
    "uniq = list(np.unique(countries))\n",
    "conts = [uniq.index(x) for x in countries]\n",
    "#for i,con in zip(list(range(len(np.unique(countries)))),np.unique(countries)):\n",
    "#    print(np.where(countries==con))\n",
    "#    conts[np.where(countries==con)] = i\n",
    "    \n",
    "source = ColumnDataSource(data={\"y\":gdp_x, \"x\":mat[:], \"label\":y, \n",
    "                                \"color\":list([colors[int(i)] for i in conts])})\n",
    "\n",
    "p.circle(x=\"x\",y=\"y\",color=\"color\", source=source, fill_alpha=0.2, size=10)\n",
    "\n",
    "labels = LabelSet(x=\"x\",y=\"y\",source=source, text=\"label\", y_offset=8,\n",
    "                  text_font_size=\"8pt\", text_color=\"#555555\",\n",
    "                  text_align='center')\n",
    "p.add_layout(labels)\n",
    "\n",
    "#output_file(\"iris.html\", title=\"iris.py example\")\n",
    "\n",
    "show(p)"
   ]
  },
  {
   "cell_type": "code",
   "execution_count": 7,
   "metadata": {},
   "outputs": [],
   "source": [
    "di = pd.read_excel(\"6-dimensions-for-website-2015-08-16.xls\")\n",
    "for i,row in di.iterrows():\n",
    "    for j in dims[\"country\"]:\n",
    "        if row[\"country\"] == j:\n",
    "            di.at[i,\"ctr\"] = pc.country_name_to_country_alpha3(row[\"country\"])\n",
    "di.to_csv(\"6-dimensions_new.csv\")"
   ]
  },
  {
   "cell_type": "code",
   "execution_count": 206,
   "metadata": {},
   "outputs": [
    {
     "data": {
      "text/html": [
       "<script type=\"text/javascript\">window.PlotlyConfig = {MathJaxConfig: 'local'};</script><script type=\"text/javascript\">if (window.MathJax) {MathJax.Hub.Config({SVG: {font: \"STIX-Web\"}});}</script><script>requirejs.config({paths: { 'plotly': ['https://cdn.plot.ly/plotly-latest.min']},});if(!window._Plotly) {require(['plotly'],function(plotly) {window._Plotly=plotly;});}</script>"
      ],
      "text/vnd.plotly.v1+html": [
       "<script type=\"text/javascript\">window.PlotlyConfig = {MathJaxConfig: 'local'};</script><script type=\"text/javascript\">if (window.MathJax) {MathJax.Hub.Config({SVG: {font: \"STIX-Web\"}});}</script><script>requirejs.config({paths: { 'plotly': ['https://cdn.plot.ly/plotly-latest.min']},});if(!window._Plotly) {require(['plotly'],function(plotly) {window._Plotly=plotly;});}</script>"
      ]
     },
     "metadata": {},
     "output_type": "display_data"
    },
    {
     "ename": "KeyError",
     "evalue": "'Country Code'",
     "output_type": "error",
     "traceback": [
      "\u001b[0;31m---------------------------------------------------------------------------\u001b[0m",
      "\u001b[0;31mKeyError\u001b[0m                                  Traceback (most recent call last)",
      "\u001b[0;32m~/.local/lib/python3.6/site-packages/pandas/core/indexes/base.py\u001b[0m in \u001b[0;36mget_loc\u001b[0;34m(self, key, method, tolerance)\u001b[0m\n\u001b[1;32m   2655\u001b[0m             \u001b[0;32mtry\u001b[0m\u001b[0;34m:\u001b[0m\u001b[0;34m\u001b[0m\u001b[0;34m\u001b[0m\u001b[0m\n\u001b[0;32m-> 2656\u001b[0;31m                 \u001b[0;32mreturn\u001b[0m \u001b[0mself\u001b[0m\u001b[0;34m.\u001b[0m\u001b[0m_engine\u001b[0m\u001b[0;34m.\u001b[0m\u001b[0mget_loc\u001b[0m\u001b[0;34m(\u001b[0m\u001b[0mkey\u001b[0m\u001b[0;34m)\u001b[0m\u001b[0;34m\u001b[0m\u001b[0;34m\u001b[0m\u001b[0m\n\u001b[0m\u001b[1;32m   2657\u001b[0m             \u001b[0;32mexcept\u001b[0m \u001b[0mKeyError\u001b[0m\u001b[0;34m:\u001b[0m\u001b[0;34m\u001b[0m\u001b[0;34m\u001b[0m\u001b[0m\n",
      "\u001b[0;32mpandas/_libs/index.pyx\u001b[0m in \u001b[0;36mpandas._libs.index.IndexEngine.get_loc\u001b[0;34m()\u001b[0m\n",
      "\u001b[0;32mpandas/_libs/index.pyx\u001b[0m in \u001b[0;36mpandas._libs.index.IndexEngine.get_loc\u001b[0;34m()\u001b[0m\n",
      "\u001b[0;32mpandas/_libs/hashtable_class_helper.pxi\u001b[0m in \u001b[0;36mpandas._libs.hashtable.PyObjectHashTable.get_item\u001b[0;34m()\u001b[0m\n",
      "\u001b[0;32mpandas/_libs/hashtable_class_helper.pxi\u001b[0m in \u001b[0;36mpandas._libs.hashtable.PyObjectHashTable.get_item\u001b[0;34m()\u001b[0m\n",
      "\u001b[0;31mKeyError\u001b[0m: 'Country Code'",
      "\nDuring handling of the above exception, another exception occurred:\n",
      "\u001b[0;31mKeyError\u001b[0m                                  Traceback (most recent call last)",
      "\u001b[0;32m<ipython-input-206-8b68bca0800d>\u001b[0m in \u001b[0;36m<module>\u001b[0;34m\u001b[0m\n\u001b[1;32m     13\u001b[0m     \u001b[0;31m#z = df['GDP (BILLIONS)'],\u001b[0m\u001b[0;34m\u001b[0m\u001b[0;34m\u001b[0m\u001b[0;34m\u001b[0m\u001b[0m\n\u001b[1;32m     14\u001b[0m     \u001b[0;31m#text = df['COUNTRY'],\u001b[0m\u001b[0;34m\u001b[0m\u001b[0;34m\u001b[0m\u001b[0;34m\u001b[0m\u001b[0m\n\u001b[0;32m---> 15\u001b[0;31m     \u001b[0mlocations\u001b[0m \u001b[0;34m=\u001b[0m \u001b[0mdims\u001b[0m\u001b[0;34m[\u001b[0m\u001b[0;34m'Country Code'\u001b[0m\u001b[0;34m]\u001b[0m\u001b[0;34m,\u001b[0m\u001b[0;34m\u001b[0m\u001b[0;34m\u001b[0m\u001b[0m\n\u001b[0m\u001b[1;32m     16\u001b[0m     \u001b[0mz\u001b[0m \u001b[0;34m=\u001b[0m \u001b[0mdims\u001b[0m\u001b[0;34m[\u001b[0m\u001b[0;34m'PIB'\u001b[0m\u001b[0;34m]\u001b[0m\u001b[0;34m,\u001b[0m\u001b[0;34m\u001b[0m\u001b[0;34m\u001b[0m\u001b[0m\n\u001b[1;32m     17\u001b[0m     \u001b[0mtext\u001b[0m \u001b[0;34m=\u001b[0m \u001b[0mdf\u001b[0m\u001b[0;34m[\u001b[0m\u001b[0;34m'Country'\u001b[0m\u001b[0;34m]\u001b[0m\u001b[0;34m,\u001b[0m\u001b[0;34m\u001b[0m\u001b[0;34m\u001b[0m\u001b[0m\n",
      "\u001b[0;32m~/.local/lib/python3.6/site-packages/pandas/core/frame.py\u001b[0m in \u001b[0;36m__getitem__\u001b[0;34m(self, key)\u001b[0m\n\u001b[1;32m   2925\u001b[0m             \u001b[0;32mif\u001b[0m \u001b[0mself\u001b[0m\u001b[0;34m.\u001b[0m\u001b[0mcolumns\u001b[0m\u001b[0;34m.\u001b[0m\u001b[0mnlevels\u001b[0m \u001b[0;34m>\u001b[0m \u001b[0;36m1\u001b[0m\u001b[0;34m:\u001b[0m\u001b[0;34m\u001b[0m\u001b[0;34m\u001b[0m\u001b[0m\n\u001b[1;32m   2926\u001b[0m                 \u001b[0;32mreturn\u001b[0m \u001b[0mself\u001b[0m\u001b[0;34m.\u001b[0m\u001b[0m_getitem_multilevel\u001b[0m\u001b[0;34m(\u001b[0m\u001b[0mkey\u001b[0m\u001b[0;34m)\u001b[0m\u001b[0;34m\u001b[0m\u001b[0;34m\u001b[0m\u001b[0m\n\u001b[0;32m-> 2927\u001b[0;31m             \u001b[0mindexer\u001b[0m \u001b[0;34m=\u001b[0m \u001b[0mself\u001b[0m\u001b[0;34m.\u001b[0m\u001b[0mcolumns\u001b[0m\u001b[0;34m.\u001b[0m\u001b[0mget_loc\u001b[0m\u001b[0;34m(\u001b[0m\u001b[0mkey\u001b[0m\u001b[0;34m)\u001b[0m\u001b[0;34m\u001b[0m\u001b[0;34m\u001b[0m\u001b[0m\n\u001b[0m\u001b[1;32m   2928\u001b[0m             \u001b[0;32mif\u001b[0m \u001b[0mis_integer\u001b[0m\u001b[0;34m(\u001b[0m\u001b[0mindexer\u001b[0m\u001b[0;34m)\u001b[0m\u001b[0;34m:\u001b[0m\u001b[0;34m\u001b[0m\u001b[0;34m\u001b[0m\u001b[0m\n\u001b[1;32m   2929\u001b[0m                 \u001b[0mindexer\u001b[0m \u001b[0;34m=\u001b[0m \u001b[0;34m[\u001b[0m\u001b[0mindexer\u001b[0m\u001b[0;34m]\u001b[0m\u001b[0;34m\u001b[0m\u001b[0;34m\u001b[0m\u001b[0m\n",
      "\u001b[0;32m~/.local/lib/python3.6/site-packages/pandas/core/indexes/base.py\u001b[0m in \u001b[0;36mget_loc\u001b[0;34m(self, key, method, tolerance)\u001b[0m\n\u001b[1;32m   2656\u001b[0m                 \u001b[0;32mreturn\u001b[0m \u001b[0mself\u001b[0m\u001b[0;34m.\u001b[0m\u001b[0m_engine\u001b[0m\u001b[0;34m.\u001b[0m\u001b[0mget_loc\u001b[0m\u001b[0;34m(\u001b[0m\u001b[0mkey\u001b[0m\u001b[0;34m)\u001b[0m\u001b[0;34m\u001b[0m\u001b[0;34m\u001b[0m\u001b[0m\n\u001b[1;32m   2657\u001b[0m             \u001b[0;32mexcept\u001b[0m \u001b[0mKeyError\u001b[0m\u001b[0;34m:\u001b[0m\u001b[0;34m\u001b[0m\u001b[0;34m\u001b[0m\u001b[0m\n\u001b[0;32m-> 2658\u001b[0;31m                 \u001b[0;32mreturn\u001b[0m \u001b[0mself\u001b[0m\u001b[0;34m.\u001b[0m\u001b[0m_engine\u001b[0m\u001b[0;34m.\u001b[0m\u001b[0mget_loc\u001b[0m\u001b[0;34m(\u001b[0m\u001b[0mself\u001b[0m\u001b[0;34m.\u001b[0m\u001b[0m_maybe_cast_indexer\u001b[0m\u001b[0;34m(\u001b[0m\u001b[0mkey\u001b[0m\u001b[0;34m)\u001b[0m\u001b[0;34m)\u001b[0m\u001b[0;34m\u001b[0m\u001b[0;34m\u001b[0m\u001b[0m\n\u001b[0m\u001b[1;32m   2659\u001b[0m         \u001b[0mindexer\u001b[0m \u001b[0;34m=\u001b[0m \u001b[0mself\u001b[0m\u001b[0;34m.\u001b[0m\u001b[0mget_indexer\u001b[0m\u001b[0;34m(\u001b[0m\u001b[0;34m[\u001b[0m\u001b[0mkey\u001b[0m\u001b[0;34m]\u001b[0m\u001b[0;34m,\u001b[0m \u001b[0mmethod\u001b[0m\u001b[0;34m=\u001b[0m\u001b[0mmethod\u001b[0m\u001b[0;34m,\u001b[0m \u001b[0mtolerance\u001b[0m\u001b[0;34m=\u001b[0m\u001b[0mtolerance\u001b[0m\u001b[0;34m)\u001b[0m\u001b[0;34m\u001b[0m\u001b[0;34m\u001b[0m\u001b[0m\n\u001b[1;32m   2660\u001b[0m         \u001b[0;32mif\u001b[0m \u001b[0mindexer\u001b[0m\u001b[0;34m.\u001b[0m\u001b[0mndim\u001b[0m \u001b[0;34m>\u001b[0m \u001b[0;36m1\u001b[0m \u001b[0;32mor\u001b[0m \u001b[0mindexer\u001b[0m\u001b[0;34m.\u001b[0m\u001b[0msize\u001b[0m \u001b[0;34m>\u001b[0m \u001b[0;36m1\u001b[0m\u001b[0;34m:\u001b[0m\u001b[0;34m\u001b[0m\u001b[0;34m\u001b[0m\u001b[0m\n",
      "\u001b[0;32mpandas/_libs/index.pyx\u001b[0m in \u001b[0;36mpandas._libs.index.IndexEngine.get_loc\u001b[0;34m()\u001b[0m\n",
      "\u001b[0;32mpandas/_libs/index.pyx\u001b[0m in \u001b[0;36mpandas._libs.index.IndexEngine.get_loc\u001b[0;34m()\u001b[0m\n",
      "\u001b[0;32mpandas/_libs/hashtable_class_helper.pxi\u001b[0m in \u001b[0;36mpandas._libs.hashtable.PyObjectHashTable.get_item\u001b[0;34m()\u001b[0m\n",
      "\u001b[0;32mpandas/_libs/hashtable_class_helper.pxi\u001b[0m in \u001b[0;36mpandas._libs.hashtable.PyObjectHashTable.get_item\u001b[0;34m()\u001b[0m\n",
      "\u001b[0;31mKeyError\u001b[0m: 'Country Code'"
     ]
    }
   ],
   "source": [
    "import pandas as pd\n",
    "import plotly.graph_objs as go\n",
    "import plotly.offline as py\n",
    "\n",
    "py.init_notebook_mode(connected=True)\n",
    "\n",
    "#df = pd.read_csv('https://raw.githubusercontent.com/plotly/datasets/master/2014_world_gdp_with_codes.csv')\n",
    "df = pd.read_csv('gdp_no_region.csv')\n",
    "\n",
    "\n",
    "data = [go.Choropleth(\n",
    "    #locations = df['CODE'],\n",
    "    #z = df['GDP (BILLIONS)'],\n",
    "    #text = df['COUNTRY'],\n",
    "    locations = dims['Country Code'],\n",
    "    z = dims['PIB'],\n",
    "    text = df['Country'],\n",
    "    colorscale= [\n",
    "        [0,\"red\"],\n",
    "        [0.8,\"orange\"],\n",
    "        [0.95,\"yellow\"],\n",
    "        [1,\"white\"],\n",
    "    ],\n",
    "    autocolorscale = False,\n",
    "    reversescale = True,\n",
    "    marker = go.choropleth.Marker(\n",
    "        line = go.choropleth.marker.Line(\n",
    "            color = 'black',\n",
    "            width = 1\n",
    "        )),\n",
    "    colorbar = go.choropleth.ColorBar(\n",
    "        tickprefix = '$',\n",
    "        title = 'GDP<br>Billions US$'),\n",
    ")]\n",
    "\n",
    "layout = go.Layout(\n",
    "    title = go.layout.Title(\n",
    "        text = '2015 Global GDP'\n",
    "    ),\n",
    "    geo = go.layout.Geo(\n",
    "        showframe = False,\n",
    "        showcoastlines = False,\n",
    "        projection = go.layout.geo.Projection(\n",
    "            type = 'equirectangular'\n",
    "        )\n",
    "    ),\n",
    "    annotations = [go.layout.Annotation(\n",
    "        x = 0.55,\n",
    "        y = 0.1,\n",
    "        xref = 'paper',\n",
    "        yref = 'paper',\n",
    "        text=\"\",\n",
    "        showarrow = False\n",
    "    )]\n",
    ")\n",
    "\n",
    "fig = go.Figure(data = data, layout = layout)\n",
    "py.iplot(fig, filename = 'd3-world-map')"
   ]
  },
  {
   "cell_type": "code",
   "execution_count": 106,
   "metadata": {},
   "outputs": [
    {
     "data": {
      "text/html": [
       "\n",
       "\n",
       "\n",
       "\n",
       "\n",
       "\n",
       "  <div class=\"bk-root\" id=\"9f4cb029-a397-4fe9-a69a-256156975c68\" data-root-id=\"13772\"></div>\n"
      ]
     },
     "metadata": {},
     "output_type": "display_data"
    },
    {
     "data": {
      "application/javascript": [
       "(function(root) {\n",
       "  function embed_document(root) {\n",
       "    \n",
       "  var docs_json = {\"39966919-bf1d-42e9-8da0-75e719af4dfc\":{\"roots\":{\"references\":[{\"attributes\":{\"below\":[{\"id\":\"13783\",\"type\":\"LogAxis\"}],\"center\":[{\"id\":\"13787\",\"type\":\"Grid\"},{\"id\":\"13792\",\"type\":\"Grid\"},{\"id\":\"13817\",\"type\":\"LabelSet\"}],\"left\":[{\"id\":\"13788\",\"type\":\"LogAxis\"}],\"renderers\":[{\"id\":\"13810\",\"type\":\"GlyphRenderer\"},{\"id\":\"13815\",\"type\":\"GlyphRenderer\"}],\"title\":{\"id\":\"13773\",\"type\":\"Title\"},\"toolbar\":{\"id\":\"13799\",\"type\":\"Toolbar\"},\"x_range\":{\"id\":\"13775\",\"type\":\"DataRange1d\"},\"x_scale\":{\"id\":\"13779\",\"type\":\"LogScale\"},\"y_range\":{\"id\":\"13777\",\"type\":\"DataRange1d\"},\"y_scale\":{\"id\":\"13781\",\"type\":\"LogScale\"}},\"id\":\"13772\",\"subtype\":\"Figure\",\"type\":\"Plot\"},{\"attributes\":{\"ticker\":null},\"id\":\"14218\",\"type\":\"LogTickFormatter\"},{\"attributes\":{},\"id\":\"13793\",\"type\":\"PanTool\"},{\"attributes\":{\"ticker\":null},\"id\":\"14216\",\"type\":\"LogTickFormatter\"},{\"attributes\":{\"ticker\":{\"id\":\"13784\",\"type\":\"LogTicker\"}},\"id\":\"13787\",\"type\":\"Grid\"},{\"attributes\":{},\"id\":\"13797\",\"type\":\"ResetTool\"},{\"attributes\":{\"data_source\":{\"id\":\"13806\",\"type\":\"ColumnDataSource\"},\"glyph\":{\"id\":\"13808\",\"type\":\"Circle\"},\"hover_glyph\":null,\"muted_glyph\":null,\"nonselection_glyph\":{\"id\":\"13809\",\"type\":\"Circle\"},\"selection_glyph\":null,\"view\":{\"id\":\"13811\",\"type\":\"CDSView\"}},\"id\":\"13810\",\"type\":\"GlyphRenderer\"},{\"attributes\":{},\"id\":\"14220\",\"type\":\"Selection\"},{\"attributes\":{\"num_minor_ticks\":10},\"id\":\"13789\",\"type\":\"LogTicker\"},{\"attributes\":{},\"id\":\"14221\",\"type\":\"UnionRenderers\"},{\"attributes\":{},\"id\":\"14223\",\"type\":\"UnionRenderers\"},{\"attributes\":{\"bottom_units\":\"screen\",\"fill_alpha\":{\"value\":0.5},\"fill_color\":{\"value\":\"lightgrey\"},\"left_units\":\"screen\",\"level\":\"overlay\",\"line_alpha\":{\"value\":1.0},\"line_color\":{\"value\":\"black\"},\"line_dash\":[4,4],\"line_width\":{\"value\":2},\"render_mode\":\"css\",\"right_units\":\"screen\",\"top_units\":\"screen\"},\"id\":\"14224\",\"type\":\"BoxAnnotation\"},{\"attributes\":{\"num_minor_ticks\":10},\"id\":\"13784\",\"type\":\"LogTicker\"},{\"attributes\":{},\"id\":\"13779\",\"type\":\"LogScale\"},{\"attributes\":{\"active_drag\":\"auto\",\"active_inspect\":\"auto\",\"active_multi\":null,\"active_scroll\":\"auto\",\"active_tap\":\"auto\",\"tools\":[{\"id\":\"13793\",\"type\":\"PanTool\"},{\"id\":\"13794\",\"type\":\"WheelZoomTool\"},{\"id\":\"13795\",\"type\":\"BoxZoomTool\"},{\"id\":\"13796\",\"type\":\"SaveTool\"},{\"id\":\"13797\",\"type\":\"ResetTool\"},{\"id\":\"13798\",\"type\":\"HelpTool\"}]},\"id\":\"13799\",\"type\":\"Toolbar\"},{\"attributes\":{\"line_alpha\":0.1,\"line_color\":\"#1f77b4\",\"line_width\":2,\"x\":{\"field\":\"x\"},\"y\":{\"field\":\"y\"}},\"id\":\"13814\",\"type\":\"Line\"},{\"attributes\":{\"line_color\":\"#1f77b4\",\"line_width\":2,\"x\":{\"field\":\"x\"},\"y\":{\"field\":\"y\"}},\"id\":\"13813\",\"type\":\"Line\"},{\"attributes\":{\"fill_alpha\":{\"value\":0.2},\"fill_color\":{\"value\":\"#1f77b4\"},\"line_color\":{\"value\":\"#1f77b4\"},\"size\":{\"units\":\"screen\",\"value\":10},\"x\":{\"field\":\"1975\"},\"y\":{\"field\":\"2016\"}},\"id\":\"13808\",\"type\":\"Circle\"},{\"attributes\":{\"axis_label\":\"1975 GDP\",\"formatter\":{\"id\":\"14218\",\"type\":\"LogTickFormatter\"},\"ticker\":{\"id\":\"13784\",\"type\":\"LogTicker\"}},\"id\":\"13783\",\"type\":\"LogAxis\"},{\"attributes\":{},\"id\":\"13781\",\"type\":\"LogScale\"},{\"attributes\":{\"axis_label\":\"2016 GDP\",\"formatter\":{\"id\":\"14216\",\"type\":\"LogTickFormatter\"},\"ticker\":{\"id\":\"13789\",\"type\":\"LogTicker\"}},\"id\":\"13788\",\"type\":\"LogAxis\"},{\"attributes\":{\"callback\":null},\"id\":\"13775\",\"type\":\"DataRange1d\"},{\"attributes\":{\"text\":\"Croissance r\\u00e9gionale du PIB et moyenne mondiale\"},\"id\":\"13773\",\"type\":\"Title\"},{\"attributes\":{},\"id\":\"13794\",\"type\":\"WheelZoomTool\"},{\"attributes\":{},\"id\":\"13798\",\"type\":\"HelpTool\"},{\"attributes\":{},\"id\":\"14222\",\"type\":\"Selection\"},{\"attributes\":{\"source\":{\"id\":\"13812\",\"type\":\"ColumnDataSource\"}},\"id\":\"13816\",\"type\":\"CDSView\"},{\"attributes\":{\"dimension\":1,\"ticker\":{\"id\":\"13789\",\"type\":\"LogTicker\"}},\"id\":\"13792\",\"type\":\"Grid\"},{\"attributes\":{\"fill_alpha\":{\"value\":0.1},\"fill_color\":{\"value\":\"#1f77b4\"},\"line_alpha\":{\"value\":0.1},\"line_color\":{\"value\":\"#1f77b4\"},\"size\":{\"units\":\"screen\",\"value\":10},\"x\":{\"field\":\"1975\"},\"y\":{\"field\":\"2016\"}},\"id\":\"13809\",\"type\":\"Circle\"},{\"attributes\":{\"overlay\":{\"id\":\"14224\",\"type\":\"BoxAnnotation\"}},\"id\":\"13795\",\"type\":\"BoxZoomTool\"},{\"attributes\":{\"data_source\":{\"id\":\"13812\",\"type\":\"ColumnDataSource\"},\"glyph\":{\"id\":\"13813\",\"type\":\"Line\"},\"hover_glyph\":null,\"muted_glyph\":null,\"nonselection_glyph\":{\"id\":\"13814\",\"type\":\"Line\"},\"selection_glyph\":null,\"view\":{\"id\":\"13816\",\"type\":\"CDSView\"}},\"id\":\"13815\",\"type\":\"GlyphRenderer\"},{\"attributes\":{},\"id\":\"13796\",\"type\":\"SaveTool\"},{\"attributes\":{\"callback\":null},\"id\":\"13777\",\"type\":\"DataRange1d\"},{\"attributes\":{\"source\":{\"id\":\"13806\",\"type\":\"ColumnDataSource\"}},\"id\":\"13811\",\"type\":\"CDSView\"},{\"attributes\":{\"source\":{\"id\":\"13806\",\"type\":\"ColumnDataSource\"},\"text\":{\"field\":\"Country Name\"},\"text_align\":\"center\",\"text_color\":{\"value\":\"#555555\"},\"text_font_size\":{\"value\":\"8pt\"},\"x\":{\"field\":\"1975\"},\"y\":{\"field\":\"2016\"},\"y_offset\":{\"value\":8}},\"id\":\"13817\",\"type\":\"LabelSet\"},{\"attributes\":{\"callback\":null,\"data\":{\"x\":[58936507758.0,5893650775882.95],\"y\":[759973805059.0,75997380505934.8]},\"selected\":{\"id\":\"14222\",\"type\":\"Selection\"},\"selection_policy\":{\"id\":\"14223\",\"type\":\"UnionRenderers\"}},\"id\":\"13812\",\"type\":\"ColumnDataSource\"},{\"attributes\":{\"callback\":null,\"data\":{\"1960\":{\"__ndarray__\":\"AAAAAAAA+H89GmQZW9dBQgSmrEf05VRC6Hm39A36MkIAAAAAAAD4f67feCmzAmFCfZAfzFOqG0KakcnleuBzQsPkOd/btyVC\",\"dtype\":\"float64\",\"shape\":[9]},\"1961\":{\"__ndarray__\":\"AAAAAAAA+H+qcRZus+RBQkD9KEeswFZC2X2ReJQXNEIAAAAAAAD4f7QMTnJSlWFC055MFe3AHELhVkoY7Kx0Qgh9Nm2iKidC\",\"dtype\":\"float64\",\"shape\":[9]},\"1962\":{\"__ndarray__\":\"AAAAAAAA+H9cXzdL3E5CQhtvKWsE21hCzZs4CTD8NkIAAAAAAAD4fzdtZYrQ1WJC/dRwsfYoH0KF+1NrcDJ2Qjy9TG2RuChC\",\"dtype\":\"float64\",\"shape\":[9]},\"1963\":{\"__ndarray__\":\"AAAAAAAA+H/GyzmZCW5EQnRbHky5YVtCTNYsOrgyN0IAAAAAAAD4f/4wom5h42NCXgu8IJrcIULNAHt1fOZ3Qg3xVVZnzCtC\",\"dtype\":\"float64\",\"shape\":[9]},\"1964\":{\"__ndarray__\":\"AAAAAAAA+H9PPR+49nhHQoj2yiZkWF5CH8X9jH7aOUIAAAAAAAD4f3SbfqqdYmVCy7C5js1sIUKu4216lzB6Qqs+sX8J1S9C\",\"dtype\":\"float64\",\"shape\":[9]},\"1965\":{\"__ndarray__\":\"AAAAAAAA+H9gBXo1xSRKQu0cFH7vhWBCoUWyZ2CQO0IAAAAAAAD4fzHkoZuBN2dCSd0Ds+FoI0JIXbrRuIN8QndddLXfGjFC\",\"dtype\":\"float64\",\"shape\":[9]},\"1966\":{\"__ndarray__\":\"AAAAAAAA+H9W7rZ3pDpNQlbaWiVe6WFC4ZoJrx88PkIAAAAAAAD4f/MdZAHuemlC0PNj5cPyJEIKG+mDB/B+QnK5NCsxxCxC\",\"dtype\":\"float64\",\"shape\":[9]},\"1967\":{\"__ndarray__\":\"AAAAAAAA+H/fjzRFrKtPQuj3uAVPP2NCbvLwbdkJP0IAAAAAAAD4f4nZ5OTi92pCDFPNE+WxJEJ73IrXKXaAQkVHhNKCqy9C\",\"dtype\":\"float64\",\"shape\":[9]},\"1968\":{\"__ndarray__\":\"CigK+AjYF0KkSJFmpXJRQn3ncbBrAWRCnX8sF5a4QELheorG9jYeQgo31FR8fm1CN0n8Gi0iJkIfnxQXIsKBQlhpze3ynjBC\",\"dtype\":\"float64\",\"shape\":[9]},\"1969\":{\"__ndarray__\":\"NryEZUszGkLDfaYTLBlUQkQ7KKgT+WVCMYhzzCW6QkK/39QFFs8gQrg2UAdi9G9CySUZ9IhaKUKPGqBfFI6DQtPu4sBrPzJC\",\"dtype\":\"float64\",\"shape\":[9]},\"1970\":{\"__ndarray__\":\"+xyYsUOHHUIIzMM0c7dXQmkRN83O4GhCDt3L2+9iRELkA4vJ0FUjQriGNdsc8HBC7AA3ByvVLULDLVhAxoKFQhOhSMEoxTNC\",\"dtype\":\"float64\",\"shape\":[9]},\"1971\":{\"__ndarray__\":\"Lh+vQ+saIUIUJp0SEl1aQvq2Z8XtI2xCQNVzebvHRkLYYVU6n0smQlJYdrLicHJCZGwnkWFZLkIUjmYzPsOHQp99hIDhAjVC\",\"dtype\":\"float64\",\"shape\":[9]},\"1972\":{\"__ndarray__\":\"AY2TpYVkJEJKaBZqXl1gQhSeHrB12HBCtjOjTYGXSULVJ3e6OUQrQlIAsFmjT3RCg6AdP0IbMUKFx8zAGmiLQo+yYnMIGjVC\",\"dtype\":\"float64\",\"shape\":[9]},\"1973\":{\"__ndarray__\":\"UavvxPPRKUKcxMVTRpFlQj0i7cjDY3VCThJgOp7BUELOmcou1VEyQkjhYsr5s3ZCiBNmzEfgNUJmADudx7KQQulmBOZ8IDhC\",\"dtype\":\"float64\",\"shape\":[9]},\"1974\":{\"__ndarray__\":\"18MSJdmGOEJUrwimiNNoQq6r/0FuCnhCjUcvlfbFVUL+5M0vlJ9AQikEk2WO4HhCblJU4iSoPEIKOFJoI0KTQm5ypRpIOj1C\",\"dtype\":\"float64\",\"shape\":[9]},\"1975\":{\"__ndarray__\":\"7FGtuecgO0Ip4PgZlS5rQgAsZsDEBnxC+oa87ZfMVkKWc1eaWCZCQma6/Y2YHHtC89076nGIP0LNK/3X43CVQhJDrQCrXT9C\",\"dtype\":\"float64\",\"shape\":[9]},\"1976\":{\"__ndarray__\":\"trMncZvcQEIU/s3z4+BtQkiR2mxAB31C7rRTgxBUWUKkkHZZrYpGQuwZmbaMVX5C79dhB08eQUIzpRcCelOXQnNovE6cmz5C\",\"dtype\":\"float64\",\"shape\":[9]},\"1977\":{\"__ndarray__\":\"h8ZKsqV1Q0K42uHEBM9xQhQouDbUb4BCNwlT+i/WW0KsnEFiuyFKQjM1/KFguIBCAtuoIprcQkJI/rjJm2GaQvr+hb7JsUFC\",\"dtype\":\"float64\",\"shape\":[9]},\"1978\":{\"__ndarray__\":\"QIVp76BeRUJI2dUKeHp2QsOFv8GnJIRCVAsGH06aX0LzDVouDsNLQnvO58WTvYJC9mgS+DDZREL2SltMXg+fQr9Puk3YIkRC\",\"dtype\":\"float64\",\"shape\":[9]},\"1979\":{\"__ndarray__\":\"ZhaA6bnwTEKFo20Gf2d4QlyrFkabmYhCtMBKypjWYkKNP62/GCNSQlxLywR47IRCAwuoZCwbSUJSxoCnBwuiQgN75YMrjkZC\",\"dtype\":\"float64\",\"shape\":[9]},\"1980\":{\"__ndarray__\":\"BO7UqUywU0KaSfR05196Qim8LCUDFIxCF1Gi4BywZkK83FgTLGtXQhRIxN8Q04ZCWJmHq5mHT0IAQoHTRVSkQtGS3Ov4MUtC\",\"dtype\":\"float64\",\"shape\":[9]},\"1981\":{\"__ndarray__\":\"PPch2Ho8VEIpoIsvmhJ9QpoLh7IL2IhC/EHODYApakLahjIMpyZYQuxHnDCemIlCQahlims/VkLN5DNjOQ2lQjZ+I4+/1ExC\",\"dtype\":\"float64\",\"shape\":[9]},\"1982\":{\"__ndarray__\":\"1Th2+hT6UkLXX+Aoi358QpobleQU6YdCnds7X6poaEJKtB+02jJYQh/5Zh7yn4pCiA6RGPh8VELNpB4ahNmkQpMIXoLb001C\",\"dtype\":\"float64\",\"shape\":[9]},\"1983\":{\"__ndarray__\":\"sLIDBajTUUKFv2QPI1R+QqQgSQACLYdC6cbNsjqFZUJka09hBp1YQh8vcc+I9IxC33fVSnGxUUIAEHPiLEWlQvKyPMzYkE9C\",\"dtype\":\"float64\",\"shape\":[9]},\"1984\":{\"__ndarray__\":\"P20DRsgUUkLDeRpmsD6AQqTIf4J6QIZCTr5+bCi7ZUIUThLmbfZYQva8Jm0l/o9CrEyaO2YNUEJmWKCGGhKmQhRO7xtJbU9C\",\"dtype\":\"float64\",\"shape\":[9]},\"1985\":{\"__ndarray__\":\"eSkqwbnkUUIpaNoYESWBQj0O+DJQ/4ZCCJClzCdiZkJO4lOWKGBZQgDr2bTiJJFCTLeZYYmBTkIACmqO5DCnQtVAcLjhFVFC\",\"dtype\":\"float64\",\"shape\":[9]},\"1986\":{\"__ndarray__\":\"z4+luIMTUULDlzkdhGiGQnGBlpKaiI9CIZhZzDqMZkL2eFxhCwFaQuw/QzuGE5JCuxknFXjkT0IAwJneAmmrQrpRw9zXF1JC\",\"dtype\":\"float64\",\"shape\":[9]},\"1987\":{\"__ndarray__\":\"K3/k02E0UkJ77GVbeVCKQoWdXZbmgZNC3UQVAOPNZ0LAQsMxlexXQs0FZEClSpNCM8OJJconUkLNxKRk+y+vQuNVHH13FlRC\",\"dtype\":\"float64\",\"shape\":[9]},\"1988\":{\"__ndarray__\":\"uL5s+CnnUUIAzCz3B6qPQmbpLDF+wpVCylkCqWPWakKNjz+phsZXQgo5sG649ZRCzQR+M2joUkLmPgDAdnKxQgP7F+5kllVC\",\"dtype\":\"float64\",\"shape\":[9]},\"1989\":{\"__ndarray__\":\"7SwN+vfFUkJcs48zUnyQQkh6EYmoN5ZC9jikNiZMbULTZVk/IX1YQgAtI+bIpJZCCNR8gaQ2U0JN1wqP1kiyQk5SdkOyyVVC\",\"dtype\":\"float64\",\"shape\":[9]},\"1990\":{\"__ndarray__\":\"Zl4toloDWkIUcYZiazeRQpp6eqbpjJtCuB7k1YgmcUIAMH6nSAdgQuHxP5yM65dC1Vj0DhSMU0LNpNpmoo+0Qh993D5ZdFdC\",\"dtype\":\"float64\",\"shape\":[9]},\"1991\":{\"__ndarray__\":\"fT8CLzCmWULNEtrwM3CTQoU5gZKql5xCXK/NPq4YdULXx6OBxCRgQsNsoO31r5hCZoYqYwzhU0Jm7tVUm8i1QloccZte3lRC\",\"dtype\":\"float64\",\"shape\":[9]},\"1992\":{\"__ndarray__\":\"pustfnR0W0KuUogh0DyVQuEiQiC5J59CFN7xHvfwc0KBGdg/NZJhQq6TXSB385lCArNtRhmcU0IAdVLf7CK3Qsl2AP+BKFZC\",\"dtype\":\"float64\",\"shape\":[9]},\"1993\":{\"__ndarray__\":\"UoDOntnFW0IU1qJYlMCXQhSAxNb0Z5xCFBLictHudkIfGQnNw7FhQsORhWmIIZtCL/1MlL5KUkLN1eNYWIO3Qhs3snDj8lVC\",\"dtype\":\"float64\",\"shape\":[9]},\"1994\":{\"__ndarray__\":\"hVvLz7liXEKubAXcrI+aQjMA+rkRKp5CFA7+2TU0ekLRGh8ZUXJiQnE2FEv7spxCTG8FDJEFUkJmsORlH0G5Qqy0kA+541hC\",\"dtype\":\"float64\",\"shape\":[9]},\"1995\":{\"__ndarray__\":\"rByuWyZ/XkJSC75mZy6eQnu66x6bfqFCANSDgkDxe0I7F1OamqBkQpolRNMmFp5CThoXDFWqVEKAcd96mRO8QoE9K0Njp1tC\",\"dtype\":\"float64\",\"shape\":[9]},\"1996\":{\"__ndarray__\":\"xMDNLmjVYEIKCPKkiROdQp91EGbN4qFCH1GV/Ic8fkIjAwmEO1pnQoXQPS7Kw59CXO8ubfFVVULNUgvKkbS8Qn038tdPQV5C\",\"dtype\":\"float64\",\"shape\":[9]},\"1997\":{\"__ndarray__\":\"fRPrX23aYULNyS9oWdKbQg87JFYa4qBCcXVVLPWSgEID221UVjxoQo9c5mwD2qBCz29wzA8uVkLmUe/FZpu8Qi1acjZcvF9C\",\"dtype\":\"float64\",\"shape\":[9]},\"1998\":{\"__ndarray__\":\"ESRMEl84YUIKQmILDPKYQtIICWl5daFCM+dOe225gEI2ln4r1I5nQp8dfnwksKFCSrTWB8w6VULmAKw/7oi8Qhh8tKMZF2BC\",\"dtype\":\"float64\",\"shape\":[9]},\"1999\":{\"__ndarray__\":\"BCIaJo2+YkI9HXCO09mbQnZCWLR/bqFCH01YsMgtfkJ7/NlRKztpQs0xiMLzzqJCRbYtybhpVUIAuymxY5i9Qj9JlWG2PGFC\",\"dtype\":\"float64\",\"shape\":[9]},\"2000\":{\"__ndarray__\":\"T6U475NlZUK4+jNoKyCeQgA6B1k1M6BCw6H8YPakgEJjHN3O+yRsQjPpyFiAEKRCtOC4cY/SVkKakO2knI6+QoEByyl97mFC\",\"dtype\":\"float64\",\"shape\":[9]},\"2001\":{\"__ndarray__\":\"cbl8lh0OZUJI93af+QScQoUa29nBYKBCrk3Ght9IgEK4Lmh5sj9sQjM5lCbKqqRCSBlINdbBVUJNECV5x2C+QsmStDCGZmJC\",\"dtype\":\"float64\",\"shape\":[9]},\"2002\":{\"__ndarray__\":\"LWpImjI5ZUKFiyCP+HacQmzpA5EZ26FCAHBuKzA5fULv+5FbXiNsQgCt08KVWqVCsTp0hA69V0KavMufBIy/QoOQQtcMTWNC\",\"dtype\":\"float64\",\"shape\":[9]},\"2003\":{\"__ndarray__\":\"PUZ15172Z0IKbxaB9kqfQgBWZ0dpvKVCFM4CBlbbfUIAYI8RZ7JvQs2PEfiRkaZCpDCftiHHXULAwJDLo7PBQhEwFBG4iWZC\",\"dtype\":\"float64\",\"shape\":[9]},\"2004\":{\"__ndarray__\":\"/XCdccwQbELxqfbQ4ouhQpoDbeg3GalCuPS33kQ0gUKu1351XYByQjM1dIiCMqhC1dA++8GTYkKznhuIM/DDQmARWSWjIWpC\",\"dtype\":\"float64\",\"shape\":[9]},\"2005\":{\"__ndarray__\":\"4SISXQA/cUIzBLpJD7miQgCHQlfzQKpCXPdQTvDMhEKPFj8V+UR2QmYxYW8I9KlC0+0j7i4gZkJabTMcPJjFQpqBX1Z4721C\",\"dtype\":\"float64\",\"shape\":[9]},\"2006\":{\"__ndarray__\":\"4WpByb1wdEIziCshR9ujQpo1jClpAqxCAMY1f9ZgiEIpNMjMpxB6QmYa4bU1m6tCCr9Gf1heakLAvxJBG2XHQsNhlqmQHXFC\",\"dtype\":\"float64\",\"shape\":[9]},\"2007\":{\"__ndarray__\":\"UjyJgNLWd0KauEz+fzWmQoBJf7/pLrBCMyHxgzG5jELs8afpGOd+Qpp7njeaAq1CPTJU1k+ZbkJmdDkTp1rKQq4HA0t1qXVC\",\"dtype\":\"float64\",\"shape\":[9]},\"2008\":{\"__ndarray__\":\"SEGF/EY/fkIAO8CBvKapQk0wqHuuZ7FCAJgBwR2xkEJIG7MXvEODQmbK+eQWmq1CzdQNnWWJcUKNPWNZF+nMQs0wJfDmDXZC\",\"dtype\":\"float64\",\"shape\":[9]},\"2009\":{\"__ndarray__\":\"pEAxr10jekIAGnlToW6qQgCi4sv9G69CrkFbDetfj0Kk9BbJLDuBQs0Ucftxu6xCM4O21t+tcEJmbsGjAmjLQrg6Bt+fPHhC\",\"dtype\":\"float64\",\"shape\":[9]},\"2010\":{\"__ndarray__\":\"UpgXRxy0fkIAyzry0tGuQs26PGol5q5CCoIPBRd0k0JSDm9HjiOEQjOWx+NUKq5Cw+FgurHhc0Jme3dIcP/NQkgRortFt31C\",\"dtype\":\"float64\",\"shape\":[9]},\"2011\":{\"__ndarray__\":\"w7kiFNozgkIAVGyFpN6xQuap7oxWsLBCM05obUkflkIp8HdbeeGHQppvVxWWfa9C7JFqTsyRdkJz/FAjmavQQlIKpAW1h4BC\",\"dtype\":\"float64\",\"shape\":[9]},\"2012\":{\"__ndarray__\":\"zcSIrstGhELmWeUrwiCzQjMcGNdPdK9C1/WiJ9lZlkK4PFBCbAOKQppvvmF6W7BCANB3kM7Ed0Lgc/VUNQ3RQgqFE6AEt4BC\",\"dtype\":\"float64\",\"shape\":[9]},\"2013\":{\"__ndarray__\":\"e6ws//HbhEKzqvlpg1mzQs2MV5KuZbBCSDhpvsvmlkJ7NAIcftmJQjO2KVmd3LBCCtvQg2tReUKg6yWRvYfRQsOTWWeUJoFC\",\"dtype\":\"float64\",\"shape\":[9]},\"2014\":{\"__ndarray__\":\"SA1OZE4phUIa8i8aS+6zQoDPV28B87BCuFdb+lxYl0JcQeK5XPWJQgBh6tnzfbFCpARjhL6VekJTrIEIYAHSQjO/TJYdyYJC\",\"dtype\":\"float64\",\"shape\":[9]},\"2015\":{\"__ndarray__\":\"Uvz8kcahgkLmOg7amdKzQgBAD9Zx3K1CH6Ej8BoSlEJca06+B+aGQs2QlUiQ57FCuCa99do6eEJaoDevsAjRQs1cWrbonYNC\",\"dtype\":\"float64\",\"shape\":[9]},\"2016\":{\"__ndarray__\":\"M53b9JFKgkIzqqeVYHm0QpoHYCV+AK5C4WEnoXmTk0JIUYxaC/aGQgBYJnlVV7JCZtphu8l0dkKzU5w3oUfRQj1+99crH4VC\",\"dtype\":\"float64\",\"shape\":[9]},\"2017\":{\"__ndarray__\":\"9tghF2HRgkKa5NU+HNO1Qpom8Yh/b69CKQ+A5fC7lUKag4KnZdWHQjOEB0sUJbNCmmVCY15MeEL6EWuii1vSQuxbppHM+IdC\",\"dtype\":\"float64\",\"shape\":[9]},\"2018\":{\"__ndarray__\":\"AAAAAAAA+H8AAAAAAAD4fwAAAAAAAPh/AAAAAAAA+H8AAAAAAAD4fwAAAAAAAPh/AAAAAAAA+H8AAAAAAAD4fwAAAAAAAPh/\",\"dtype\":\"float64\",\"shape\":[9]},\"Country Code\":[\"ARB\",\"EAS\",\"EUU\",\"LCN\",\"MEA\",\"NAC\",\"SSF\",\"WLD\",\"SAS\"],\"Country Name\":[\"Arab World\",\"East Asia & Pacific\",\"European Union\",\"Latin America & Caribbean\",\"Middle East & North Africa\",\"North America\",\"Sub-Saharan Africa\",\"World\",\"South Asia\"],\"Indicator Code\":[\"NY.GDP.MKTP.CD\",\"NY.GDP.MKTP.CD\",\"NY.GDP.MKTP.CD\",\"NY.GDP.MKTP.CD\",\"NY.GDP.MKTP.CD\",\"NY.GDP.MKTP.CD\",\"NY.GDP.MKTP.CD\",\"NY.GDP.MKTP.CD\",\"NY.GDP.MKTP.CD\"],\"Indicator Name\":[\"GDP (current US$)\",\"GDP (current US$)\",\"GDP (current US$)\",\"GDP (current US$)\",\"GDP (current US$)\",\"GDP (current US$)\",\"GDP (current US$)\",\"GDP (current US$)\",\"GDP (current US$)\"],\"index\":[0,1,2,3,4,5,6,7,8]},\"selected\":{\"id\":\"14220\",\"type\":\"Selection\"},\"selection_policy\":{\"id\":\"14221\",\"type\":\"UnionRenderers\"}},\"id\":\"13806\",\"type\":\"ColumnDataSource\"}],\"root_ids\":[\"13772\"]},\"title\":\"Bokeh Application\",\"version\":\"1.1.0\"}};\n",
       "  var render_items = [{\"docid\":\"39966919-bf1d-42e9-8da0-75e719af4dfc\",\"roots\":{\"13772\":\"9f4cb029-a397-4fe9-a69a-256156975c68\"}}];\n",
       "  root.Bokeh.embed.embed_items_notebook(docs_json, render_items);\n",
       "\n",
       "  }\n",
       "  if (root.Bokeh !== undefined) {\n",
       "    embed_document(root);\n",
       "  } else {\n",
       "    var attempts = 0;\n",
       "    var timer = setInterval(function(root) {\n",
       "      if (root.Bokeh !== undefined) {\n",
       "        embed_document(root);\n",
       "        clearInterval(timer);\n",
       "      }\n",
       "      attempts++;\n",
       "      if (attempts > 100) {\n",
       "        console.log(\"Bokeh: ERROR: Unable to run BokehJS code because BokehJS library is missing\");\n",
       "        clearInterval(timer);\n",
       "      }\n",
       "    }, 10, root)\n",
       "  }\n",
       "})(window);"
      ],
      "application/vnd.bokehjs_exec.v0+json": ""
     },
     "metadata": {
      "application/vnd.bokehjs_exec.v0+json": {
       "id": "13772"
      }
     },
     "output_type": "display_data"
    }
   ],
   "source": [
    "df = pd.read_csv('gdp_region.csv')\n",
    "\n",
    "p = figure(title = \"Croissance régionale du PIB et moyenne mondiale\",\n",
    "           x_axis_label=\"1975 GDP\",y_axis_label=\"2015 GDP\",\n",
    "                  x_axis_type=\"log\",y_axis_type=\"log\")\n",
    "\n",
    "source = ColumnDataSource(data=df)\n",
    "\n",
    "p.circle(x=\"1975\",y=\"2015\", source=source, fill_alpha=0.2, size=10)\n",
    "mi,ma=df.iloc[df['1975'].idxmin()],df.iloc[df['2015'].idxmax()]\n",
    "p.line([ma[\"1975\"]//100,ma[\"1975\"]],[ma[\"2015\"]//100,ma[\"2015\"]],line_width=2)\n",
    "\n",
    "labels = LabelSet(x=\"1975\",y=\"2015\",source=source, text=\"Country Name\", y_offset=8,\n",
    "                  text_font_size=\"8pt\", text_color=\"#555555\",\n",
    "                  text_align='center')\n",
    "p.add_layout(labels)\n",
    "\n",
    "show(p)"
   ]
  },
  {
   "cell_type": "markdown",
   "metadata": {},
   "source": [
    "    PIB par capita"
   ]
  },
  {
   "cell_type": "code",
   "execution_count": 139,
   "metadata": {},
   "outputs": [],
   "source": [
    "gdp = pd.read_csv(\"gdp_per_cap.csv\")\n",
    "gdp = gdp[gdp[\"Country Name\"].isin(y)]\n",
    "gdp_x = gdp[\"2010\"].to_numpy()\n",
    "#gdp_x = np.array(list(map(lambda x: log(x), gdp_x)))\n",
    "#gdp_y = gdp[\"1970\"].to_numpy()\n",
    "#gdp_y = np.array(list(map(lambda x: log(x), gdp_x)))"
   ]
  },
  {
   "cell_type": "code",
   "execution_count": 140,
   "metadata": {},
   "outputs": [
    {
     "name": "stderr",
     "output_type": "stream",
     "text": [
      "/home/leo/.local/lib/python3.6/site-packages/bokeh/models/sources.py:164: BokehUserWarning:\n",
      "\n",
      "ColumnDataSource's columns must be of the same length. Current lengths: ('color', 62), ('label', 62), ('x', 62), ('y', 55)\n",
      "\n"
     ]
    },
    {
     "data": {
      "text/html": [
       "\n",
       "\n",
       "\n",
       "\n",
       "\n",
       "\n",
       "  <div class=\"bk-root\" id=\"96dc2282-62d5-4217-8ff2-62a34be8c0c1\" data-root-id=\"29989\"></div>\n"
      ]
     },
     "metadata": {},
     "output_type": "display_data"
    },
    {
     "data": {
      "application/javascript": [
       "(function(root) {\n",
       "  function embed_document(root) {\n",
       "    \n",
       "  var docs_json = {\"a7510def-b6be-4d4e-a5f7-44ac1410b15f\":{\"roots\":{\"references\":[{\"attributes\":{\"below\":[{\"id\":\"30000\",\"type\":\"LinearAxis\"}],\"center\":[{\"id\":\"30004\",\"type\":\"Grid\"},{\"id\":\"30009\",\"type\":\"Grid\"},{\"id\":\"30029\",\"type\":\"LabelSet\"}],\"left\":[{\"id\":\"30005\",\"type\":\"LinearAxis\"}],\"renderers\":[{\"id\":\"30027\",\"type\":\"GlyphRenderer\"}],\"title\":{\"id\":\"29990\",\"type\":\"Title\"},\"toolbar\":{\"id\":\"30016\",\"type\":\"Toolbar\"},\"x_range\":{\"id\":\"29992\",\"type\":\"DataRange1d\"},\"x_scale\":{\"id\":\"29996\",\"type\":\"LinearScale\"},\"y_range\":{\"id\":\"29994\",\"type\":\"DataRange1d\"},\"y_scale\":{\"id\":\"29998\",\"type\":\"LinearScale\"}},\"id\":\"29989\",\"subtype\":\"Figure\",\"type\":\"Plot\"},{\"attributes\":{},\"id\":\"29998\",\"type\":\"LinearScale\"},{\"attributes\":{},\"id\":\"30015\",\"type\":\"HelpTool\"},{\"attributes\":{\"callback\":null},\"id\":\"29994\",\"type\":\"DataRange1d\"},{\"attributes\":{},\"id\":\"30014\",\"type\":\"ResetTool\"},{\"attributes\":{},\"id\":\"29996\",\"type\":\"LinearScale\"},{\"attributes\":{},\"id\":\"30013\",\"type\":\"SaveTool\"},{\"attributes\":{\"bottom_units\":\"screen\",\"fill_alpha\":{\"value\":0.5},\"fill_color\":{\"value\":\"lightgrey\"},\"left_units\":\"screen\",\"level\":\"overlay\",\"line_alpha\":{\"value\":1.0},\"line_color\":{\"value\":\"black\"},\"line_dash\":[4,4],\"line_width\":{\"value\":2},\"render_mode\":\"css\",\"right_units\":\"screen\",\"top_units\":\"screen\"},\"id\":\"30652\",\"type\":\"BoxAnnotation\"},{\"attributes\":{\"text\":\"PIB par habitant en fonction de l'index de distance au pouvoir\"},\"id\":\"29990\",\"type\":\"Title\"},{\"attributes\":{\"overlay\":{\"id\":\"30652\",\"type\":\"BoxAnnotation\"}},\"id\":\"30012\",\"type\":\"BoxZoomTool\"},{\"attributes\":{},\"id\":\"30651\",\"type\":\"UnionRenderers\"},{\"attributes\":{\"callback\":null},\"id\":\"29992\",\"type\":\"DataRange1d\"},{\"attributes\":{},\"id\":\"30011\",\"type\":\"WheelZoomTool\"},{\"attributes\":{\"axis_label\":\"IDP\",\"formatter\":{\"id\":\"30648\",\"type\":\"BasicTickFormatter\"},\"ticker\":{\"id\":\"30001\",\"type\":\"BasicTicker\"}},\"id\":\"30000\",\"type\":\"LinearAxis\"},{\"attributes\":{},\"id\":\"30010\",\"type\":\"PanTool\"},{\"attributes\":{},\"id\":\"30648\",\"type\":\"BasicTickFormatter\"},{\"attributes\":{\"active_drag\":\"auto\",\"active_inspect\":\"auto\",\"active_multi\":null,\"active_scroll\":\"auto\",\"active_tap\":\"auto\",\"tools\":[{\"id\":\"30010\",\"type\":\"PanTool\"},{\"id\":\"30011\",\"type\":\"WheelZoomTool\"},{\"id\":\"30012\",\"type\":\"BoxZoomTool\"},{\"id\":\"30013\",\"type\":\"SaveTool\"},{\"id\":\"30014\",\"type\":\"ResetTool\"},{\"id\":\"30015\",\"type\":\"HelpTool\"}]},\"id\":\"30016\",\"type\":\"Toolbar\"},{\"attributes\":{},\"id\":\"30646\",\"type\":\"BasicTickFormatter\"},{\"attributes\":{},\"id\":\"30001\",\"type\":\"BasicTicker\"},{\"attributes\":{},\"id\":\"30650\",\"type\":\"Selection\"},{\"attributes\":{\"fill_alpha\":{\"value\":0.2},\"fill_color\":{\"field\":\"color\"},\"line_color\":{\"field\":\"color\"},\"size\":{\"units\":\"screen\",\"value\":10},\"x\":{\"field\":\"x\"},\"y\":{\"field\":\"y\"}},\"id\":\"30025\",\"type\":\"Circle\"},{\"attributes\":{\"source\":{\"id\":\"30023\",\"type\":\"ColumnDataSource\"},\"text\":{\"field\":\"label\"},\"text_align\":\"center\",\"text_color\":{\"value\":\"#555555\"},\"text_font_size\":{\"value\":\"8pt\"},\"x\":{\"field\":\"x\"},\"y\":{\"field\":\"y\"},\"y_offset\":{\"value\":8}},\"id\":\"30029\",\"type\":\"LabelSet\"},{\"attributes\":{\"fill_alpha\":{\"value\":0.1},\"fill_color\":{\"value\":\"#1f77b4\"},\"line_alpha\":{\"value\":0.1},\"line_color\":{\"value\":\"#1f77b4\"},\"size\":{\"units\":\"screen\",\"value\":10},\"x\":{\"field\":\"x\"},\"y\":{\"field\":\"y\"}},\"id\":\"30026\",\"type\":\"Circle\"},{\"attributes\":{\"dimension\":1,\"ticker\":{\"id\":\"30006\",\"type\":\"BasicTicker\"}},\"id\":\"30009\",\"type\":\"Grid\"},{\"attributes\":{\"callback\":null,\"data\":{\"color\":[\"brown\",\"black\",\"green\",\"blue\",\"green\",\"brown\",\"green\",\"yellow\",\"brown\",\"blue\",\"brown\",\"green\",\"green\",\"green\",\"yellow\",\"green\",\"green\",\"green\",\"green\",\"green\",\"green\",\"blue\",\"green\",\"blue\",\"blue\",\"blue\",\"green\",\"green\",\"blue\",\"blue\",\"green\",\"green\",\"green\",\"blue\",\"green\",\"yellow\",\"red\",\"green\",\"black\",\"green\",\"blue\",\"brown\",\"blue\",\"green\",\"green\",\"green\",\"green\",\"green\",\"blue\",\"green\",\"green\",\"green\",\"green\",\"green\",\"blue\",\"blue\",\"yellow\",\"blue\",\"yellow\",\"brown\",\"brown\",\"blue\"],\"label\":[\"Argentina\",\"Australia\",\"Austria\",\"Bangladesh\",\"Belgium\",\"Brazil\",\"Bulgaria\",\"Canada\",\"Chile\",\"China\",\"Colombia\",\"Croatia\",\"Czech Republic\",\"Denmark\",\"El Salvador\",\"Estonia\",\"Finland\",\"France\",\"Germany\",\"Great Britain\",\"Greece\",\"Hong Kong\",\"Hungary\",\"India\",\"Indonesia\",\"Iran\",\"Ireland\",\"Italy\",\"Japan\",\"South Korea\",\"Latvia\",\"Lithuania\",\"Luxembourg\",\"Malaysia\",\"Malta\",\"Mexico\",\"Morocco\",\"Netherlands\",\"New Zealand\",\"Norway\",\"Pakistan\",\"Peru\",\"Philippines\",\"Poland\",\"Portugal\",\"Romania\",\"Russia\",\"Serbia\",\"Singapore\",\"Slovak Republic\",\"Slovenia\",\"Spain\",\"Sweden\",\"Switzerland\",\"Taiwan\",\"Thailand\",\"Trinidad and Tobago\",\"Turkey\",\"United States\",\"Uruguay\",\"Venezuela\",\"Vietnam\"],\"x\":{\"__ndarray__\":\"AAAAAACASEAAAAAAAABDQAAAAAAAACZAAAAAAAAAVEAAAAAAAEBQQAAAAAAAQFFAAAAAAACAUUAAAAAAAIBDQAAAAAAAgE9AAAAAAAAAVEAAAAAAAMBQQAAAAAAAQFJAAAAAAACATEAAAAAAAAAyQAAAAAAAgFBAAAAAAAAAREAAAAAAAIBAQAAAAAAAAFFAAAAAAACAQUAAAAAAAIBBQAAAAAAAAE5AAAAAAAAAUUAAAAAAAABHQAAAAAAAQFNAAAAAAACAU0AAAAAAAABNQAAAAAAAADxAAAAAAAAASUAAAAAAAABLQAAAAAAAAE5AAAAAAAAARkAAAAAAAABFQAAAAAAAAERAAAAAAAAAWkAAAAAAAABMQAAAAAAAQFRAAAAAAACAUUAAAAAAAABDQAAAAAAAADZAAAAAAAAAP0AAAAAAAIBLQAAAAAAAAFBAAAAAAACAV0AAAAAAAABRQAAAAAAAgE9AAAAAAACAVkAAAAAAAEBXQAAAAAAAgFVAAAAAAACAUkAAAAAAAABaQAAAAAAAwFFAAAAAAACATEAAAAAAAAA/QAAAAAAAAEFAAAAAAAAATUAAAAAAAABQQAAAAAAAgEdAAAAAAACAUEAAAAAAAABEQAAAAAAAgE5AAAAAAABAVEAAAAAAAIBRQA==\",\"dtype\":\"float64\",\"shape\":[62]},\"y\":{\"__ndarray__\":\"eSL9VyESxEDzZ1NwHFzpQIjWfmJB4eZARq/5poWr5UDoDDrCX62HQPDD0VZEu7pAbFj9uBPsxUD0Fpc77yrnQMIBTYnbNvJAHyUQvRYeyUBJMtY4g9CxQFeihwW9VrhAYVLCjARY00DFRjrSMWfkQJ5owCgtV+xAnbC+LigE3kDrn6dqTZfMQHCXA0lNj+ZArrMpsMrX40D9gBuTcEnaQNnhKGsbdcpAHOi96x2SyUDWILoV9lKoQNrzCqMUB5VAzrbmbPzD50B1zjzxK4HhQDsU9KR1u+VAYkNMLW9ox0AsU7LlVKD5QNWWvhccH8ZA4dsL0WgkpkASVludOpzBQJV2QNzyl9RA96m9sa23wUDgu4snSJToQB2S/kSkbfVAvOrBWIBz4EDzkKuukUCQQLtTw0F+nrNANp8+nf+ioEAaWsti7prIQOQ8Z9ypAtZA2Ma9sPUIwEBfhIO+Nb3mQCv1Gi4XYadA9hGLneAjtUClwwZFJzbQQHAmmDVe49ZA1npxMIht6UBlp25bTdOzQO1S/gjbStBADvckPzPYxEA2nt8iG1HHQLY9tAXtnudAvXXUKHt5lEA=\",\"dtype\":\"float64\",\"shape\":[55]}},\"selected\":{\"id\":\"30650\",\"type\":\"Selection\"},\"selection_policy\":{\"id\":\"30651\",\"type\":\"UnionRenderers\"}},\"id\":\"30023\",\"type\":\"ColumnDataSource\"},{\"attributes\":{},\"id\":\"30006\",\"type\":\"BasicTicker\"},{\"attributes\":{\"axis_label\":\"log PIB\",\"formatter\":{\"id\":\"30646\",\"type\":\"BasicTickFormatter\"},\"ticker\":{\"id\":\"30006\",\"type\":\"BasicTicker\"}},\"id\":\"30005\",\"type\":\"LinearAxis\"},{\"attributes\":{\"source\":{\"id\":\"30023\",\"type\":\"ColumnDataSource\"}},\"id\":\"30028\",\"type\":\"CDSView\"},{\"attributes\":{\"data_source\":{\"id\":\"30023\",\"type\":\"ColumnDataSource\"},\"glyph\":{\"id\":\"30025\",\"type\":\"Circle\"},\"hover_glyph\":null,\"muted_glyph\":null,\"nonselection_glyph\":{\"id\":\"30026\",\"type\":\"Circle\"},\"selection_glyph\":null,\"view\":{\"id\":\"30028\",\"type\":\"CDSView\"}},\"id\":\"30027\",\"type\":\"GlyphRenderer\"},{\"attributes\":{\"ticker\":{\"id\":\"30001\",\"type\":\"BasicTicker\"}},\"id\":\"30004\",\"type\":\"Grid\"}],\"root_ids\":[\"29989\"]},\"title\":\"Bokeh Application\",\"version\":\"1.1.0\"}};\n",
       "  var render_items = [{\"docid\":\"a7510def-b6be-4d4e-a5f7-44ac1410b15f\",\"roots\":{\"29989\":\"96dc2282-62d5-4217-8ff2-62a34be8c0c1\"}}];\n",
       "  root.Bokeh.embed.embed_items_notebook(docs_json, render_items);\n",
       "\n",
       "  }\n",
       "  if (root.Bokeh !== undefined) {\n",
       "    embed_document(root);\n",
       "  } else {\n",
       "    var attempts = 0;\n",
       "    var timer = setInterval(function(root) {\n",
       "      if (root.Bokeh !== undefined) {\n",
       "        embed_document(root);\n",
       "        clearInterval(timer);\n",
       "      }\n",
       "      attempts++;\n",
       "      if (attempts > 100) {\n",
       "        console.log(\"Bokeh: ERROR: Unable to run BokehJS code because BokehJS library is missing\");\n",
       "        clearInterval(timer);\n",
       "      }\n",
       "    }, 10, root)\n",
       "  }\n",
       "})(window);"
      ],
      "application/vnd.bokehjs_exec.v0+json": ""
     },
     "metadata": {
      "application/vnd.bokehjs_exec.v0+json": {
       "id": "29989"
      }
     },
     "output_type": "display_data"
    }
   ],
   "source": [
    "p = figure(title = \"PIB par habitant en fonction de l'index de distance au pouvoir\")\n",
    "p.xaxis.axis_label = 'IDP'\n",
    "p.yaxis.axis_label = 'log PIB'\n",
    "\n",
    "#X = dims[['pdi', 'idv', 'mas', 'uai', 'ltowvs', 'ivr']]\n",
    "   \n",
    "source = ColumnDataSource(data={\"x\":dims[\"pdi\"], \"y\":gdp_x, \"label\":dims[\"country\"], \n",
    "                                \"color\":list([colors[int(i)] for i in conts])})\n",
    "\n",
    "p.circle(x=\"x\",y=\"y\",color=\"color\", source=source, fill_alpha=0.2, size=10)\n",
    "\n",
    "labels = LabelSet(x=\"x\",y=\"y\",source=source, text=\"label\", y_offset=8,\n",
    "                  text_font_size=\"8pt\", text_color=\"#555555\",\n",
    "                  text_align='center')\n",
    "p.add_layout(labels)\n",
    "\n",
    "show(p)"
   ]
  },
  {
   "cell_type": "code",
   "execution_count": 133,
   "metadata": {},
   "outputs": [
    {
     "name": "stderr",
     "output_type": "stream",
     "text": [
      "/home/leo/.local/lib/python3.6/site-packages/bokeh/models/sources.py:164: BokehUserWarning:\n",
      "\n",
      "ColumnDataSource's columns must be of the same length. Current lengths: ('color', 62), ('label', 62), ('x', 62), ('y', 55)\n",
      "\n"
     ]
    },
    {
     "data": {
      "text/html": [
       "\n",
       "\n",
       "\n",
       "\n",
       "\n",
       "\n",
       "  <div class=\"bk-root\" id=\"1ced8998-33c1-46ce-86dc-59a26756805b\" data-root-id=\"25885\"></div>\n"
      ]
     },
     "metadata": {},
     "output_type": "display_data"
    },
    {
     "data": {
      "application/javascript": [
       "(function(root) {\n",
       "  function embed_document(root) {\n",
       "    \n",
       "  var docs_json = {\"1ba3da5e-0c24-4c3e-91d7-318ff0d0730d\":{\"roots\":{\"references\":[{\"attributes\":{\"below\":[{\"id\":\"25896\",\"type\":\"LinearAxis\"}],\"center\":[{\"id\":\"25900\",\"type\":\"Grid\"},{\"id\":\"25905\",\"type\":\"Grid\"},{\"id\":\"25925\",\"type\":\"LabelSet\"}],\"left\":[{\"id\":\"25901\",\"type\":\"LinearAxis\"}],\"renderers\":[{\"id\":\"25923\",\"type\":\"GlyphRenderer\"}],\"title\":{\"id\":\"25886\",\"type\":\"Title\"},\"toolbar\":{\"id\":\"25912\",\"type\":\"Toolbar\"},\"x_range\":{\"id\":\"25888\",\"type\":\"DataRange1d\"},\"x_scale\":{\"id\":\"25892\",\"type\":\"LinearScale\"},\"y_range\":{\"id\":\"25890\",\"type\":\"DataRange1d\"},\"y_scale\":{\"id\":\"25894\",\"type\":\"LinearScale\"}},\"id\":\"25885\",\"subtype\":\"Figure\",\"type\":\"Plot\"},{\"attributes\":{\"fill_alpha\":{\"value\":0.1},\"fill_color\":{\"value\":\"#1f77b4\"},\"line_alpha\":{\"value\":0.1},\"line_color\":{\"value\":\"#1f77b4\"},\"size\":{\"units\":\"screen\",\"value\":10},\"x\":{\"field\":\"x\"},\"y\":{\"field\":\"y\"}},\"id\":\"25922\",\"type\":\"Circle\"},{\"attributes\":{\"fill_alpha\":{\"value\":0.2},\"fill_color\":{\"field\":\"color\"},\"line_color\":{\"field\":\"color\"},\"size\":{\"units\":\"screen\",\"value\":10},\"x\":{\"field\":\"x\"},\"y\":{\"field\":\"y\"}},\"id\":\"25921\",\"type\":\"Circle\"},{\"attributes\":{\"axis_label\":\"log PIB\",\"formatter\":{\"id\":\"26494\",\"type\":\"BasicTickFormatter\"},\"ticker\":{\"id\":\"25902\",\"type\":\"BasicTicker\"}},\"id\":\"25901\",\"type\":\"LinearAxis\"},{\"attributes\":{\"bottom_units\":\"screen\",\"fill_alpha\":{\"value\":0.5},\"fill_color\":{\"value\":\"lightgrey\"},\"left_units\":\"screen\",\"level\":\"overlay\",\"line_alpha\":{\"value\":1.0},\"line_color\":{\"value\":\"black\"},\"line_dash\":[4,4],\"line_width\":{\"value\":2},\"render_mode\":\"css\",\"right_units\":\"screen\",\"top_units\":\"screen\"},\"id\":\"26500\",\"type\":\"BoxAnnotation\"},{\"attributes\":{},\"id\":\"25902\",\"type\":\"BasicTicker\"},{\"attributes\":{},\"id\":\"26499\",\"type\":\"UnionRenderers\"},{\"attributes\":{},\"id\":\"26494\",\"type\":\"BasicTickFormatter\"},{\"attributes\":{},\"id\":\"25911\",\"type\":\"HelpTool\"},{\"attributes\":{\"axis_label\":\"IDP\",\"formatter\":{\"id\":\"26496\",\"type\":\"BasicTickFormatter\"},\"ticker\":{\"id\":\"25897\",\"type\":\"BasicTicker\"}},\"id\":\"25896\",\"type\":\"LinearAxis\"},{\"attributes\":{},\"id\":\"25894\",\"type\":\"LinearScale\"},{\"attributes\":{\"text\":\"PIB par habitant en fonction de l'index d'individualisme'\"},\"id\":\"25886\",\"type\":\"Title\"},{\"attributes\":{},\"id\":\"25910\",\"type\":\"ResetTool\"},{\"attributes\":{\"source\":{\"id\":\"25919\",\"type\":\"ColumnDataSource\"}},\"id\":\"25924\",\"type\":\"CDSView\"},{\"attributes\":{\"callback\":null},\"id\":\"25890\",\"type\":\"DataRange1d\"},{\"attributes\":{},\"id\":\"25909\",\"type\":\"SaveTool\"},{\"attributes\":{\"dimension\":1,\"ticker\":{\"id\":\"25902\",\"type\":\"BasicTicker\"}},\"id\":\"25905\",\"type\":\"Grid\"},{\"attributes\":{\"source\":{\"id\":\"25919\",\"type\":\"ColumnDataSource\"},\"text\":{\"field\":\"label\"},\"text_align\":\"center\",\"text_color\":{\"value\":\"#555555\"},\"text_font_size\":{\"value\":\"8pt\"},\"x\":{\"field\":\"x\"},\"y\":{\"field\":\"y\"},\"y_offset\":{\"value\":8}},\"id\":\"25925\",\"type\":\"LabelSet\"},{\"attributes\":{},\"id\":\"25907\",\"type\":\"WheelZoomTool\"},{\"attributes\":{},\"id\":\"25892\",\"type\":\"LinearScale\"},{\"attributes\":{},\"id\":\"26496\",\"type\":\"BasicTickFormatter\"},{\"attributes\":{\"overlay\":{\"id\":\"26500\",\"type\":\"BoxAnnotation\"}},\"id\":\"25908\",\"type\":\"BoxZoomTool\"},{\"attributes\":{},\"id\":\"25897\",\"type\":\"BasicTicker\"},{\"attributes\":{\"active_drag\":\"auto\",\"active_inspect\":\"auto\",\"active_multi\":null,\"active_scroll\":\"auto\",\"active_tap\":\"auto\",\"tools\":[{\"id\":\"25906\",\"type\":\"PanTool\"},{\"id\":\"25907\",\"type\":\"WheelZoomTool\"},{\"id\":\"25908\",\"type\":\"BoxZoomTool\"},{\"id\":\"25909\",\"type\":\"SaveTool\"},{\"id\":\"25910\",\"type\":\"ResetTool\"},{\"id\":\"25911\",\"type\":\"HelpTool\"}]},\"id\":\"25912\",\"type\":\"Toolbar\"},{\"attributes\":{\"callback\":null},\"id\":\"25888\",\"type\":\"DataRange1d\"},{\"attributes\":{\"data_source\":{\"id\":\"25919\",\"type\":\"ColumnDataSource\"},\"glyph\":{\"id\":\"25921\",\"type\":\"Circle\"},\"hover_glyph\":null,\"muted_glyph\":null,\"nonselection_glyph\":{\"id\":\"25922\",\"type\":\"Circle\"},\"selection_glyph\":null,\"view\":{\"id\":\"25924\",\"type\":\"CDSView\"}},\"id\":\"25923\",\"type\":\"GlyphRenderer\"},{\"attributes\":{\"callback\":null,\"data\":{\"color\":[\"brown\",\"black\",\"green\",\"blue\",\"green\",\"brown\",\"green\",\"yellow\",\"brown\",\"blue\",\"brown\",\"green\",\"green\",\"green\",\"yellow\",\"green\",\"green\",\"green\",\"green\",\"green\",\"green\",\"blue\",\"green\",\"blue\",\"blue\",\"blue\",\"green\",\"green\",\"blue\",\"blue\",\"green\",\"green\",\"green\",\"blue\",\"green\",\"yellow\",\"red\",\"green\",\"black\",\"green\",\"blue\",\"brown\",\"blue\",\"green\",\"green\",\"green\",\"green\",\"green\",\"blue\",\"green\",\"green\",\"green\",\"green\",\"green\",\"blue\",\"blue\",\"yellow\",\"blue\",\"yellow\",\"brown\",\"brown\",\"blue\"],\"label\":[\"Argentina\",\"Australia\",\"Austria\",\"Bangladesh\",\"Belgium\",\"Brazil\",\"Bulgaria\",\"Canada\",\"Chile\",\"China\",\"Colombia\",\"Croatia\",\"Czech Republic\",\"Denmark\",\"El Salvador\",\"Estonia\",\"Finland\",\"France\",\"Germany\",\"Great Britain\",\"Greece\",\"Hong Kong\",\"Hungary\",\"India\",\"Indonesia\",\"Iran\",\"Ireland\",\"Italy\",\"Japan\",\"South Korea\",\"Latvia\",\"Lithuania\",\"Luxembourg\",\"Malaysia\",\"Malta\",\"Mexico\",\"Morocco\",\"Netherlands\",\"New Zealand\",\"Norway\",\"Pakistan\",\"Peru\",\"Philippines\",\"Poland\",\"Portugal\",\"Romania\",\"Russia\",\"Serbia\",\"Singapore\",\"Slovak Republic\",\"Slovenia\",\"Spain\",\"Sweden\",\"Switzerland\",\"Taiwan\",\"Thailand\",\"Trinidad and Tobago\",\"Turkey\",\"United States\",\"Uruguay\",\"Venezuela\",\"Vietnam\"],\"x\":{\"__ndarray__\":\"AAAAAAAAR0AAAAAAAIBWQAAAAAAAgEtAAAAAAAAANEAAAAAAAMBSQAAAAAAAAENAAAAAAAAAPkAAAAAAAABUQAAAAAAAADdAAAAAAAAANEAAAAAAAAAqQAAAAAAAgEBAAAAAAAAATUAAAAAAAIBSQAAAAAAAADNAAAAAAAAATkAAAAAAAIBPQAAAAAAAwFFAAAAAAADAUEAAAAAAAEBWQAAAAAAAgEFAAAAAAAAAOUAAAAAAAABUQAAAAAAAAEhAAAAAAAAALEAAAAAAAIBEQAAAAAAAgFFAAAAAAAAAU0AAAAAAAABHQAAAAAAAADJAAAAAAACAUUAAAAAAAABOQAAAAAAAAE5AAAAAAAAAOkAAAAAAAIBNQAAAAAAAAD5AAAAAAAAAR0AAAAAAAABUQAAAAAAAwFNAAAAAAABAUUAAAAAAAAAsQAAAAAAAADBAAAAAAAAAQEAAAAAAAABOQAAAAAAAADtAAAAAAAAAPkAAAAAAAIBDQAAAAAAAADlAAAAAAAAANEAAAAAAAABKQAAAAAAAADtAAAAAAACASUAAAAAAAMBRQAAAAAAAAFFAAAAAAAAAMUAAAAAAAAA0QAAAAAAAADBAAAAAAACAQkAAAAAAAMBWQAAAAAAAAEJAAAAAAAAAKEAAAAAAAAA0QA==\",\"dtype\":\"float64\",\"shape\":[62]},\"y\":{\"__ndarray__\":\"eSL9VyESxEDzZ1NwHFzpQIjWfmJB4eZARq/5poWr5UDoDDrCX62HQPDD0VZEu7pAbFj9uBPsxUD0Fpc77yrnQMIBTYnbNvJAHyUQvRYeyUBJMtY4g9CxQFeihwW9VrhAYVLCjARY00DFRjrSMWfkQJ5owCgtV+xAnbC+LigE3kDrn6dqTZfMQHCXA0lNj+ZArrMpsMrX40D9gBuTcEnaQNnhKGsbdcpAHOi96x2SyUDWILoV9lKoQNrzCqMUB5VAzrbmbPzD50B1zjzxK4HhQDsU9KR1u+VAYkNMLW9ox0AsU7LlVKD5QNWWvhccH8ZA4dsL0WgkpkASVludOpzBQJV2QNzyl9RA96m9sa23wUDgu4snSJToQB2S/kSkbfVAvOrBWIBz4EDzkKuukUCQQLtTw0F+nrNANp8+nf+ioEAaWsti7prIQOQ8Z9ypAtZA2Ma9sPUIwEBfhIO+Nb3mQCv1Gi4XYadA9hGLneAjtUClwwZFJzbQQHAmmDVe49ZA1npxMIht6UBlp25bTdOzQO1S/gjbStBADvckPzPYxEA2nt8iG1HHQLY9tAXtnudAvXXUKHt5lEA=\",\"dtype\":\"float64\",\"shape\":[55]}},\"selected\":{\"id\":\"26498\",\"type\":\"Selection\"},\"selection_policy\":{\"id\":\"26499\",\"type\":\"UnionRenderers\"}},\"id\":\"25919\",\"type\":\"ColumnDataSource\"},{\"attributes\":{},\"id\":\"25906\",\"type\":\"PanTool\"},{\"attributes\":{},\"id\":\"26498\",\"type\":\"Selection\"},{\"attributes\":{\"ticker\":{\"id\":\"25897\",\"type\":\"BasicTicker\"}},\"id\":\"25900\",\"type\":\"Grid\"}],\"root_ids\":[\"25885\"]},\"title\":\"Bokeh Application\",\"version\":\"1.1.0\"}};\n",
       "  var render_items = [{\"docid\":\"1ba3da5e-0c24-4c3e-91d7-318ff0d0730d\",\"roots\":{\"25885\":\"1ced8998-33c1-46ce-86dc-59a26756805b\"}}];\n",
       "  root.Bokeh.embed.embed_items_notebook(docs_json, render_items);\n",
       "\n",
       "  }\n",
       "  if (root.Bokeh !== undefined) {\n",
       "    embed_document(root);\n",
       "  } else {\n",
       "    var attempts = 0;\n",
       "    var timer = setInterval(function(root) {\n",
       "      if (root.Bokeh !== undefined) {\n",
       "        embed_document(root);\n",
       "        clearInterval(timer);\n",
       "      }\n",
       "      attempts++;\n",
       "      if (attempts > 100) {\n",
       "        console.log(\"Bokeh: ERROR: Unable to run BokehJS code because BokehJS library is missing\");\n",
       "        clearInterval(timer);\n",
       "      }\n",
       "    }, 10, root)\n",
       "  }\n",
       "})(window);"
      ],
      "application/vnd.bokehjs_exec.v0+json": ""
     },
     "metadata": {
      "application/vnd.bokehjs_exec.v0+json": {
       "id": "25885"
      }
     },
     "output_type": "display_data"
    }
   ],
   "source": [
    "p = figure(title = \"PIB par habitant en fonction de l'index d'individualisme'\")\n",
    "p.xaxis.axis_label = 'IDP'\n",
    "p.yaxis.axis_label = 'log PIB'\n",
    "\n",
    "#X = dims[['pdi', 'idv', 'mas', 'uai', 'ltowvs', 'ivr']]\n",
    "   \n",
    "source = ColumnDataSource(data={\"x\":dims[\"idv\"], \"y\":gdp_x, \"label\":dims[\"country\"], \n",
    "                                \"color\":list([colors[int(i)] for i in conts])})\n",
    "\n",
    "p.circle(x=\"x\",y=\"y\",color=\"color\", source=source, fill_alpha=0.2, size=10)\n",
    "\n",
    "labels = LabelSet(x=\"x\",y=\"y\",source=source, text=\"label\", y_offset=8,\n",
    "                  text_font_size=\"8pt\", text_color=\"#555555\",\n",
    "                  text_align='center')\n",
    "p.add_layout(labels)\n",
    "\n",
    "show(p)"
   ]
  },
  {
   "cell_type": "code",
   "execution_count": 134,
   "metadata": {},
   "outputs": [
    {
     "name": "stderr",
     "output_type": "stream",
     "text": [
      "/home/leo/.local/lib/python3.6/site-packages/bokeh/models/sources.py:164: BokehUserWarning:\n",
      "\n",
      "ColumnDataSource's columns must be of the same length. Current lengths: ('color', 62), ('label', 62), ('x', 62), ('y', 55)\n",
      "\n"
     ]
    },
    {
     "data": {
      "text/html": [
       "\n",
       "\n",
       "\n",
       "\n",
       "\n",
       "\n",
       "  <div class=\"bk-root\" id=\"633ede3a-b111-466d-b45f-8cb2627b26f1\" data-root-id=\"26549\"></div>\n"
      ]
     },
     "metadata": {},
     "output_type": "display_data"
    },
    {
     "data": {
      "application/javascript": [
       "(function(root) {\n",
       "  function embed_document(root) {\n",
       "    \n",
       "  var docs_json = {\"12d51819-5df0-455c-83e1-f6b8f6efad89\":{\"roots\":{\"references\":[{\"attributes\":{\"below\":[{\"id\":\"26560\",\"type\":\"LinearAxis\"}],\"center\":[{\"id\":\"26564\",\"type\":\"Grid\"},{\"id\":\"26569\",\"type\":\"Grid\"},{\"id\":\"26589\",\"type\":\"LabelSet\"}],\"left\":[{\"id\":\"26565\",\"type\":\"LinearAxis\"}],\"renderers\":[{\"id\":\"26587\",\"type\":\"GlyphRenderer\"}],\"title\":{\"id\":\"26550\",\"type\":\"Title\"},\"toolbar\":{\"id\":\"26576\",\"type\":\"Toolbar\"},\"x_range\":{\"id\":\"26552\",\"type\":\"DataRange1d\"},\"x_scale\":{\"id\":\"26556\",\"type\":\"LinearScale\"},\"y_range\":{\"id\":\"26554\",\"type\":\"DataRange1d\"},\"y_scale\":{\"id\":\"26558\",\"type\":\"LinearScale\"}},\"id\":\"26549\",\"subtype\":\"Figure\",\"type\":\"Plot\"},{\"attributes\":{},\"id\":\"26573\",\"type\":\"SaveTool\"},{\"attributes\":{},\"id\":\"26556\",\"type\":\"LinearScale\"},{\"attributes\":{\"fill_alpha\":{\"value\":0.1},\"fill_color\":{\"value\":\"#1f77b4\"},\"line_alpha\":{\"value\":0.1},\"line_color\":{\"value\":\"#1f77b4\"},\"size\":{\"units\":\"screen\",\"value\":10},\"x\":{\"field\":\"x\"},\"y\":{\"field\":\"y\"}},\"id\":\"26586\",\"type\":\"Circle\"},{\"attributes\":{\"active_drag\":\"auto\",\"active_inspect\":\"auto\",\"active_multi\":null,\"active_scroll\":\"auto\",\"active_tap\":\"auto\",\"tools\":[{\"id\":\"26570\",\"type\":\"PanTool\"},{\"id\":\"26571\",\"type\":\"WheelZoomTool\"},{\"id\":\"26572\",\"type\":\"BoxZoomTool\"},{\"id\":\"26573\",\"type\":\"SaveTool\"},{\"id\":\"26574\",\"type\":\"ResetTool\"},{\"id\":\"26575\",\"type\":\"HelpTool\"}]},\"id\":\"26576\",\"type\":\"Toolbar\"},{\"attributes\":{},\"id\":\"27171\",\"type\":\"UnionRenderers\"},{\"attributes\":{},\"id\":\"26574\",\"type\":\"ResetTool\"},{\"attributes\":{\"source\":{\"id\":\"26583\",\"type\":\"ColumnDataSource\"}},\"id\":\"26588\",\"type\":\"CDSView\"},{\"attributes\":{},\"id\":\"26575\",\"type\":\"HelpTool\"},{\"attributes\":{\"bottom_units\":\"screen\",\"fill_alpha\":{\"value\":0.5},\"fill_color\":{\"value\":\"lightgrey\"},\"left_units\":\"screen\",\"level\":\"overlay\",\"line_alpha\":{\"value\":1.0},\"line_color\":{\"value\":\"black\"},\"line_dash\":[4,4],\"line_width\":{\"value\":2},\"render_mode\":\"css\",\"right_units\":\"screen\",\"top_units\":\"screen\"},\"id\":\"27172\",\"type\":\"BoxAnnotation\"},{\"attributes\":{},\"id\":\"27170\",\"type\":\"Selection\"},{\"attributes\":{},\"id\":\"26566\",\"type\":\"BasicTicker\"},{\"attributes\":{\"text\":\"PIB par habitant en fonction de l'index de masculinit\\u00e9/f\\u00e9minit\\u00e9\"},\"id\":\"26550\",\"type\":\"Title\"},{\"attributes\":{},\"id\":\"27166\",\"type\":\"BasicTickFormatter\"},{\"attributes\":{},\"id\":\"27168\",\"type\":\"BasicTickFormatter\"},{\"attributes\":{},\"id\":\"26558\",\"type\":\"LinearScale\"},{\"attributes\":{\"callback\":null},\"id\":\"26552\",\"type\":\"DataRange1d\"},{\"attributes\":{},\"id\":\"26570\",\"type\":\"PanTool\"},{\"attributes\":{\"overlay\":{\"id\":\"27172\",\"type\":\"BoxAnnotation\"}},\"id\":\"26572\",\"type\":\"BoxZoomTool\"},{\"attributes\":{\"callback\":null},\"id\":\"26554\",\"type\":\"DataRange1d\"},{\"attributes\":{\"source\":{\"id\":\"26583\",\"type\":\"ColumnDataSource\"},\"text\":{\"field\":\"label\"},\"text_align\":\"center\",\"text_color\":{\"value\":\"#555555\"},\"text_font_size\":{\"value\":\"8pt\"},\"x\":{\"field\":\"x\"},\"y\":{\"field\":\"y\"},\"y_offset\":{\"value\":8}},\"id\":\"26589\",\"type\":\"LabelSet\"},{\"attributes\":{\"fill_alpha\":{\"value\":0.2},\"fill_color\":{\"field\":\"color\"},\"line_color\":{\"field\":\"color\"},\"size\":{\"units\":\"screen\",\"value\":10},\"x\":{\"field\":\"x\"},\"y\":{\"field\":\"y\"}},\"id\":\"26585\",\"type\":\"Circle\"},{\"attributes\":{\"axis_label\":\"IDP\",\"formatter\":{\"id\":\"27168\",\"type\":\"BasicTickFormatter\"},\"ticker\":{\"id\":\"26561\",\"type\":\"BasicTicker\"}},\"id\":\"26560\",\"type\":\"LinearAxis\"},{\"attributes\":{\"callback\":null,\"data\":{\"color\":[\"brown\",\"black\",\"green\",\"blue\",\"green\",\"brown\",\"green\",\"yellow\",\"brown\",\"blue\",\"brown\",\"green\",\"green\",\"green\",\"yellow\",\"green\",\"green\",\"green\",\"green\",\"green\",\"green\",\"blue\",\"green\",\"blue\",\"blue\",\"blue\",\"green\",\"green\",\"blue\",\"blue\",\"green\",\"green\",\"green\",\"blue\",\"green\",\"yellow\",\"red\",\"green\",\"black\",\"green\",\"blue\",\"brown\",\"blue\",\"green\",\"green\",\"green\",\"green\",\"green\",\"blue\",\"green\",\"green\",\"green\",\"green\",\"green\",\"blue\",\"blue\",\"yellow\",\"blue\",\"yellow\",\"brown\",\"brown\",\"blue\"],\"label\":[\"Argentina\",\"Australia\",\"Austria\",\"Bangladesh\",\"Belgium\",\"Brazil\",\"Bulgaria\",\"Canada\",\"Chile\",\"China\",\"Colombia\",\"Croatia\",\"Czech Republic\",\"Denmark\",\"El Salvador\",\"Estonia\",\"Finland\",\"France\",\"Germany\",\"Great Britain\",\"Greece\",\"Hong Kong\",\"Hungary\",\"India\",\"Indonesia\",\"Iran\",\"Ireland\",\"Italy\",\"Japan\",\"South Korea\",\"Latvia\",\"Lithuania\",\"Luxembourg\",\"Malaysia\",\"Malta\",\"Mexico\",\"Morocco\",\"Netherlands\",\"New Zealand\",\"Norway\",\"Pakistan\",\"Peru\",\"Philippines\",\"Poland\",\"Portugal\",\"Romania\",\"Russia\",\"Serbia\",\"Singapore\",\"Slovak Republic\",\"Slovenia\",\"Spain\",\"Sweden\",\"Switzerland\",\"Taiwan\",\"Thailand\",\"Trinidad and Tobago\",\"Turkey\",\"United States\",\"Uruguay\",\"Venezuela\",\"Vietnam\"],\"x\":{\"__ndarray__\":\"AAAAAAAATEAAAAAAAIBOQAAAAAAAwFNAAAAAAACAS0AAAAAAAABLQAAAAAAAgEhAAAAAAAAAREAAAAAAAABKQAAAAAAAADxAAAAAAACAUEAAAAAAAABQQAAAAAAAAERAAAAAAACATEAAAAAAAAAwQAAAAAAAAERAAAAAAAAAPkAAAAAAAAA6QAAAAAAAgEVAAAAAAACAUEAAAAAAAIBQQAAAAAAAgExAAAAAAACATEAAAAAAAABWQAAAAAAAAExAAAAAAAAAR0AAAAAAAIBFQAAAAAAAAFFAAAAAAACAUUAAAAAAAMBXQAAAAAAAgENAAAAAAAAAIkAAAAAAAAAzQAAAAAAAAElAAAAAAAAASUAAAAAAAIBHQAAAAAAAQFFAAAAAAACASkAAAAAAAAAsQAAAAAAAAE1AAAAAAAAAIEAAAAAAAABJQAAAAAAAAEVAAAAAAAAAUEAAAAAAAABQQAAAAAAAAD9AAAAAAAAARUAAAAAAAABCQAAAAAAAgEVAAAAAAAAASEAAAAAAAIBbQAAAAAAAADNAAAAAAAAARUAAAAAAAAAUQAAAAAAAgFFAAAAAAACARkAAAAAAAABBQAAAAAAAAE1AAAAAAACARkAAAAAAAABPQAAAAAAAAENAAAAAAABAUkAAAAAAAABEQA==\",\"dtype\":\"float64\",\"shape\":[62]},\"y\":{\"__ndarray__\":\"eSL9VyESxEDzZ1NwHFzpQIjWfmJB4eZARq/5poWr5UDoDDrCX62HQPDD0VZEu7pAbFj9uBPsxUD0Fpc77yrnQMIBTYnbNvJAHyUQvRYeyUBJMtY4g9CxQFeihwW9VrhAYVLCjARY00DFRjrSMWfkQJ5owCgtV+xAnbC+LigE3kDrn6dqTZfMQHCXA0lNj+ZArrMpsMrX40D9gBuTcEnaQNnhKGsbdcpAHOi96x2SyUDWILoV9lKoQNrzCqMUB5VAzrbmbPzD50B1zjzxK4HhQDsU9KR1u+VAYkNMLW9ox0AsU7LlVKD5QNWWvhccH8ZA4dsL0WgkpkASVludOpzBQJV2QNzyl9RA96m9sa23wUDgu4snSJToQB2S/kSkbfVAvOrBWIBz4EDzkKuukUCQQLtTw0F+nrNANp8+nf+ioEAaWsti7prIQOQ8Z9ypAtZA2Ma9sPUIwEBfhIO+Nb3mQCv1Gi4XYadA9hGLneAjtUClwwZFJzbQQHAmmDVe49ZA1npxMIht6UBlp25bTdOzQO1S/gjbStBADvckPzPYxEA2nt8iG1HHQLY9tAXtnudAvXXUKHt5lEA=\",\"dtype\":\"float64\",\"shape\":[55]}},\"selected\":{\"id\":\"27170\",\"type\":\"Selection\"},\"selection_policy\":{\"id\":\"27171\",\"type\":\"UnionRenderers\"}},\"id\":\"26583\",\"type\":\"ColumnDataSource\"},{\"attributes\":{\"ticker\":{\"id\":\"26561\",\"type\":\"BasicTicker\"}},\"id\":\"26564\",\"type\":\"Grid\"},{\"attributes\":{\"data_source\":{\"id\":\"26583\",\"type\":\"ColumnDataSource\"},\"glyph\":{\"id\":\"26585\",\"type\":\"Circle\"},\"hover_glyph\":null,\"muted_glyph\":null,\"nonselection_glyph\":{\"id\":\"26586\",\"type\":\"Circle\"},\"selection_glyph\":null,\"view\":{\"id\":\"26588\",\"type\":\"CDSView\"}},\"id\":\"26587\",\"type\":\"GlyphRenderer\"},{\"attributes\":{\"dimension\":1,\"ticker\":{\"id\":\"26566\",\"type\":\"BasicTicker\"}},\"id\":\"26569\",\"type\":\"Grid\"},{\"attributes\":{},\"id\":\"26571\",\"type\":\"WheelZoomTool\"},{\"attributes\":{},\"id\":\"26561\",\"type\":\"BasicTicker\"},{\"attributes\":{\"axis_label\":\"log PIB\",\"formatter\":{\"id\":\"27166\",\"type\":\"BasicTickFormatter\"},\"ticker\":{\"id\":\"26566\",\"type\":\"BasicTicker\"}},\"id\":\"26565\",\"type\":\"LinearAxis\"}],\"root_ids\":[\"26549\"]},\"title\":\"Bokeh Application\",\"version\":\"1.1.0\"}};\n",
       "  var render_items = [{\"docid\":\"12d51819-5df0-455c-83e1-f6b8f6efad89\",\"roots\":{\"26549\":\"633ede3a-b111-466d-b45f-8cb2627b26f1\"}}];\n",
       "  root.Bokeh.embed.embed_items_notebook(docs_json, render_items);\n",
       "\n",
       "  }\n",
       "  if (root.Bokeh !== undefined) {\n",
       "    embed_document(root);\n",
       "  } else {\n",
       "    var attempts = 0;\n",
       "    var timer = setInterval(function(root) {\n",
       "      if (root.Bokeh !== undefined) {\n",
       "        embed_document(root);\n",
       "        clearInterval(timer);\n",
       "      }\n",
       "      attempts++;\n",
       "      if (attempts > 100) {\n",
       "        console.log(\"Bokeh: ERROR: Unable to run BokehJS code because BokehJS library is missing\");\n",
       "        clearInterval(timer);\n",
       "      }\n",
       "    }, 10, root)\n",
       "  }\n",
       "})(window);"
      ],
      "application/vnd.bokehjs_exec.v0+json": ""
     },
     "metadata": {
      "application/vnd.bokehjs_exec.v0+json": {
       "id": "26549"
      }
     },
     "output_type": "display_data"
    }
   ],
   "source": [
    "p = figure(title = \"PIB par habitant en fonction de l'index de masculinité/féminité\")\n",
    "p.xaxis.axis_label = 'IDP'\n",
    "p.yaxis.axis_label = 'log PIB'\n",
    "\n",
    "#X = dims[['pdi', 'idv', 'mas', 'uai', 'ltowvs', 'ivr']]\n",
    "   \n",
    "source = ColumnDataSource(data={\"x\":dims[\"mas\"], \"y\":gdp_x, \"label\":dims[\"country\"], \n",
    "                                \"color\":list([colors[int(i)] for i in conts])})\n",
    "\n",
    "p.circle(x=\"x\",y=\"y\",color=\"color\", source=source, fill_alpha=0.2, size=10)\n",
    "\n",
    "labels = LabelSet(x=\"x\",y=\"y\",source=source, text=\"label\", y_offset=8,\n",
    "                  text_font_size=\"8pt\", text_color=\"#555555\",\n",
    "                  text_align='center')\n",
    "p.add_layout(labels)\n",
    "\n",
    "show(p)"
   ]
  },
  {
   "cell_type": "code",
   "execution_count": 135,
   "metadata": {},
   "outputs": [
    {
     "name": "stderr",
     "output_type": "stream",
     "text": [
      "/home/leo/.local/lib/python3.6/site-packages/bokeh/models/sources.py:164: BokehUserWarning:\n",
      "\n",
      "ColumnDataSource's columns must be of the same length. Current lengths: ('color', 62), ('label', 62), ('x', 62), ('y', 55)\n",
      "\n"
     ]
    },
    {
     "data": {
      "text/html": [
       "\n",
       "\n",
       "\n",
       "\n",
       "\n",
       "\n",
       "  <div class=\"bk-root\" id=\"45b6fb36-f2a6-4688-8ae4-640c5173cd47\" data-root-id=\"27221\"></div>\n"
      ]
     },
     "metadata": {},
     "output_type": "display_data"
    },
    {
     "data": {
      "application/javascript": [
       "(function(root) {\n",
       "  function embed_document(root) {\n",
       "    \n",
       "  var docs_json = {\"dbd234a0-bdca-4682-9ef0-acada419ccce\":{\"roots\":{\"references\":[{\"attributes\":{\"below\":[{\"id\":\"27232\",\"type\":\"LinearAxis\"}],\"center\":[{\"id\":\"27236\",\"type\":\"Grid\"},{\"id\":\"27241\",\"type\":\"Grid\"},{\"id\":\"27261\",\"type\":\"LabelSet\"}],\"left\":[{\"id\":\"27237\",\"type\":\"LinearAxis\"}],\"renderers\":[{\"id\":\"27259\",\"type\":\"GlyphRenderer\"}],\"title\":{\"id\":\"27222\",\"type\":\"Title\"},\"toolbar\":{\"id\":\"27248\",\"type\":\"Toolbar\"},\"x_range\":{\"id\":\"27224\",\"type\":\"DataRange1d\"},\"x_scale\":{\"id\":\"27228\",\"type\":\"LinearScale\"},\"y_range\":{\"id\":\"27226\",\"type\":\"DataRange1d\"},\"y_scale\":{\"id\":\"27230\",\"type\":\"LinearScale\"}},\"id\":\"27221\",\"subtype\":\"Figure\",\"type\":\"Plot\"},{\"attributes\":{\"text\":\"PIB par habitant en fonction de l'index d'esquive de l'incertitude\"},\"id\":\"27222\",\"type\":\"Title\"},{\"attributes\":{},\"id\":\"27228\",\"type\":\"LinearScale\"},{\"attributes\":{},\"id\":\"27233\",\"type\":\"BasicTicker\"},{\"attributes\":{\"callback\":null,\"data\":{\"color\":[\"brown\",\"black\",\"green\",\"blue\",\"green\",\"brown\",\"green\",\"yellow\",\"brown\",\"blue\",\"brown\",\"green\",\"green\",\"green\",\"yellow\",\"green\",\"green\",\"green\",\"green\",\"green\",\"green\",\"blue\",\"green\",\"blue\",\"blue\",\"blue\",\"green\",\"green\",\"blue\",\"blue\",\"green\",\"green\",\"green\",\"blue\",\"green\",\"yellow\",\"red\",\"green\",\"black\",\"green\",\"blue\",\"brown\",\"blue\",\"green\",\"green\",\"green\",\"green\",\"green\",\"blue\",\"green\",\"green\",\"green\",\"green\",\"green\",\"blue\",\"blue\",\"yellow\",\"blue\",\"yellow\",\"brown\",\"brown\",\"blue\"],\"label\":[\"Argentina\",\"Australia\",\"Austria\",\"Bangladesh\",\"Belgium\",\"Brazil\",\"Bulgaria\",\"Canada\",\"Chile\",\"China\",\"Colombia\",\"Croatia\",\"Czech Republic\",\"Denmark\",\"El Salvador\",\"Estonia\",\"Finland\",\"France\",\"Germany\",\"Great Britain\",\"Greece\",\"Hong Kong\",\"Hungary\",\"India\",\"Indonesia\",\"Iran\",\"Ireland\",\"Italy\",\"Japan\",\"South Korea\",\"Latvia\",\"Lithuania\",\"Luxembourg\",\"Malaysia\",\"Malta\",\"Mexico\",\"Morocco\",\"Netherlands\",\"New Zealand\",\"Norway\",\"Pakistan\",\"Peru\",\"Philippines\",\"Poland\",\"Portugal\",\"Romania\",\"Russia\",\"Serbia\",\"Singapore\",\"Slovak Republic\",\"Slovenia\",\"Spain\",\"Sweden\",\"Switzerland\",\"Taiwan\",\"Thailand\",\"Trinidad and Tobago\",\"Turkey\",\"United States\",\"Uruguay\",\"Venezuela\",\"Vietnam\"],\"x\":{\"__ndarray__\":\"AAAAAACAVUAAAAAAAIBJQAAAAAAAgFFAAAAAAAAATkAAAAAAAIBXQAAAAAAAAFNAAAAAAABAVUAAAAAAAABIQAAAAAAAgFVAAAAAAAAAPkAAAAAAAABUQAAAAAAAAFRAAAAAAACAUkAAAAAAAAA3QAAAAAAAgFdAAAAAAAAATkAAAAAAAIBNQAAAAAAAgFVAAAAAAABAUEAAAAAAAIBBQAAAAAAAAFxAAAAAAAAAPUAAAAAAAIBUQAAAAAAAAERAAAAAAAAASEAAAAAAAIBNQAAAAAAAgEFAAAAAAADAUkAAAAAAAABXQAAAAAAAQFVAAAAAAACAT0AAAAAAAEBQQAAAAAAAgFFAAAAAAAAAQkAAAAAAAABYQAAAAAAAgFRAAAAAAAAAUUAAAAAAAIBKQAAAAAAAgEhAAAAAAAAASUAAAAAAAIBRQAAAAAAAwFVAAAAAAAAARkAAAAAAAEBXQAAAAAAAAFpAAAAAAACAVkAAAAAAAMBXQAAAAAAAAFdAAAAAAAAAIEAAAAAAAIBJQAAAAAAAAFZAAAAAAACAVUAAAAAAAAA9QAAAAAAAAE1AAAAAAABAUUAAAAAAAABQQAAAAAAAgEtAAAAAAABAVUAAAAAAAABHQAAAAAAAAFlAAAAAAAAAU0AAAAAAAAA+QA==\",\"dtype\":\"float64\",\"shape\":[62]},\"y\":{\"__ndarray__\":\"eSL9VyESxEDzZ1NwHFzpQIjWfmJB4eZARq/5poWr5UDoDDrCX62HQPDD0VZEu7pAbFj9uBPsxUD0Fpc77yrnQMIBTYnbNvJAHyUQvRYeyUBJMtY4g9CxQFeihwW9VrhAYVLCjARY00DFRjrSMWfkQJ5owCgtV+xAnbC+LigE3kDrn6dqTZfMQHCXA0lNj+ZArrMpsMrX40D9gBuTcEnaQNnhKGsbdcpAHOi96x2SyUDWILoV9lKoQNrzCqMUB5VAzrbmbPzD50B1zjzxK4HhQDsU9KR1u+VAYkNMLW9ox0AsU7LlVKD5QNWWvhccH8ZA4dsL0WgkpkASVludOpzBQJV2QNzyl9RA96m9sa23wUDgu4snSJToQB2S/kSkbfVAvOrBWIBz4EDzkKuukUCQQLtTw0F+nrNANp8+nf+ioEAaWsti7prIQOQ8Z9ypAtZA2Ma9sPUIwEBfhIO+Nb3mQCv1Gi4XYadA9hGLneAjtUClwwZFJzbQQHAmmDVe49ZA1npxMIht6UBlp25bTdOzQO1S/gjbStBADvckPzPYxEA2nt8iG1HHQLY9tAXtnudAvXXUKHt5lEA=\",\"dtype\":\"float64\",\"shape\":[55]}},\"selected\":{\"id\":\"27850\",\"type\":\"Selection\"},\"selection_policy\":{\"id\":\"27851\",\"type\":\"UnionRenderers\"}},\"id\":\"27255\",\"type\":\"ColumnDataSource\"},{\"attributes\":{},\"id\":\"27242\",\"type\":\"PanTool\"},{\"attributes\":{},\"id\":\"27230\",\"type\":\"LinearScale\"},{\"attributes\":{\"active_drag\":\"auto\",\"active_inspect\":\"auto\",\"active_multi\":null,\"active_scroll\":\"auto\",\"active_tap\":\"auto\",\"tools\":[{\"id\":\"27242\",\"type\":\"PanTool\"},{\"id\":\"27243\",\"type\":\"WheelZoomTool\"},{\"id\":\"27244\",\"type\":\"BoxZoomTool\"},{\"id\":\"27245\",\"type\":\"SaveTool\"},{\"id\":\"27246\",\"type\":\"ResetTool\"},{\"id\":\"27247\",\"type\":\"HelpTool\"}]},\"id\":\"27248\",\"type\":\"Toolbar\"},{\"attributes\":{},\"id\":\"27247\",\"type\":\"HelpTool\"},{\"attributes\":{},\"id\":\"27243\",\"type\":\"WheelZoomTool\"},{\"attributes\":{\"axis_label\":\"IDP\",\"formatter\":{\"id\":\"27848\",\"type\":\"BasicTickFormatter\"},\"ticker\":{\"id\":\"27233\",\"type\":\"BasicTicker\"}},\"id\":\"27232\",\"type\":\"LinearAxis\"},{\"attributes\":{},\"id\":\"27238\",\"type\":\"BasicTicker\"},{\"attributes\":{\"callback\":null},\"id\":\"27226\",\"type\":\"DataRange1d\"},{\"attributes\":{\"source\":{\"id\":\"27255\",\"type\":\"ColumnDataSource\"}},\"id\":\"27260\",\"type\":\"CDSView\"},{\"attributes\":{\"ticker\":{\"id\":\"27233\",\"type\":\"BasicTicker\"}},\"id\":\"27236\",\"type\":\"Grid\"},{\"attributes\":{},\"id\":\"27846\",\"type\":\"BasicTickFormatter\"},{\"attributes\":{},\"id\":\"27246\",\"type\":\"ResetTool\"},{\"attributes\":{},\"id\":\"27851\",\"type\":\"UnionRenderers\"},{\"attributes\":{\"bottom_units\":\"screen\",\"fill_alpha\":{\"value\":0.5},\"fill_color\":{\"value\":\"lightgrey\"},\"left_units\":\"screen\",\"level\":\"overlay\",\"line_alpha\":{\"value\":1.0},\"line_color\":{\"value\":\"black\"},\"line_dash\":[4,4],\"line_width\":{\"value\":2},\"render_mode\":\"css\",\"right_units\":\"screen\",\"top_units\":\"screen\"},\"id\":\"27852\",\"type\":\"BoxAnnotation\"},{\"attributes\":{},\"id\":\"27245\",\"type\":\"SaveTool\"},{\"attributes\":{},\"id\":\"27850\",\"type\":\"Selection\"},{\"attributes\":{\"dimension\":1,\"ticker\":{\"id\":\"27238\",\"type\":\"BasicTicker\"}},\"id\":\"27241\",\"type\":\"Grid\"},{\"attributes\":{\"source\":{\"id\":\"27255\",\"type\":\"ColumnDataSource\"},\"text\":{\"field\":\"label\"},\"text_align\":\"center\",\"text_color\":{\"value\":\"#555555\"},\"text_font_size\":{\"value\":\"8pt\"},\"x\":{\"field\":\"x\"},\"y\":{\"field\":\"y\"},\"y_offset\":{\"value\":8}},\"id\":\"27261\",\"type\":\"LabelSet\"},{\"attributes\":{\"callback\":null},\"id\":\"27224\",\"type\":\"DataRange1d\"},{\"attributes\":{\"fill_alpha\":{\"value\":0.1},\"fill_color\":{\"value\":\"#1f77b4\"},\"line_alpha\":{\"value\":0.1},\"line_color\":{\"value\":\"#1f77b4\"},\"size\":{\"units\":\"screen\",\"value\":10},\"x\":{\"field\":\"x\"},\"y\":{\"field\":\"y\"}},\"id\":\"27258\",\"type\":\"Circle\"},{\"attributes\":{\"axis_label\":\"log PIB\",\"formatter\":{\"id\":\"27846\",\"type\":\"BasicTickFormatter\"},\"ticker\":{\"id\":\"27238\",\"type\":\"BasicTicker\"}},\"id\":\"27237\",\"type\":\"LinearAxis\"},{\"attributes\":{\"overlay\":{\"id\":\"27852\",\"type\":\"BoxAnnotation\"}},\"id\":\"27244\",\"type\":\"BoxZoomTool\"},{\"attributes\":{\"fill_alpha\":{\"value\":0.2},\"fill_color\":{\"field\":\"color\"},\"line_color\":{\"field\":\"color\"},\"size\":{\"units\":\"screen\",\"value\":10},\"x\":{\"field\":\"x\"},\"y\":{\"field\":\"y\"}},\"id\":\"27257\",\"type\":\"Circle\"},{\"attributes\":{},\"id\":\"27848\",\"type\":\"BasicTickFormatter\"},{\"attributes\":{\"data_source\":{\"id\":\"27255\",\"type\":\"ColumnDataSource\"},\"glyph\":{\"id\":\"27257\",\"type\":\"Circle\"},\"hover_glyph\":null,\"muted_glyph\":null,\"nonselection_glyph\":{\"id\":\"27258\",\"type\":\"Circle\"},\"selection_glyph\":null,\"view\":{\"id\":\"27260\",\"type\":\"CDSView\"}},\"id\":\"27259\",\"type\":\"GlyphRenderer\"}],\"root_ids\":[\"27221\"]},\"title\":\"Bokeh Application\",\"version\":\"1.1.0\"}};\n",
       "  var render_items = [{\"docid\":\"dbd234a0-bdca-4682-9ef0-acada419ccce\",\"roots\":{\"27221\":\"45b6fb36-f2a6-4688-8ae4-640c5173cd47\"}}];\n",
       "  root.Bokeh.embed.embed_items_notebook(docs_json, render_items);\n",
       "\n",
       "  }\n",
       "  if (root.Bokeh !== undefined) {\n",
       "    embed_document(root);\n",
       "  } else {\n",
       "    var attempts = 0;\n",
       "    var timer = setInterval(function(root) {\n",
       "      if (root.Bokeh !== undefined) {\n",
       "        embed_document(root);\n",
       "        clearInterval(timer);\n",
       "      }\n",
       "      attempts++;\n",
       "      if (attempts > 100) {\n",
       "        console.log(\"Bokeh: ERROR: Unable to run BokehJS code because BokehJS library is missing\");\n",
       "        clearInterval(timer);\n",
       "      }\n",
       "    }, 10, root)\n",
       "  }\n",
       "})(window);"
      ],
      "application/vnd.bokehjs_exec.v0+json": ""
     },
     "metadata": {
      "application/vnd.bokehjs_exec.v0+json": {
       "id": "27221"
      }
     },
     "output_type": "display_data"
    }
   ],
   "source": [
    "p = figure(title = \"PIB par habitant en fonction de l'index d'esquive de l'incertitude\")\n",
    "p.xaxis.axis_label = 'IDP'\n",
    "p.yaxis.axis_label = 'log PIB'\n",
    "\n",
    "#X = dims[['pdi', 'idv', 'mas', 'uai', 'ltowvs', 'ivr']]\n",
    "   \n",
    "source = ColumnDataSource(data={\"x\":dims[\"uai\"], \"y\":gdp_x, \"label\":dims[\"country\"], \n",
    "                                \"color\":list([colors[int(i)] for i in conts])})\n",
    "\n",
    "p.circle(x=\"x\",y=\"y\",color=\"color\", source=source, fill_alpha=0.2, size=10)\n",
    "\n",
    "labels = LabelSet(x=\"x\",y=\"y\",source=source, text=\"label\", y_offset=8,\n",
    "                  text_font_size=\"8pt\", text_color=\"#555555\",\n",
    "                  text_align='center')\n",
    "p.add_layout(labels)\n",
    "\n",
    "show(p)"
   ]
  },
  {
   "cell_type": "code",
   "execution_count": 136,
   "metadata": {},
   "outputs": [
    {
     "name": "stderr",
     "output_type": "stream",
     "text": [
      "/home/leo/.local/lib/python3.6/site-packages/bokeh/models/sources.py:164: BokehUserWarning:\n",
      "\n",
      "ColumnDataSource's columns must be of the same length. Current lengths: ('color', 62), ('label', 62), ('x', 62), ('y', 55)\n",
      "\n"
     ]
    },
    {
     "data": {
      "text/html": [
       "\n",
       "\n",
       "\n",
       "\n",
       "\n",
       "\n",
       "  <div class=\"bk-root\" id=\"9ced4fef-4b2a-4ede-9b50-679d65d46edf\" data-root-id=\"27901\"></div>\n"
      ]
     },
     "metadata": {},
     "output_type": "display_data"
    },
    {
     "data": {
      "application/javascript": [
       "(function(root) {\n",
       "  function embed_document(root) {\n",
       "    \n",
       "  var docs_json = {\"ba9fc18b-9f8b-4256-8b3f-4a6336b28265\":{\"roots\":{\"references\":[{\"attributes\":{\"below\":[{\"id\":\"27912\",\"type\":\"LinearAxis\"}],\"center\":[{\"id\":\"27916\",\"type\":\"Grid\"},{\"id\":\"27921\",\"type\":\"Grid\"},{\"id\":\"27941\",\"type\":\"LabelSet\"}],\"left\":[{\"id\":\"27917\",\"type\":\"LinearAxis\"}],\"renderers\":[{\"id\":\"27939\",\"type\":\"GlyphRenderer\"}],\"title\":{\"id\":\"27902\",\"type\":\"Title\"},\"toolbar\":{\"id\":\"27928\",\"type\":\"Toolbar\"},\"x_range\":{\"id\":\"27904\",\"type\":\"DataRange1d\"},\"x_scale\":{\"id\":\"27908\",\"type\":\"LinearScale\"},\"y_range\":{\"id\":\"27906\",\"type\":\"DataRange1d\"},\"y_scale\":{\"id\":\"27910\",\"type\":\"LinearScale\"}},\"id\":\"27901\",\"subtype\":\"Figure\",\"type\":\"Plot\"},{\"attributes\":{\"ticker\":{\"id\":\"27913\",\"type\":\"BasicTicker\"}},\"id\":\"27916\",\"type\":\"Grid\"},{\"attributes\":{},\"id\":\"27913\",\"type\":\"BasicTicker\"},{\"attributes\":{\"callback\":null},\"id\":\"27906\",\"type\":\"DataRange1d\"},{\"attributes\":{\"axis_label\":\"log PIB\",\"formatter\":{\"id\":\"28534\",\"type\":\"BasicTickFormatter\"},\"ticker\":{\"id\":\"27918\",\"type\":\"BasicTicker\"}},\"id\":\"27917\",\"type\":\"LinearAxis\"},{\"attributes\":{\"text\":\"PIB par habitant en fonction de l'index de vision au long terme\"},\"id\":\"27902\",\"type\":\"Title\"},{\"attributes\":{\"active_drag\":\"auto\",\"active_inspect\":\"auto\",\"active_multi\":null,\"active_scroll\":\"auto\",\"active_tap\":\"auto\",\"tools\":[{\"id\":\"27922\",\"type\":\"PanTool\"},{\"id\":\"27923\",\"type\":\"WheelZoomTool\"},{\"id\":\"27924\",\"type\":\"BoxZoomTool\"},{\"id\":\"27925\",\"type\":\"SaveTool\"},{\"id\":\"27926\",\"type\":\"ResetTool\"},{\"id\":\"27927\",\"type\":\"HelpTool\"}]},\"id\":\"27928\",\"type\":\"Toolbar\"},{\"attributes\":{},\"id\":\"28534\",\"type\":\"BasicTickFormatter\"},{\"attributes\":{},\"id\":\"27910\",\"type\":\"LinearScale\"},{\"attributes\":{},\"id\":\"28538\",\"type\":\"Selection\"},{\"attributes\":{\"overlay\":{\"id\":\"28540\",\"type\":\"BoxAnnotation\"}},\"id\":\"27924\",\"type\":\"BoxZoomTool\"},{\"attributes\":{\"fill_alpha\":{\"value\":0.1},\"fill_color\":{\"value\":\"#1f77b4\"},\"line_alpha\":{\"value\":0.1},\"line_color\":{\"value\":\"#1f77b4\"},\"size\":{\"units\":\"screen\",\"value\":10},\"x\":{\"field\":\"x\"},\"y\":{\"field\":\"y\"}},\"id\":\"27938\",\"type\":\"Circle\"},{\"attributes\":{\"data_source\":{\"id\":\"27935\",\"type\":\"ColumnDataSource\"},\"glyph\":{\"id\":\"27937\",\"type\":\"Circle\"},\"hover_glyph\":null,\"muted_glyph\":null,\"nonselection_glyph\":{\"id\":\"27938\",\"type\":\"Circle\"},\"selection_glyph\":null,\"view\":{\"id\":\"27940\",\"type\":\"CDSView\"}},\"id\":\"27939\",\"type\":\"GlyphRenderer\"},{\"attributes\":{\"fill_alpha\":{\"value\":0.2},\"fill_color\":{\"field\":\"color\"},\"line_color\":{\"field\":\"color\"},\"size\":{\"units\":\"screen\",\"value\":10},\"x\":{\"field\":\"x\"},\"y\":{\"field\":\"y\"}},\"id\":\"27937\",\"type\":\"Circle\"},{\"attributes\":{},\"id\":\"27925\",\"type\":\"SaveTool\"},{\"attributes\":{},\"id\":\"27908\",\"type\":\"LinearScale\"},{\"attributes\":{\"axis_label\":\"IDP\",\"formatter\":{\"id\":\"28536\",\"type\":\"BasicTickFormatter\"},\"ticker\":{\"id\":\"27913\",\"type\":\"BasicTicker\"}},\"id\":\"27912\",\"type\":\"LinearAxis\"},{\"attributes\":{},\"id\":\"27923\",\"type\":\"WheelZoomTool\"},{\"attributes\":{},\"id\":\"28539\",\"type\":\"UnionRenderers\"},{\"attributes\":{\"bottom_units\":\"screen\",\"fill_alpha\":{\"value\":0.5},\"fill_color\":{\"value\":\"lightgrey\"},\"left_units\":\"screen\",\"level\":\"overlay\",\"line_alpha\":{\"value\":1.0},\"line_color\":{\"value\":\"black\"},\"line_dash\":[4,4],\"line_width\":{\"value\":2},\"render_mode\":\"css\",\"right_units\":\"screen\",\"top_units\":\"screen\"},\"id\":\"28540\",\"type\":\"BoxAnnotation\"},{\"attributes\":{},\"id\":\"27922\",\"type\":\"PanTool\"},{\"attributes\":{\"source\":{\"id\":\"27935\",\"type\":\"ColumnDataSource\"},\"text\":{\"field\":\"label\"},\"text_align\":\"center\",\"text_color\":{\"value\":\"#555555\"},\"text_font_size\":{\"value\":\"8pt\"},\"x\":{\"field\":\"x\"},\"y\":{\"field\":\"y\"},\"y_offset\":{\"value\":8}},\"id\":\"27941\",\"type\":\"LabelSet\"},{\"attributes\":{},\"id\":\"27926\",\"type\":\"ResetTool\"},{\"attributes\":{},\"id\":\"27927\",\"type\":\"HelpTool\"},{\"attributes\":{\"callback\":null},\"id\":\"27904\",\"type\":\"DataRange1d\"},{\"attributes\":{\"source\":{\"id\":\"27935\",\"type\":\"ColumnDataSource\"}},\"id\":\"27940\",\"type\":\"CDSView\"},{\"attributes\":{},\"id\":\"28536\",\"type\":\"BasicTickFormatter\"},{\"attributes\":{\"callback\":null,\"data\":{\"color\":[\"brown\",\"black\",\"green\",\"blue\",\"green\",\"brown\",\"green\",\"yellow\",\"brown\",\"blue\",\"brown\",\"green\",\"green\",\"green\",\"yellow\",\"green\",\"green\",\"green\",\"green\",\"green\",\"green\",\"blue\",\"green\",\"blue\",\"blue\",\"blue\",\"green\",\"green\",\"blue\",\"blue\",\"green\",\"green\",\"green\",\"blue\",\"green\",\"yellow\",\"red\",\"green\",\"black\",\"green\",\"blue\",\"brown\",\"blue\",\"green\",\"green\",\"green\",\"green\",\"green\",\"blue\",\"green\",\"green\",\"green\",\"green\",\"green\",\"blue\",\"blue\",\"yellow\",\"blue\",\"yellow\",\"brown\",\"brown\",\"blue\"],\"label\":[\"Argentina\",\"Australia\",\"Austria\",\"Bangladesh\",\"Belgium\",\"Brazil\",\"Bulgaria\",\"Canada\",\"Chile\",\"China\",\"Colombia\",\"Croatia\",\"Czech Republic\",\"Denmark\",\"El Salvador\",\"Estonia\",\"Finland\",\"France\",\"Germany\",\"Great Britain\",\"Greece\",\"Hong Kong\",\"Hungary\",\"India\",\"Indonesia\",\"Iran\",\"Ireland\",\"Italy\",\"Japan\",\"South Korea\",\"Latvia\",\"Lithuania\",\"Luxembourg\",\"Malaysia\",\"Malta\",\"Mexico\",\"Morocco\",\"Netherlands\",\"New Zealand\",\"Norway\",\"Pakistan\",\"Peru\",\"Philippines\",\"Poland\",\"Portugal\",\"Romania\",\"Russia\",\"Serbia\",\"Singapore\",\"Slovak Republic\",\"Slovenia\",\"Spain\",\"Sweden\",\"Switzerland\",\"Taiwan\",\"Thailand\",\"Trinidad and Tobago\",\"Turkey\",\"United States\",\"Uruguay\",\"Venezuela\",\"Vietnam\"],\"x\":{\"__ndarray__\":\"Bk5jfixnNEBSgF3rnyg1QOLbFwcJOk5AmR/LGTiNR0A40iJyS3dUQJ2yV1gT6kVAdHz74iBBUUDArvVPlAJCQC4OEnR8+z5Aai6YZPTZVUCkzzYXTDIqQNOYH8sZOE1AOI35sZyBUUDVhHrKXmFBQMYbaRG5pTNAaFbiZWqHVEAz+mxzwSRDQHtADOHvvE9A+uIgQce3VECzpbuRFpFJQOrkUcWGq0ZAqOwV1oR6TkBxkKDj2xdNQFedPKrYcElALg4SdHz7TkCyEi9TOzQrQEZaRG7pbjhAav0TpQC7TkDNNhdMMvpVQAAAAAAAAFlAQ/g77wExUUA20iJyS3dUQEFRCrBr/U9ABk5jfixnRECZH8sZOI1HQHpJRp9tLjhAxFUnjyo2LEDsWv9EKcBQQMZBgo5vX0BAdHz74iBBQUDQe0AM4e9IQJOMPttcMDlAdyMtIrd0O0Bu6W6kReRCQMRVJ48qNjxA3744SNDxSUDVyaOKDVdUQELHty8OEkpAXqZ2aFbiUUAy+mxzwSRTQOdRxYarTkhAXDDJ6LPNR0Bn4DTmx3JKQOjHcgZOY1JApIoNV508V0B7QAzh77w/QJOMPttcMClATO3QrMTLRkAdrjp5VLE5QKTPNhdMMjpA9B4QQ/g7L0DpbqRF5JZMQA==\",\"dtype\":\"float64\",\"shape\":[62]},\"y\":{\"__ndarray__\":\"eSL9VyESxEDzZ1NwHFzpQIjWfmJB4eZARq/5poWr5UDoDDrCX62HQPDD0VZEu7pAbFj9uBPsxUD0Fpc77yrnQMIBTYnbNvJAHyUQvRYeyUBJMtY4g9CxQFeihwW9VrhAYVLCjARY00DFRjrSMWfkQJ5owCgtV+xAnbC+LigE3kDrn6dqTZfMQHCXA0lNj+ZArrMpsMrX40D9gBuTcEnaQNnhKGsbdcpAHOi96x2SyUDWILoV9lKoQNrzCqMUB5VAzrbmbPzD50B1zjzxK4HhQDsU9KR1u+VAYkNMLW9ox0AsU7LlVKD5QNWWvhccH8ZA4dsL0WgkpkASVludOpzBQJV2QNzyl9RA96m9sa23wUDgu4snSJToQB2S/kSkbfVAvOrBWIBz4EDzkKuukUCQQLtTw0F+nrNANp8+nf+ioEAaWsti7prIQOQ8Z9ypAtZA2Ma9sPUIwEBfhIO+Nb3mQCv1Gi4XYadA9hGLneAjtUClwwZFJzbQQHAmmDVe49ZA1npxMIht6UBlp25bTdOzQO1S/gjbStBADvckPzPYxEA2nt8iG1HHQLY9tAXtnudAvXXUKHt5lEA=\",\"dtype\":\"float64\",\"shape\":[55]}},\"selected\":{\"id\":\"28538\",\"type\":\"Selection\"},\"selection_policy\":{\"id\":\"28539\",\"type\":\"UnionRenderers\"}},\"id\":\"27935\",\"type\":\"ColumnDataSource\"},{\"attributes\":{\"dimension\":1,\"ticker\":{\"id\":\"27918\",\"type\":\"BasicTicker\"}},\"id\":\"27921\",\"type\":\"Grid\"},{\"attributes\":{},\"id\":\"27918\",\"type\":\"BasicTicker\"}],\"root_ids\":[\"27901\"]},\"title\":\"Bokeh Application\",\"version\":\"1.1.0\"}};\n",
       "  var render_items = [{\"docid\":\"ba9fc18b-9f8b-4256-8b3f-4a6336b28265\",\"roots\":{\"27901\":\"9ced4fef-4b2a-4ede-9b50-679d65d46edf\"}}];\n",
       "  root.Bokeh.embed.embed_items_notebook(docs_json, render_items);\n",
       "\n",
       "  }\n",
       "  if (root.Bokeh !== undefined) {\n",
       "    embed_document(root);\n",
       "  } else {\n",
       "    var attempts = 0;\n",
       "    var timer = setInterval(function(root) {\n",
       "      if (root.Bokeh !== undefined) {\n",
       "        embed_document(root);\n",
       "        clearInterval(timer);\n",
       "      }\n",
       "      attempts++;\n",
       "      if (attempts > 100) {\n",
       "        console.log(\"Bokeh: ERROR: Unable to run BokehJS code because BokehJS library is missing\");\n",
       "        clearInterval(timer);\n",
       "      }\n",
       "    }, 10, root)\n",
       "  }\n",
       "})(window);"
      ],
      "application/vnd.bokehjs_exec.v0+json": ""
     },
     "metadata": {
      "application/vnd.bokehjs_exec.v0+json": {
       "id": "27901"
      }
     },
     "output_type": "display_data"
    }
   ],
   "source": [
    "p = figure(title = \"PIB par habitant en fonction de l'index de vision au long terme\")\n",
    "p.xaxis.axis_label = 'IDP'\n",
    "p.yaxis.axis_label = 'log PIB'\n",
    "\n",
    "#X = dims[['pdi', 'idv', 'mas', 'uai', 'ltowvs', 'ivr']]\n",
    "   \n",
    "source = ColumnDataSource(data={\"x\":dims[\"ltowvs\"], \"y\":gdp_x, \"label\":dims[\"country\"], \n",
    "                                \"color\":list([colors[int(i)] for i in conts])})\n",
    "\n",
    "p.circle(x=\"x\",y=\"y\",color=\"color\", source=source, fill_alpha=0.2, size=10)\n",
    "\n",
    "labels = LabelSet(x=\"x\",y=\"y\",source=source, text=\"label\", y_offset=8,\n",
    "                  text_font_size=\"8pt\", text_color=\"#555555\",\n",
    "                  text_align='center')\n",
    "p.add_layout(labels)\n",
    "\n",
    "show(p)"
   ]
  },
  {
   "cell_type": "code",
   "execution_count": 137,
   "metadata": {},
   "outputs": [
    {
     "name": "stderr",
     "output_type": "stream",
     "text": [
      "/home/leo/.local/lib/python3.6/site-packages/bokeh/models/sources.py:164: BokehUserWarning:\n",
      "\n",
      "ColumnDataSource's columns must be of the same length. Current lengths: ('color', 62), ('label', 62), ('x', 62), ('y', 55)\n",
      "\n"
     ]
    },
    {
     "data": {
      "text/html": [
       "\n",
       "\n",
       "\n",
       "\n",
       "\n",
       "\n",
       "  <div class=\"bk-root\" id=\"5782a0a1-78ce-44c8-8cca-af5b7517292a\" data-root-id=\"28589\"></div>\n"
      ]
     },
     "metadata": {},
     "output_type": "display_data"
    },
    {
     "data": {
      "application/javascript": [
       "(function(root) {\n",
       "  function embed_document(root) {\n",
       "    \n",
       "  var docs_json = {\"47746cd9-b03e-4294-beac-c7a5e38163af\":{\"roots\":{\"references\":[{\"attributes\":{\"below\":[{\"id\":\"28600\",\"type\":\"LinearAxis\"}],\"center\":[{\"id\":\"28604\",\"type\":\"Grid\"},{\"id\":\"28609\",\"type\":\"Grid\"},{\"id\":\"28629\",\"type\":\"LabelSet\"}],\"left\":[{\"id\":\"28605\",\"type\":\"LinearAxis\"}],\"renderers\":[{\"id\":\"28627\",\"type\":\"GlyphRenderer\"}],\"title\":{\"id\":\"28590\",\"type\":\"Title\"},\"toolbar\":{\"id\":\"28616\",\"type\":\"Toolbar\"},\"x_range\":{\"id\":\"28592\",\"type\":\"DataRange1d\"},\"x_scale\":{\"id\":\"28596\",\"type\":\"LinearScale\"},\"y_range\":{\"id\":\"28594\",\"type\":\"DataRange1d\"},\"y_scale\":{\"id\":\"28598\",\"type\":\"LinearScale\"}},\"id\":\"28589\",\"subtype\":\"Figure\",\"type\":\"Plot\"},{\"attributes\":{\"axis_label\":\"log PIB\",\"formatter\":{\"id\":\"29230\",\"type\":\"BasicTickFormatter\"},\"ticker\":{\"id\":\"28606\",\"type\":\"BasicTicker\"}},\"id\":\"28605\",\"type\":\"LinearAxis\"},{\"attributes\":{},\"id\":\"29234\",\"type\":\"Selection\"},{\"attributes\":{},\"id\":\"28606\",\"type\":\"BasicTicker\"},{\"attributes\":{},\"id\":\"29230\",\"type\":\"BasicTickFormatter\"},{\"attributes\":{},\"id\":\"29232\",\"type\":\"BasicTickFormatter\"},{\"attributes\":{\"dimension\":1,\"ticker\":{\"id\":\"28606\",\"type\":\"BasicTicker\"}},\"id\":\"28609\",\"type\":\"Grid\"},{\"attributes\":{},\"id\":\"29235\",\"type\":\"UnionRenderers\"},{\"attributes\":{\"fill_alpha\":{\"value\":0.2},\"fill_color\":{\"field\":\"color\"},\"line_color\":{\"field\":\"color\"},\"size\":{\"units\":\"screen\",\"value\":10},\"x\":{\"field\":\"x\"},\"y\":{\"field\":\"y\"}},\"id\":\"28625\",\"type\":\"Circle\"},{\"attributes\":{\"source\":{\"id\":\"28623\",\"type\":\"ColumnDataSource\"},\"text\":{\"field\":\"label\"},\"text_align\":\"center\",\"text_color\":{\"value\":\"#555555\"},\"text_font_size\":{\"value\":\"8pt\"},\"x\":{\"field\":\"x\"},\"y\":{\"field\":\"y\"},\"y_offset\":{\"value\":8}},\"id\":\"28629\",\"type\":\"LabelSet\"},{\"attributes\":{\"ticker\":{\"id\":\"28601\",\"type\":\"BasicTicker\"}},\"id\":\"28604\",\"type\":\"Grid\"},{\"attributes\":{\"callback\":null,\"data\":{\"color\":[\"brown\",\"black\",\"green\",\"blue\",\"green\",\"brown\",\"green\",\"yellow\",\"brown\",\"blue\",\"brown\",\"green\",\"green\",\"green\",\"yellow\",\"green\",\"green\",\"green\",\"green\",\"green\",\"green\",\"blue\",\"green\",\"blue\",\"blue\",\"blue\",\"green\",\"green\",\"blue\",\"blue\",\"green\",\"green\",\"green\",\"blue\",\"green\",\"yellow\",\"red\",\"green\",\"black\",\"green\",\"blue\",\"brown\",\"blue\",\"green\",\"green\",\"green\",\"green\",\"green\",\"blue\",\"green\",\"green\",\"green\",\"green\",\"green\",\"blue\",\"blue\",\"yellow\",\"blue\",\"yellow\",\"brown\",\"brown\",\"blue\"],\"label\":[\"Argentina\",\"Australia\",\"Austria\",\"Bangladesh\",\"Belgium\",\"Brazil\",\"Bulgaria\",\"Canada\",\"Chile\",\"China\",\"Colombia\",\"Croatia\",\"Czech Republic\",\"Denmark\",\"El Salvador\",\"Estonia\",\"Finland\",\"France\",\"Germany\",\"Great Britain\",\"Greece\",\"Hong Kong\",\"Hungary\",\"India\",\"Indonesia\",\"Iran\",\"Ireland\",\"Italy\",\"Japan\",\"South Korea\",\"Latvia\",\"Lithuania\",\"Luxembourg\",\"Malaysia\",\"Malta\",\"Mexico\",\"Morocco\",\"Netherlands\",\"New Zealand\",\"Norway\",\"Pakistan\",\"Peru\",\"Philippines\",\"Poland\",\"Portugal\",\"Romania\",\"Russia\",\"Serbia\",\"Singapore\",\"Slovak Republic\",\"Slovenia\",\"Spain\",\"Sweden\",\"Switzerland\",\"Taiwan\",\"Thailand\",\"Trinidad and Tobago\",\"Turkey\",\"United States\",\"Uruguay\",\"Venezuela\",\"Vietnam\"],\"x\":{\"__ndarray__\":\"JEmSJEnqTkC3bdu2bdtRQEmSJEmSXE9ASZIkSZKkM0CXJEmSJFlMQLZt27Ztk01AJEmSJEmyL0C3bdu2bRNRQAAAAAAAAFFAlyRJkiSpN0AkSZIkScJUQJIkSZIkoUBAbdu2bdt2PUCSJEmSJGlRQNq2bdu2NVZAt23btm1LMEBt27Zt265MQCRJkiRJ4kdAt23btm0zREBq27Zt21pRQG3btm3bxkhAbNu2bdv2MECSJEmSJHk/QNS2bdu2HTpASZIkSZLcQkC3bdu2bTNEQJIkSZIkPVBAAAAAAACwPUBq27Zt295EQG3btm3bdj1ASZIkSZLkKUD//////z8vQLZt27ZtA0xAJEmSJEmSTEAAAAAAAGhQQEqSJEmSVFhAJEmSJElyOUC3bdu2bRNRQLVt27Zto1JAkiRJkiSRS0AAAAAAAAAAACRJkiRJGkdAt23btm37REDctm3btj09QJIkSZIkoUBA27Zt27bdM0Dbtm3btt0zQAAAAAAAIDxASpIkSZLERkCSJEmSJFk8QNq2bdu2xUdAtm3btm3DRUC3bdu2bWtTQEuSJEmShFBA2rZt27aNSEC2bdu2bYtGQEmSJEmSCFRA2rZt27aNSECQJEmSJAVRQEmSJEmSrEpAAAAAAAAAWUBs27Zt275BQA==\",\"dtype\":\"float64\",\"shape\":[62]},\"y\":{\"__ndarray__\":\"eSL9VyESxEDzZ1NwHFzpQIjWfmJB4eZARq/5poWr5UDoDDrCX62HQPDD0VZEu7pAbFj9uBPsxUD0Fpc77yrnQMIBTYnbNvJAHyUQvRYeyUBJMtY4g9CxQFeihwW9VrhAYVLCjARY00DFRjrSMWfkQJ5owCgtV+xAnbC+LigE3kDrn6dqTZfMQHCXA0lNj+ZArrMpsMrX40D9gBuTcEnaQNnhKGsbdcpAHOi96x2SyUDWILoV9lKoQNrzCqMUB5VAzrbmbPzD50B1zjzxK4HhQDsU9KR1u+VAYkNMLW9ox0AsU7LlVKD5QNWWvhccH8ZA4dsL0WgkpkASVludOpzBQJV2QNzyl9RA96m9sa23wUDgu4snSJToQB2S/kSkbfVAvOrBWIBz4EDzkKuukUCQQLtTw0F+nrNANp8+nf+ioEAaWsti7prIQOQ8Z9ypAtZA2Ma9sPUIwEBfhIO+Nb3mQCv1Gi4XYadA9hGLneAjtUClwwZFJzbQQHAmmDVe49ZA1npxMIht6UBlp25bTdOzQO1S/gjbStBADvckPzPYxEA2nt8iG1HHQLY9tAXtnudAvXXUKHt5lEA=\",\"dtype\":\"float64\",\"shape\":[55]}},\"selected\":{\"id\":\"29234\",\"type\":\"Selection\"},\"selection_policy\":{\"id\":\"29235\",\"type\":\"UnionRenderers\"}},\"id\":\"28623\",\"type\":\"ColumnDataSource\"},{\"attributes\":{\"active_drag\":\"auto\",\"active_inspect\":\"auto\",\"active_multi\":null,\"active_scroll\":\"auto\",\"active_tap\":\"auto\",\"tools\":[{\"id\":\"28610\",\"type\":\"PanTool\"},{\"id\":\"28611\",\"type\":\"WheelZoomTool\"},{\"id\":\"28612\",\"type\":\"BoxZoomTool\"},{\"id\":\"28613\",\"type\":\"SaveTool\"},{\"id\":\"28614\",\"type\":\"ResetTool\"},{\"id\":\"28615\",\"type\":\"HelpTool\"}]},\"id\":\"28616\",\"type\":\"Toolbar\"},{\"attributes\":{\"bottom_units\":\"screen\",\"fill_alpha\":{\"value\":0.5},\"fill_color\":{\"value\":\"lightgrey\"},\"left_units\":\"screen\",\"level\":\"overlay\",\"line_alpha\":{\"value\":1.0},\"line_color\":{\"value\":\"black\"},\"line_dash\":[4,4],\"line_width\":{\"value\":2},\"render_mode\":\"css\",\"right_units\":\"screen\",\"top_units\":\"screen\"},\"id\":\"29236\",\"type\":\"BoxAnnotation\"},{\"attributes\":{},\"id\":\"28610\",\"type\":\"PanTool\"},{\"attributes\":{},\"id\":\"28611\",\"type\":\"WheelZoomTool\"},{\"attributes\":{\"overlay\":{\"id\":\"29236\",\"type\":\"BoxAnnotation\"}},\"id\":\"28612\",\"type\":\"BoxZoomTool\"},{\"attributes\":{},\"id\":\"28598\",\"type\":\"LinearScale\"},{\"attributes\":{},\"id\":\"28613\",\"type\":\"SaveTool\"},{\"attributes\":{},\"id\":\"28614\",\"type\":\"ResetTool\"},{\"attributes\":{},\"id\":\"28615\",\"type\":\"HelpTool\"},{\"attributes\":{},\"id\":\"28596\",\"type\":\"LinearScale\"},{\"attributes\":{\"fill_alpha\":{\"value\":0.1},\"fill_color\":{\"value\":\"#1f77b4\"},\"line_alpha\":{\"value\":0.1},\"line_color\":{\"value\":\"#1f77b4\"},\"size\":{\"units\":\"screen\",\"value\":10},\"x\":{\"field\":\"x\"},\"y\":{\"field\":\"y\"}},\"id\":\"28626\",\"type\":\"Circle\"},{\"attributes\":{\"axis_label\":\"IDP\",\"formatter\":{\"id\":\"29232\",\"type\":\"BasicTickFormatter\"},\"ticker\":{\"id\":\"28601\",\"type\":\"BasicTicker\"}},\"id\":\"28600\",\"type\":\"LinearAxis\"},{\"attributes\":{\"data_source\":{\"id\":\"28623\",\"type\":\"ColumnDataSource\"},\"glyph\":{\"id\":\"28625\",\"type\":\"Circle\"},\"hover_glyph\":null,\"muted_glyph\":null,\"nonselection_glyph\":{\"id\":\"28626\",\"type\":\"Circle\"},\"selection_glyph\":null,\"view\":{\"id\":\"28628\",\"type\":\"CDSView\"}},\"id\":\"28627\",\"type\":\"GlyphRenderer\"},{\"attributes\":{\"callback\":null},\"id\":\"28592\",\"type\":\"DataRange1d\"},{\"attributes\":{\"source\":{\"id\":\"28623\",\"type\":\"ColumnDataSource\"}},\"id\":\"28628\",\"type\":\"CDSView\"},{\"attributes\":{\"callback\":null},\"id\":\"28594\",\"type\":\"DataRange1d\"},{\"attributes\":{},\"id\":\"28601\",\"type\":\"BasicTicker\"},{\"attributes\":{\"text\":\"PIB par habitant en fonction de l'index d'indulgence'\"},\"id\":\"28590\",\"type\":\"Title\"}],\"root_ids\":[\"28589\"]},\"title\":\"Bokeh Application\",\"version\":\"1.1.0\"}};\n",
       "  var render_items = [{\"docid\":\"47746cd9-b03e-4294-beac-c7a5e38163af\",\"roots\":{\"28589\":\"5782a0a1-78ce-44c8-8cca-af5b7517292a\"}}];\n",
       "  root.Bokeh.embed.embed_items_notebook(docs_json, render_items);\n",
       "\n",
       "  }\n",
       "  if (root.Bokeh !== undefined) {\n",
       "    embed_document(root);\n",
       "  } else {\n",
       "    var attempts = 0;\n",
       "    var timer = setInterval(function(root) {\n",
       "      if (root.Bokeh !== undefined) {\n",
       "        embed_document(root);\n",
       "        clearInterval(timer);\n",
       "      }\n",
       "      attempts++;\n",
       "      if (attempts > 100) {\n",
       "        console.log(\"Bokeh: ERROR: Unable to run BokehJS code because BokehJS library is missing\");\n",
       "        clearInterval(timer);\n",
       "      }\n",
       "    }, 10, root)\n",
       "  }\n",
       "})(window);"
      ],
      "application/vnd.bokehjs_exec.v0+json": ""
     },
     "metadata": {
      "application/vnd.bokehjs_exec.v0+json": {
       "id": "28589"
      }
     },
     "output_type": "display_data"
    }
   ],
   "source": [
    "p = figure(title = \"PIB par habitant en fonction de l'index d'indulgence'\")\n",
    "p.xaxis.axis_label = 'IDP'\n",
    "p.yaxis.axis_label = 'log PIB'\n",
    "\n",
    "#X = dims[['pdi', 'idv', 'mas', 'uai', 'ltowvs', 'ivr']]\n",
    "   \n",
    "source = ColumnDataSource(data={\"x\":dims[\"ivr\"], \"y\":gdp_x, \"label\":dims[\"country\"], \n",
    "                                \"color\":list([colors[int(i)] for i in conts])})\n",
    "\n",
    "p.circle(x=\"x\",y=\"y\",color=\"color\", source=source, fill_alpha=0.2, size=10)\n",
    "\n",
    "labels = LabelSet(x=\"x\",y=\"y\",source=source, text=\"label\", y_offset=8,\n",
    "                  text_font_size=\"8pt\", text_color=\"#555555\",\n",
    "                  text_align='center')\n",
    "p.add_layout(labels)\n",
    "\n",
    "show(p)"
   ]
  },
  {
   "cell_type": "code",
   "execution_count": 138,
   "metadata": {},
   "outputs": [
    {
     "name": "stderr",
     "output_type": "stream",
     "text": [
      "/home/leo/.local/lib/python3.6/site-packages/bokeh/models/sources.py:164: BokehUserWarning:\n",
      "\n",
      "ColumnDataSource's columns must be of the same length. Current lengths: ('color', 62), ('label', 62), ('x', 62), ('y', 55)\n",
      "\n"
     ]
    },
    {
     "data": {
      "text/html": [
       "\n",
       "\n",
       "\n",
       "\n",
       "\n",
       "\n",
       "  <div class=\"bk-root\" id=\"1fc2d815-0d65-48aa-9d7c-6e632734714b\" data-root-id=\"29285\"></div>\n"
      ]
     },
     "metadata": {},
     "output_type": "display_data"
    },
    {
     "data": {
      "application/javascript": [
       "(function(root) {\n",
       "  function embed_document(root) {\n",
       "    \n",
       "  var docs_json = {\"a0a58fec-5b61-40a0-9094-88605c770191\":{\"roots\":{\"references\":[{\"attributes\":{\"below\":[{\"id\":\"29296\",\"type\":\"LinearAxis\"}],\"center\":[{\"id\":\"29300\",\"type\":\"Grid\"},{\"id\":\"29305\",\"type\":\"Grid\"},{\"id\":\"29325\",\"type\":\"LabelSet\"}],\"left\":[{\"id\":\"29301\",\"type\":\"LinearAxis\"}],\"renderers\":[{\"id\":\"29323\",\"type\":\"GlyphRenderer\"}],\"title\":{\"id\":\"29286\",\"type\":\"Title\"},\"toolbar\":{\"id\":\"29312\",\"type\":\"Toolbar\"},\"x_range\":{\"id\":\"29288\",\"type\":\"DataRange1d\"},\"x_scale\":{\"id\":\"29292\",\"type\":\"LinearScale\"},\"y_range\":{\"id\":\"29290\",\"type\":\"DataRange1d\"},\"y_scale\":{\"id\":\"29294\",\"type\":\"LinearScale\"}},\"id\":\"29285\",\"subtype\":\"Figure\",\"type\":\"Plot\"},{\"attributes\":{\"fill_alpha\":{\"value\":0.2},\"fill_color\":{\"field\":\"color\"},\"line_color\":{\"field\":\"color\"},\"size\":{\"units\":\"screen\",\"value\":10},\"x\":{\"field\":\"x\"},\"y\":{\"field\":\"y\"}},\"id\":\"29321\",\"type\":\"Circle\"},{\"attributes\":{\"active_drag\":\"auto\",\"active_inspect\":\"auto\",\"active_multi\":null,\"active_scroll\":\"auto\",\"active_tap\":\"auto\",\"tools\":[{\"id\":\"29306\",\"type\":\"PanTool\"},{\"id\":\"29307\",\"type\":\"WheelZoomTool\"},{\"id\":\"29308\",\"type\":\"BoxZoomTool\"},{\"id\":\"29309\",\"type\":\"SaveTool\"},{\"id\":\"29310\",\"type\":\"ResetTool\"},{\"id\":\"29311\",\"type\":\"HelpTool\"}]},\"id\":\"29312\",\"type\":\"Toolbar\"},{\"attributes\":{},\"id\":\"29306\",\"type\":\"PanTool\"},{\"attributes\":{},\"id\":\"29307\",\"type\":\"WheelZoomTool\"},{\"attributes\":{\"dimension\":1,\"ticker\":{\"id\":\"29302\",\"type\":\"BasicTicker\"}},\"id\":\"29305\",\"type\":\"Grid\"},{\"attributes\":{\"overlay\":{\"id\":\"29940\",\"type\":\"BoxAnnotation\"}},\"id\":\"29308\",\"type\":\"BoxZoomTool\"},{\"attributes\":{},\"id\":\"29302\",\"type\":\"BasicTicker\"},{\"attributes\":{},\"id\":\"29309\",\"type\":\"SaveTool\"},{\"attributes\":{\"axis_label\":\"log PIB\",\"formatter\":{\"id\":\"29934\",\"type\":\"BasicTickFormatter\"},\"ticker\":{\"id\":\"29302\",\"type\":\"BasicTicker\"}},\"id\":\"29301\",\"type\":\"LinearAxis\"},{\"attributes\":{},\"id\":\"29310\",\"type\":\"ResetTool\"},{\"attributes\":{},\"id\":\"29311\",\"type\":\"HelpTool\"},{\"attributes\":{\"callback\":null},\"id\":\"29288\",\"type\":\"DataRange1d\"},{\"attributes\":{\"callback\":null,\"data\":{\"color\":[\"brown\",\"black\",\"green\",\"blue\",\"green\",\"brown\",\"green\",\"yellow\",\"brown\",\"blue\",\"brown\",\"green\",\"green\",\"green\",\"yellow\",\"green\",\"green\",\"green\",\"green\",\"green\",\"green\",\"blue\",\"green\",\"blue\",\"blue\",\"blue\",\"green\",\"green\",\"blue\",\"blue\",\"green\",\"green\",\"green\",\"blue\",\"green\",\"yellow\",\"red\",\"green\",\"black\",\"green\",\"blue\",\"brown\",\"blue\",\"green\",\"green\",\"green\",\"green\",\"green\",\"blue\",\"green\",\"green\",\"green\",\"green\",\"green\",\"blue\",\"blue\",\"yellow\",\"blue\",\"yellow\",\"brown\",\"brown\",\"blue\"],\"label\":[\"Argentina\",\"Australia\",\"Austria\",\"Bangladesh\",\"Belgium\",\"Brazil\",\"Bulgaria\",\"Canada\",\"Chile\",\"China\",\"Colombia\",\"Croatia\",\"Czech Republic\",\"Denmark\",\"El Salvador\",\"Estonia\",\"Finland\",\"France\",\"Germany\",\"Great Britain\",\"Greece\",\"Hong Kong\",\"Hungary\",\"India\",\"Indonesia\",\"Iran\",\"Ireland\",\"Italy\",\"Japan\",\"South Korea\",\"Latvia\",\"Lithuania\",\"Luxembourg\",\"Malaysia\",\"Malta\",\"Mexico\",\"Morocco\",\"Netherlands\",\"New Zealand\",\"Norway\",\"Pakistan\",\"Peru\",\"Philippines\",\"Poland\",\"Portugal\",\"Romania\",\"Russia\",\"Serbia\",\"Singapore\",\"Slovak Republic\",\"Slovenia\",\"Spain\",\"Sweden\",\"Switzerland\",\"Taiwan\",\"Thailand\",\"Trinidad and Tobago\",\"Turkey\",\"United States\",\"Uruguay\",\"Venezuela\",\"Vietnam\"],\"x\":{\"__ndarray__\":\"AAAAAACASEAAAAAAAABDQAAAAAAAACZAAAAAAAAAVEAAAAAAAEBQQAAAAAAAQFFAAAAAAACAUUAAAAAAAIBDQAAAAAAAgE9AAAAAAAAAVEAAAAAAAMBQQAAAAAAAQFJAAAAAAACATEAAAAAAAAAyQAAAAAAAgFBAAAAAAAAAREAAAAAAAIBAQAAAAAAAAFFAAAAAAACAQUAAAAAAAIBBQAAAAAAAAE5AAAAAAAAAUUAAAAAAAABHQAAAAAAAQFNAAAAAAACAU0AAAAAAAABNQAAAAAAAADxAAAAAAAAASUAAAAAAAABLQAAAAAAAAE5AAAAAAAAARkAAAAAAAABFQAAAAAAAAERAAAAAAAAAWkAAAAAAAABMQAAAAAAAQFRAAAAAAACAUUAAAAAAAABDQAAAAAAAADZAAAAAAAAAP0AAAAAAAIBLQAAAAAAAAFBAAAAAAACAV0AAAAAAAABRQAAAAAAAgE9AAAAAAACAVkAAAAAAAEBXQAAAAAAAgFVAAAAAAACAUkAAAAAAAABaQAAAAAAAwFFAAAAAAACATEAAAAAAAAA/QAAAAAAAAEFAAAAAAAAATUAAAAAAAABQQAAAAAAAgEdAAAAAAACAUEAAAAAAAABEQAAAAAAAgE5AAAAAAABAVEAAAAAAAIBRQA==\",\"dtype\":\"float64\",\"shape\":[62]},\"y\":{\"__ndarray__\":\"kHXPnqV5IkCIAWyKL7clQCeb/Fx/giVAhY8mQK5mJUCW95FSYIUaQFl9joV7qSFALENuUdKmIkDaw2XZ5YglQBIiXzugcCZAoOrS83zsIkCskTCLstkgQKhbGtl4eSFA/WleBabJI0DF9ycx1kclQEQoiTwV8CVAijPCipqqJEC1y7xFzi4jQATh03pIeyVAG7Y8SZU5JUAtITphrWYkQOw6ufgYByNAQmSDAKX1IkAhsS0uRRYgQNU57JKi0RxAN5HvVvGVJUBpVG+6YvkkQAnLbUQmaCVAXpK+mmXIIkB8/wzgbR8nQABVXtF0qyJAlDgMGE7MH0DI7ANjrzYiQHG1eMaz6SNAjMJ4CMs5IkAyLEi1LaclQF5slirUwyZAXREts5vZJEDPh6ru18kbQF7fgN4ZCyFAQ8DRzZGnHkDIKDDF7+EiQKQYL/bECyRA0Bsa1bQGIkBkT3dBVn8lQBkypYD8ASBA6Hxd9lQxIUBay7wsNG8jQKbISXHKHyRAV76iyY64JUDWGY3UdBAhQEjUNmDAcSNAqWbvXAONIkC3huNZZsYiQKeYbnvQkiVAoT20rVa2HEA=\",\"dtype\":\"float64\",\"shape\":[55]}},\"selected\":{\"id\":\"29938\",\"type\":\"Selection\"},\"selection_policy\":{\"id\":\"29939\",\"type\":\"UnionRenderers\"}},\"id\":\"29319\",\"type\":\"ColumnDataSource\"},{\"attributes\":{\"axis_label\":\"IDP\",\"formatter\":{\"id\":\"29936\",\"type\":\"BasicTickFormatter\"},\"ticker\":{\"id\":\"29297\",\"type\":\"BasicTicker\"}},\"id\":\"29296\",\"type\":\"LinearAxis\"},{\"attributes\":{\"fill_alpha\":{\"value\":0.1},\"fill_color\":{\"value\":\"#1f77b4\"},\"line_alpha\":{\"value\":0.1},\"line_color\":{\"value\":\"#1f77b4\"},\"size\":{\"units\":\"screen\",\"value\":10},\"x\":{\"field\":\"x\"},\"y\":{\"field\":\"y\"}},\"id\":\"29322\",\"type\":\"Circle\"},{\"attributes\":{\"bottom_units\":\"screen\",\"fill_alpha\":{\"value\":0.5},\"fill_color\":{\"value\":\"lightgrey\"},\"left_units\":\"screen\",\"level\":\"overlay\",\"line_alpha\":{\"value\":1.0},\"line_color\":{\"value\":\"black\"},\"line_dash\":[4,4],\"line_width\":{\"value\":2},\"render_mode\":\"css\",\"right_units\":\"screen\",\"top_units\":\"screen\"},\"id\":\"29940\",\"type\":\"BoxAnnotation\"},{\"attributes\":{\"data_source\":{\"id\":\"29319\",\"type\":\"ColumnDataSource\"},\"glyph\":{\"id\":\"29321\",\"type\":\"Circle\"},\"hover_glyph\":null,\"muted_glyph\":null,\"nonselection_glyph\":{\"id\":\"29322\",\"type\":\"Circle\"},\"selection_glyph\":null,\"view\":{\"id\":\"29324\",\"type\":\"CDSView\"}},\"id\":\"29323\",\"type\":\"GlyphRenderer\"},{\"attributes\":{},\"id\":\"29297\",\"type\":\"BasicTicker\"},{\"attributes\":{\"ticker\":{\"id\":\"29297\",\"type\":\"BasicTicker\"}},\"id\":\"29300\",\"type\":\"Grid\"},{\"attributes\":{\"source\":{\"id\":\"29319\",\"type\":\"ColumnDataSource\"}},\"id\":\"29324\",\"type\":\"CDSView\"},{\"attributes\":{},\"id\":\"29934\",\"type\":\"BasicTickFormatter\"},{\"attributes\":{},\"id\":\"29294\",\"type\":\"LinearScale\"},{\"attributes\":{},\"id\":\"29292\",\"type\":\"LinearScale\"},{\"attributes\":{\"callback\":null},\"id\":\"29290\",\"type\":\"DataRange1d\"},{\"attributes\":{},\"id\":\"29936\",\"type\":\"BasicTickFormatter\"},{\"attributes\":{},\"id\":\"29938\",\"type\":\"Selection\"},{\"attributes\":{\"text\":\"PIB  par habitant en fonction de l'index de distance au pouvoir\"},\"id\":\"29286\",\"type\":\"Title\"},{\"attributes\":{\"source\":{\"id\":\"29319\",\"type\":\"ColumnDataSource\"},\"text\":{\"field\":\"label\"},\"text_align\":\"center\",\"text_color\":{\"value\":\"#555555\"},\"text_font_size\":{\"value\":\"8pt\"},\"x\":{\"field\":\"x\"},\"y\":{\"field\":\"y\"},\"y_offset\":{\"value\":8}},\"id\":\"29325\",\"type\":\"LabelSet\"},{\"attributes\":{},\"id\":\"29939\",\"type\":\"UnionRenderers\"}],\"root_ids\":[\"29285\"]},\"title\":\"Bokeh Application\",\"version\":\"1.1.0\"}};\n",
       "  var render_items = [{\"docid\":\"a0a58fec-5b61-40a0-9094-88605c770191\",\"roots\":{\"29285\":\"1fc2d815-0d65-48aa-9d7c-6e632734714b\"}}];\n",
       "  root.Bokeh.embed.embed_items_notebook(docs_json, render_items);\n",
       "\n",
       "  }\n",
       "  if (root.Bokeh !== undefined) {\n",
       "    embed_document(root);\n",
       "  } else {\n",
       "    var attempts = 0;\n",
       "    var timer = setInterval(function(root) {\n",
       "      if (root.Bokeh !== undefined) {\n",
       "        embed_document(root);\n",
       "        clearInterval(timer);\n",
       "      }\n",
       "      attempts++;\n",
       "      if (attempts > 100) {\n",
       "        console.log(\"Bokeh: ERROR: Unable to run BokehJS code because BokehJS library is missing\");\n",
       "        clearInterval(timer);\n",
       "      }\n",
       "    }, 10, root)\n",
       "  }\n",
       "})(window);"
      ],
      "application/vnd.bokehjs_exec.v0+json": ""
     },
     "metadata": {
      "application/vnd.bokehjs_exec.v0+json": {
       "id": "29285"
      }
     },
     "output_type": "display_data"
    }
   ],
   "source": [
    "p = figure(title = \"PIB  par habitant en fonction de l'index de distance au pouvoir\")\n",
    "p.xaxis.axis_label = 'IDP'\n",
    "p.yaxis.axis_label = 'log PIB'\n",
    "\n",
    "#X = dims[['pdi', 'idv', 'mas', 'uai', 'ltowvs', 'ivr']]\n",
    "   \n",
    "source = ColumnDataSource(data={\"x\":dims[\"pdi\"], \"y\":gdp_y, \"label\":dims[\"country\"], \n",
    "                                \"color\":list([colors[int(i)] for i in conts])})\n",
    "\n",
    "p.circle(x=\"x\",y=\"y\",color=\"color\", source=source, fill_alpha=0.2, size=10)\n",
    "\n",
    "labels = LabelSet(x=\"x\",y=\"y\",source=source, text=\"label\", y_offset=8,\n",
    "                  text_font_size=\"8pt\", text_color=\"#555555\",\n",
    "                  text_align='center')\n",
    "p.add_layout(labels)\n",
    "\n",
    "show(p)"
   ]
  },
  {
   "cell_type": "markdown",
   "metadata": {},
   "source": [
    "worldbank data"
   ]
  },
  {
   "cell_type": "code",
   "execution_count": 178,
   "metadata": {},
   "outputs": [
    {
     "data": {
      "text/html": [
       "\n",
       "\n",
       "\n",
       "\n",
       "\n",
       "\n",
       "  <div class=\"bk-root\" id=\"34fd432b-ade0-4ee9-bd11-3353461fe2e8\" data-root-id=\"41229\"></div>\n"
      ]
     },
     "metadata": {},
     "output_type": "display_data"
    },
    {
     "data": {
      "application/javascript": [
       "(function(root) {\n",
       "  function embed_document(root) {\n",
       "    \n",
       "  var docs_json = {\"f372f62a-6659-412e-bdec-34e4e534e24a\":{\"roots\":{\"references\":[{\"attributes\":{\"below\":[{\"id\":\"41240\",\"type\":\"LinearAxis\"}],\"center\":[{\"id\":\"41244\",\"type\":\"Grid\"},{\"id\":\"41249\",\"type\":\"Grid\"},{\"id\":\"41269\",\"type\":\"LabelSet\"}],\"left\":[{\"id\":\"41245\",\"type\":\"LogAxis\"}],\"renderers\":[{\"id\":\"41267\",\"type\":\"GlyphRenderer\"}],\"title\":{\"id\":\"41230\",\"type\":\"Title\"},\"toolbar\":{\"id\":\"41256\",\"type\":\"Toolbar\"},\"x_range\":{\"id\":\"41232\",\"type\":\"DataRange1d\"},\"x_scale\":{\"id\":\"41236\",\"type\":\"LinearScale\"},\"y_range\":{\"id\":\"41234\",\"type\":\"DataRange1d\"},\"y_scale\":{\"id\":\"41238\",\"type\":\"LogScale\"}},\"id\":\"41229\",\"subtype\":\"Figure\",\"type\":\"Plot\"},{\"attributes\":{\"data_source\":{\"id\":\"41263\",\"type\":\"ColumnDataSource\"},\"glyph\":{\"id\":\"41265\",\"type\":\"Circle\"},\"hover_glyph\":null,\"muted_glyph\":null,\"nonselection_glyph\":{\"id\":\"41266\",\"type\":\"Circle\"},\"selection_glyph\":null,\"view\":{\"id\":\"41268\",\"type\":\"CDSView\"}},\"id\":\"41267\",\"type\":\"GlyphRenderer\"},{\"attributes\":{\"fill_alpha\":{\"value\":0.1},\"fill_color\":{\"value\":\"#1f77b4\"},\"line_alpha\":{\"value\":0.1},\"line_color\":{\"value\":\"#1f77b4\"},\"size\":{\"units\":\"screen\",\"value\":10},\"x\":{\"field\":\"x\"},\"y\":{\"field\":\"y\"}},\"id\":\"41266\",\"type\":\"Circle\"},{\"attributes\":{},\"id\":\"41238\",\"type\":\"LogScale\"},{\"attributes\":{\"fill_alpha\":{\"value\":0.2},\"fill_color\":{\"value\":\"#1f77b4\"},\"line_color\":{\"value\":\"#1f77b4\"},\"size\":{\"units\":\"screen\",\"value\":10},\"x\":{\"field\":\"x\"},\"y\":{\"field\":\"y\"}},\"id\":\"41265\",\"type\":\"Circle\"},{\"attributes\":{\"axis_label\":\"2015 GDP\",\"formatter\":{\"id\":\"41998\",\"type\":\"LogTickFormatter\"},\"ticker\":{\"id\":\"41246\",\"type\":\"LogTicker\"}},\"id\":\"41245\",\"type\":\"LogAxis\"},{\"attributes\":{\"callback\":null},\"id\":\"41234\",\"type\":\"DataRange1d\"},{\"attributes\":{},\"id\":\"41255\",\"type\":\"HelpTool\"},{\"attributes\":{},\"id\":\"42003\",\"type\":\"UnionRenderers\"},{\"attributes\":{},\"id\":\"41251\",\"type\":\"WheelZoomTool\"},{\"attributes\":{\"ticker\":{\"id\":\"41241\",\"type\":\"BasicTicker\"}},\"id\":\"41244\",\"type\":\"Grid\"},{\"attributes\":{},\"id\":\"41250\",\"type\":\"PanTool\"},{\"attributes\":{\"text\":\"PIB par habitant en fonction de l'index d'efficacit\\u00e9 du gouvernement\"},\"id\":\"41230\",\"type\":\"Title\"},{\"attributes\":{},\"id\":\"41254\",\"type\":\"ResetTool\"},{\"attributes\":{\"source\":{\"id\":\"41263\",\"type\":\"ColumnDataSource\"}},\"id\":\"41268\",\"type\":\"CDSView\"},{\"attributes\":{\"source\":{\"id\":\"41263\",\"type\":\"ColumnDataSource\"},\"text\":{\"field\":\"label\"},\"text_align\":\"center\",\"text_color\":{\"value\":\"#555555\"},\"text_font_size\":{\"value\":\"8pt\"},\"x\":{\"field\":\"x\"},\"y\":{\"field\":\"y\"},\"y_offset\":{\"value\":8}},\"id\":\"41269\",\"type\":\"LabelSet\"},{\"attributes\":{},\"id\":\"42002\",\"type\":\"Selection\"},{\"attributes\":{},\"id\":\"41241\",\"type\":\"BasicTicker\"},{\"attributes\":{},\"id\":\"41236\",\"type\":\"LinearScale\"},{\"attributes\":{\"overlay\":{\"id\":\"42004\",\"type\":\"BoxAnnotation\"}},\"id\":\"41252\",\"type\":\"BoxZoomTool\"},{\"attributes\":{\"num_minor_ticks\":10},\"id\":\"41246\",\"type\":\"LogTicker\"},{\"attributes\":{\"dimension\":1,\"ticker\":{\"id\":\"41246\",\"type\":\"LogTicker\"}},\"id\":\"41249\",\"type\":\"Grid\"},{\"attributes\":{\"callback\":null},\"id\":\"41232\",\"type\":\"DataRange1d\"},{\"attributes\":{\"bottom_units\":\"screen\",\"fill_alpha\":{\"value\":0.5},\"fill_color\":{\"value\":\"lightgrey\"},\"left_units\":\"screen\",\"level\":\"overlay\",\"line_alpha\":{\"value\":1.0},\"line_color\":{\"value\":\"black\"},\"line_dash\":[4,4],\"line_width\":{\"value\":2},\"render_mode\":\"css\",\"right_units\":\"screen\",\"top_units\":\"screen\"},\"id\":\"42004\",\"type\":\"BoxAnnotation\"},{\"attributes\":{\"active_drag\":\"auto\",\"active_inspect\":\"auto\",\"active_multi\":null,\"active_scroll\":\"auto\",\"active_tap\":\"auto\",\"tools\":[{\"id\":\"41250\",\"type\":\"PanTool\"},{\"id\":\"41251\",\"type\":\"WheelZoomTool\"},{\"id\":\"41252\",\"type\":\"BoxZoomTool\"},{\"id\":\"41253\",\"type\":\"SaveTool\"},{\"id\":\"41254\",\"type\":\"ResetTool\"},{\"id\":\"41255\",\"type\":\"HelpTool\"}]},\"id\":\"41256\",\"type\":\"Toolbar\"},{\"attributes\":{\"callback\":null,\"data\":{\"label\":[\"Afghanistan\",\"Angola\",\"Albania\",\"United Arab Emirates\",\"Argentina\",\"Armenia\",\"Antigua and Barbuda\",\"Australia\",\"Austria\",\"Azerbaijan\",\"Burundi\",\"Belgium\",\"Benin\",\"Burkina Faso\",\"Bangladesh\",\"Bulgaria\",\"Bahrain\",\"Bahamas, The\",\"Bosnia and Herzegovina\",\"Belarus\",\"Belize\",\"Bermuda\",\"Bolivia\",\"Brazil\",\"Barbados\",\"Brunei Darussalam\",\"Bhutan\",\"Botswana\",\"Central African Republic\",\"Canada\",\"Switzerland\",\"Chile\",\"China\",\"Cote d'Ivoire\",\"Cameroon\",\"Congo, Rep.\",\"Colombia\",\"Comoros\",\"Costa Rica\",\"Cuba\",\"Cayman Islands\",\"Cyprus\",\"Czech Republic\",\"Germany\",\"Djibouti\",\"Dominica\",\"Denmark\",\"Dominican Republic\",\"Algeria\",\"Ecuador\",\"Egypt, Arab Rep.\",\"Eritrea\",\"Spain\",\"Estonia\",\"Ethiopia\",\"Finland\",\"Fiji\",\"France\",\"Gabon\",\"United Kingdom\",\"Georgia\",\"Ghana\",\"Guinea\",\"Gambia, The\",\"Guinea-Bissau\",\"Equatorial Guinea\",\"Greece\",\"Grenada\",\"Guatemala\",\"Guyana\",\"Hong Kong SAR, China\",\"Honduras\",\"Croatia\",\"Haiti\",\"Hungary\",\"Indonesia\",\"India\",\"Ireland\",\"Iran, Islamic Rep.\",\"Iraq\",\"Iceland\",\"Israel\",\"Italy\",\"Jamaica\",\"Jordan\",\"Japan\",\"Kazakhstan\",\"Kenya\",\"Kyrgyz Republic\",\"Cambodia\",\"Korea, Rep.\",\"Kuwait\",\"Lao PDR\",\"Lebanon\",\"Liberia\",\"Libya\",\"Liechtenstein\",\"Sri Lanka\",\"Lesotho\",\"Lithuania\",\"Luxembourg\",\"Latvia\",\"Macao SAR, China\",\"Morocco\",\"Moldova\",\"Madagascar\",\"Maldives\",\"Mexico\",\"Macedonia, FYR\",\"Mali\",\"Malta\",\"Myanmar\",\"Mongolia\",\"Mozambique\",\"Mauritania\",\"Mauritius\",\"Malawi\",\"Malaysia\",\"Namibia\",\"Niger\",\"Nigeria\",\"Nicaragua\",\"Netherlands\",\"Norway\",\"Nepal\",\"New Zealand\",\"Oman\",\"Pakistan\",\"Panama\",\"Peru\",\"Philippines\",\"Papua New Guinea\",\"Poland\",\"Puerto Rico\",\"Korea, Dem. People\\u2019s Rep.\",\"Portugal\",\"Paraguay\",\"Qatar\",\"Russian Federation\",\"Rwanda\",\"Saudi Arabia\",\"Sudan\",\"Senegal\",\"Singapore\",\"Sierra Leone\",\"El Salvador\",\"Somalia\",\"Serbia\",\"Sao Tome and Principe\",\"Suriname\",\"Slovak Republic\",\"Slovenia\",\"Sweden\",\"Eswatini\",\"Seychelles\",\"Syrian Arab Republic\",\"Chad\",\"Togo\",\"Thailand\",\"Tajikistan\",\"Turkmenistan\",\"Trinidad and Tobago\",\"Tunisia\",\"Turkey\",\"Tanzania\",\"Uganda\",\"Ukraine\",\"Uruguay\",\"United States\",\"Uzbekistan\",\"Venezuela, RB\",\"Vietnam\",\"Samoa\",\"Yemen, Rep.\",\"South Africa\",\"Zambia\",\"Zimbabwe\"],\"x\":{\"__ndarray__\":\"DAAAIGJG978DAAAg5+LxvwQAAICqGNK/AAAAABm87D/5//9/TdbEvxQAAGAviMe/+v//X9GK3z/4////0kz8PwUAACDcd/0//////2fS6b8SAADAeJ3xvwgAAGBOM/k/AAAAYLAH478DAABg/TPiv////z9Niue/8v///9ZlvT/7////eD7dP+3//59BNvE/+///P9m257/8//8fodPxvwMAAGCRhtu/AgAAgEgW8D8EAADg7RLgv/v//z8+GKK/7P///zuW9j8CAABAUNzsP/7//197teI/+v//32mh3D8FAABgMjT2v+7//3/2h/w/6///f4EF/j8CAACASFz0P////x+usbY/7v//3/6R9L////8feHvsv/z//9/KpPO/BwAAIH5Urr/8////leP7v/z//5+DuNM/BAAAoKYh17/0//9fCgf0P/L//39ggvg/AQAAIIv37D/3////hCP5P/7///9tG++/////Xw7M5D8JAACgOcYAQAQAAGDpl+S/BAAAQM+w3r////+fX+7mv/v//x+dt9e/CgAAAAm39b8EAABgZNXvP/T//58HX/E//f//X6ip27/1////r9UBQAQAAMD2LOe/CAAAQIPi9j8DAAAgcbXov+z///8UGPk/+f//P+nK0z8CAABgwGWjv+v//99ivvG/AAAA4Ne45b/5//9f23jwv/L//7+23/q/AgAAABPL4T8MAABgR4bGPwUAAKD5Vea/3f//P7Mxu78SAADgKuT6PwIAAOCziOS/BAAAAA3q4z8AAACgNxH6vwQAAIBbVeU/DwAAAFpuy78FAAAgUJ2aP/7//5/pl/U/BQAAQLGk3r/+//8/SCfzvxEAAAAoX/k/9P//v6tD9j8GAADAP0jcP/b//1/dkcs/+v//3xCLuj/w//8/VXH4PwcAAEAc6du/////n9XT4b8GAACgtNrkv/3//9/2LO6/BgAAQE5G8z8FAACgzZXFP/7//39Lheu/CAAAwOXe0b/q//+/8G70vwoAAIA1jvG/CAAAgECJ/D8TAAAA9vXIvwEAAMDp+dO/BgAA4LvI5z8QAABgYoz7P////z+SruY/7P//v+Wv9T/k//+faaq6v/7///8ZNOW/BQAAoFe17r8OAADARIPKv/7//1+AysQ/AQAAwPgHt7////+fpKjrv/r//19pFfM/8v//n+vi+b8CAACgnU3ivwEAACCBpOK/BAAAYNUP778CAACgQLXrP/n///+XSNq/AQAAQKTt8T/9//8/J+2wPwMAAKDOGOW/EQAAAGik8r8EAAAAV8ruvxQAAKB7q/s/CgAA4BYQ/j////+fFfTrvwAAACAyEf0/AAAAAMUu2D8EAACA6oHovxIAAOCXkME/+P//X0h4yL/u//8fMHpZPwMAAEBo/ua//v//X6eC5D8CAABgLwDVPwAAAGBI3P2/9P//v+sp8D////8/Etbtv/7//7++C+s/BwAAgAEB3r/9//+/R8yrv/3//7+eWny/BwAAoCSA9b8EAAAA0o7iv/v//59m7gFA+P///6tz87/8///fTmJ+PwMAAEA5qgHABQAAIIGLp78AAACgsmnpvyAAAGBGjbq/AAAA4LTJ6j/z//8fTWzwP/j//9+gCABAAQAAoEA54b/6//8/cvPJP/3//9/sXOO/7///X/l1978NAACgHDr2vwcAAOCJCMg//P//v85j7b8EAADgNwT5vwMAAMAjDtE/CwAAQF/1yz8BAABgzeDSP/7//5+HHuO//f//30DN4L8FAAAAVhzpvwMAAGAHEOQ/AgAA4Onr+D/+///fU9fmv/f//79uyvG/+f//n7aV0L8BAAAgQfqjv/f//9/5SPC//v//H9YY2T/+//9/dzrrv/X//18YMfi/\",\"dtype\":\"float64\",\"shape\":[177]},\"y\":{\"__ndarray__\":\"Rg9QnpxwgkCm28L4ukqwQAEjJlyp4a5ACdYvl0Ea40C8bWSPJcHKQGB8ChrfQ6xAZQsk6zWRykD1UzsyLZ7rQGG91hjZleVAk045dU98tUDWXNzO/AVzQHRyIe8kteNAd1QiYrR/iEDGGo0AhPqBQKqgX6mi6JJAQg1SkshRu0AqkSc1OCjWQHBnhnz0xN1AGCCdFz7osUCCde82Gz23QG8AjGGJKbNAAAAAAAAA+H89UvppDQqoQNqkIoscF8FAwc7lToaAz0CHdQ7++D3eQJHHq0sFcKRA/x2taCV5uUDR4lpTGsZ1QDBskdirQOVAoT1MVwAG9ECy3TheUdTKQMPmu4g2hb9AXm3dDGzMmkCPzmetsieVQPZKyA18wJpAsdkowTXFt0AdHx9pOtyTQBETSqODQMZARqvLVkeyvUAAAAAAAAD4f9rQg2EOq9ZAtRKCeudM0UDhHfJ8fS3kQGNzJs1whptALsq5DTzgvED2FAPkn+LpQMZgD5fohrlAKkOBKNpCsEBhArDsJwa4QBA+4w9tt6tAAAAAAAAA+H+o30ZAYS/ZQDPkf/L3wNBAK9JvVbgrhEAV5doQB7fkQE9T1CF2GbNAV+fEAazg4UCFziQ3txi9QHDIi78xouVAnkcaJkhprUBjnZ+NPtybQKXsFY9ruoZAsRtZ1soHhkDn65z+cn6CQLzlR9S85sVARKy+trGl0UANDvGWojrCQJVrTI0lp65Aoes58kNAsEBDzc1s/LfkQC0awfaMSqJAO3d/4KH+xkDDmnQEX3SJQJaJJNfuYchAj6pWIBkNqkCwFy40JxiZQH+ps3P1Le5AVdACu0z+skC1N69EujKzQHprpCm1AelAvdqI0V5t4UA3V7KTFHndQO1su3VqPbNA1hYWahkAsEC6BpLc9+DgQN1UPc1ih8RA9k9kzTgslUDN9LnSVISRQBxbHVPCLJJAvh/k4ER42kARh0pmRG3cQEd8HMbd3qBAyQidv8GowED0nkHJeRCGQB08pIh9cbFAs7O93TR1BEGMygksBwmuQPyFeb5rCZJAsA3Qbo/oy0A2pbKUbMT4QE7g6tjYo8pA++XVlcRt8kCc/g82kj6mQNCqPhT7oZxAdDOauWkheUASF75k2C7DQLxAnxYfKcJAlxeD1lHoskAPNc/2V2+HQNWJay/iKNdAay6lzvjLkUCIBQmV7NWuQCL3/CCBgoBA6KT+hQYZkkAZYjVBORbCQN+RQvqHqnZAUhCOlZHbwkD7T0qGSMOyQF36agAJrHZAm8/NioZTpUCrlbvx/jKgQIWHhrBK2eVANTzFMyIw8kAo1XygSFmHQN/yphws3+JASkkni60F0EC+4ETujFKWQNf0tO3YncpAqow5xxylt0CyweQ+rXymQFATElbkW6RA3x0fiS2GyEAn0IBq/RDdQAAAAAAAAPh/IXEUoyjN0kDaMZdeHke1QIdNSFIn0+9Ao3Xk5E5BwkB0BQkbMT6GQIVFciY3P9RA0mZP8sSjo0DZ4dJfT4mSQLpJ3XWb0+pAoSMLWH03gkChFj8LwqusQP3Ea4mO7H1APY2VXUF1tEAauVgR7zWZQAp4XIHh1MBAe7SjHm6Cz0BXMJ5PSmLUQHvzhRuGz+hA4c0lveTPp0BNJxUpqMzMQAAAAAAAAPh/mW1gAaZqiECy0oiLzZuBQKbPCAVl1rZAGcEGzX62jECA6bslryC5QCIRcDpPhdFAmWPNrHXnrUBva9PEZnTFQJOJERWgQYtAjUUUGPgYhUAKQfJIU5mgQB0xAdZrUs5AfTzZJnqP60AgXi9ZJ7OgQAAAAAAAAPh/H4IjlFYioEAcx773ADawQIjuMZqhd5pA+5h74PxutkCPYTv/joeUQGLTknotxZNA\",\"dtype\":\"float64\",\"shape\":[177]}},\"selected\":{\"id\":\"42002\",\"type\":\"Selection\"},\"selection_policy\":{\"id\":\"42003\",\"type\":\"UnionRenderers\"}},\"id\":\"41263\",\"type\":\"ColumnDataSource\"},{\"attributes\":{},\"id\":\"41253\",\"type\":\"SaveTool\"},{\"attributes\":{\"axis_label\":\"Efficacit\\u00e9 du gouvernement\",\"formatter\":{\"id\":\"42000\",\"type\":\"BasicTickFormatter\"},\"ticker\":{\"id\":\"41241\",\"type\":\"BasicTicker\"}},\"id\":\"41240\",\"type\":\"LinearAxis\"},{\"attributes\":{},\"id\":\"42000\",\"type\":\"BasicTickFormatter\"},{\"attributes\":{\"ticker\":null},\"id\":\"41998\",\"type\":\"LogTickFormatter\"}],\"root_ids\":[\"41229\"]},\"title\":\"Bokeh Application\",\"version\":\"1.1.0\"}};\n",
       "  var render_items = [{\"docid\":\"f372f62a-6659-412e-bdec-34e4e534e24a\",\"roots\":{\"41229\":\"34fd432b-ade0-4ee9-bd11-3353461fe2e8\"}}];\n",
       "  root.Bokeh.embed.embed_items_notebook(docs_json, render_items);\n",
       "\n",
       "  }\n",
       "  if (root.Bokeh !== undefined) {\n",
       "    embed_document(root);\n",
       "  } else {\n",
       "    var attempts = 0;\n",
       "    var timer = setInterval(function(root) {\n",
       "      if (root.Bokeh !== undefined) {\n",
       "        embed_document(root);\n",
       "        clearInterval(timer);\n",
       "      }\n",
       "      attempts++;\n",
       "      if (attempts > 100) {\n",
       "        console.log(\"Bokeh: ERROR: Unable to run BokehJS code because BokehJS library is missing\");\n",
       "        clearInterval(timer);\n",
       "      }\n",
       "    }, 10, root)\n",
       "  }\n",
       "})(window);"
      ],
      "application/vnd.bokehjs_exec.v0+json": ""
     },
     "metadata": {
      "application/vnd.bokehjs_exec.v0+json": {
       "id": "41229"
      }
     },
     "output_type": "display_data"
    }
   ],
   "source": [
    "gov = pd.read_excel(\"GovernmentEffectiveness_2.xls\")\n",
    "gov = gov.dropna()\n",
    "gdp = pd.read_csv(\"gdp_per_cap.csv\")\n",
    "\n",
    "p = figure(title = \"PIB par habitant en fonction de l'index d'efficacité du gouvernement\",\n",
    "            x_axis_label=\"Efficacité du gouvernement\",y_axis_label=\"2015 GDP\",\n",
    "            y_axis_type=\"log\"\n",
    "          )\n",
    "df = gdp.set_index(\"Country Code\").join(gov.set_index(\"WBCode\"),how=\"inner\",rsuffix=\"_2\")\n",
    "source = ColumnDataSource(data={\"x\":df[2010], \"y\":df[\"2015\"], \"label\":df[\"Country Name\"]})\n",
    "\n",
    "p.circle(x=\"x\",y=\"y\", source=source, fill_alpha=0.2, size=10)\n",
    "\n",
    "labels = LabelSet(x=\"x\",y=\"y\",source=source, text=\"label\", y_offset=8,\n",
    "                  text_font_size=\"8pt\", text_color=\"#555555\",\n",
    "                  text_align='center')\n",
    "p.add_layout(labels)\n",
    "\n",
    "show(p)"
   ]
  },
  {
   "cell_type": "code",
   "execution_count": 180,
   "metadata": {},
   "outputs": [
    {
     "ename": "KeyError",
     "evalue": "'WBCode'",
     "output_type": "error",
     "traceback": [
      "\u001b[0;31m---------------------------------------------------------------------------\u001b[0m",
      "\u001b[0;31mKeyError\u001b[0m                                  Traceback (most recent call last)",
      "\u001b[0;32m~/.local/lib/python3.6/site-packages/pandas/core/indexes/base.py\u001b[0m in \u001b[0;36mget_loc\u001b[0;34m(self, key, method, tolerance)\u001b[0m\n\u001b[1;32m   2655\u001b[0m             \u001b[0;32mtry\u001b[0m\u001b[0;34m:\u001b[0m\u001b[0;34m\u001b[0m\u001b[0;34m\u001b[0m\u001b[0m\n\u001b[0;32m-> 2656\u001b[0;31m                 \u001b[0;32mreturn\u001b[0m \u001b[0mself\u001b[0m\u001b[0;34m.\u001b[0m\u001b[0m_engine\u001b[0m\u001b[0;34m.\u001b[0m\u001b[0mget_loc\u001b[0m\u001b[0;34m(\u001b[0m\u001b[0mkey\u001b[0m\u001b[0;34m)\u001b[0m\u001b[0;34m\u001b[0m\u001b[0;34m\u001b[0m\u001b[0m\n\u001b[0m\u001b[1;32m   2657\u001b[0m             \u001b[0;32mexcept\u001b[0m \u001b[0mKeyError\u001b[0m\u001b[0;34m:\u001b[0m\u001b[0;34m\u001b[0m\u001b[0;34m\u001b[0m\u001b[0m\n",
      "\u001b[0;32mpandas/_libs/index.pyx\u001b[0m in \u001b[0;36mpandas._libs.index.IndexEngine.get_loc\u001b[0;34m()\u001b[0m\n",
      "\u001b[0;32mpandas/_libs/index.pyx\u001b[0m in \u001b[0;36mpandas._libs.index.IndexEngine.get_loc\u001b[0;34m()\u001b[0m\n",
      "\u001b[0;32mpandas/_libs/hashtable_class_helper.pxi\u001b[0m in \u001b[0;36mpandas._libs.hashtable.PyObjectHashTable.get_item\u001b[0;34m()\u001b[0m\n",
      "\u001b[0;32mpandas/_libs/hashtable_class_helper.pxi\u001b[0m in \u001b[0;36mpandas._libs.hashtable.PyObjectHashTable.get_item\u001b[0;34m()\u001b[0m\n",
      "\u001b[0;31mKeyError\u001b[0m: 'WBCode'",
      "\nDuring handling of the above exception, another exception occurred:\n",
      "\u001b[0;31mKeyError\u001b[0m                                  Traceback (most recent call last)",
      "\u001b[0;32m<ipython-input-180-8b7d0d30d35e>\u001b[0m in \u001b[0;36m<module>\u001b[0;34m\u001b[0m\n\u001b[1;32m      7\u001b[0m             \u001b[0my_axis_type\u001b[0m\u001b[0;34m=\u001b[0m\u001b[0;34m\"log\"\u001b[0m\u001b[0;34m\u001b[0m\u001b[0;34m\u001b[0m\u001b[0m\n\u001b[1;32m      8\u001b[0m           )\n\u001b[0;32m----> 9\u001b[0;31m \u001b[0mdf\u001b[0m \u001b[0;34m=\u001b[0m \u001b[0mgdp\u001b[0m\u001b[0;34m.\u001b[0m\u001b[0mset_index\u001b[0m\u001b[0;34m(\u001b[0m\u001b[0;34m\"Country Code\"\u001b[0m\u001b[0;34m)\u001b[0m\u001b[0;34m.\u001b[0m\u001b[0mjoin\u001b[0m\u001b[0;34m(\u001b[0m\u001b[0mgov\u001b[0m\u001b[0;34m.\u001b[0m\u001b[0mset_index\u001b[0m\u001b[0;34m(\u001b[0m\u001b[0;34m\"WBCode\"\u001b[0m\u001b[0;34m)\u001b[0m\u001b[0;34m,\u001b[0m\u001b[0mhow\u001b[0m\u001b[0;34m=\u001b[0m\u001b[0;34m\"inner\"\u001b[0m\u001b[0;34m,\u001b[0m\u001b[0mrsuffix\u001b[0m\u001b[0;34m=\u001b[0m\u001b[0;34m\"_2\"\u001b[0m\u001b[0;34m)\u001b[0m\u001b[0;34m\u001b[0m\u001b[0;34m\u001b[0m\u001b[0m\n\u001b[0m\u001b[1;32m     10\u001b[0m \u001b[0;34m\u001b[0m\u001b[0m\n\u001b[1;32m     11\u001b[0m \u001b[0msource\u001b[0m \u001b[0;34m=\u001b[0m \u001b[0mColumnDataSource\u001b[0m\u001b[0;34m(\u001b[0m\u001b[0mdata\u001b[0m\u001b[0;34m=\u001b[0m\u001b[0;34m{\u001b[0m\u001b[0;34m\"x\"\u001b[0m\u001b[0;34m:\u001b[0m\u001b[0mdf\u001b[0m\u001b[0;34m[\u001b[0m\u001b[0;36m2010\u001b[0m\u001b[0;34m]\u001b[0m\u001b[0;34m,\u001b[0m \u001b[0;34m\"y\"\u001b[0m\u001b[0;34m:\u001b[0m\u001b[0mdf\u001b[0m\u001b[0;34m[\u001b[0m\u001b[0;34m\"2015\"\u001b[0m\u001b[0;34m]\u001b[0m\u001b[0;34m,\u001b[0m \u001b[0;34m\"label\"\u001b[0m\u001b[0;34m:\u001b[0m\u001b[0mdf\u001b[0m\u001b[0;34m[\u001b[0m\u001b[0;34m\"Country Name\"\u001b[0m\u001b[0;34m]\u001b[0m\u001b[0;34m}\u001b[0m\u001b[0;34m)\u001b[0m\u001b[0;34m\u001b[0m\u001b[0;34m\u001b[0m\u001b[0m\n",
      "\u001b[0;32m~/.local/lib/python3.6/site-packages/pandas/core/frame.py\u001b[0m in \u001b[0;36mset_index\u001b[0;34m(self, keys, drop, append, inplace, verify_integrity)\u001b[0m\n\u001b[1;32m   4176\u001b[0m                 \u001b[0mnames\u001b[0m\u001b[0;34m.\u001b[0m\u001b[0mappend\u001b[0m\u001b[0;34m(\u001b[0m\u001b[0;32mNone\u001b[0m\u001b[0;34m)\u001b[0m\u001b[0;34m\u001b[0m\u001b[0;34m\u001b[0m\u001b[0m\n\u001b[1;32m   4177\u001b[0m             \u001b[0;32melse\u001b[0m\u001b[0;34m:\u001b[0m\u001b[0;34m\u001b[0m\u001b[0;34m\u001b[0m\u001b[0m\n\u001b[0;32m-> 4178\u001b[0;31m                 \u001b[0mlevel\u001b[0m \u001b[0;34m=\u001b[0m \u001b[0mframe\u001b[0m\u001b[0;34m[\u001b[0m\u001b[0mcol\u001b[0m\u001b[0;34m]\u001b[0m\u001b[0;34m.\u001b[0m\u001b[0m_values\u001b[0m\u001b[0;34m\u001b[0m\u001b[0;34m\u001b[0m\u001b[0m\n\u001b[0m\u001b[1;32m   4179\u001b[0m                 \u001b[0mnames\u001b[0m\u001b[0;34m.\u001b[0m\u001b[0mappend\u001b[0m\u001b[0;34m(\u001b[0m\u001b[0mcol\u001b[0m\u001b[0;34m)\u001b[0m\u001b[0;34m\u001b[0m\u001b[0;34m\u001b[0m\u001b[0m\n\u001b[1;32m   4180\u001b[0m                 \u001b[0;32mif\u001b[0m \u001b[0mdrop\u001b[0m\u001b[0;34m:\u001b[0m\u001b[0;34m\u001b[0m\u001b[0;34m\u001b[0m\u001b[0m\n",
      "\u001b[0;32m~/.local/lib/python3.6/site-packages/pandas/core/frame.py\u001b[0m in \u001b[0;36m__getitem__\u001b[0;34m(self, key)\u001b[0m\n\u001b[1;32m   2925\u001b[0m             \u001b[0;32mif\u001b[0m \u001b[0mself\u001b[0m\u001b[0;34m.\u001b[0m\u001b[0mcolumns\u001b[0m\u001b[0;34m.\u001b[0m\u001b[0mnlevels\u001b[0m \u001b[0;34m>\u001b[0m \u001b[0;36m1\u001b[0m\u001b[0;34m:\u001b[0m\u001b[0;34m\u001b[0m\u001b[0;34m\u001b[0m\u001b[0m\n\u001b[1;32m   2926\u001b[0m                 \u001b[0;32mreturn\u001b[0m \u001b[0mself\u001b[0m\u001b[0;34m.\u001b[0m\u001b[0m_getitem_multilevel\u001b[0m\u001b[0;34m(\u001b[0m\u001b[0mkey\u001b[0m\u001b[0;34m)\u001b[0m\u001b[0;34m\u001b[0m\u001b[0;34m\u001b[0m\u001b[0m\n\u001b[0;32m-> 2927\u001b[0;31m             \u001b[0mindexer\u001b[0m \u001b[0;34m=\u001b[0m \u001b[0mself\u001b[0m\u001b[0;34m.\u001b[0m\u001b[0mcolumns\u001b[0m\u001b[0;34m.\u001b[0m\u001b[0mget_loc\u001b[0m\u001b[0;34m(\u001b[0m\u001b[0mkey\u001b[0m\u001b[0;34m)\u001b[0m\u001b[0;34m\u001b[0m\u001b[0;34m\u001b[0m\u001b[0m\n\u001b[0m\u001b[1;32m   2928\u001b[0m             \u001b[0;32mif\u001b[0m \u001b[0mis_integer\u001b[0m\u001b[0;34m(\u001b[0m\u001b[0mindexer\u001b[0m\u001b[0;34m)\u001b[0m\u001b[0;34m:\u001b[0m\u001b[0;34m\u001b[0m\u001b[0;34m\u001b[0m\u001b[0m\n\u001b[1;32m   2929\u001b[0m                 \u001b[0mindexer\u001b[0m \u001b[0;34m=\u001b[0m \u001b[0;34m[\u001b[0m\u001b[0mindexer\u001b[0m\u001b[0;34m]\u001b[0m\u001b[0;34m\u001b[0m\u001b[0;34m\u001b[0m\u001b[0m\n",
      "\u001b[0;32m~/.local/lib/python3.6/site-packages/pandas/core/indexes/base.py\u001b[0m in \u001b[0;36mget_loc\u001b[0;34m(self, key, method, tolerance)\u001b[0m\n\u001b[1;32m   2656\u001b[0m                 \u001b[0;32mreturn\u001b[0m \u001b[0mself\u001b[0m\u001b[0;34m.\u001b[0m\u001b[0m_engine\u001b[0m\u001b[0;34m.\u001b[0m\u001b[0mget_loc\u001b[0m\u001b[0;34m(\u001b[0m\u001b[0mkey\u001b[0m\u001b[0;34m)\u001b[0m\u001b[0;34m\u001b[0m\u001b[0;34m\u001b[0m\u001b[0m\n\u001b[1;32m   2657\u001b[0m             \u001b[0;32mexcept\u001b[0m \u001b[0mKeyError\u001b[0m\u001b[0;34m:\u001b[0m\u001b[0;34m\u001b[0m\u001b[0;34m\u001b[0m\u001b[0m\n\u001b[0;32m-> 2658\u001b[0;31m                 \u001b[0;32mreturn\u001b[0m \u001b[0mself\u001b[0m\u001b[0;34m.\u001b[0m\u001b[0m_engine\u001b[0m\u001b[0;34m.\u001b[0m\u001b[0mget_loc\u001b[0m\u001b[0;34m(\u001b[0m\u001b[0mself\u001b[0m\u001b[0;34m.\u001b[0m\u001b[0m_maybe_cast_indexer\u001b[0m\u001b[0;34m(\u001b[0m\u001b[0mkey\u001b[0m\u001b[0;34m)\u001b[0m\u001b[0;34m)\u001b[0m\u001b[0;34m\u001b[0m\u001b[0;34m\u001b[0m\u001b[0m\n\u001b[0m\u001b[1;32m   2659\u001b[0m         \u001b[0mindexer\u001b[0m \u001b[0;34m=\u001b[0m \u001b[0mself\u001b[0m\u001b[0;34m.\u001b[0m\u001b[0mget_indexer\u001b[0m\u001b[0;34m(\u001b[0m\u001b[0;34m[\u001b[0m\u001b[0mkey\u001b[0m\u001b[0;34m]\u001b[0m\u001b[0;34m,\u001b[0m \u001b[0mmethod\u001b[0m\u001b[0;34m=\u001b[0m\u001b[0mmethod\u001b[0m\u001b[0;34m,\u001b[0m \u001b[0mtolerance\u001b[0m\u001b[0;34m=\u001b[0m\u001b[0mtolerance\u001b[0m\u001b[0;34m)\u001b[0m\u001b[0;34m\u001b[0m\u001b[0;34m\u001b[0m\u001b[0m\n\u001b[1;32m   2660\u001b[0m         \u001b[0;32mif\u001b[0m \u001b[0mindexer\u001b[0m\u001b[0;34m.\u001b[0m\u001b[0mndim\u001b[0m \u001b[0;34m>\u001b[0m \u001b[0;36m1\u001b[0m \u001b[0;32mor\u001b[0m \u001b[0mindexer\u001b[0m\u001b[0;34m.\u001b[0m\u001b[0msize\u001b[0m \u001b[0;34m>\u001b[0m \u001b[0;36m1\u001b[0m\u001b[0;34m:\u001b[0m\u001b[0;34m\u001b[0m\u001b[0;34m\u001b[0m\u001b[0m\n",
      "\u001b[0;32mpandas/_libs/index.pyx\u001b[0m in \u001b[0;36mpandas._libs.index.IndexEngine.get_loc\u001b[0;34m()\u001b[0m\n",
      "\u001b[0;32mpandas/_libs/index.pyx\u001b[0m in \u001b[0;36mpandas._libs.index.IndexEngine.get_loc\u001b[0;34m()\u001b[0m\n",
      "\u001b[0;32mpandas/_libs/hashtable_class_helper.pxi\u001b[0m in \u001b[0;36mpandas._libs.hashtable.PyObjectHashTable.get_item\u001b[0;34m()\u001b[0m\n",
      "\u001b[0;32mpandas/_libs/hashtable_class_helper.pxi\u001b[0m in \u001b[0;36mpandas._libs.hashtable.PyObjectHashTable.get_item\u001b[0;34m()\u001b[0m\n",
      "\u001b[0;31mKeyError\u001b[0m: 'WBCode'"
     ]
    }
   ],
   "source": [
    "gov = pd.read_excel(\"PoliticalStabilityNoViolence_2.xls\")\n",
    "gov = gov.dropna()\n",
    "gdp = pd.read_csv(\"gdp_per_cap.csv\")\n",
    "\n",
    "p = figure(title = \"PIB par habitant en fonction de la stabilité du gouvernement\",\n",
    "            x_axis_label=\"Stabilité du gouvernement\",y_axis_label=\"2015 GDP\",\n",
    "            y_axis_type=\"log\"\n",
    "          )\n",
    "df = gdp.set_index(\"Country Code\").join(gov.set_index(\"WBCode\"),how=\"inner\",rsuffix=\"_2\")\n",
    "\n",
    "source = ColumnDataSource(data={\"x\":df[2010], \"y\":df[\"2015\"], \"label\":df[\"Country Name\"]})\n",
    "\n",
    "p.circle(x=\"x\",y=\"y\", source=source, fill_alpha=0.2, size=10)\n",
    "\n",
    "labels = LabelSet(x=\"x\",y=\"y\",source=source, text=\"label\", y_offset=8,\n",
    "                  text_font_size=\"8pt\", text_color=\"#555555\",\n",
    "                  text_align='center')\n",
    "p.add_layout(labels)\n",
    "\n",
    "show(p)"
   ]
  },
  {
   "cell_type": "code",
   "execution_count": 220,
   "metadata": {},
   "outputs": [
    {
     "data": {
      "application/vnd.plotly.v1+json": {
       "config": {
        "linkText": "Export to plot.ly",
        "plotlyServerURL": "https://plot.ly",
        "showLink": false
       },
       "data": [
        {
         "autocolorscale": true,
         "colorbar": {
          "title": {
           "text": "Index de<br>l\\efficacité du gouvernement"
          }
         },
         "locations": [
          "ABW",
          "ADO",
          "AFG",
          "AGO",
          "AIA",
          "ALB",
          "ARE",
          "ARG",
          "ARM",
          "ASM",
          "ATG",
          "AUS",
          "AUT",
          "AZE",
          "BDI",
          "BEL",
          "BEN",
          "BFA",
          "BGD",
          "BGR",
          "BHR",
          "BHS",
          "BIH",
          "BLR",
          "BLZ",
          "BMU",
          "BOL",
          "BRA",
          "BRB",
          "BRN",
          "BTN",
          "SSD",
          "BWA",
          "CAF",
          "CAN",
          "CHE",
          "CHL",
          "CHN",
          "CIV",
          "CMR",
          "COG",
          "COL",
          "COM",
          "CPV",
          "CRI",
          "CUB",
          "CYM",
          "CYP",
          "CZE",
          "DEU",
          "DJI",
          "DMA",
          "DNK",
          "DOM",
          "DZA",
          "ECU",
          "EGY",
          "ERI",
          "ESP",
          "EST",
          "ETH",
          "FIN",
          "FJI",
          "FRA",
          "FSM",
          "GAB",
          "GBR",
          "GEO",
          "GHA",
          "GIN",
          "GMB",
          "GNB",
          "GNQ",
          "GRC",
          "GRD",
          "GRL",
          "GTM",
          "GUF",
          "GUM",
          "GUY",
          "HKG",
          "HND",
          "HRV",
          "HTI",
          "HUN",
          "IDN",
          "IND",
          "IRL",
          "IRN",
          "IRQ",
          "ISL",
          "ISR",
          "ITA",
          "JAM",
          "JOR",
          "JPN",
          "KAZ",
          "KEN",
          "KGZ",
          "KHM",
          "KIR",
          "KNA",
          "KOR",
          "KWT",
          "LAO",
          "LBN",
          "LBR",
          "LBY",
          "LCA",
          "LIE",
          "LKA",
          "LSO",
          "LTU",
          "LUX",
          "LVA",
          "KSV",
          "MAC",
          "MAR",
          "MDA",
          "MDG",
          "MDV",
          "MEX",
          "MHL",
          "MKD",
          "MLI",
          "MLT",
          "MMR",
          "MNG",
          "MNE",
          "MOZ",
          "MRT",
          "MTQ",
          "MUS",
          "MWI",
          "MYS",
          "NAM",
          "NER",
          "NGA",
          "NIC",
          "NLD",
          "NOR",
          "NPL",
          "NRU",
          "NZL",
          "OMN",
          "PAK",
          "PAN",
          "PLW",
          "PER",
          "PHL",
          "PNG",
          "POL",
          "PRI",
          "PRK",
          "PRT",
          "PRY",
          "QAT",
          "REU",
          "ROM",
          "RUS",
          "RWA",
          "WSM",
          "SAU",
          "SDN",
          "SEN",
          "SGP",
          "SLB",
          "SLE",
          "SLV",
          "SOM",
          "STP",
          "SUR",
          "SVK",
          "SVN",
          "SWE",
          "SWZ",
          "SYC",
          "SYR",
          "TCD",
          "TGO",
          "THA",
          "TJK",
          "TKM",
          "TMP",
          "TON",
          "TTO",
          "TUN",
          "TUR",
          "TUV",
          "TWN",
          "TZA",
          "UGA",
          "UKR",
          "URY",
          "USA",
          "UZB",
          "VCT",
          "VEN",
          "VIR",
          "VNM",
          "VUT",
          "WBG",
          "JEY",
          "YEM",
          "SRB",
          "ZAF",
          "ZAR",
          "ZMB",
          "ZWE"
         ],
         "marker": {
          "line": {
           "color": "black",
           "width": 1
          }
         },
         "reversescale": true,
         "text": [
          "Aruba",
          "Andorra",
          "Afghanistan",
          "Angola",
          "Anguilla",
          "Albania",
          "United Arab Emirates",
          "Argentina",
          "Armenia",
          "American Samoa",
          "Antigua and Barbuda",
          "Australia",
          "Austria",
          "Azerbaijan",
          "Burundi",
          "Belgium",
          "Benin",
          "Burkina Faso",
          "Bangladesh",
          "Bulgaria",
          "Bahrain",
          "Bahamas, The",
          "Bosnia and Herzegovina",
          "Belarus",
          "Belize",
          "Bermuda",
          "Bolivia",
          "Brazil",
          "Barbados",
          "Brunei Darussalam",
          "Bhutan",
          "South Sudan",
          "Botswana",
          "Central African Republic",
          "Canada",
          "Switzerland",
          "Chile",
          "China",
          "Côte d'Ivoire",
          "Cameroon",
          "Congo, Rep.",
          "Colombia",
          "Comoros",
          "Cape Verde",
          "Costa Rica",
          "Cuba",
          "Cayman Islands",
          "Cyprus",
          "Czech Republic",
          "Germany",
          "Djibouti",
          "Dominica",
          "Denmark",
          "Dominican Republic",
          "Algeria",
          "Ecuador",
          "Egypt, Arab Rep.",
          "Eritrea",
          "Spain",
          "Estonia",
          "Ethiopia",
          "Finland",
          "Fiji",
          "France",
          "Micronesia, Fed. Sts.",
          "Gabon",
          "United Kingdom",
          "Georgia",
          "Ghana",
          "Guinea",
          "Gambia, The",
          "Guinea-Bissau",
          "Equatorial Guinea",
          "Greece",
          "Grenada",
          "Greenland",
          "Guatemala",
          "French Guiana",
          "Guam",
          "Guyana",
          "Hong Kong SAR, China",
          "Honduras",
          "Croatia",
          "Haiti",
          "Hungary",
          "Indonesia",
          "India",
          "Ireland",
          "Iran, Islamic Rep.",
          "Iraq",
          "Iceland",
          "Israel",
          "Italy",
          "Jamaica",
          "Jordan",
          "Japan",
          "Kazakhstan",
          "Kenya",
          "Kyrgyz Republic",
          "Cambodia",
          "Kiribati",
          "St. Kitts and Nevis",
          "Korea, Rep.",
          "Kuwait",
          "Lao PDR",
          "Lebanon",
          "Liberia",
          "Libya",
          "St. Lucia",
          "Liechtenstein",
          "Sri Lanka",
          "Lesotho",
          "Lithuania",
          "Luxembourg",
          "Latvia",
          "Kosovo",
          "Macao SAR, China",
          "Morocco",
          "Moldova",
          "Madagascar",
          "Maldives",
          "Mexico",
          "Marshall Islands",
          "Macedonia, FYR",
          "Mali",
          "Malta",
          "Myanmar",
          "Mongolia",
          "Montenegro",
          "Mozambique",
          "Mauritania",
          "Martinique",
          "Mauritius",
          "Malawi",
          "Malaysia",
          "Namibia",
          "Niger",
          "Nigeria",
          "Nicaragua",
          "Netherlands",
          "Norway",
          "Nepal",
          "Nauru",
          "New Zealand",
          "Oman",
          "Pakistan",
          "Panama",
          "Palau",
          "Peru",
          "Philippines",
          "Papua New Guinea",
          "Poland",
          "Puerto Rico",
          "Korea, Dem. Rep.",
          "Portugal",
          "Paraguay",
          "Qatar",
          "Réunion",
          "Romania",
          "Russian Federation",
          "Rwanda",
          "Samoa",
          "Saudi Arabia",
          "Sudan",
          "Senegal",
          "Singapore",
          "Solomon Islands",
          "Sierra Leone",
          "El Salvador",
          "Somalia",
          "São Tomé and Principe",
          "Suriname",
          "Slovak Republic",
          "Slovenia",
          "Sweden",
          "Swaziland",
          "Seychelles",
          "Syrian Arab Republic",
          "Chad",
          "Togo",
          "Thailand",
          "Tajikistan",
          "Turkmenistan",
          "Timor-Leste",
          "Tonga",
          "Trinidad and Tobago",
          "Tunisia",
          "Turkey",
          "Tuvalu",
          "Taiwan, China",
          "Tanzania",
          "Uganda",
          "Ukraine",
          "Uruguay",
          "United States",
          "Uzbekistan",
          "St. Vincent and the Grenadines",
          "Venezuela, RB",
          "Virgin Islands (U.S.)",
          "Vietnam",
          "Vanuatu",
          "West Bank and Gaza",
          "Jersey, Channel Islands",
          "Yemen, Rep.",
          "Serbia",
          "South Africa",
          "Congo, Dem. Rep.",
          "Zambia",
          "Zimbabwe"
         ],
         "type": "choropleth",
         "uid": "d99aebfc-b185-4215-9ce6-c50006f30722",
         "z": [
          0.8837699294090271,
          1.7874972820282,
          -1.32298874855042,
          -1.00009155273438,
          1.00754570960999,
          0.0104044936597347,
          1.50987184047699,
          -0.0749032497406006,
          -0.16071256995201103,
          0.48757803440094,
          0.22759422659874,
          1.56480348110199,
          1.47938799858093,
          -0.257282048463821,
          -1.15900468826294,
          1.43869757652283,
          -0.621204197406769,
          -0.5866176486015321,
          -0.723579227924347,
          0.20881648361682903,
          0.55996960401535,
          0.7129299640655521,
          -0.545209169387817,
          -0.4587721824646,
          -0.684154152870178,
          1.00754570960999,
          -0.65194433927536,
          -0.18399612605571802,
          1.02539241313934,
          1.06017053127289,
          0.40649127960205106,
          -2.16317939758301,
          0.49742385745048506,
          -1.7847170829773,
          1.76237082481384,
          1.9983658790588401,
          1.08632385730743,
          0.40801733732223505,
          -0.6817607283592221,
          -0.7733104825019841,
          -1.022181391716,
          -0.036017831414938,
          -1.5220474004745501,
          0.14783576130867,
          0.375762790441513,
          0.021879579871892898,
          1.16701507568359,
          1.04883742332459,
          1.04672694206238,
          1.73711729049683,
          -0.954309046268463,
          0.11743610352277802,
          1.84822678565979,
          -0.357235848903656,
          -0.500323355197907,
          -0.442261695861816,
          -0.7522207498550421,
          -1.59330832958221,
          1.17426574230194,
          1.0681973695755,
          -0.646661102771759,
          1.81330573558807,
          -0.29120352864265403,
          1.4370529651641801,
          -0.396936297416687,
          -0.733563959598541,
          1.7440323829650901,
          0.40468311309814503,
          -0.251235663890839,
          -1.14242351055145,
          -0.9034616351127621,
          -1.61314022541046,
          -1.41788148880005,
          0.25619912147522,
          -0.19617471098899802,
          0.8679896593093871,
          -0.7110018134117131,
          1.12284135818481,
          0.48757803440094,
          -0.33540627360343905,
          1.90947997570038,
          -0.8215391635894781,
          0.514013350009918,
          -2.01638102531433,
          0.49741441011428805,
          -0.24053333699703203,
          0.0904637798666954,
          1.53334879875183,
          -0.208824545145035,
          -1.24644660949707,
          1.4923415184021,
          1.38803458213806,
          0.448110193014145,
          0.24875952303409601,
          0.12261170893907501,
          1.78481245040894,
          -0.0732103958725929,
          -0.294141680002213,
          -0.914483785629272,
          -0.6994130611419681,
          -0.48976176977157604,
          0.11743610352277802,
          1.01260781288147,
          -0.0331108085811138,
          -0.51050466299057,
          -0.47422698140144404,
          -1.39389061927795,
          -1.65316522121429,
          -0.0791231319308281,
          1.68933165073395,
          -0.009144780226051811,
          -0.68434065580368,
          1.1851658821106,
          1.7243636846542398,
          1.08966612815857,
          -0.40961986780166604,
          1.45026004314423,
          -0.0619438476860523,
          -0.6546550989151,
          -1.29816854000092,
          -0.37579274177551303,
          0.209704726934433,
          -1.60120379924774,
          0.11849307268858,
          -0.93202418088913,
          0.850626289844513,
          -1.23860764503479,
          -0.41869005560874906,
          0.15574733912944802,
          -0.7462663054466251,
          -1.02687811851501,
          0.7475618720054631,
          1.04944086074829,
          -0.67316061258316,
          0.9491638541221621,
          0.253775209188461,
          -0.605987727642059,
          -0.9626727104187011,
          -0.815875172615051,
          1.83280348777771,
          1.86479914188385,
          -1.05364060401917,
          -0.5362783670425421,
          1.88467752933502,
          0.0815463364124298,
          -0.6674730181694031,
          0.292337387800217,
          -0.5362783670425421,
          -0.276903688907623,
          0.11236677318811401,
          -0.606489777565002,
          0.7989756464958191,
          0.358805984258652,
          -1.63266801834106,
          1.22057616710663,
          -0.9483696818351741,
          0.9551266431808471,
          1.00754570960999,
          -0.056023832410574,
          -0.20435051620006603,
          -0.0457356460392475,
          0.508672714233398,
          0.200066909193993,
          -1.4623938798904401,
          -0.45029726624488803,
          2.23675608634949,
          -1.02436709403992,
          -1.27970552444458,
          -0.23549878597259502,
          -2.19696307182312,
          -0.750870883464813,
          -0.345765233039856,
          0.837920010089874,
          0.9726287126541141,
          1.8161975145340001,
          -0.538646459579468,
          0.42301020026207,
          -1.59046018123627,
          -1.46107089519501,
          -1.18944823741913,
          0.350277572870255,
          -0.8482234477996831,
          -0.850448787212372,
          -1.04552435874939,
          -0.33013793826103205,
          0.23260095715522802,
          -0.10331275314092601,
          0.22311984002590202,
          -0.9635050296783451,
          1.39601683616638,
          -0.610555469989777,
          -0.48569321632385304,
          -0.523523628711701,
          0.529026389122009,
          1.46378195285797,
          -0.6717844009399421,
          0.029985474422574,
          -1.2199319601059,
          1.26752960681915,
          0.0675190687179565,
          -0.7836012840271,
          -0.47377881407737704,
          1.2998522520065299,
          -1.62715256214142,
          0.111243814229965,
          0.261675387620926,
          -1.62925243377686,
          -0.560079753398895,
          -1.15571141242981
         ]
        }
       ],
       "layout": {
        "annotations": [
         {
          "showarrow": false,
          "text": "",
          "x": 0.55,
          "xref": "paper",
          "y": 0.1,
          "yref": "paper"
         }
        ],
        "geo": {
         "projection": {
          "type": "equirectangular"
         },
         "showcoastlines": false,
         "showframe": false
        },
        "title": {
         "text": "Index de l'efficacité du gouvernement"
        }
       }
      },
      "text/html": [
       "<div id=\"36c354dd-7765-446b-b8aa-1b796f5f2d6e\" style=\"height: 525px; width: 100%;\" class=\"plotly-graph-div\"></div><script type=\"text/javascript\">require([\"plotly\"], function(Plotly) { window.PLOTLYENV=window.PLOTLYENV || {};window.PLOTLYENV.BASE_URL=\"https://plot.ly\";\n",
       "if (document.getElementById(\"36c354dd-7765-446b-b8aa-1b796f5f2d6e\")) {\n",
       "    Plotly.newPlot(\"36c354dd-7765-446b-b8aa-1b796f5f2d6e\", [{\"autocolorscale\": true, \"colorbar\": {\"title\": {\"text\": \"Index de<br>l\\\\efficacit\\u00e9 du gouvernement\"}}, \"locations\": [\"ABW\", \"ADO\", \"AFG\", \"AGO\", \"AIA\", \"ALB\", \"ARE\", \"ARG\", \"ARM\", \"ASM\", \"ATG\", \"AUS\", \"AUT\", \"AZE\", \"BDI\", \"BEL\", \"BEN\", \"BFA\", \"BGD\", \"BGR\", \"BHR\", \"BHS\", \"BIH\", \"BLR\", \"BLZ\", \"BMU\", \"BOL\", \"BRA\", \"BRB\", \"BRN\", \"BTN\", \"SSD\", \"BWA\", \"CAF\", \"CAN\", \"CHE\", \"CHL\", \"CHN\", \"CIV\", \"CMR\", \"COG\", \"COL\", \"COM\", \"CPV\", \"CRI\", \"CUB\", \"CYM\", \"CYP\", \"CZE\", \"DEU\", \"DJI\", \"DMA\", \"DNK\", \"DOM\", \"DZA\", \"ECU\", \"EGY\", \"ERI\", \"ESP\", \"EST\", \"ETH\", \"FIN\", \"FJI\", \"FRA\", \"FSM\", \"GAB\", \"GBR\", \"GEO\", \"GHA\", \"GIN\", \"GMB\", \"GNB\", \"GNQ\", \"GRC\", \"GRD\", \"GRL\", \"GTM\", \"GUF\", \"GUM\", \"GUY\", \"HKG\", \"HND\", \"HRV\", \"HTI\", \"HUN\", \"IDN\", \"IND\", \"IRL\", \"IRN\", \"IRQ\", \"ISL\", \"ISR\", \"ITA\", \"JAM\", \"JOR\", \"JPN\", \"KAZ\", \"KEN\", \"KGZ\", \"KHM\", \"KIR\", \"KNA\", \"KOR\", \"KWT\", \"LAO\", \"LBN\", \"LBR\", \"LBY\", \"LCA\", \"LIE\", \"LKA\", \"LSO\", \"LTU\", \"LUX\", \"LVA\", \"KSV\", \"MAC\", \"MAR\", \"MDA\", \"MDG\", \"MDV\", \"MEX\", \"MHL\", \"MKD\", \"MLI\", \"MLT\", \"MMR\", \"MNG\", \"MNE\", \"MOZ\", \"MRT\", \"MTQ\", \"MUS\", \"MWI\", \"MYS\", \"NAM\", \"NER\", \"NGA\", \"NIC\", \"NLD\", \"NOR\", \"NPL\", \"NRU\", \"NZL\", \"OMN\", \"PAK\", \"PAN\", \"PLW\", \"PER\", \"PHL\", \"PNG\", \"POL\", \"PRI\", \"PRK\", \"PRT\", \"PRY\", \"QAT\", \"REU\", \"ROM\", \"RUS\", \"RWA\", \"WSM\", \"SAU\", \"SDN\", \"SEN\", \"SGP\", \"SLB\", \"SLE\", \"SLV\", \"SOM\", \"STP\", \"SUR\", \"SVK\", \"SVN\", \"SWE\", \"SWZ\", \"SYC\", \"SYR\", \"TCD\", \"TGO\", \"THA\", \"TJK\", \"TKM\", \"TMP\", \"TON\", \"TTO\", \"TUN\", \"TUR\", \"TUV\", \"TWN\", \"TZA\", \"UGA\", \"UKR\", \"URY\", \"USA\", \"UZB\", \"VCT\", \"VEN\", \"VIR\", \"VNM\", \"VUT\", \"WBG\", \"JEY\", \"YEM\", \"SRB\", \"ZAF\", \"ZAR\", \"ZMB\", \"ZWE\"], \"marker\": {\"line\": {\"color\": \"black\", \"width\": 1}}, \"reversescale\": true, \"text\": [\"Aruba\", \"Andorra\", \"Afghanistan\", \"Angola\", \"Anguilla\", \"Albania\", \"United Arab Emirates\", \"Argentina\", \"Armenia\", \"American Samoa\", \"Antigua and Barbuda\", \"Australia\", \"Austria\", \"Azerbaijan\", \"Burundi\", \"Belgium\", \"Benin\", \"Burkina Faso\", \"Bangladesh\", \"Bulgaria\", \"Bahrain\", \"Bahamas, The\", \"Bosnia and Herzegovina\", \"Belarus\", \"Belize\", \"Bermuda\", \"Bolivia\", \"Brazil\", \"Barbados\", \"Brunei Darussalam\", \"Bhutan\", \"South Sudan\", \"Botswana\", \"Central African Republic\", \"Canada\", \"Switzerland\", \"Chile\", \"China\", \"C\\u00f4te d'Ivoire\", \"Cameroon\", \"Congo, Rep.\", \"Colombia\", \"Comoros\", \"Cape Verde\", \"Costa Rica\", \"Cuba\", \"Cayman Islands\", \"Cyprus\", \"Czech Republic\", \"Germany\", \"Djibouti\", \"Dominica\", \"Denmark\", \"Dominican Republic\", \"Algeria\", \"Ecuador\", \"Egypt, Arab Rep.\", \"Eritrea\", \"Spain\", \"Estonia\", \"Ethiopia\", \"Finland\", \"Fiji\", \"France\", \"Micronesia, Fed. Sts.\", \"Gabon\", \"United Kingdom\", \"Georgia\", \"Ghana\", \"Guinea\", \"Gambia, The\", \"Guinea-Bissau\", \"Equatorial Guinea\", \"Greece\", \"Grenada\", \"Greenland\", \"Guatemala\", \"French Guiana\", \"Guam\", \"Guyana\", \"Hong Kong SAR, China\", \"Honduras\", \"Croatia\", \"Haiti\", \"Hungary\", \"Indonesia\", \"India\", \"Ireland\", \"Iran, Islamic Rep.\", \"Iraq\", \"Iceland\", \"Israel\", \"Italy\", \"Jamaica\", \"Jordan\", \"Japan\", \"Kazakhstan\", \"Kenya\", \"Kyrgyz Republic\", \"Cambodia\", \"Kiribati\", \"St. Kitts and Nevis\", \"Korea, Rep.\", \"Kuwait\", \"Lao PDR\", \"Lebanon\", \"Liberia\", \"Libya\", \"St. Lucia\", \"Liechtenstein\", \"Sri Lanka\", \"Lesotho\", \"Lithuania\", \"Luxembourg\", \"Latvia\", \"Kosovo\", \"Macao SAR, China\", \"Morocco\", \"Moldova\", \"Madagascar\", \"Maldives\", \"Mexico\", \"Marshall Islands\", \"Macedonia, FYR\", \"Mali\", \"Malta\", \"Myanmar\", \"Mongolia\", \"Montenegro\", \"Mozambique\", \"Mauritania\", \"Martinique\", \"Mauritius\", \"Malawi\", \"Malaysia\", \"Namibia\", \"Niger\", \"Nigeria\", \"Nicaragua\", \"Netherlands\", \"Norway\", \"Nepal\", \"Nauru\", \"New Zealand\", \"Oman\", \"Pakistan\", \"Panama\", \"Palau\", \"Peru\", \"Philippines\", \"Papua New Guinea\", \"Poland\", \"Puerto Rico\", \"Korea, Dem. Rep.\", \"Portugal\", \"Paraguay\", \"Qatar\", \"R\\u00e9union\", \"Romania\", \"Russian Federation\", \"Rwanda\", \"Samoa\", \"Saudi Arabia\", \"Sudan\", \"Senegal\", \"Singapore\", \"Solomon Islands\", \"Sierra Leone\", \"El Salvador\", \"Somalia\", \"S\\u00e3o Tom\\u00e9 and Principe\", \"Suriname\", \"Slovak Republic\", \"Slovenia\", \"Sweden\", \"Swaziland\", \"Seychelles\", \"Syrian Arab Republic\", \"Chad\", \"Togo\", \"Thailand\", \"Tajikistan\", \"Turkmenistan\", \"Timor-Leste\", \"Tonga\", \"Trinidad and Tobago\", \"Tunisia\", \"Turkey\", \"Tuvalu\", \"Taiwan, China\", \"Tanzania\", \"Uganda\", \"Ukraine\", \"Uruguay\", \"United States\", \"Uzbekistan\", \"St. Vincent and the Grenadines\", \"Venezuela, RB\", \"Virgin Islands (U.S.)\", \"Vietnam\", \"Vanuatu\", \"West Bank and Gaza\", \"Jersey, Channel Islands\", \"Yemen, Rep.\", \"Serbia\", \"South Africa\", \"Congo, Dem. Rep.\", \"Zambia\", \"Zimbabwe\"], \"z\": [0.8837699294090271, 1.7874972820282, -1.32298874855042, -1.00009155273438, 1.00754570960999, 0.0104044936597347, 1.50987184047699, -0.0749032497406006, -0.16071256995201103, 0.48757803440094, 0.22759422659874, 1.56480348110199, 1.47938799858093, -0.257282048463821, -1.15900468826294, 1.43869757652283, -0.621204197406769, -0.5866176486015321, -0.723579227924347, 0.20881648361682903, 0.55996960401535, 0.7129299640655521, -0.545209169387817, -0.4587721824646, -0.684154152870178, 1.00754570960999, -0.65194433927536, -0.18399612605571802, 1.02539241313934, 1.06017053127289, 0.40649127960205106, -2.16317939758301, 0.49742385745048506, -1.7847170829773, 1.76237082481384, 1.9983658790588401, 1.08632385730743, 0.40801733732223505, -0.6817607283592221, -0.7733104825019841, -1.022181391716, -0.036017831414938, -1.5220474004745501, 0.14783576130867, 0.375762790441513, 0.021879579871892898, 1.16701507568359, 1.04883742332459, 1.04672694206238, 1.73711729049683, -0.954309046268463, 0.11743610352277802, 1.84822678565979, -0.357235848903656, -0.500323355197907, -0.442261695861816, -0.7522207498550421, -1.59330832958221, 1.17426574230194, 1.0681973695755, -0.646661102771759, 1.81330573558807, -0.29120352864265403, 1.4370529651641801, -0.396936297416687, -0.733563959598541, 1.7440323829650901, 0.40468311309814503, -0.251235663890839, -1.14242351055145, -0.9034616351127621, -1.61314022541046, -1.41788148880005, 0.25619912147522, -0.19617471098899802, 0.8679896593093871, -0.7110018134117131, 1.12284135818481, 0.48757803440094, -0.33540627360343905, 1.90947997570038, -0.8215391635894781, 0.514013350009918, -2.01638102531433, 0.49741441011428805, -0.24053333699703203, 0.0904637798666954, 1.53334879875183, -0.208824545145035, -1.24644660949707, 1.4923415184021, 1.38803458213806, 0.448110193014145, 0.24875952303409601, 0.12261170893907501, 1.78481245040894, -0.0732103958725929, -0.294141680002213, -0.914483785629272, -0.6994130611419681, -0.48976176977157604, 0.11743610352277802, 1.01260781288147, -0.0331108085811138, -0.51050466299057, -0.47422698140144404, -1.39389061927795, -1.65316522121429, -0.0791231319308281, 1.68933165073395, -0.009144780226051811, -0.68434065580368, 1.1851658821106, 1.7243636846542398, 1.08966612815857, -0.40961986780166604, 1.45026004314423, -0.0619438476860523, -0.6546550989151, -1.29816854000092, -0.37579274177551303, 0.209704726934433, -1.60120379924774, 0.11849307268858, -0.93202418088913, 0.850626289844513, -1.23860764503479, -0.41869005560874906, 0.15574733912944802, -0.7462663054466251, -1.02687811851501, 0.7475618720054631, 1.04944086074829, -0.67316061258316, 0.9491638541221621, 0.253775209188461, -0.605987727642059, -0.9626727104187011, -0.815875172615051, 1.83280348777771, 1.86479914188385, -1.05364060401917, -0.5362783670425421, 1.88467752933502, 0.0815463364124298, -0.6674730181694031, 0.292337387800217, -0.5362783670425421, -0.276903688907623, 0.11236677318811401, -0.606489777565002, 0.7989756464958191, 0.358805984258652, -1.63266801834106, 1.22057616710663, -0.9483696818351741, 0.9551266431808471, 1.00754570960999, -0.056023832410574, -0.20435051620006603, -0.0457356460392475, 0.508672714233398, 0.200066909193993, -1.4623938798904401, -0.45029726624488803, 2.23675608634949, -1.02436709403992, -1.27970552444458, -0.23549878597259502, -2.19696307182312, -0.750870883464813, -0.345765233039856, 0.837920010089874, 0.9726287126541141, 1.8161975145340001, -0.538646459579468, 0.42301020026207, -1.59046018123627, -1.46107089519501, -1.18944823741913, 0.350277572870255, -0.8482234477996831, -0.850448787212372, -1.04552435874939, -0.33013793826103205, 0.23260095715522802, -0.10331275314092601, 0.22311984002590202, -0.9635050296783451, 1.39601683616638, -0.610555469989777, -0.48569321632385304, -0.523523628711701, 0.529026389122009, 1.46378195285797, -0.6717844009399421, 0.029985474422574, -1.2199319601059, 1.26752960681915, 0.0675190687179565, -0.7836012840271, -0.47377881407737704, 1.2998522520065299, -1.62715256214142, 0.111243814229965, 0.261675387620926, -1.62925243377686, -0.560079753398895, -1.15571141242981], \"type\": \"choropleth\", \"uid\": \"d99aebfc-b185-4215-9ce6-c50006f30722\"}], {\"annotations\": [{\"showarrow\": false, \"text\": \"\", \"x\": 0.55, \"xref\": \"paper\", \"y\": 0.1, \"yref\": \"paper\"}], \"geo\": {\"projection\": {\"type\": \"equirectangular\"}, \"showcoastlines\": false, \"showframe\": false}, \"title\": {\"text\": \"Index de l'efficacit\\u00e9 du gouvernement\"}}, {\"showLink\": false, \"linkText\": \"Export to plot.ly\", \"plotlyServerURL\": \"https://plot.ly\"}); \n",
       "}\n",
       "});</script><script type=\"text/javascript\">window.addEventListener(\"resize\", function(){if (document.getElementById(\"36c354dd-7765-446b-b8aa-1b796f5f2d6e\")) {window._Plotly.Plots.resize(document.getElementById(\"36c354dd-7765-446b-b8aa-1b796f5f2d6e\"));};})</script>"
      ],
      "text/vnd.plotly.v1+html": [
       "<div id=\"36c354dd-7765-446b-b8aa-1b796f5f2d6e\" style=\"height: 525px; width: 100%;\" class=\"plotly-graph-div\"></div><script type=\"text/javascript\">require([\"plotly\"], function(Plotly) { window.PLOTLYENV=window.PLOTLYENV || {};window.PLOTLYENV.BASE_URL=\"https://plot.ly\";\n",
       "if (document.getElementById(\"36c354dd-7765-446b-b8aa-1b796f5f2d6e\")) {\n",
       "    Plotly.newPlot(\"36c354dd-7765-446b-b8aa-1b796f5f2d6e\", [{\"autocolorscale\": true, \"colorbar\": {\"title\": {\"text\": \"Index de<br>l\\\\efficacit\\u00e9 du gouvernement\"}}, \"locations\": [\"ABW\", \"ADO\", \"AFG\", \"AGO\", \"AIA\", \"ALB\", \"ARE\", \"ARG\", \"ARM\", \"ASM\", \"ATG\", \"AUS\", \"AUT\", \"AZE\", \"BDI\", \"BEL\", \"BEN\", \"BFA\", \"BGD\", \"BGR\", \"BHR\", \"BHS\", \"BIH\", \"BLR\", \"BLZ\", \"BMU\", \"BOL\", \"BRA\", \"BRB\", \"BRN\", \"BTN\", \"SSD\", \"BWA\", \"CAF\", \"CAN\", \"CHE\", \"CHL\", \"CHN\", \"CIV\", \"CMR\", \"COG\", \"COL\", \"COM\", \"CPV\", \"CRI\", \"CUB\", \"CYM\", \"CYP\", \"CZE\", \"DEU\", \"DJI\", \"DMA\", \"DNK\", \"DOM\", \"DZA\", \"ECU\", \"EGY\", \"ERI\", \"ESP\", \"EST\", \"ETH\", \"FIN\", \"FJI\", \"FRA\", \"FSM\", \"GAB\", \"GBR\", \"GEO\", \"GHA\", \"GIN\", \"GMB\", \"GNB\", \"GNQ\", \"GRC\", \"GRD\", \"GRL\", \"GTM\", \"GUF\", \"GUM\", \"GUY\", \"HKG\", \"HND\", \"HRV\", \"HTI\", \"HUN\", \"IDN\", \"IND\", \"IRL\", \"IRN\", \"IRQ\", \"ISL\", \"ISR\", \"ITA\", \"JAM\", \"JOR\", \"JPN\", \"KAZ\", \"KEN\", \"KGZ\", \"KHM\", \"KIR\", \"KNA\", \"KOR\", \"KWT\", \"LAO\", \"LBN\", \"LBR\", \"LBY\", \"LCA\", \"LIE\", \"LKA\", \"LSO\", \"LTU\", \"LUX\", \"LVA\", \"KSV\", \"MAC\", \"MAR\", \"MDA\", \"MDG\", \"MDV\", \"MEX\", \"MHL\", \"MKD\", \"MLI\", \"MLT\", \"MMR\", \"MNG\", \"MNE\", \"MOZ\", \"MRT\", \"MTQ\", \"MUS\", \"MWI\", \"MYS\", \"NAM\", \"NER\", \"NGA\", \"NIC\", \"NLD\", \"NOR\", \"NPL\", \"NRU\", \"NZL\", \"OMN\", \"PAK\", \"PAN\", \"PLW\", \"PER\", \"PHL\", \"PNG\", \"POL\", \"PRI\", \"PRK\", \"PRT\", \"PRY\", \"QAT\", \"REU\", \"ROM\", \"RUS\", \"RWA\", \"WSM\", \"SAU\", \"SDN\", \"SEN\", \"SGP\", \"SLB\", \"SLE\", \"SLV\", \"SOM\", \"STP\", \"SUR\", \"SVK\", \"SVN\", \"SWE\", \"SWZ\", \"SYC\", \"SYR\", \"TCD\", \"TGO\", \"THA\", \"TJK\", \"TKM\", \"TMP\", \"TON\", \"TTO\", \"TUN\", \"TUR\", \"TUV\", \"TWN\", \"TZA\", \"UGA\", \"UKR\", \"URY\", \"USA\", \"UZB\", \"VCT\", \"VEN\", \"VIR\", \"VNM\", \"VUT\", \"WBG\", \"JEY\", \"YEM\", \"SRB\", \"ZAF\", \"ZAR\", \"ZMB\", \"ZWE\"], \"marker\": {\"line\": {\"color\": \"black\", \"width\": 1}}, \"reversescale\": true, \"text\": [\"Aruba\", \"Andorra\", \"Afghanistan\", \"Angola\", \"Anguilla\", \"Albania\", \"United Arab Emirates\", \"Argentina\", \"Armenia\", \"American Samoa\", \"Antigua and Barbuda\", \"Australia\", \"Austria\", \"Azerbaijan\", \"Burundi\", \"Belgium\", \"Benin\", \"Burkina Faso\", \"Bangladesh\", \"Bulgaria\", \"Bahrain\", \"Bahamas, The\", \"Bosnia and Herzegovina\", \"Belarus\", \"Belize\", \"Bermuda\", \"Bolivia\", \"Brazil\", \"Barbados\", \"Brunei Darussalam\", \"Bhutan\", \"South Sudan\", \"Botswana\", \"Central African Republic\", \"Canada\", \"Switzerland\", \"Chile\", \"China\", \"C\\u00f4te d'Ivoire\", \"Cameroon\", \"Congo, Rep.\", \"Colombia\", \"Comoros\", \"Cape Verde\", \"Costa Rica\", \"Cuba\", \"Cayman Islands\", \"Cyprus\", \"Czech Republic\", \"Germany\", \"Djibouti\", \"Dominica\", \"Denmark\", \"Dominican Republic\", \"Algeria\", \"Ecuador\", \"Egypt, Arab Rep.\", \"Eritrea\", \"Spain\", \"Estonia\", \"Ethiopia\", \"Finland\", \"Fiji\", \"France\", \"Micronesia, Fed. Sts.\", \"Gabon\", \"United Kingdom\", \"Georgia\", \"Ghana\", \"Guinea\", \"Gambia, The\", \"Guinea-Bissau\", \"Equatorial Guinea\", \"Greece\", \"Grenada\", \"Greenland\", \"Guatemala\", \"French Guiana\", \"Guam\", \"Guyana\", \"Hong Kong SAR, China\", \"Honduras\", \"Croatia\", \"Haiti\", \"Hungary\", \"Indonesia\", \"India\", \"Ireland\", \"Iran, Islamic Rep.\", \"Iraq\", \"Iceland\", \"Israel\", \"Italy\", \"Jamaica\", \"Jordan\", \"Japan\", \"Kazakhstan\", \"Kenya\", \"Kyrgyz Republic\", \"Cambodia\", \"Kiribati\", \"St. Kitts and Nevis\", \"Korea, Rep.\", \"Kuwait\", \"Lao PDR\", \"Lebanon\", \"Liberia\", \"Libya\", \"St. Lucia\", \"Liechtenstein\", \"Sri Lanka\", \"Lesotho\", \"Lithuania\", \"Luxembourg\", \"Latvia\", \"Kosovo\", \"Macao SAR, China\", \"Morocco\", \"Moldova\", \"Madagascar\", \"Maldives\", \"Mexico\", \"Marshall Islands\", \"Macedonia, FYR\", \"Mali\", \"Malta\", \"Myanmar\", \"Mongolia\", \"Montenegro\", \"Mozambique\", \"Mauritania\", \"Martinique\", \"Mauritius\", \"Malawi\", \"Malaysia\", \"Namibia\", \"Niger\", \"Nigeria\", \"Nicaragua\", \"Netherlands\", \"Norway\", \"Nepal\", \"Nauru\", \"New Zealand\", \"Oman\", \"Pakistan\", \"Panama\", \"Palau\", \"Peru\", \"Philippines\", \"Papua New Guinea\", \"Poland\", \"Puerto Rico\", \"Korea, Dem. Rep.\", \"Portugal\", \"Paraguay\", \"Qatar\", \"R\\u00e9union\", \"Romania\", \"Russian Federation\", \"Rwanda\", \"Samoa\", \"Saudi Arabia\", \"Sudan\", \"Senegal\", \"Singapore\", \"Solomon Islands\", \"Sierra Leone\", \"El Salvador\", \"Somalia\", \"S\\u00e3o Tom\\u00e9 and Principe\", \"Suriname\", \"Slovak Republic\", \"Slovenia\", \"Sweden\", \"Swaziland\", \"Seychelles\", \"Syrian Arab Republic\", \"Chad\", \"Togo\", \"Thailand\", \"Tajikistan\", \"Turkmenistan\", \"Timor-Leste\", \"Tonga\", \"Trinidad and Tobago\", \"Tunisia\", \"Turkey\", \"Tuvalu\", \"Taiwan, China\", \"Tanzania\", \"Uganda\", \"Ukraine\", \"Uruguay\", \"United States\", \"Uzbekistan\", \"St. Vincent and the Grenadines\", \"Venezuela, RB\", \"Virgin Islands (U.S.)\", \"Vietnam\", \"Vanuatu\", \"West Bank and Gaza\", \"Jersey, Channel Islands\", \"Yemen, Rep.\", \"Serbia\", \"South Africa\", \"Congo, Dem. Rep.\", \"Zambia\", \"Zimbabwe\"], \"z\": [0.8837699294090271, 1.7874972820282, -1.32298874855042, -1.00009155273438, 1.00754570960999, 0.0104044936597347, 1.50987184047699, -0.0749032497406006, -0.16071256995201103, 0.48757803440094, 0.22759422659874, 1.56480348110199, 1.47938799858093, -0.257282048463821, -1.15900468826294, 1.43869757652283, -0.621204197406769, -0.5866176486015321, -0.723579227924347, 0.20881648361682903, 0.55996960401535, 0.7129299640655521, -0.545209169387817, -0.4587721824646, -0.684154152870178, 1.00754570960999, -0.65194433927536, -0.18399612605571802, 1.02539241313934, 1.06017053127289, 0.40649127960205106, -2.16317939758301, 0.49742385745048506, -1.7847170829773, 1.76237082481384, 1.9983658790588401, 1.08632385730743, 0.40801733732223505, -0.6817607283592221, -0.7733104825019841, -1.022181391716, -0.036017831414938, -1.5220474004745501, 0.14783576130867, 0.375762790441513, 0.021879579871892898, 1.16701507568359, 1.04883742332459, 1.04672694206238, 1.73711729049683, -0.954309046268463, 0.11743610352277802, 1.84822678565979, -0.357235848903656, -0.500323355197907, -0.442261695861816, -0.7522207498550421, -1.59330832958221, 1.17426574230194, 1.0681973695755, -0.646661102771759, 1.81330573558807, -0.29120352864265403, 1.4370529651641801, -0.396936297416687, -0.733563959598541, 1.7440323829650901, 0.40468311309814503, -0.251235663890839, -1.14242351055145, -0.9034616351127621, -1.61314022541046, -1.41788148880005, 0.25619912147522, -0.19617471098899802, 0.8679896593093871, -0.7110018134117131, 1.12284135818481, 0.48757803440094, -0.33540627360343905, 1.90947997570038, -0.8215391635894781, 0.514013350009918, -2.01638102531433, 0.49741441011428805, -0.24053333699703203, 0.0904637798666954, 1.53334879875183, -0.208824545145035, -1.24644660949707, 1.4923415184021, 1.38803458213806, 0.448110193014145, 0.24875952303409601, 0.12261170893907501, 1.78481245040894, -0.0732103958725929, -0.294141680002213, -0.914483785629272, -0.6994130611419681, -0.48976176977157604, 0.11743610352277802, 1.01260781288147, -0.0331108085811138, -0.51050466299057, -0.47422698140144404, -1.39389061927795, -1.65316522121429, -0.0791231319308281, 1.68933165073395, -0.009144780226051811, -0.68434065580368, 1.1851658821106, 1.7243636846542398, 1.08966612815857, -0.40961986780166604, 1.45026004314423, -0.0619438476860523, -0.6546550989151, -1.29816854000092, -0.37579274177551303, 0.209704726934433, -1.60120379924774, 0.11849307268858, -0.93202418088913, 0.850626289844513, -1.23860764503479, -0.41869005560874906, 0.15574733912944802, -0.7462663054466251, -1.02687811851501, 0.7475618720054631, 1.04944086074829, -0.67316061258316, 0.9491638541221621, 0.253775209188461, -0.605987727642059, -0.9626727104187011, -0.815875172615051, 1.83280348777771, 1.86479914188385, -1.05364060401917, -0.5362783670425421, 1.88467752933502, 0.0815463364124298, -0.6674730181694031, 0.292337387800217, -0.5362783670425421, -0.276903688907623, 0.11236677318811401, -0.606489777565002, 0.7989756464958191, 0.358805984258652, -1.63266801834106, 1.22057616710663, -0.9483696818351741, 0.9551266431808471, 1.00754570960999, -0.056023832410574, -0.20435051620006603, -0.0457356460392475, 0.508672714233398, 0.200066909193993, -1.4623938798904401, -0.45029726624488803, 2.23675608634949, -1.02436709403992, -1.27970552444458, -0.23549878597259502, -2.19696307182312, -0.750870883464813, -0.345765233039856, 0.837920010089874, 0.9726287126541141, 1.8161975145340001, -0.538646459579468, 0.42301020026207, -1.59046018123627, -1.46107089519501, -1.18944823741913, 0.350277572870255, -0.8482234477996831, -0.850448787212372, -1.04552435874939, -0.33013793826103205, 0.23260095715522802, -0.10331275314092601, 0.22311984002590202, -0.9635050296783451, 1.39601683616638, -0.610555469989777, -0.48569321632385304, -0.523523628711701, 0.529026389122009, 1.46378195285797, -0.6717844009399421, 0.029985474422574, -1.2199319601059, 1.26752960681915, 0.0675190687179565, -0.7836012840271, -0.47377881407737704, 1.2998522520065299, -1.62715256214142, 0.111243814229965, 0.261675387620926, -1.62925243377686, -0.560079753398895, -1.15571141242981], \"type\": \"choropleth\", \"uid\": \"d99aebfc-b185-4215-9ce6-c50006f30722\"}], {\"annotations\": [{\"showarrow\": false, \"text\": \"\", \"x\": 0.55, \"xref\": \"paper\", \"y\": 0.1, \"yref\": \"paper\"}], \"geo\": {\"projection\": {\"type\": \"equirectangular\"}, \"showcoastlines\": false, \"showframe\": false}, \"title\": {\"text\": \"Index de l'efficacit\\u00e9 du gouvernement\"}}, {\"showLink\": false, \"linkText\": \"Export to plot.ly\", \"plotlyServerURL\": \"https://plot.ly\"}); \n",
       "}\n",
       "});</script><script type=\"text/javascript\">window.addEventListener(\"resize\", function(){if (document.getElementById(\"36c354dd-7765-446b-b8aa-1b796f5f2d6e\")) {window._Plotly.Plots.resize(document.getElementById(\"36c354dd-7765-446b-b8aa-1b796f5f2d6e\"));};})</script>"
      ]
     },
     "metadata": {},
     "output_type": "display_data"
    }
   ],
   "source": [
    "df = pd.read_excel(\"GovernmentEffectiveness_2.xls\")\n",
    "df = df.dropna()\n",
    "data = [go.Choropleth(\n",
    "    #locations = df['CODE'],\n",
    "    #z = df['GDP (BILLIONS)'],\n",
    "    #text = df['COUNTRY'],\n",
    "    locations = df['WBCode'],\n",
    "    z = df['GovernmentEffectiveness'],\n",
    "    text = df['Country/Territory'],\n",
    "    autocolorscale = True,\n",
    "    reversescale = True,\n",
    "    marker = go.choropleth.Marker(\n",
    "        line = go.choropleth.marker.Line(\n",
    "            color = 'black',\n",
    "            width = 1\n",
    "        )),\n",
    "    colorbar = go.choropleth.ColorBar(\n",
    "        title = 'Index de<br>l\\efficacité du gouvernement'),\n",
    ")]\n",
    "\n",
    "layout = go.Layout(\n",
    "    title = go.layout.Title(\n",
    "        text = 'Index de l\\'efficacité du gouvernement'\n",
    "    ),\n",
    "    geo = go.layout.Geo(\n",
    "        showframe = False,\n",
    "        showcoastlines = False,\n",
    "        projection = go.layout.geo.Projection(\n",
    "            type = 'equirectangular'\n",
    "        )\n",
    "    ),\n",
    "    annotations = [go.layout.Annotation(\n",
    "        x = 0.55,\n",
    "        y = 0.1,\n",
    "        xref = 'paper',\n",
    "        yref = 'paper',\n",
    "        text=\"\",\n",
    "        showarrow = False\n",
    "    )]\n",
    ")\n",
    "\n",
    "fig = go.Figure(data = data, layout = layout)\n",
    "py.iplot(fig, filename = 'd3-world-map')"
   ]
  },
  {
   "cell_type": "code",
   "execution_count": 302,
   "metadata": {},
   "outputs": [
    {
     "data": {
      "text/plain": [
       "Index(['Country/Territory', 'WBCode', 'Voice', 'RuleOfLaw',\n",
       "       'RegulatoryQuality', 'PoliticalStability', 'GovernmentEffectiveness'],\n",
       "      dtype='object')"
      ]
     },
     "execution_count": 302,
     "metadata": {},
     "output_type": "execute_result"
    }
   ],
   "source": [
    "gov = pd.read_excel(\"all_5_wdb.xlsx\")\n",
    "gov = gov.dropna()\n",
    "#gov = gov.set_index(\"WBCode\").join(gdp.set_index(\"Country Code\"), how=\"inner\")\n",
    "gov.columns"
   ]
  },
  {
   "cell_type": "code",
   "execution_count": 250,
   "metadata": {},
   "outputs": [],
   "source": [
    "X = gov[['Voice', 'RuleOfLaw', 'RegulatoryQuality', 'PoliticalStability', 'GovernmentEffectiveness']]\n",
    "y = gov[\"Country/Territory\"]\n",
    "import pycountry as pt"
   ]
  },
  {
   "cell_type": "code",
   "execution_count": 273,
   "metadata": {},
   "outputs": [
    {
     "name": "stderr",
     "output_type": "stream",
     "text": [
      "/home/leo/.local/lib/python3.6/site-packages/bokeh/models/sources.py:164: BokehUserWarning:\n",
      "\n",
      "ColumnDataSource's columns must be of the same length. Current lengths: ('color', 167), ('label', 201), ('x', 201), ('y', 201)\n",
      "\n"
     ]
    },
    {
     "data": {
      "text/html": [
       "\n",
       "\n",
       "\n",
       "\n",
       "\n",
       "\n",
       "  <div class=\"bk-root\" id=\"a8d0e8aa-8dc3-4108-bac9-8512aa892da0\" data-root-id=\"69853\"></div>\n"
      ]
     },
     "metadata": {},
     "output_type": "display_data"
    },
    {
     "data": {
      "application/javascript": [
       "(function(root) {\n",
       "  function embed_document(root) {\n",
       "    \n",
       "  var docs_json = {\"762f7823-539a-4d15-8066-1c0f2ccedfd3\":{\"roots\":{\"references\":[{\"attributes\":{\"below\":[{\"id\":\"69864\",\"type\":\"LinearAxis\"}],\"center\":[{\"id\":\"69868\",\"type\":\"Grid\"},{\"id\":\"69873\",\"type\":\"Grid\"},{\"id\":\"69893\",\"type\":\"LabelSet\"}],\"left\":[{\"id\":\"69869\",\"type\":\"LinearAxis\"}],\"renderers\":[{\"id\":\"69891\",\"type\":\"GlyphRenderer\"}],\"title\":{\"id\":\"69854\",\"type\":\"Title\"},\"toolbar\":{\"id\":\"69880\",\"type\":\"Toolbar\"},\"x_range\":{\"id\":\"69856\",\"type\":\"DataRange1d\"},\"x_scale\":{\"id\":\"69860\",\"type\":\"LinearScale\"},\"y_range\":{\"id\":\"69858\",\"type\":\"DataRange1d\"},\"y_scale\":{\"id\":\"69862\",\"type\":\"LinearScale\"}},\"id\":\"69853\",\"subtype\":\"Figure\",\"type\":\"Plot\"},{\"attributes\":{\"callback\":null},\"id\":\"69858\",\"type\":\"DataRange1d\"},{\"attributes\":{},\"id\":\"69877\",\"type\":\"SaveTool\"},{\"attributes\":{\"data_source\":{\"id\":\"69887\",\"type\":\"ColumnDataSource\"},\"glyph\":{\"id\":\"69889\",\"type\":\"Circle\"},\"hover_glyph\":null,\"muted_glyph\":null,\"nonselection_glyph\":{\"id\":\"69890\",\"type\":\"Circle\"},\"selection_glyph\":null,\"view\":{\"id\":\"69892\",\"type\":\"CDSView\"}},\"id\":\"69891\",\"type\":\"GlyphRenderer\"},{\"attributes\":{\"active_drag\":\"auto\",\"active_inspect\":\"auto\",\"active_multi\":null,\"active_scroll\":\"auto\",\"active_tap\":\"auto\",\"tools\":[{\"id\":\"69874\",\"type\":\"PanTool\"},{\"id\":\"69875\",\"type\":\"WheelZoomTool\"},{\"id\":\"69876\",\"type\":\"BoxZoomTool\"},{\"id\":\"69877\",\"type\":\"SaveTool\"},{\"id\":\"69878\",\"type\":\"ResetTool\"},{\"id\":\"69879\",\"type\":\"HelpTool\"}]},\"id\":\"69880\",\"type\":\"Toolbar\"},{\"attributes\":{},\"id\":\"70862\",\"type\":\"BasicTickFormatter\"},{\"attributes\":{\"formatter\":{\"id\":\"70864\",\"type\":\"BasicTickFormatter\"},\"ticker\":{\"id\":\"69865\",\"type\":\"BasicTicker\"}},\"id\":\"69864\",\"type\":\"LinearAxis\"},{\"attributes\":{},\"id\":\"69860\",\"type\":\"LinearScale\"},{\"attributes\":{},\"id\":\"69879\",\"type\":\"HelpTool\"},{\"attributes\":{\"formatter\":{\"id\":\"70862\",\"type\":\"BasicTickFormatter\"},\"ticker\":{\"id\":\"69870\",\"type\":\"BasicTicker\"}},\"id\":\"69869\",\"type\":\"LinearAxis\"},{\"attributes\":{\"fill_alpha\":{\"value\":0.1},\"fill_color\":{\"value\":\"#1f77b4\"},\"line_alpha\":{\"value\":0.1},\"line_color\":{\"value\":\"#1f77b4\"},\"size\":{\"units\":\"screen\",\"value\":10},\"x\":{\"field\":\"x\"},\"y\":{\"field\":\"y\"}},\"id\":\"69890\",\"type\":\"Circle\"},{\"attributes\":{},\"id\":\"69874\",\"type\":\"PanTool\"},{\"attributes\":{},\"id\":\"70866\",\"type\":\"Selection\"},{\"attributes\":{},\"id\":\"70867\",\"type\":\"UnionRenderers\"},{\"attributes\":{},\"id\":\"69878\",\"type\":\"ResetTool\"},{\"attributes\":{},\"id\":\"69865\",\"type\":\"BasicTicker\"},{\"attributes\":{\"callback\":null},\"id\":\"69856\",\"type\":\"DataRange1d\"},{\"attributes\":{},\"id\":\"69862\",\"type\":\"LinearScale\"},{\"attributes\":{},\"id\":\"69870\",\"type\":\"BasicTicker\"},{\"attributes\":{\"dimension\":1,\"ticker\":{\"id\":\"69870\",\"type\":\"BasicTicker\"}},\"id\":\"69873\",\"type\":\"Grid\"},{\"attributes\":{\"source\":{\"id\":\"69887\",\"type\":\"ColumnDataSource\"},\"text\":{\"field\":\"label\"},\"text_align\":\"center\",\"text_color\":{\"value\":\"#555555\"},\"text_font_size\":{\"value\":\"8pt\"},\"x\":{\"field\":\"x\"},\"y\":{\"field\":\"y\"},\"y_offset\":{\"value\":8}},\"id\":\"69893\",\"type\":\"LabelSet\"},{\"attributes\":{\"overlay\":{\"id\":\"70868\",\"type\":\"BoxAnnotation\"}},\"id\":\"69876\",\"type\":\"BoxZoomTool\"},{\"attributes\":{},\"id\":\"69875\",\"type\":\"WheelZoomTool\"},{\"attributes\":{\"text\":\"Clustering TSNE\"},\"id\":\"69854\",\"type\":\"Title\"},{\"attributes\":{\"source\":{\"id\":\"69887\",\"type\":\"ColumnDataSource\"}},\"id\":\"69892\",\"type\":\"CDSView\"},{\"attributes\":{\"ticker\":{\"id\":\"69865\",\"type\":\"BasicTicker\"}},\"id\":\"69868\",\"type\":\"Grid\"},{\"attributes\":{\"fill_alpha\":{\"value\":0.2},\"fill_color\":{\"field\":\"color\"},\"line_color\":{\"field\":\"color\"},\"size\":{\"units\":\"screen\",\"value\":10},\"x\":{\"field\":\"x\"},\"y\":{\"field\":\"y\"}},\"id\":\"69889\",\"type\":\"Circle\"},{\"attributes\":{\"callback\":null,\"data\":{\"color\":[\"yellow\",\"blue\",\"red\",\"green\",\"blue\",\"brown\",\"blue\",\"yellow\",\"black\",\"green\",\"blue\",\"red\",\"green\",\"red\",\"red\",\"blue\",\"green\",\"blue\",\"green\",\"green\",\"yellow\",\"brown\",\"yellow\",\"blue\",\"blue\",\"red\",\"red\",\"red\",\"yellow\",\"green\",\"brown\",\"blue\",\"red\",\"red\",\"brown\",\"red\",\"yellow\",\"yellow\",\"yellow\",\"blue\",\"green\",\"red\",\"yellow\",\"green\",\"yellow\",\"red\",\"brown\",\"red\",\"green\",\"green\",\"red\",\"green\",\"black\",\"green\",\"red\",\"green\",\"blue\",\"red\",\"red\",\"red\",\"red\",\"green\",\"yellow\",\"yellow\",\"yellow\",\"brown\",\"yellow\",\"green\",\"yellow\",\"green\",\"blue\",\"blue\",\"green\",\"blue\",\"green\",\"blue\",\"green\",\"yellow\",\"blue\",\"blue\",\"blue\",\"red\",\"blue\",\"black\",\"blue\",\"blue\",\"red\",\"red\",\"green\",\"blue\",\"red\",\"green\",\"green\",\"green\",\"red\",\"red\",\"blue\",\"yellow\",\"black\",\"red\",\"green\",\"blue\",\"blue\",\"green\",\"red\",\"red\",\"red\",\"red\",\"blue\",\"red\",\"red\",\"red\",\"yellow\",\"green\",\"green\",\"blue\",\"black\",\"black\",\"blue\",\"blue\",\"yellow\",\"black\",\"brown\",\"blue\",\"black\",\"green\",\"yellow\",\"green\",\"brown\",\"blue\",\"green\",\"red\",\"black\",\"blue\",\"red\",\"red\",\"blue\",\"black\",\"red\",\"yellow\",\"red\",\"brown\",\"green\",\"green\",\"red\",\"red\",\"blue\",\"red\",\"red\",\"blue\",\"blue\",\"blue\",\"black\",\"yellow\",\"red\",\"blue\",\"black\",\"red\",\"green\",\"brown\",\"yellow\",\"blue\",\"black\",\"green\",\"red\",\"red\",\"red\"],\"label\":[\"Aruba\",\"Andorra\",\"Afghanistan\",\"Angola\",\"Albania\",\"United Arab Emirates\",\"Argentina\",\"Armenia\",\"Antigua and Barbuda\",\"Australia\",\"Austria\",\"Azerbaijan\",\"Burundi\",\"Belgium\",\"Benin\",\"Burkina Faso\",\"Bangladesh\",\"Bulgaria\",\"Bahrain\",\"Bahamas, The\",\"Bosnia and Herzegovina\",\"Belarus\",\"Belize\",\"Bolivia\",\"Brazil\",\"Barbados\",\"Brunei Darussalam\",\"Bhutan\",\"South Sudan\",\"Botswana\",\"Central African Republic\",\"Canada\",\"Switzerland\",\"Chile\",\"China\",\"C\\u00f4te d'Ivoire\",\"Cameroon\",\"Congo, Rep.\",\"Colombia\",\"Comoros\",\"Cape Verde\",\"Costa Rica\",\"Cuba\",\"Cayman Islands\",\"Cyprus\",\"Czech Republic\",\"Germany\",\"Djibouti\",\"Dominica\",\"Denmark\",\"Dominican Republic\",\"Algeria\",\"Ecuador\",\"Egypt, Arab Rep.\",\"Eritrea\",\"Spain\",\"Estonia\",\"Ethiopia\",\"Finland\",\"Fiji\",\"France\",\"Micronesia, Fed. Sts.\",\"Gabon\",\"United Kingdom\",\"Georgia\",\"Ghana\",\"Guinea\",\"Gambia, The\",\"Guinea-Bissau\",\"Equatorial Guinea\",\"Greece\",\"Grenada\",\"Greenland\",\"Guatemala\",\"French Guiana\",\"Guyana\",\"Hong Kong SAR, China\",\"Honduras\",\"Croatia\",\"Haiti\",\"Hungary\",\"Indonesia\",\"India\",\"Ireland\",\"Iran, Islamic Rep.\",\"Iraq\",\"Iceland\",\"Israel\",\"Italy\",\"Jamaica\",\"Jordan\",\"Japan\",\"Kazakhstan\",\"Kenya\",\"Kyrgyz Republic\",\"Cambodia\",\"Kiribati\",\"St. Kitts and Nevis\",\"Korea, Rep.\",\"Kuwait\",\"Lao PDR\",\"Lebanon\",\"Liberia\",\"Libya\",\"St. Lucia\",\"Liechtenstein\",\"Sri Lanka\",\"Lesotho\",\"Lithuania\",\"Luxembourg\",\"Latvia\",\"Kosovo\",\"Macao SAR, China\",\"Morocco\",\"Moldova\",\"Madagascar\",\"Maldives\",\"Mexico\",\"Marshall Islands\",\"Macedonia, FYR\",\"Mali\",\"Malta\",\"Myanmar\",\"Mongolia\",\"Montenegro\",\"Mozambique\",\"Mauritania\",\"Mauritius\",\"Malawi\",\"Malaysia\",\"Namibia\",\"Niger\",\"Nigeria\",\"Nicaragua\",\"Netherlands\",\"Norway\",\"Nepal\",\"Nauru\",\"New Zealand\",\"Oman\",\"Pakistan\",\"Panama\",\"Palau\",\"Peru\",\"Philippines\",\"Papua New Guinea\",\"Poland\",\"Puerto Rico\",\"Korea, Dem. Rep.\",\"Portugal\",\"Paraguay\",\"Qatar\",\"Romania\",\"Russian Federation\",\"Rwanda\",\"Samoa\",\"Saudi Arabia\",\"Sudan\",\"Senegal\",\"Singapore\",\"Solomon Islands\",\"Sierra Leone\",\"El Salvador\",\"Somalia\",\"S\\u00e3o Tom\\u00e9 and Principe\",\"Suriname\",\"Slovak Republic\",\"Slovenia\",\"Sweden\",\"Swaziland\",\"Seychelles\",\"Syrian Arab Republic\",\"Chad\",\"Togo\",\"Thailand\",\"Tajikistan\",\"Turkmenistan\",\"Tonga\",\"Trinidad and Tobago\",\"Tunisia\",\"Turkey\",\"Tuvalu\",\"Taiwan, China\",\"Tanzania\",\"Uganda\",\"Ukraine\",\"Uruguay\",\"United States\",\"Uzbekistan\",\"St. Vincent and the Grenadines\",\"Venezuela, RB\",\"Vietnam\",\"Vanuatu\",\"West Bank and Gaza\",\"Jersey, Channel Islands\",\"Yemen, Rep.\",\"Serbia\",\"South Africa\",\"Congo, Dem. Rep.\",\"Zambia\",\"Zimbabwe\"],\"x\":{\"__ndarray__\":\"6l6CwckfmsH0GG1BcV87QXqtjcBihyXArJHxvoPS5T++5iDBkLmTwVEImsE44AFBNLVZQREcgMFZJNS/KrwNQFHn9EAjWeDA3hqSQAU1GMHhbvY+QOMyQRnDvr/FYoBAa2EIwLTjYcFkthrAitSwwOsTiEGRvyvBB/x6QTAFn8H2rKbBQyZtwfDz4EAfJ59A6FEmQSYMPUEhIbQ/Wx8CQRfn+8AxYizBEn84QZBnQMEu91zBiHhtwUSkkMG87DpBSGgSwYLNlsFgwlPAdPklQWj3gkCDHCtBnEOFQU0sU8GcJ4HB04YvQV9qn8GU5ofAAz9rwSyK+sBmnxxBqOaLwXKcDMFcILnADCIrQV4gMkFN0zxBVdR4QY1M+cDOJAPBQsqowX9qjkBKHHrBJ/Bwv5nFe8GtcZdAZXIDwSE9QEG+YzvB7evcvol8iL/Mz4/BoLA9QSL4a0FxBJ7BCUGPwfZyM8FEp8LAdqZzQFXskcGFAslAngCVQP3PvUBaAClBzcLvwNpNG8HmLEjB68pGQA5rOkHhueRA8vL0QO15hUGWmBTBg/miwX9Hwj/1N2O//MVpwXgRpsE45U7BKBzLPhrdJ8E0Fj9Avuguvbd++kA+eEPAb4dqP+Bi+MA7ft0+/5fzQHd9d8FVmVhBHOWfwMgOn8CmD4FAeYMnQe66U8FrqyTAaVxMwBIN5cCSZr5Azm8IQeMNGkCOCZnBvpShwfid5UBGz76/QxSrwfXmob9EChFBETDVwI6XBcFTebK/YJtwP6fiTUCigljBsuBBwfleh0E+tmbB/YTDPz5kBsDDX/XArdYVQZ0loUCHOQjBmubEQJlygEGN4ALAwCh0wf41nsC29vNAM70nwGEjjkFE6fm/f4B/wJAORMGutVXBZ6WawZM9DEFgEb/AN+WGQehzV0EPsRNBvtB0QPURU0FddYBBxaXNwM0Uv8A/Die/ce8lQCVYCsHmXHfB1nWtPw1JbkALdfdArvMkwdr0hMGEFHRBvZIQwRaTckFDnOpA2Qy7wE1aA0FkKaPB1eV7QYMLo8AYFObA8zp4QZo7Q8AccWRB\",\"dtype\":\"float32\",\"shape\":[201]},\"y\":{\"__ndarray__\":\"7Q9bQciUkUG9L23BfTTdwOPOWT9UfyVBBU62wBQ+KD8VYPpAfYqpQWhzn0EMYNO/FbVjwVGojkGfH97AolcdwSfRPcH2etc/4qJfv1giFEFz0hTBrydBwDm0yMAmXt7AYT0ewbwnPUHCzx1BbNa+QPMmWsErawVBo5lQwf8VqEG6T7JB462DQf6mLL+Ety7BVBElwVjr9MCGGPu/8DHuwLAK7UBR9NNAX0btv+HRTUF/p3JBbkFcQeY2sEENybjAN4v6QFW7t0GolyDA6fMywaJ1zsCepEzB5IoQwUP4gEEr0oJBRVpKwVrmtkHF04zARB2NQcNLqsAeHo3A2pWyQWvVRz9N5U2/WqHmwHtmgsCm3AvBAyj2wFzZWz+EqbtA4QKMQehUHMEv4oRBgN/swPwRsEGnjQ/BnFyOQAnqEsGIFPxA2LUmwUc+QMF0KqhBsD8xwaSiYcHp3JhBqUNvQbKWtkD8mqs/7H7vPmCLk0G53Gc/QJtMwUFdIcEeKoXAh2+0wFR3wEAFq31BU4C2P7AhI8BLrGvBCAwSwZtrTMHAcdhAQf6cQQu69D+LDw3B/nRvQQ4HpkF3hnFBaGEDwaRxbEHsQ5w/SOMQwSLaAMEaooXAPBnQv2vf5sCSUlA+/spcwVRtVEHSPhzBH2KXwOIVBkA0LBDB3Jj+wGtsWEHCUezAepYVQb8TrUCYPT7BHpliwR9p78BnHa9BqVuuQf2qKsG/GJvA3Q2tQft0DEGM3HTBdmM6QPvTtsC+2YK/5Wo7wCkOBsG/5kxB69QJQUItGcHn9F5ByEDkwKm3G0FQ2A1AKQs3wew/qj9S7QpBK+Qtv9GhYsH1xA7B3LevQYXH5sA0VOTAkvC3vwo2UsGsa8PAK0HBwL+5L0EwzD5B6aSzQanUA8DxXKNAtTpswTzME8GMhODAfztav0uU98C0Y+DAiqCcwBGqEkCUpz7BqzL4v2mozMBNUnJB8MgTwa/cM8HiRWnBsyEYQZinj0HXxtnAEPLmQPJtHcGFXeA+F6+7wF6+f8Gzj5JBoS9vwf21vj/5yC8/ixtbwWy35MAiPQvB\",\"dtype\":\"float32\",\"shape\":[201]}},\"selected\":{\"id\":\"70866\",\"type\":\"Selection\"},\"selection_policy\":{\"id\":\"70867\",\"type\":\"UnionRenderers\"}},\"id\":\"69887\",\"type\":\"ColumnDataSource\"},{\"attributes\":{},\"id\":\"70864\",\"type\":\"BasicTickFormatter\"},{\"attributes\":{\"bottom_units\":\"screen\",\"fill_alpha\":{\"value\":0.5},\"fill_color\":{\"value\":\"lightgrey\"},\"left_units\":\"screen\",\"level\":\"overlay\",\"line_alpha\":{\"value\":1.0},\"line_color\":{\"value\":\"black\"},\"line_dash\":[4,4],\"line_width\":{\"value\":2},\"render_mode\":\"css\",\"right_units\":\"screen\",\"top_units\":\"screen\"},\"id\":\"70868\",\"type\":\"BoxAnnotation\"}],\"root_ids\":[\"69853\"]},\"title\":\"Bokeh Application\",\"version\":\"1.1.0\"}};\n",
       "  var render_items = [{\"docid\":\"762f7823-539a-4d15-8066-1c0f2ccedfd3\",\"roots\":{\"69853\":\"a8d0e8aa-8dc3-4108-bac9-8512aa892da0\"}}];\n",
       "  root.Bokeh.embed.embed_items_notebook(docs_json, render_items);\n",
       "\n",
       "  }\n",
       "  if (root.Bokeh !== undefined) {\n",
       "    embed_document(root);\n",
       "  } else {\n",
       "    var attempts = 0;\n",
       "    var timer = setInterval(function(root) {\n",
       "      if (root.Bokeh !== undefined) {\n",
       "        embed_document(root);\n",
       "        clearInterval(timer);\n",
       "      }\n",
       "      attempts++;\n",
       "      if (attempts > 100) {\n",
       "        console.log(\"Bokeh: ERROR: Unable to run BokehJS code because BokehJS library is missing\");\n",
       "        clearInterval(timer);\n",
       "      }\n",
       "    }, 10, root)\n",
       "  }\n",
       "})(window);"
      ],
      "application/vnd.bokehjs_exec.v0+json": ""
     },
     "metadata": {
      "application/vnd.bokehjs_exec.v0+json": {
       "id": "69853"
      }
     },
     "output_type": "display_data"
    }
   ],
   "source": [
    "pca = TSNE(n_components=2,random_state=0,perplexity=20)\n",
    "mat = pca.fit_transform(X,y)\n",
    "p = figure(title = \"Clustering TSNE\")\n",
    "#p.xaxis.axis_label = 'Petal Length'\n",
    "#p.yaxis.axis_label = 'Petal Width'\n",
    "colors = [\"red\",\"blue\",\"green\",\"yellow\",\"black\",\"brown\"]\n",
    "ctrs = list([x.name for x in pt.countries])\n",
    "countries = [pc.country_alpha2_to_continent_code(pc.country_name_to_country_alpha2(x)) for x in gov[\"Country/Territory\"] if x in ctrs ]\n",
    "#countries = [np.unique(countries).index(x) for x in countries]\n",
    "uniq = list(np.unique(countries))\n",
    "conts = [uniq.index(x) for x in countries]\n",
    "#for i,con in zip(list(range(len(np.unique(countries)))),np.unique(countries)):\n",
    "#    print(np.where(countries==con))\n",
    "#    conts[np.where(countries==con)] = i\n",
    "    \n",
    "source = ColumnDataSource(data={\"x\":mat[:,0], \"y\":mat[:,1], \"label\":y, \n",
    "                                \"color\":list([colors[int(i)] for i in conts])})\n",
    "\n",
    "p.circle(x=\"x\",y=\"y\",color=\"color\", source=source, fill_alpha=0.2, size=10)\n",
    "\n",
    "labels = LabelSet(x=\"x\",y=\"y\",source=source, text=\"label\", y_offset=8,\n",
    "                  text_font_size=\"8pt\", text_color=\"#555555\",\n",
    "                  text_align='center')\n",
    "p.add_layout(labels)\n",
    "\n",
    "#output_file(\"iris.html\", title=\"iris.py example\")\n",
    "\n",
    "show(p)"
   ]
  },
  {
   "cell_type": "code",
   "execution_count": 278,
   "metadata": {},
   "outputs": [
    {
     "name": "stderr",
     "output_type": "stream",
     "text": [
      "/home/leo/.local/lib/python3.6/site-packages/bokeh/models/sources.py:164: BokehUserWarning:\n",
      "\n",
      "ColumnDataSource's columns must be of the same length. Current lengths: ('color', 167), ('label', 193), ('x', 193), ('y', 193)\n",
      "\n"
     ]
    },
    {
     "data": {
      "text/html": [
       "\n",
       "\n",
       "\n",
       "\n",
       "\n",
       "\n",
       "  <div class=\"bk-root\" id=\"d1ef5ced-2cb2-46c4-8072-ee4e479bb38d\" data-root-id=\"74158\"></div>\n"
      ]
     },
     "metadata": {},
     "output_type": "display_data"
    },
    {
     "data": {
      "application/javascript": [
       "(function(root) {\n",
       "  function embed_document(root) {\n",
       "    \n",
       "  var docs_json = {\"b9e2e43a-e246-4093-b8ad-104a9761f86f\":{\"roots\":{\"references\":[{\"attributes\":{\"below\":[{\"id\":\"74169\",\"type\":\"LinearAxis\"}],\"center\":[{\"id\":\"74173\",\"type\":\"Grid\"},{\"id\":\"74178\",\"type\":\"Grid\"},{\"id\":\"74197\",\"type\":\"LabelSet\"}],\"left\":[{\"id\":\"74174\",\"type\":\"LogAxis\"}],\"renderers\":[{\"id\":\"74195\",\"type\":\"GlyphRenderer\"}],\"title\":{\"id\":\"74159\",\"type\":\"Title\"},\"toolbar\":{\"id\":\"74185\",\"type\":\"Toolbar\"},\"x_range\":{\"id\":\"74161\",\"type\":\"DataRange1d\"},\"x_scale\":{\"id\":\"74165\",\"type\":\"LinearScale\"},\"y_range\":{\"id\":\"74163\",\"type\":\"DataRange1d\"},\"y_scale\":{\"id\":\"74167\",\"type\":\"LogScale\"}},\"id\":\"74158\",\"subtype\":\"Figure\",\"type\":\"Plot\"},{\"attributes\":{\"callback\":null},\"id\":\"74163\",\"type\":\"DataRange1d\"},{\"attributes\":{\"data_source\":{\"id\":\"74157\",\"type\":\"ColumnDataSource\"},\"glyph\":{\"id\":\"74193\",\"type\":\"Circle\"},\"hover_glyph\":null,\"muted_glyph\":null,\"nonselection_glyph\":{\"id\":\"74194\",\"type\":\"Circle\"},\"selection_glyph\":null,\"view\":{\"id\":\"74196\",\"type\":\"CDSView\"}},\"id\":\"74195\",\"type\":\"GlyphRenderer\"},{\"attributes\":{\"source\":{\"id\":\"74157\",\"type\":\"ColumnDataSource\"},\"text\":{\"field\":\"label\"},\"text_align\":\"center\",\"text_color\":{\"value\":\"#555555\"},\"text_font_size\":{\"value\":\"8pt\"},\"x\":{\"field\":\"x\"},\"y\":{\"field\":\"y\"},\"y_offset\":{\"value\":8}},\"id\":\"74197\",\"type\":\"LabelSet\"},{\"attributes\":{\"callback\":null,\"data\":{\"color\":[\"yellow\",\"blue\",\"red\",\"green\",\"blue\",\"brown\",\"blue\",\"yellow\",\"black\",\"green\",\"blue\",\"red\",\"green\",\"red\",\"red\",\"blue\",\"green\",\"blue\",\"green\",\"green\",\"yellow\",\"brown\",\"yellow\",\"blue\",\"blue\",\"red\",\"red\",\"red\",\"yellow\",\"green\",\"brown\",\"blue\",\"red\",\"red\",\"brown\",\"red\",\"yellow\",\"yellow\",\"yellow\",\"blue\",\"green\",\"red\",\"yellow\",\"green\",\"yellow\",\"red\",\"brown\",\"red\",\"green\",\"green\",\"red\",\"green\",\"black\",\"green\",\"red\",\"green\",\"blue\",\"red\",\"red\",\"red\",\"red\",\"green\",\"yellow\",\"yellow\",\"yellow\",\"brown\",\"yellow\",\"green\",\"yellow\",\"green\",\"blue\",\"blue\",\"green\",\"blue\",\"green\",\"blue\",\"green\",\"yellow\",\"blue\",\"blue\",\"blue\",\"red\",\"blue\",\"black\",\"blue\",\"blue\",\"red\",\"red\",\"green\",\"blue\",\"red\",\"green\",\"green\",\"green\",\"red\",\"red\",\"blue\",\"yellow\",\"black\",\"red\",\"green\",\"blue\",\"blue\",\"green\",\"red\",\"red\",\"red\",\"red\",\"blue\",\"red\",\"red\",\"red\",\"yellow\",\"green\",\"green\",\"blue\",\"black\",\"black\",\"blue\",\"blue\",\"yellow\",\"black\",\"brown\",\"blue\",\"black\",\"green\",\"yellow\",\"green\",\"brown\",\"blue\",\"green\",\"red\",\"black\",\"blue\",\"red\",\"red\",\"blue\",\"black\",\"red\",\"yellow\",\"red\",\"brown\",\"green\",\"green\",\"red\",\"red\",\"blue\",\"red\",\"red\",\"blue\",\"blue\",\"blue\",\"black\",\"yellow\",\"red\",\"blue\",\"black\",\"red\",\"green\",\"brown\",\"yellow\",\"blue\",\"black\",\"green\",\"red\",\"red\",\"red\"],\"label\":[\"Aruba\",\"Afghanistan\",\"Angola\",\"Albania\",\"United Arab Emirates\",\"Argentina\",\"Armenia\",\"Antigua and Barbuda\",\"Australia\",\"Austria\",\"Azerbaijan\",\"Burundi\",\"Belgium\",\"Benin\",\"Burkina Faso\",\"Bangladesh\",\"Bulgaria\",\"Bahrain\",\"Bahamas, The\",\"Bosnia and Herzegovina\",\"Belarus\",\"Belize\",\"Bolivia\",\"Brazil\",\"Barbados\",\"Brunei Darussalam\",\"Bhutan\",\"South Sudan\",\"Botswana\",\"Central African Republic\",\"Canada\",\"Switzerland\",\"Chile\",\"China\",\"C\\u00f4te d'Ivoire\",\"Cameroon\",\"Congo, Rep.\",\"Colombia\",\"Comoros\",\"Cape Verde\",\"Costa Rica\",\"Cuba\",\"Cayman Islands\",\"Cyprus\",\"Czech Republic\",\"Germany\",\"Djibouti\",\"Dominica\",\"Denmark\",\"Dominican Republic\",\"Algeria\",\"Ecuador\",\"Egypt, Arab Rep.\",\"Eritrea\",\"Spain\",\"Estonia\",\"Ethiopia\",\"Finland\",\"Fiji\",\"France\",\"Micronesia, Fed. Sts.\",\"Gabon\",\"United Kingdom\",\"Georgia\",\"Ghana\",\"Guinea\",\"Gambia, The\",\"Guinea-Bissau\",\"Equatorial Guinea\",\"Greece\",\"Grenada\",\"Greenland\",\"Guatemala\",\"Guyana\",\"Hong Kong SAR, China\",\"Honduras\",\"Croatia\",\"Haiti\",\"Hungary\",\"Indonesia\",\"India\",\"Ireland\",\"Iran, Islamic Rep.\",\"Iraq\",\"Iceland\",\"Israel\",\"Italy\",\"Jamaica\",\"Jordan\",\"Japan\",\"Kazakhstan\",\"Kenya\",\"Kyrgyz Republic\",\"Cambodia\",\"Kiribati\",\"St. Kitts and Nevis\",\"Korea, Rep.\",\"Kuwait\",\"Lao PDR\",\"Lebanon\",\"Liberia\",\"Libya\",\"St. Lucia\",\"Liechtenstein\",\"Sri Lanka\",\"Lesotho\",\"Lithuania\",\"Luxembourg\",\"Latvia\",\"Macao SAR, China\",\"Morocco\",\"Moldova\",\"Madagascar\",\"Maldives\",\"Mexico\",\"Marshall Islands\",\"Macedonia, FYR\",\"Mali\",\"Malta\",\"Myanmar\",\"Mongolia\",\"Montenegro\",\"Mozambique\",\"Mauritania\",\"Mauritius\",\"Malawi\",\"Malaysia\",\"Namibia\",\"Niger\",\"Nigeria\",\"Nicaragua\",\"Netherlands\",\"Norway\",\"Nepal\",\"Nauru\",\"New Zealand\",\"Oman\",\"Pakistan\",\"Panama\",\"Palau\",\"Peru\",\"Philippines\",\"Papua New Guinea\",\"Poland\",\"Puerto Rico\",\"Korea, Dem. Rep.\",\"Portugal\",\"Paraguay\",\"Qatar\",\"Russian Federation\",\"Rwanda\",\"Samoa\",\"Saudi Arabia\",\"Sudan\",\"Senegal\",\"Singapore\",\"Solomon Islands\",\"Sierra Leone\",\"El Salvador\",\"Somalia\",\"S\\u00e3o Tom\\u00e9 and Principe\",\"Suriname\",\"Slovak Republic\",\"Slovenia\",\"Sweden\",\"Swaziland\",\"Seychelles\",\"Syrian Arab Republic\",\"Chad\",\"Togo\",\"Thailand\",\"Tajikistan\",\"Turkmenistan\",\"Tonga\",\"Trinidad and Tobago\",\"Tunisia\",\"Turkey\",\"Tuvalu\",\"Tanzania\",\"Uganda\",\"Ukraine\",\"Uruguay\",\"United States\",\"Uzbekistan\",\"St. Vincent and the Grenadines\",\"Venezuela, RB\",\"Vietnam\",\"Vanuatu\",\"Yemen, Rep.\",\"Serbia\",\"South Africa\",\"Zambia\",\"Zimbabwe\"],\"x\":{\"__ndarray__\":\"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\",\"dtype\":\"float64\",\"shape\":[193]},\"y\":{\"__ndarray__\":\"1sUGVhgx2UBGD1CenHCCQKbbwvi6SrBAASMmXKnhrkAJ1i+XQRrjQLxtZI8lwcpAYHwKGt9DrEBlCyTrNZHKQPVTOzItnutAYb3WGNmV5UCTTjl1T3y1QNZc3M78BXNAdHIh7yS140B3VCJitH+IQMYajQCE+oFAqqBfqaLokkBCDVKSyFG7QCqRJzU4KNZAcGeGfPTE3UAYIJ0XPuixQIJ17zYbPbdAbwCMYYkps0A9UvppDQqoQNqkIoscF8FAwc7lToaAz0CHdQ7++D3eQJHHq0sFcKRAYr2xLV+vjED/Ha1oJXm5QNHiWlMaxnVAMGyR2KtA5UChPUxXAAb0QLLdOF5R1MpAw+a7iDaFv0Bebd0MbMyaQI/OZ62yJ5VA9krIDXzAmkCx2SjBNcW3QB0fH2k63JNAPvUgXrlop0ARE0qjg0DGQEary1ZHsr1AAAAAAAAA+H/a0INhDqvWQLUSgnrnTNFA4R3yfH0t5EBjcybNcIabQC7KuQ084LxA9hQD5J/i6UDGYA+X6Ia5QCpDgSjaQrBAYQKw7CcGuEAQPuMPbberQAAAAAAAAPh/qN9GQGEv2UAz5H/y98DQQCvSb1W4K4RAFeXaEAe35EBPU9QhdhmzQFfnxAGs4OFAGr8acQSUp0CFziQ3txi9QHDIi78xouVAnkcaJkhprUBjnZ+NPtybQKXsFY9ruoZAsRtZ1soHhkDn65z+cn6CQLzlR9S85sVARKy+trGl0UANDvGWojrCQFee2IMI7uVAlWtMjSWnrkCh6znyQ0CwQEPNzWz8t+RALRrB9oxKokA7d3/gof7GQMOadARfdIlAlokk1+5hyECPqlYgGQ2qQLAXLjQnGJlAf6mzc/Ut7kBV0AK7TP6yQLU3r0S6MrNAemukKbUB6UC92ojRXm3hQDdXspMUed1A7Wy7dWo9s0DWFhZqGQCwQLoGktz34OBA3VQ9zWKHxED2T2TNOCyVQM30udJUhJFAHFsdU8IskkCrqh+LOcmXQBkVUe/K19BAvh/k4ER42kARh0pmRG3cQEd8HMbd3qBAyQidv8GowED0nkHJeRCGQB08pIh9cbFAx21DoNPhwUCzs73dNHUEQYzKCSwHCa5A/IV5vmsJkkCwDdBuj+jLQDalspRsxPhATuDq2NijykD75dWVxG3yQJz+DzaSPqZA0Ko+FPuhnEB0M5q5aSF5QBIXvmTYLsNAvECfFh8pwkAi/sER0n2qQJcXg9ZR6LJADzXP9ldvh0DViWsv4ijXQGsupc74y5FAiAUJlezVrkBruVvPRXK5QCL3/CCBgoBA6KT+hQYZkkAZYjVBORbCQN+RQvqHqnZAUhCOlZHbwkD7T0qGSMOyQF36agAJrHZAm8/NioZTpUCrlbvx/jKgQIWHhrBK2eVANTzFMyIw8kAo1XygSFmHQEDdOm3jdL9A3/KmHCzf4kBKSSeLrQXQQL7gRO6MUpZA1/S07didykBEcixKueTKQKqMOcccpbdAssHkPq18pkBQExJW5FukQN8dH4kthshAJ9CAav0Q3UAAAAAAAAD4fyFxFKMozdJA2jGXXh5HtUCHTUhSJ9PvQKN15OROQcJAdAUJGzE+hkAcx773ADawQIVFciY3P9RA0mZP8sSjo0DZ4dJfT4mSQLpJ3XWb0+pATHdXKrC1nkChIwtYfTeCQKEWPwvCq6xA/cRriY7sfUAauVgR7zWZQAp4XIHh1MBAe7SjHm6Cz0BXMJ5PSmLUQHvzhRuGz+hA4c0lveTPp0BNJxUpqMzMQAAAAAAAAPh/mW1gAaZqiECy0oiLzZuBQKbPCAVl1rZAGcEGzX62jECA6bslryC5QIBH1fyy+69AIhFwOk+F0UCZY82sdeetQG9r08RmdMVAADDfjCVAqUCTiREVoEGLQI1FFBj4GIVACkHySFOZoEAdMQHWa1LOQH082SZ6j+tAIF4vWSezoEB3qVId//W6QAAAAAAAAPh/H4IjlFYioEBxEN61ismlQIjuMZqhd5pAPY2VXUF1tED7mHvg/G62QI9hO/+Oh5RAYtOSei3Fk0A=\",\"dtype\":\"float64\",\"shape\":[193]}},\"selected\":{\"id\":\"75202\",\"type\":\"Selection\"},\"selection_policy\":{\"id\":\"75203\",\"type\":\"UnionRenderers\"}},\"id\":\"74157\",\"type\":\"ColumnDataSource\"},{\"attributes\":{\"source\":{\"id\":\"74157\",\"type\":\"ColumnDataSource\"}},\"id\":\"74196\",\"type\":\"CDSView\"},{\"attributes\":{\"text\":\"PIB en 2015 en fonction de Stabilit\\u00e9 Politique\"},\"id\":\"74159\",\"type\":\"Title\"},{\"attributes\":{\"fill_alpha\":{\"value\":0.2},\"fill_color\":{\"value\":\"#1f77b4\"},\"line_color\":{\"value\":\"#1f77b4\"},\"size\":{\"units\":\"screen\",\"value\":10},\"x\":{\"field\":\"x\"},\"y\":{\"field\":\"y\"}},\"id\":\"74193\",\"type\":\"Circle\"},{\"attributes\":{},\"id\":\"75200\",\"type\":\"BasicTickFormatter\"},{\"attributes\":{\"fill_alpha\":{\"value\":0.1},\"fill_color\":{\"value\":\"#1f77b4\"},\"line_alpha\":{\"value\":0.1},\"line_color\":{\"value\":\"#1f77b4\"},\"size\":{\"units\":\"screen\",\"value\":10},\"x\":{\"field\":\"x\"},\"y\":{\"field\":\"y\"}},\"id\":\"74194\",\"type\":\"Circle\"},{\"attributes\":{\"dimension\":1,\"ticker\":{\"id\":\"74175\",\"type\":\"LogTicker\"}},\"id\":\"74178\",\"type\":\"Grid\"},{\"attributes\":{\"num_minor_ticks\":10},\"id\":\"74175\",\"type\":\"LogTicker\"},{\"attributes\":{\"axis_label\":\"PIB en 2015\",\"formatter\":{\"id\":\"75198\",\"type\":\"LogTickFormatter\"},\"ticker\":{\"id\":\"74175\",\"type\":\"LogTicker\"}},\"id\":\"74174\",\"type\":\"LogAxis\"},{\"attributes\":{\"active_drag\":\"auto\",\"active_inspect\":\"auto\",\"active_multi\":null,\"active_scroll\":\"auto\",\"active_tap\":\"auto\",\"tools\":[{\"id\":\"74179\",\"type\":\"PanTool\"},{\"id\":\"74180\",\"type\":\"WheelZoomTool\"},{\"id\":\"74181\",\"type\":\"BoxZoomTool\"},{\"id\":\"74182\",\"type\":\"SaveTool\"},{\"id\":\"74183\",\"type\":\"ResetTool\"},{\"id\":\"74184\",\"type\":\"HelpTool\"}]},\"id\":\"74185\",\"type\":\"Toolbar\"},{\"attributes\":{},\"id\":\"74179\",\"type\":\"PanTool\"},{\"attributes\":{\"bottom_units\":\"screen\",\"fill_alpha\":{\"value\":0.5},\"fill_color\":{\"value\":\"lightgrey\"},\"left_units\":\"screen\",\"level\":\"overlay\",\"line_alpha\":{\"value\":1.0},\"line_color\":{\"value\":\"black\"},\"line_dash\":[4,4],\"line_width\":{\"value\":2},\"render_mode\":\"css\",\"right_units\":\"screen\",\"top_units\":\"screen\"},\"id\":\"75204\",\"type\":\"BoxAnnotation\"},{\"attributes\":{\"ticker\":{\"id\":\"74170\",\"type\":\"BasicTicker\"}},\"id\":\"74173\",\"type\":\"Grid\"},{\"attributes\":{},\"id\":\"75203\",\"type\":\"UnionRenderers\"},{\"attributes\":{},\"id\":\"74170\",\"type\":\"BasicTicker\"},{\"attributes\":{},\"id\":\"74184\",\"type\":\"HelpTool\"},{\"attributes\":{\"ticker\":null},\"id\":\"75198\",\"type\":\"LogTickFormatter\"},{\"attributes\":{},\"id\":\"74183\",\"type\":\"ResetTool\"},{\"attributes\":{\"axis_label\":\"Stabilit\\u00e9 Politique\",\"formatter\":{\"id\":\"75200\",\"type\":\"BasicTickFormatter\"},\"ticker\":{\"id\":\"74170\",\"type\":\"BasicTicker\"}},\"id\":\"74169\",\"type\":\"LinearAxis\"},{\"attributes\":{},\"id\":\"74182\",\"type\":\"SaveTool\"},{\"attributes\":{},\"id\":\"74167\",\"type\":\"LogScale\"},{\"attributes\":{\"overlay\":{\"id\":\"75204\",\"type\":\"BoxAnnotation\"}},\"id\":\"74181\",\"type\":\"BoxZoomTool\"},{\"attributes\":{},\"id\":\"74165\",\"type\":\"LinearScale\"},{\"attributes\":{},\"id\":\"75202\",\"type\":\"Selection\"},{\"attributes\":{\"callback\":null},\"id\":\"74161\",\"type\":\"DataRange1d\"},{\"attributes\":{},\"id\":\"74180\",\"type\":\"WheelZoomTool\"}],\"root_ids\":[\"74158\"]},\"title\":\"Bokeh Application\",\"version\":\"1.1.0\"}};\n",
       "  var render_items = [{\"docid\":\"b9e2e43a-e246-4093-b8ad-104a9761f86f\",\"roots\":{\"74158\":\"d1ef5ced-2cb2-46c4-8072-ee4e479bb38d\"}}];\n",
       "  root.Bokeh.embed.embed_items_notebook(docs_json, render_items);\n",
       "\n",
       "  }\n",
       "  if (root.Bokeh !== undefined) {\n",
       "    embed_document(root);\n",
       "  } else {\n",
       "    var attempts = 0;\n",
       "    var timer = setInterval(function(root) {\n",
       "      if (root.Bokeh !== undefined) {\n",
       "        embed_document(root);\n",
       "        clearInterval(timer);\n",
       "      }\n",
       "      attempts++;\n",
       "      if (attempts > 100) {\n",
       "        console.log(\"Bokeh: ERROR: Unable to run BokehJS code because BokehJS library is missing\");\n",
       "        clearInterval(timer);\n",
       "      }\n",
       "    }, 10, root)\n",
       "  }\n",
       "})(window);"
      ],
      "application/vnd.bokehjs_exec.v0+json": ""
     },
     "metadata": {
      "application/vnd.bokehjs_exec.v0+json": {
       "id": "74158"
      }
     },
     "output_type": "display_data"
    }
   ],
   "source": [
    "df = pd.read_csv('gdp_per_cap.csv')\n",
    "gov = pd.read_excel(\"all_5_wdb.xlsx\")\n",
    "gov = gov.dropna()\n",
    "gov = gov.set_index(\"WBCode\").join(df.set_index(\"Country Code\"), how=\"inner\")\n",
    "\n",
    "\n",
    "pca = TSNE(n_components=1,random_state=0,perplexity=20)\n",
    "mat = pca.fit_transform(X,y)\n",
    "source = ColumnDataSource(data={\"x\":gov[\"PoliticalStability\"], \"y\":gov[\"2015\"], \"label\":gov[\"Country/Territory\"], \n",
    "                                \"color\":list([colors[int(i)] for i in conts])})\n",
    "\n",
    "\n",
    "p = figure(title = \"PIB en 2015 en fonction de Stabilité Politique\",\n",
    "           x_axis_label=\"Stabilité Politique\",y_axis_label=\"PIB en 2015\",\n",
    "                 # x_axis_type=\"log\",\n",
    "           y_axis_type=\"log\")\n",
    "\n",
    "p.circle(x=\"x\",y=\"y\", source=source, fill_alpha=0.2, size=10)\n",
    "\n",
    "labels = LabelSet(x=\"x\",y=\"y\",source=source, text=\"label\", y_offset=8,\n",
    "                  text_font_size=\"8pt\", text_color=\"#555555\",\n",
    "                  text_align='center')\n",
    "p.add_layout(labels)\n",
    "\n",
    "show(p)"
   ]
  },
  {
   "cell_type": "code",
   "execution_count": 280,
   "metadata": {},
   "outputs": [
    {
     "name": "stderr",
     "output_type": "stream",
     "text": [
      "/home/leo/.local/lib/python3.6/site-packages/bokeh/models/sources.py:164: BokehUserWarning:\n",
      "\n",
      "ColumnDataSource's columns must be of the same length. Current lengths: ('color', 167), ('label', 193), ('x', 193), ('y', 193)\n",
      "\n"
     ]
    },
    {
     "data": {
      "text/html": [
       "\n",
       "\n",
       "\n",
       "\n",
       "\n",
       "\n",
       "  <div class=\"bk-root\" id=\"7d9fd6a3-4b77-4fe9-9598-29f7d381bc4c\" data-root-id=\"76358\"></div>\n"
      ]
     },
     "metadata": {},
     "output_type": "display_data"
    },
    {
     "data": {
      "application/javascript": [
       "(function(root) {\n",
       "  function embed_document(root) {\n",
       "    \n",
       "  var docs_json = {\"c661869c-6374-4280-84ac-adf0cc99ec7f\":{\"roots\":{\"references\":[{\"attributes\":{\"below\":[{\"id\":\"76369\",\"type\":\"LinearAxis\"}],\"center\":[{\"id\":\"76373\",\"type\":\"Grid\"},{\"id\":\"76378\",\"type\":\"Grid\"},{\"id\":\"76397\",\"type\":\"LabelSet\"}],\"left\":[{\"id\":\"76374\",\"type\":\"LogAxis\"}],\"renderers\":[{\"id\":\"76395\",\"type\":\"GlyphRenderer\"}],\"title\":{\"id\":\"76359\",\"type\":\"Title\"},\"toolbar\":{\"id\":\"76385\",\"type\":\"Toolbar\"},\"x_range\":{\"id\":\"76361\",\"type\":\"DataRange1d\"},\"x_scale\":{\"id\":\"76365\",\"type\":\"LinearScale\"},\"y_range\":{\"id\":\"76363\",\"type\":\"DataRange1d\"},\"y_scale\":{\"id\":\"76367\",\"type\":\"LogScale\"}},\"id\":\"76358\",\"subtype\":\"Figure\",\"type\":\"Plot\"},{\"attributes\":{\"axis_label\":\"PIB en 2015\",\"formatter\":{\"id\":\"77414\",\"type\":\"LogTickFormatter\"},\"ticker\":{\"id\":\"76375\",\"type\":\"LogTicker\"}},\"id\":\"76374\",\"type\":\"LogAxis\"},{\"attributes\":{\"data_source\":{\"id\":\"76357\",\"type\":\"ColumnDataSource\"},\"glyph\":{\"id\":\"76393\",\"type\":\"Circle\"},\"hover_glyph\":null,\"muted_glyph\":null,\"nonselection_glyph\":{\"id\":\"76394\",\"type\":\"Circle\"},\"selection_glyph\":null,\"view\":{\"id\":\"76396\",\"type\":\"CDSView\"}},\"id\":\"76395\",\"type\":\"GlyphRenderer\"},{\"attributes\":{\"ticker\":{\"id\":\"76370\",\"type\":\"BasicTicker\"}},\"id\":\"76373\",\"type\":\"Grid\"},{\"attributes\":{},\"id\":\"76384\",\"type\":\"HelpTool\"},{\"attributes\":{},\"id\":\"76370\",\"type\":\"BasicTicker\"},{\"attributes\":{},\"id\":\"76383\",\"type\":\"ResetTool\"},{\"attributes\":{\"axis_label\":\"Efficacit\\u00e9 du gouvernement\",\"formatter\":{\"id\":\"77416\",\"type\":\"BasicTickFormatter\"},\"ticker\":{\"id\":\"76370\",\"type\":\"BasicTicker\"}},\"id\":\"76369\",\"type\":\"LinearAxis\"},{\"attributes\":{},\"id\":\"76382\",\"type\":\"SaveTool\"},{\"attributes\":{},\"id\":\"76367\",\"type\":\"LogScale\"},{\"attributes\":{\"ticker\":null},\"id\":\"77414\",\"type\":\"LogTickFormatter\"},{\"attributes\":{},\"id\":\"77416\",\"type\":\"BasicTickFormatter\"},{\"attributes\":{},\"id\":\"76365\",\"type\":\"LinearScale\"},{\"attributes\":{\"overlay\":{\"id\":\"77420\",\"type\":\"BoxAnnotation\"}},\"id\":\"76381\",\"type\":\"BoxZoomTool\"},{\"attributes\":{},\"id\":\"76380\",\"type\":\"WheelZoomTool\"},{\"attributes\":{\"callback\":null},\"id\":\"76361\",\"type\":\"DataRange1d\"},{\"attributes\":{},\"id\":\"76379\",\"type\":\"PanTool\"},{\"attributes\":{\"active_drag\":\"auto\",\"active_inspect\":\"auto\",\"active_multi\":null,\"active_scroll\":\"auto\",\"active_tap\":\"auto\",\"tools\":[{\"id\":\"76379\",\"type\":\"PanTool\"},{\"id\":\"76380\",\"type\":\"WheelZoomTool\"},{\"id\":\"76381\",\"type\":\"BoxZoomTool\"},{\"id\":\"76382\",\"type\":\"SaveTool\"},{\"id\":\"76383\",\"type\":\"ResetTool\"},{\"id\":\"76384\",\"type\":\"HelpTool\"}]},\"id\":\"76385\",\"type\":\"Toolbar\"},{\"attributes\":{\"source\":{\"id\":\"76357\",\"type\":\"ColumnDataSource\"},\"text\":{\"field\":\"label\"},\"text_align\":\"center\",\"text_color\":{\"value\":\"#555555\"},\"text_font_size\":{\"value\":\"8pt\"},\"x\":{\"field\":\"x\"},\"y\":{\"field\":\"y\"},\"y_offset\":{\"value\":8}},\"id\":\"76397\",\"type\":\"LabelSet\"},{\"attributes\":{},\"id\":\"77419\",\"type\":\"UnionRenderers\"},{\"attributes\":{\"fill_alpha\":{\"value\":0.2},\"fill_color\":{\"value\":\"#1f77b4\"},\"line_color\":{\"value\":\"#1f77b4\"},\"size\":{\"units\":\"screen\",\"value\":10},\"x\":{\"field\":\"x\"},\"y\":{\"field\":\"y\"}},\"id\":\"76393\",\"type\":\"Circle\"},{\"attributes\":{\"callback\":null},\"id\":\"76363\",\"type\":\"DataRange1d\"},{\"attributes\":{\"callback\":null,\"data\":{\"color\":[\"yellow\",\"blue\",\"red\",\"green\",\"blue\",\"brown\",\"blue\",\"yellow\",\"black\",\"green\",\"blue\",\"red\",\"green\",\"red\",\"red\",\"blue\",\"green\",\"blue\",\"green\",\"green\",\"yellow\",\"brown\",\"yellow\",\"blue\",\"blue\",\"red\",\"red\",\"red\",\"yellow\",\"green\",\"brown\",\"blue\",\"red\",\"red\",\"brown\",\"red\",\"yellow\",\"yellow\",\"yellow\",\"blue\",\"green\",\"red\",\"yellow\",\"green\",\"yellow\",\"red\",\"brown\",\"red\",\"green\",\"green\",\"red\",\"green\",\"black\",\"green\",\"red\",\"green\",\"blue\",\"red\",\"red\",\"red\",\"red\",\"green\",\"yellow\",\"yellow\",\"yellow\",\"brown\",\"yellow\",\"green\",\"yellow\",\"green\",\"blue\",\"blue\",\"green\",\"blue\",\"green\",\"blue\",\"green\",\"yellow\",\"blue\",\"blue\",\"blue\",\"red\",\"blue\",\"black\",\"blue\",\"blue\",\"red\",\"red\",\"green\",\"blue\",\"red\",\"green\",\"green\",\"green\",\"red\",\"red\",\"blue\",\"yellow\",\"black\",\"red\",\"green\",\"blue\",\"blue\",\"green\",\"red\",\"red\",\"red\",\"red\",\"blue\",\"red\",\"red\",\"red\",\"yellow\",\"green\",\"green\",\"blue\",\"black\",\"black\",\"blue\",\"blue\",\"yellow\",\"black\",\"brown\",\"blue\",\"black\",\"green\",\"yellow\",\"green\",\"brown\",\"blue\",\"green\",\"red\",\"black\",\"blue\",\"red\",\"red\",\"blue\",\"black\",\"red\",\"yellow\",\"red\",\"brown\",\"green\",\"green\",\"red\",\"red\",\"blue\",\"red\",\"red\",\"blue\",\"blue\",\"blue\",\"black\",\"yellow\",\"red\",\"blue\",\"black\",\"red\",\"green\",\"brown\",\"yellow\",\"blue\",\"black\",\"green\",\"red\",\"red\",\"red\"],\"label\":[\"Aruba\",\"Afghanistan\",\"Angola\",\"Albania\",\"United Arab Emirates\",\"Argentina\",\"Armenia\",\"Antigua and Barbuda\",\"Australia\",\"Austria\",\"Azerbaijan\",\"Burundi\",\"Belgium\",\"Benin\",\"Burkina Faso\",\"Bangladesh\",\"Bulgaria\",\"Bahrain\",\"Bahamas, The\",\"Bosnia and Herzegovina\",\"Belarus\",\"Belize\",\"Bolivia\",\"Brazil\",\"Barbados\",\"Brunei Darussalam\",\"Bhutan\",\"South Sudan\",\"Botswana\",\"Central African Republic\",\"Canada\",\"Switzerland\",\"Chile\",\"China\",\"C\\u00f4te d'Ivoire\",\"Cameroon\",\"Congo, Rep.\",\"Colombia\",\"Comoros\",\"Cape Verde\",\"Costa Rica\",\"Cuba\",\"Cayman Islands\",\"Cyprus\",\"Czech Republic\",\"Germany\",\"Djibouti\",\"Dominica\",\"Denmark\",\"Dominican Republic\",\"Algeria\",\"Ecuador\",\"Egypt, Arab Rep.\",\"Eritrea\",\"Spain\",\"Estonia\",\"Ethiopia\",\"Finland\",\"Fiji\",\"France\",\"Micronesia, Fed. Sts.\",\"Gabon\",\"United Kingdom\",\"Georgia\",\"Ghana\",\"Guinea\",\"Gambia, The\",\"Guinea-Bissau\",\"Equatorial Guinea\",\"Greece\",\"Grenada\",\"Greenland\",\"Guatemala\",\"Guyana\",\"Hong Kong SAR, China\",\"Honduras\",\"Croatia\",\"Haiti\",\"Hungary\",\"Indonesia\",\"India\",\"Ireland\",\"Iran, Islamic Rep.\",\"Iraq\",\"Iceland\",\"Israel\",\"Italy\",\"Jamaica\",\"Jordan\",\"Japan\",\"Kazakhstan\",\"Kenya\",\"Kyrgyz Republic\",\"Cambodia\",\"Kiribati\",\"St. Kitts and Nevis\",\"Korea, Rep.\",\"Kuwait\",\"Lao PDR\",\"Lebanon\",\"Liberia\",\"Libya\",\"St. Lucia\",\"Liechtenstein\",\"Sri Lanka\",\"Lesotho\",\"Lithuania\",\"Luxembourg\",\"Latvia\",\"Macao SAR, China\",\"Morocco\",\"Moldova\",\"Madagascar\",\"Maldives\",\"Mexico\",\"Marshall Islands\",\"Macedonia, FYR\",\"Mali\",\"Malta\",\"Myanmar\",\"Mongolia\",\"Montenegro\",\"Mozambique\",\"Mauritania\",\"Mauritius\",\"Malawi\",\"Malaysia\",\"Namibia\",\"Niger\",\"Nigeria\",\"Nicaragua\",\"Netherlands\",\"Norway\",\"Nepal\",\"Nauru\",\"New Zealand\",\"Oman\",\"Pakistan\",\"Panama\",\"Palau\",\"Peru\",\"Philippines\",\"Papua New Guinea\",\"Poland\",\"Puerto Rico\",\"Korea, Dem. Rep.\",\"Portugal\",\"Paraguay\",\"Qatar\",\"Russian Federation\",\"Rwanda\",\"Samoa\",\"Saudi Arabia\",\"Sudan\",\"Senegal\",\"Singapore\",\"Solomon Islands\",\"Sierra Leone\",\"El Salvador\",\"Somalia\",\"S\\u00e3o Tom\\u00e9 and Principe\",\"Suriname\",\"Slovak Republic\",\"Slovenia\",\"Sweden\",\"Swaziland\",\"Seychelles\",\"Syrian Arab Republic\",\"Chad\",\"Togo\",\"Thailand\",\"Tajikistan\",\"Turkmenistan\",\"Tonga\",\"Trinidad and Tobago\",\"Tunisia\",\"Turkey\",\"Tuvalu\",\"Tanzania\",\"Uganda\",\"Ukraine\",\"Uruguay\",\"United States\",\"Uzbekistan\",\"St. Vincent and the Grenadines\",\"Venezuela, RB\",\"Vietnam\",\"Vanuatu\",\"Yemen, Rep.\",\"Serbia\",\"South Africa\",\"Zambia\",\"Zimbabwe\"],\"x\":{\"__ndarray__\":\"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\",\"dtype\":\"float64\",\"shape\":[193]},\"y\":{\"__ndarray__\":\"1sUGVhgx2UBGD1CenHCCQKbbwvi6SrBAASMmXKnhrkAJ1i+XQRrjQLxtZI8lwcpAYHwKGt9DrEBlCyTrNZHKQPVTOzItnutAYb3WGNmV5UCTTjl1T3y1QNZc3M78BXNAdHIh7yS140B3VCJitH+IQMYajQCE+oFAqqBfqaLokkBCDVKSyFG7QCqRJzU4KNZAcGeGfPTE3UAYIJ0XPuixQIJ17zYbPbdAbwCMYYkps0A9UvppDQqoQNqkIoscF8FAwc7lToaAz0CHdQ7++D3eQJHHq0sFcKRAYr2xLV+vjED/Ha1oJXm5QNHiWlMaxnVAMGyR2KtA5UChPUxXAAb0QLLdOF5R1MpAw+a7iDaFv0Bebd0MbMyaQI/OZ62yJ5VA9krIDXzAmkCx2SjBNcW3QB0fH2k63JNAPvUgXrlop0ARE0qjg0DGQEary1ZHsr1AAAAAAAAA+H/a0INhDqvWQLUSgnrnTNFA4R3yfH0t5EBjcybNcIabQC7KuQ084LxA9hQD5J/i6UDGYA+X6Ia5QCpDgSjaQrBAYQKw7CcGuEAQPuMPbberQAAAAAAAAPh/qN9GQGEv2UAz5H/y98DQQCvSb1W4K4RAFeXaEAe35EBPU9QhdhmzQFfnxAGs4OFAGr8acQSUp0CFziQ3txi9QHDIi78xouVAnkcaJkhprUBjnZ+NPtybQKXsFY9ruoZAsRtZ1soHhkDn65z+cn6CQLzlR9S85sVARKy+trGl0UANDvGWojrCQFee2IMI7uVAlWtMjSWnrkCh6znyQ0CwQEPNzWz8t+RALRrB9oxKokA7d3/gof7GQMOadARfdIlAlokk1+5hyECPqlYgGQ2qQLAXLjQnGJlAf6mzc/Ut7kBV0AK7TP6yQLU3r0S6MrNAemukKbUB6UC92ojRXm3hQDdXspMUed1A7Wy7dWo9s0DWFhZqGQCwQLoGktz34OBA3VQ9zWKHxED2T2TNOCyVQM30udJUhJFAHFsdU8IskkCrqh+LOcmXQBkVUe/K19BAvh/k4ER42kARh0pmRG3cQEd8HMbd3qBAyQidv8GowED0nkHJeRCGQB08pIh9cbFAx21DoNPhwUCzs73dNHUEQYzKCSwHCa5A/IV5vmsJkkCwDdBuj+jLQDalspRsxPhATuDq2NijykD75dWVxG3yQJz+DzaSPqZA0Ko+FPuhnEB0M5q5aSF5QBIXvmTYLsNAvECfFh8pwkAi/sER0n2qQJcXg9ZR6LJADzXP9ldvh0DViWsv4ijXQGsupc74y5FAiAUJlezVrkBruVvPRXK5QCL3/CCBgoBA6KT+hQYZkkAZYjVBORbCQN+RQvqHqnZAUhCOlZHbwkD7T0qGSMOyQF36agAJrHZAm8/NioZTpUCrlbvx/jKgQIWHhrBK2eVANTzFMyIw8kAo1XygSFmHQEDdOm3jdL9A3/KmHCzf4kBKSSeLrQXQQL7gRO6MUpZA1/S07didykBEcixKueTKQKqMOcccpbdAssHkPq18pkBQExJW5FukQN8dH4kthshAJ9CAav0Q3UAAAAAAAAD4fyFxFKMozdJA2jGXXh5HtUCHTUhSJ9PvQKN15OROQcJAdAUJGzE+hkAcx773ADawQIVFciY3P9RA0mZP8sSjo0DZ4dJfT4mSQLpJ3XWb0+pATHdXKrC1nkChIwtYfTeCQKEWPwvCq6xA/cRriY7sfUAauVgR7zWZQAp4XIHh1MBAe7SjHm6Cz0BXMJ5PSmLUQHvzhRuGz+hA4c0lveTPp0BNJxUpqMzMQAAAAAAAAPh/mW1gAaZqiECy0oiLzZuBQKbPCAVl1rZAGcEGzX62jECA6bslryC5QIBH1fyy+69AIhFwOk+F0UCZY82sdeetQG9r08RmdMVAADDfjCVAqUCTiREVoEGLQI1FFBj4GIVACkHySFOZoEAdMQHWa1LOQH082SZ6j+tAIF4vWSezoEB3qVId//W6QAAAAAAAAPh/H4IjlFYioEBxEN61ismlQIjuMZqhd5pAPY2VXUF1tED7mHvg/G62QI9hO/+Oh5RAYtOSei3Fk0A=\",\"dtype\":\"float64\",\"shape\":[193]}},\"selected\":{\"id\":\"77418\",\"type\":\"Selection\"},\"selection_policy\":{\"id\":\"77419\",\"type\":\"UnionRenderers\"}},\"id\":\"76357\",\"type\":\"ColumnDataSource\"},{\"attributes\":{},\"id\":\"77418\",\"type\":\"Selection\"},{\"attributes\":{\"fill_alpha\":{\"value\":0.1},\"fill_color\":{\"value\":\"#1f77b4\"},\"line_alpha\":{\"value\":0.1},\"line_color\":{\"value\":\"#1f77b4\"},\"size\":{\"units\":\"screen\",\"value\":10},\"x\":{\"field\":\"x\"},\"y\":{\"field\":\"y\"}},\"id\":\"76394\",\"type\":\"Circle\"},{\"attributes\":{\"bottom_units\":\"screen\",\"fill_alpha\":{\"value\":0.5},\"fill_color\":{\"value\":\"lightgrey\"},\"left_units\":\"screen\",\"level\":\"overlay\",\"line_alpha\":{\"value\":1.0},\"line_color\":{\"value\":\"black\"},\"line_dash\":[4,4],\"line_width\":{\"value\":2},\"render_mode\":\"css\",\"right_units\":\"screen\",\"top_units\":\"screen\"},\"id\":\"77420\",\"type\":\"BoxAnnotation\"},{\"attributes\":{\"text\":\"PIB en 2015 en fonction de l'efficacit\\u00e9 du gouvernement\"},\"id\":\"76359\",\"type\":\"Title\"},{\"attributes\":{\"dimension\":1,\"ticker\":{\"id\":\"76375\",\"type\":\"LogTicker\"}},\"id\":\"76378\",\"type\":\"Grid\"},{\"attributes\":{\"num_minor_ticks\":10},\"id\":\"76375\",\"type\":\"LogTicker\"},{\"attributes\":{\"source\":{\"id\":\"76357\",\"type\":\"ColumnDataSource\"}},\"id\":\"76396\",\"type\":\"CDSView\"}],\"root_ids\":[\"76358\"]},\"title\":\"Bokeh Application\",\"version\":\"1.1.0\"}};\n",
       "  var render_items = [{\"docid\":\"c661869c-6374-4280-84ac-adf0cc99ec7f\",\"roots\":{\"76358\":\"7d9fd6a3-4b77-4fe9-9598-29f7d381bc4c\"}}];\n",
       "  root.Bokeh.embed.embed_items_notebook(docs_json, render_items);\n",
       "\n",
       "  }\n",
       "  if (root.Bokeh !== undefined) {\n",
       "    embed_document(root);\n",
       "  } else {\n",
       "    var attempts = 0;\n",
       "    var timer = setInterval(function(root) {\n",
       "      if (root.Bokeh !== undefined) {\n",
       "        embed_document(root);\n",
       "        clearInterval(timer);\n",
       "      }\n",
       "      attempts++;\n",
       "      if (attempts > 100) {\n",
       "        console.log(\"Bokeh: ERROR: Unable to run BokehJS code because BokehJS library is missing\");\n",
       "        clearInterval(timer);\n",
       "      }\n",
       "    }, 10, root)\n",
       "  }\n",
       "})(window);"
      ],
      "application/vnd.bokehjs_exec.v0+json": ""
     },
     "metadata": {
      "application/vnd.bokehjs_exec.v0+json": {
       "id": "76358"
      }
     },
     "output_type": "display_data"
    }
   ],
   "source": [
    "df = pd.read_csv('gdp_per_cap.csv')\n",
    "gov = pd.read_excel(\"all_5_wdb.xlsx\")\n",
    "gov = gov.dropna()\n",
    "gov = gov.set_index(\"WBCode\").join(df.set_index(\"Country Code\"), how=\"inner\")\n",
    "\n",
    "\n",
    "pca = TSNE(n_components=1,random_state=0,perplexity=20)\n",
    "mat = pca.fit_transform(X,y)\n",
    "source = ColumnDataSource(data={\"x\":gov[\"GovernmentEffectiveness\"], \"y\":gov[\"2015\"], \"label\":gov[\"Country/Territory\"], \n",
    "                                \"color\":list([colors[int(i)] for i in conts])})\n",
    "\n",
    "\n",
    "p = figure(title = \"PIB en 2015 en fonction de l'efficacité du gouvernement\",\n",
    "           x_axis_label=\"Efficacité du gouvernement\",y_axis_label=\"PIB en 2015\",\n",
    "                 # x_axis_type=\"log\",\n",
    "           y_axis_type=\"log\")\n",
    "\n",
    "p.circle(x=\"x\",y=\"y\", source=source, fill_alpha=0.2, size=10)\n",
    "\n",
    "labels = LabelSet(x=\"x\",y=\"y\",source=source, text=\"label\", y_offset=8,\n",
    "                  text_font_size=\"8pt\", text_color=\"#555555\",\n",
    "                  text_align='center')\n",
    "p.add_layout(labels)\n",
    "\n",
    "show(p)"
   ]
  },
  {
   "cell_type": "code",
   "execution_count": 283,
   "metadata": {},
   "outputs": [
    {
     "name": "stderr",
     "output_type": "stream",
     "text": [
      "/home/leo/.local/lib/python3.6/site-packages/bokeh/models/sources.py:164: BokehUserWarning:\n",
      "\n",
      "ColumnDataSource's columns must be of the same length. Current lengths: ('color', 167), ('label', 193), ('x', 193), ('y', 193)\n",
      "\n"
     ]
    },
    {
     "data": {
      "text/html": [
       "\n",
       "\n",
       "\n",
       "\n",
       "\n",
       "\n",
       "  <div class=\"bk-root\" id=\"305b9389-6498-44e4-9712-3783b1fe346e\" data-root-id=\"79718\"></div>\n"
      ]
     },
     "metadata": {},
     "output_type": "display_data"
    },
    {
     "data": {
      "application/javascript": [
       "(function(root) {\n",
       "  function embed_document(root) {\n",
       "    \n",
       "  var docs_json = {\"e0206a58-be45-4208-ba59-16e3ae716916\":{\"roots\":{\"references\":[{\"attributes\":{\"below\":[{\"id\":\"79729\",\"type\":\"LinearAxis\"}],\"center\":[{\"id\":\"79733\",\"type\":\"Grid\"},{\"id\":\"79738\",\"type\":\"Grid\"},{\"id\":\"79757\",\"type\":\"LabelSet\"}],\"left\":[{\"id\":\"79734\",\"type\":\"LogAxis\"}],\"renderers\":[{\"id\":\"79755\",\"type\":\"GlyphRenderer\"}],\"title\":{\"id\":\"79719\",\"type\":\"Title\"},\"toolbar\":{\"id\":\"79745\",\"type\":\"Toolbar\"},\"x_range\":{\"id\":\"79721\",\"type\":\"DataRange1d\"},\"x_scale\":{\"id\":\"79725\",\"type\":\"LinearScale\"},\"y_range\":{\"id\":\"79723\",\"type\":\"DataRange1d\"},\"y_scale\":{\"id\":\"79727\",\"type\":\"LogScale\"}},\"id\":\"79718\",\"subtype\":\"Figure\",\"type\":\"Plot\"},{\"attributes\":{\"axis_label\":\"R\\u00e8gne de la loi\",\"formatter\":{\"id\":\"80800\",\"type\":\"BasicTickFormatter\"},\"ticker\":{\"id\":\"79730\",\"type\":\"BasicTicker\"}},\"id\":\"79729\",\"type\":\"LinearAxis\"},{\"attributes\":{},\"id\":\"79744\",\"type\":\"HelpTool\"},{\"attributes\":{\"bottom_units\":\"screen\",\"fill_alpha\":{\"value\":0.5},\"fill_color\":{\"value\":\"lightgrey\"},\"left_units\":\"screen\",\"level\":\"overlay\",\"line_alpha\":{\"value\":1.0},\"line_color\":{\"value\":\"black\"},\"line_dash\":[4,4],\"line_width\":{\"value\":2},\"render_mode\":\"css\",\"right_units\":\"screen\",\"top_units\":\"screen\"},\"id\":\"80804\",\"type\":\"BoxAnnotation\"},{\"attributes\":{},\"id\":\"79727\",\"type\":\"LogScale\"},{\"attributes\":{\"overlay\":{\"id\":\"80804\",\"type\":\"BoxAnnotation\"}},\"id\":\"79741\",\"type\":\"BoxZoomTool\"},{\"attributes\":{},\"id\":\"79743\",\"type\":\"ResetTool\"},{\"attributes\":{},\"id\":\"79742\",\"type\":\"SaveTool\"},{\"attributes\":{},\"id\":\"79730\",\"type\":\"BasicTicker\"},{\"attributes\":{},\"id\":\"79740\",\"type\":\"WheelZoomTool\"},{\"attributes\":{},\"id\":\"80802\",\"type\":\"Selection\"},{\"attributes\":{\"data_source\":{\"id\":\"79717\",\"type\":\"ColumnDataSource\"},\"glyph\":{\"id\":\"79753\",\"type\":\"Circle\"},\"hover_glyph\":null,\"muted_glyph\":null,\"nonselection_glyph\":{\"id\":\"79754\",\"type\":\"Circle\"},\"selection_glyph\":null,\"view\":{\"id\":\"79756\",\"type\":\"CDSView\"}},\"id\":\"79755\",\"type\":\"GlyphRenderer\"},{\"attributes\":{},\"id\":\"79739\",\"type\":\"PanTool\"},{\"attributes\":{\"ticker\":null},\"id\":\"80798\",\"type\":\"LogTickFormatter\"},{\"attributes\":{\"fill_alpha\":{\"value\":0.2},\"fill_color\":{\"value\":\"#1f77b4\"},\"line_color\":{\"value\":\"#1f77b4\"},\"size\":{\"units\":\"screen\",\"value\":10},\"x\":{\"field\":\"x\"},\"y\":{\"field\":\"y\"}},\"id\":\"79753\",\"type\":\"Circle\"},{\"attributes\":{\"callback\":null},\"id\":\"79721\",\"type\":\"DataRange1d\"},{\"attributes\":{},\"id\":\"79725\",\"type\":\"LinearScale\"},{\"attributes\":{\"text\":\"PIB en 2015 en fonction de r\\u00e8gne de la loi\"},\"id\":\"79719\",\"type\":\"Title\"},{\"attributes\":{\"fill_alpha\":{\"value\":0.1},\"fill_color\":{\"value\":\"#1f77b4\"},\"line_alpha\":{\"value\":0.1},\"line_color\":{\"value\":\"#1f77b4\"},\"size\":{\"units\":\"screen\",\"value\":10},\"x\":{\"field\":\"x\"},\"y\":{\"field\":\"y\"}},\"id\":\"79754\",\"type\":\"Circle\"},{\"attributes\":{\"source\":{\"id\":\"79717\",\"type\":\"ColumnDataSource\"},\"text\":{\"field\":\"label\"},\"text_align\":\"center\",\"text_color\":{\"value\":\"#555555\"},\"text_font_size\":{\"value\":\"8pt\"},\"x\":{\"field\":\"x\"},\"y\":{\"field\":\"y\"},\"y_offset\":{\"value\":8}},\"id\":\"79757\",\"type\":\"LabelSet\"},{\"attributes\":{\"callback\":null},\"id\":\"79723\",\"type\":\"DataRange1d\"},{\"attributes\":{\"dimension\":1,\"ticker\":{\"id\":\"79735\",\"type\":\"LogTicker\"}},\"id\":\"79738\",\"type\":\"Grid\"},{\"attributes\":{\"ticker\":{\"id\":\"79730\",\"type\":\"BasicTicker\"}},\"id\":\"79733\",\"type\":\"Grid\"},{\"attributes\":{},\"id\":\"80800\",\"type\":\"BasicTickFormatter\"},{\"attributes\":{\"source\":{\"id\":\"79717\",\"type\":\"ColumnDataSource\"}},\"id\":\"79756\",\"type\":\"CDSView\"},{\"attributes\":{\"num_minor_ticks\":10},\"id\":\"79735\",\"type\":\"LogTicker\"},{\"attributes\":{\"active_drag\":\"auto\",\"active_inspect\":\"auto\",\"active_multi\":null,\"active_scroll\":\"auto\",\"active_tap\":\"auto\",\"tools\":[{\"id\":\"79739\",\"type\":\"PanTool\"},{\"id\":\"79740\",\"type\":\"WheelZoomTool\"},{\"id\":\"79741\",\"type\":\"BoxZoomTool\"},{\"id\":\"79742\",\"type\":\"SaveTool\"},{\"id\":\"79743\",\"type\":\"ResetTool\"},{\"id\":\"79744\",\"type\":\"HelpTool\"}]},\"id\":\"79745\",\"type\":\"Toolbar\"},{\"attributes\":{\"callback\":null,\"data\":{\"color\":[\"yellow\",\"blue\",\"red\",\"green\",\"blue\",\"brown\",\"blue\",\"yellow\",\"black\",\"green\",\"blue\",\"red\",\"green\",\"red\",\"red\",\"blue\",\"green\",\"blue\",\"green\",\"green\",\"yellow\",\"brown\",\"yellow\",\"blue\",\"blue\",\"red\",\"red\",\"red\",\"yellow\",\"green\",\"brown\",\"blue\",\"red\",\"red\",\"brown\",\"red\",\"yellow\",\"yellow\",\"yellow\",\"blue\",\"green\",\"red\",\"yellow\",\"green\",\"yellow\",\"red\",\"brown\",\"red\",\"green\",\"green\",\"red\",\"green\",\"black\",\"green\",\"red\",\"green\",\"blue\",\"red\",\"red\",\"red\",\"red\",\"green\",\"yellow\",\"yellow\",\"yellow\",\"brown\",\"yellow\",\"green\",\"yellow\",\"green\",\"blue\",\"blue\",\"green\",\"blue\",\"green\",\"blue\",\"green\",\"yellow\",\"blue\",\"blue\",\"blue\",\"red\",\"blue\",\"black\",\"blue\",\"blue\",\"red\",\"red\",\"green\",\"blue\",\"red\",\"green\",\"green\",\"green\",\"red\",\"red\",\"blue\",\"yellow\",\"black\",\"red\",\"green\",\"blue\",\"blue\",\"green\",\"red\",\"red\",\"red\",\"red\",\"blue\",\"red\",\"red\",\"red\",\"yellow\",\"green\",\"green\",\"blue\",\"black\",\"black\",\"blue\",\"blue\",\"yellow\",\"black\",\"brown\",\"blue\",\"black\",\"green\",\"yellow\",\"green\",\"brown\",\"blue\",\"green\",\"red\",\"black\",\"blue\",\"red\",\"red\",\"blue\",\"black\",\"red\",\"yellow\",\"red\",\"brown\",\"green\",\"green\",\"red\",\"red\",\"blue\",\"red\",\"red\",\"blue\",\"blue\",\"blue\",\"black\",\"yellow\",\"red\",\"blue\",\"black\",\"red\",\"green\",\"brown\",\"yellow\",\"blue\",\"black\",\"green\",\"red\",\"red\",\"red\"],\"label\":[\"Aruba\",\"Afghanistan\",\"Angola\",\"Albania\",\"United Arab Emirates\",\"Argentina\",\"Armenia\",\"Antigua and Barbuda\",\"Australia\",\"Austria\",\"Azerbaijan\",\"Burundi\",\"Belgium\",\"Benin\",\"Burkina Faso\",\"Bangladesh\",\"Bulgaria\",\"Bahrain\",\"Bahamas, The\",\"Bosnia and Herzegovina\",\"Belarus\",\"Belize\",\"Bolivia\",\"Brazil\",\"Barbados\",\"Brunei Darussalam\",\"Bhutan\",\"South Sudan\",\"Botswana\",\"Central African Republic\",\"Canada\",\"Switzerland\",\"Chile\",\"China\",\"C\\u00f4te d'Ivoire\",\"Cameroon\",\"Congo, Rep.\",\"Colombia\",\"Comoros\",\"Cape Verde\",\"Costa Rica\",\"Cuba\",\"Cayman Islands\",\"Cyprus\",\"Czech Republic\",\"Germany\",\"Djibouti\",\"Dominica\",\"Denmark\",\"Dominican Republic\",\"Algeria\",\"Ecuador\",\"Egypt, Arab Rep.\",\"Eritrea\",\"Spain\",\"Estonia\",\"Ethiopia\",\"Finland\",\"Fiji\",\"France\",\"Micronesia, Fed. Sts.\",\"Gabon\",\"United Kingdom\",\"Georgia\",\"Ghana\",\"Guinea\",\"Gambia, The\",\"Guinea-Bissau\",\"Equatorial Guinea\",\"Greece\",\"Grenada\",\"Greenland\",\"Guatemala\",\"Guyana\",\"Hong Kong SAR, China\",\"Honduras\",\"Croatia\",\"Haiti\",\"Hungary\",\"Indonesia\",\"India\",\"Ireland\",\"Iran, Islamic Rep.\",\"Iraq\",\"Iceland\",\"Israel\",\"Italy\",\"Jamaica\",\"Jordan\",\"Japan\",\"Kazakhstan\",\"Kenya\",\"Kyrgyz Republic\",\"Cambodia\",\"Kiribati\",\"St. Kitts and Nevis\",\"Korea, Rep.\",\"Kuwait\",\"Lao PDR\",\"Lebanon\",\"Liberia\",\"Libya\",\"St. Lucia\",\"Liechtenstein\",\"Sri Lanka\",\"Lesotho\",\"Lithuania\",\"Luxembourg\",\"Latvia\",\"Macao SAR, China\",\"Morocco\",\"Moldova\",\"Madagascar\",\"Maldives\",\"Mexico\",\"Marshall Islands\",\"Macedonia, FYR\",\"Mali\",\"Malta\",\"Myanmar\",\"Mongolia\",\"Montenegro\",\"Mozambique\",\"Mauritania\",\"Mauritius\",\"Malawi\",\"Malaysia\",\"Namibia\",\"Niger\",\"Nigeria\",\"Nicaragua\",\"Netherlands\",\"Norway\",\"Nepal\",\"Nauru\",\"New Zealand\",\"Oman\",\"Pakistan\",\"Panama\",\"Palau\",\"Peru\",\"Philippines\",\"Papua New Guinea\",\"Poland\",\"Puerto Rico\",\"Korea, Dem. Rep.\",\"Portugal\",\"Paraguay\",\"Qatar\",\"Russian Federation\",\"Rwanda\",\"Samoa\",\"Saudi Arabia\",\"Sudan\",\"Senegal\",\"Singapore\",\"Solomon Islands\",\"Sierra Leone\",\"El Salvador\",\"Somalia\",\"S\\u00e3o Tom\\u00e9 and Principe\",\"Suriname\",\"Slovak Republic\",\"Slovenia\",\"Sweden\",\"Swaziland\",\"Seychelles\",\"Syrian Arab Republic\",\"Chad\",\"Togo\",\"Thailand\",\"Tajikistan\",\"Turkmenistan\",\"Tonga\",\"Trinidad and Tobago\",\"Tunisia\",\"Turkey\",\"Tuvalu\",\"Tanzania\",\"Uganda\",\"Ukraine\",\"Uruguay\",\"United States\",\"Uzbekistan\",\"St. Vincent and the Grenadines\",\"Venezuela, RB\",\"Vietnam\",\"Vanuatu\",\"Yemen, Rep.\",\"Serbia\",\"South Africa\",\"Zambia\",\"Zimbabwe\"],\"x\":{\"__ndarray__\":\"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\",\"dtype\":\"float64\",\"shape\":[193]},\"y\":{\"__ndarray__\":\"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\",\"dtype\":\"float64\",\"shape\":[193]}},\"selected\":{\"id\":\"80802\",\"type\":\"Selection\"},\"selection_policy\":{\"id\":\"80803\",\"type\":\"UnionRenderers\"}},\"id\":\"79717\",\"type\":\"ColumnDataSource\"},{\"attributes\":{\"axis_label\":\"PIB en 2015\",\"formatter\":{\"id\":\"80798\",\"type\":\"LogTickFormatter\"},\"ticker\":{\"id\":\"79735\",\"type\":\"LogTicker\"}},\"id\":\"79734\",\"type\":\"LogAxis\"},{\"attributes\":{},\"id\":\"80803\",\"type\":\"UnionRenderers\"}],\"root_ids\":[\"79718\"]},\"title\":\"Bokeh Application\",\"version\":\"1.1.0\"}};\n",
       "  var render_items = [{\"docid\":\"e0206a58-be45-4208-ba59-16e3ae716916\",\"roots\":{\"79718\":\"305b9389-6498-44e4-9712-3783b1fe346e\"}}];\n",
       "  root.Bokeh.embed.embed_items_notebook(docs_json, render_items);\n",
       "\n",
       "  }\n",
       "  if (root.Bokeh !== undefined) {\n",
       "    embed_document(root);\n",
       "  } else {\n",
       "    var attempts = 0;\n",
       "    var timer = setInterval(function(root) {\n",
       "      if (root.Bokeh !== undefined) {\n",
       "        embed_document(root);\n",
       "        clearInterval(timer);\n",
       "      }\n",
       "      attempts++;\n",
       "      if (attempts > 100) {\n",
       "        console.log(\"Bokeh: ERROR: Unable to run BokehJS code because BokehJS library is missing\");\n",
       "        clearInterval(timer);\n",
       "      }\n",
       "    }, 10, root)\n",
       "  }\n",
       "})(window);"
      ],
      "application/vnd.bokehjs_exec.v0+json": ""
     },
     "metadata": {
      "application/vnd.bokehjs_exec.v0+json": {
       "id": "79718"
      }
     },
     "output_type": "display_data"
    }
   ],
   "source": [
    "df = pd.read_csv('gdp_per_cap.csv')\n",
    "gov = pd.read_excel(\"all_5_wdb.xlsx\")\n",
    "gov = gov.dropna()\n",
    "gov = gov.set_index(\"WBCode\").join(df.set_index(\"Country Code\"), how=\"inner\")\n",
    "\n",
    "\n",
    "pca = TSNE(n_components=1,random_state=0,perplexity=20)\n",
    "mat = pca.fit_transform(X,y)\n",
    "source = ColumnDataSource(data={\"x\":gov[\"RuleOfLaw\"], \"y\":gov[\"2015\"], \"label\":gov[\"Country/Territory\"], \n",
    "                                \"color\":list([colors[int(i)] for i in conts])})\n",
    "\n",
    "\n",
    "p = figure(title = \"PIB en 2015 en fonction de règne de la loi\",\n",
    "           x_axis_label=\"Règne de la loi\",y_axis_label=\"PIB en 2015\",\n",
    "                 # x_axis_type=\"log\",\n",
    "           y_axis_type=\"log\")\n",
    "\n",
    "p.circle(x=\"x\",y=\"y\", source=source, fill_alpha=0.2, size=10)\n",
    "\n",
    "labels = LabelSet(x=\"x\",y=\"y\",source=source, text=\"label\", y_offset=8,\n",
    "                  text_font_size=\"8pt\", text_color=\"#555555\",\n",
    "                  text_align='center')\n",
    "p.add_layout(labels)\n",
    "\n",
    "show(p)"
   ]
  },
  {
   "cell_type": "code",
   "execution_count": 286,
   "metadata": {},
   "outputs": [
    {
     "name": "stderr",
     "output_type": "stream",
     "text": [
      "/home/leo/.local/lib/python3.6/site-packages/bokeh/models/sources.py:164: BokehUserWarning:\n",
      "\n",
      "ColumnDataSource's columns must be of the same length. Current lengths: ('color', 167), ('label', 193), ('x', 193), ('y', 193)\n",
      "\n"
     ]
    },
    {
     "data": {
      "text/html": [
       "\n",
       "\n",
       "\n",
       "\n",
       "\n",
       "\n",
       "  <div class=\"bk-root\" id=\"c1078bb8-9789-4fb5-8d71-678bed6b20e0\" data-root-id=\"83150\"></div>\n"
      ]
     },
     "metadata": {},
     "output_type": "display_data"
    },
    {
     "data": {
      "application/javascript": [
       "(function(root) {\n",
       "  function embed_document(root) {\n",
       "    \n",
       "  var docs_json = {\"3ad62027-6539-4125-96e8-874aff63e303\":{\"roots\":{\"references\":[{\"attributes\":{\"below\":[{\"id\":\"83161\",\"type\":\"LinearAxis\"}],\"center\":[{\"id\":\"83165\",\"type\":\"Grid\"},{\"id\":\"83170\",\"type\":\"Grid\"},{\"id\":\"83189\",\"type\":\"LabelSet\"}],\"left\":[{\"id\":\"83166\",\"type\":\"LogAxis\"}],\"renderers\":[{\"id\":\"83187\",\"type\":\"GlyphRenderer\"}],\"title\":{\"id\":\"83151\",\"type\":\"Title\"},\"toolbar\":{\"id\":\"83177\",\"type\":\"Toolbar\"},\"x_range\":{\"id\":\"83153\",\"type\":\"DataRange1d\"},\"x_scale\":{\"id\":\"83157\",\"type\":\"LinearScale\"},\"y_range\":{\"id\":\"83155\",\"type\":\"DataRange1d\"},\"y_scale\":{\"id\":\"83159\",\"type\":\"LogScale\"}},\"id\":\"83150\",\"subtype\":\"Figure\",\"type\":\"Plot\"},{\"attributes\":{\"active_drag\":\"auto\",\"active_inspect\":\"auto\",\"active_multi\":null,\"active_scroll\":\"auto\",\"active_tap\":\"auto\",\"tools\":[{\"id\":\"83171\",\"type\":\"PanTool\"},{\"id\":\"83172\",\"type\":\"WheelZoomTool\"},{\"id\":\"83173\",\"type\":\"BoxZoomTool\"},{\"id\":\"83174\",\"type\":\"SaveTool\"},{\"id\":\"83175\",\"type\":\"ResetTool\"},{\"id\":\"83176\",\"type\":\"HelpTool\"}]},\"id\":\"83177\",\"type\":\"Toolbar\"},{\"attributes\":{\"ticker\":{\"id\":\"83162\",\"type\":\"BasicTicker\"}},\"id\":\"83165\",\"type\":\"Grid\"},{\"attributes\":{},\"id\":\"83176\",\"type\":\"HelpTool\"},{\"attributes\":{},\"id\":\"83162\",\"type\":\"BasicTicker\"},{\"attributes\":{\"axis_label\":\"Qualit\\u00e9 des r\\u00e9gulations\",\"formatter\":{\"id\":\"84256\",\"type\":\"BasicTickFormatter\"},\"ticker\":{\"id\":\"83162\",\"type\":\"BasicTicker\"}},\"id\":\"83161\",\"type\":\"LinearAxis\"},{\"attributes\":{},\"id\":\"83175\",\"type\":\"ResetTool\"},{\"attributes\":{},\"id\":\"83174\",\"type\":\"SaveTool\"},{\"attributes\":{},\"id\":\"83159\",\"type\":\"LogScale\"},{\"attributes\":{\"overlay\":{\"id\":\"84260\",\"type\":\"BoxAnnotation\"}},\"id\":\"83173\",\"type\":\"BoxZoomTool\"},{\"attributes\":{},\"id\":\"83157\",\"type\":\"LinearScale\"},{\"attributes\":{},\"id\":\"83172\",\"type\":\"WheelZoomTool\"},{\"attributes\":{\"callback\":null},\"id\":\"83153\",\"type\":\"DataRange1d\"},{\"attributes\":{},\"id\":\"84256\",\"type\":\"BasicTickFormatter\"},{\"attributes\":{},\"id\":\"83171\",\"type\":\"PanTool\"},{\"attributes\":{\"callback\":null},\"id\":\"83155\",\"type\":\"DataRange1d\"},{\"attributes\":{\"ticker\":null},\"id\":\"84254\",\"type\":\"LogTickFormatter\"},{\"attributes\":{\"data_source\":{\"id\":\"83149\",\"type\":\"ColumnDataSource\"},\"glyph\":{\"id\":\"83185\",\"type\":\"Circle\"},\"hover_glyph\":null,\"muted_glyph\":null,\"nonselection_glyph\":{\"id\":\"83186\",\"type\":\"Circle\"},\"selection_glyph\":null,\"view\":{\"id\":\"83188\",\"type\":\"CDSView\"}},\"id\":\"83187\",\"type\":\"GlyphRenderer\"},{\"attributes\":{\"source\":{\"id\":\"83149\",\"type\":\"ColumnDataSource\"},\"text\":{\"field\":\"label\"},\"text_align\":\"center\",\"text_color\":{\"value\":\"#555555\"},\"text_font_size\":{\"value\":\"8pt\"},\"x\":{\"field\":\"x\"},\"y\":{\"field\":\"y\"},\"y_offset\":{\"value\":8}},\"id\":\"83189\",\"type\":\"LabelSet\"},{\"attributes\":{\"text\":\"PIB en 2015 en fonction de la qualit\\u00e9 des r\\u00e9gulations\"},\"id\":\"83151\",\"type\":\"Title\"},{\"attributes\":{\"callback\":null,\"data\":{\"color\":[\"yellow\",\"blue\",\"red\",\"green\",\"blue\",\"brown\",\"blue\",\"yellow\",\"black\",\"green\",\"blue\",\"red\",\"green\",\"red\",\"red\",\"blue\",\"green\",\"blue\",\"green\",\"green\",\"yellow\",\"brown\",\"yellow\",\"blue\",\"blue\",\"red\",\"red\",\"red\",\"yellow\",\"green\",\"brown\",\"blue\",\"red\",\"red\",\"brown\",\"red\",\"yellow\",\"yellow\",\"yellow\",\"blue\",\"green\",\"red\",\"yellow\",\"green\",\"yellow\",\"red\",\"brown\",\"red\",\"green\",\"green\",\"red\",\"green\",\"black\",\"green\",\"red\",\"green\",\"blue\",\"red\",\"red\",\"red\",\"red\",\"green\",\"yellow\",\"yellow\",\"yellow\",\"brown\",\"yellow\",\"green\",\"yellow\",\"green\",\"blue\",\"blue\",\"green\",\"blue\",\"green\",\"blue\",\"green\",\"yellow\",\"blue\",\"blue\",\"blue\",\"red\",\"blue\",\"black\",\"blue\",\"blue\",\"red\",\"red\",\"green\",\"blue\",\"red\",\"green\",\"green\",\"green\",\"red\",\"red\",\"blue\",\"yellow\",\"black\",\"red\",\"green\",\"blue\",\"blue\",\"green\",\"red\",\"red\",\"red\",\"red\",\"blue\",\"red\",\"red\",\"red\",\"yellow\",\"green\",\"green\",\"blue\",\"black\",\"black\",\"blue\",\"blue\",\"yellow\",\"black\",\"brown\",\"blue\",\"black\",\"green\",\"yellow\",\"green\",\"brown\",\"blue\",\"green\",\"red\",\"black\",\"blue\",\"red\",\"red\",\"blue\",\"black\",\"red\",\"yellow\",\"red\",\"brown\",\"green\",\"green\",\"red\",\"red\",\"blue\",\"red\",\"red\",\"blue\",\"blue\",\"blue\",\"black\",\"yellow\",\"red\",\"blue\",\"black\",\"red\",\"green\",\"brown\",\"yellow\",\"blue\",\"black\",\"green\",\"red\",\"red\",\"red\"],\"label\":[\"Aruba\",\"Afghanistan\",\"Angola\",\"Albania\",\"United Arab Emirates\",\"Argentina\",\"Armenia\",\"Antigua and Barbuda\",\"Australia\",\"Austria\",\"Azerbaijan\",\"Burundi\",\"Belgium\",\"Benin\",\"Burkina Faso\",\"Bangladesh\",\"Bulgaria\",\"Bahrain\",\"Bahamas, The\",\"Bosnia and Herzegovina\",\"Belarus\",\"Belize\",\"Bolivia\",\"Brazil\",\"Barbados\",\"Brunei Darussalam\",\"Bhutan\",\"South Sudan\",\"Botswana\",\"Central African Republic\",\"Canada\",\"Switzerland\",\"Chile\",\"China\",\"C\\u00f4te d'Ivoire\",\"Cameroon\",\"Congo, Rep.\",\"Colombia\",\"Comoros\",\"Cape Verde\",\"Costa Rica\",\"Cuba\",\"Cayman Islands\",\"Cyprus\",\"Czech Republic\",\"Germany\",\"Djibouti\",\"Dominica\",\"Denmark\",\"Dominican Republic\",\"Algeria\",\"Ecuador\",\"Egypt, Arab Rep.\",\"Eritrea\",\"Spain\",\"Estonia\",\"Ethiopia\",\"Finland\",\"Fiji\",\"France\",\"Micronesia, Fed. Sts.\",\"Gabon\",\"United Kingdom\",\"Georgia\",\"Ghana\",\"Guinea\",\"Gambia, The\",\"Guinea-Bissau\",\"Equatorial Guinea\",\"Greece\",\"Grenada\",\"Greenland\",\"Guatemala\",\"Guyana\",\"Hong Kong SAR, China\",\"Honduras\",\"Croatia\",\"Haiti\",\"Hungary\",\"Indonesia\",\"India\",\"Ireland\",\"Iran, Islamic Rep.\",\"Iraq\",\"Iceland\",\"Israel\",\"Italy\",\"Jamaica\",\"Jordan\",\"Japan\",\"Kazakhstan\",\"Kenya\",\"Kyrgyz Republic\",\"Cambodia\",\"Kiribati\",\"St. Kitts and Nevis\",\"Korea, Rep.\",\"Kuwait\",\"Lao PDR\",\"Lebanon\",\"Liberia\",\"Libya\",\"St. Lucia\",\"Liechtenstein\",\"Sri Lanka\",\"Lesotho\",\"Lithuania\",\"Luxembourg\",\"Latvia\",\"Macao SAR, China\",\"Morocco\",\"Moldova\",\"Madagascar\",\"Maldives\",\"Mexico\",\"Marshall Islands\",\"Macedonia, FYR\",\"Mali\",\"Malta\",\"Myanmar\",\"Mongolia\",\"Montenegro\",\"Mozambique\",\"Mauritania\",\"Mauritius\",\"Malawi\",\"Malaysia\",\"Namibia\",\"Niger\",\"Nigeria\",\"Nicaragua\",\"Netherlands\",\"Norway\",\"Nepal\",\"Nauru\",\"New Zealand\",\"Oman\",\"Pakistan\",\"Panama\",\"Palau\",\"Peru\",\"Philippines\",\"Papua New Guinea\",\"Poland\",\"Puerto Rico\",\"Korea, Dem. Rep.\",\"Portugal\",\"Paraguay\",\"Qatar\",\"Russian Federation\",\"Rwanda\",\"Samoa\",\"Saudi Arabia\",\"Sudan\",\"Senegal\",\"Singapore\",\"Solomon Islands\",\"Sierra Leone\",\"El Salvador\",\"Somalia\",\"S\\u00e3o Tom\\u00e9 and Principe\",\"Suriname\",\"Slovak Republic\",\"Slovenia\",\"Sweden\",\"Swaziland\",\"Seychelles\",\"Syrian Arab Republic\",\"Chad\",\"Togo\",\"Thailand\",\"Tajikistan\",\"Turkmenistan\",\"Tonga\",\"Trinidad and Tobago\",\"Tunisia\",\"Turkey\",\"Tuvalu\",\"Tanzania\",\"Uganda\",\"Ukraine\",\"Uruguay\",\"United States\",\"Uzbekistan\",\"St. Vincent and the Grenadines\",\"Venezuela, RB\",\"Vietnam\",\"Vanuatu\",\"Yemen, Rep.\",\"Serbia\",\"South Africa\",\"Zambia\",\"Zimbabwe\"],\"x\":{\"__ndarray__\":\"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\",\"dtype\":\"float64\",\"shape\":[193]},\"y\":{\"__ndarray__\":\"1sUGVhgx2UBGD1CenHCCQKbbwvi6SrBAASMmXKnhrkAJ1i+XQRrjQLxtZI8lwcpAYHwKGt9DrEBlCyTrNZHKQPVTOzItnutAYb3WGNmV5UCTTjl1T3y1QNZc3M78BXNAdHIh7yS140B3VCJitH+IQMYajQCE+oFAqqBfqaLokkBCDVKSyFG7QCqRJzU4KNZAcGeGfPTE3UAYIJ0XPuixQIJ17zYbPbdAbwCMYYkps0A9UvppDQqoQNqkIoscF8FAwc7lToaAz0CHdQ7++D3eQJHHq0sFcKRAYr2xLV+vjED/Ha1oJXm5QNHiWlMaxnVAMGyR2KtA5UChPUxXAAb0QLLdOF5R1MpAw+a7iDaFv0Bebd0MbMyaQI/OZ62yJ5VA9krIDXzAmkCx2SjBNcW3QB0fH2k63JNAPvUgXrlop0ARE0qjg0DGQEary1ZHsr1AAAAAAAAA+H/a0INhDqvWQLUSgnrnTNFA4R3yfH0t5EBjcybNcIabQC7KuQ084LxA9hQD5J/i6UDGYA+X6Ia5QCpDgSjaQrBAYQKw7CcGuEAQPuMPbberQAAAAAAAAPh/qN9GQGEv2UAz5H/y98DQQCvSb1W4K4RAFeXaEAe35EBPU9QhdhmzQFfnxAGs4OFAGr8acQSUp0CFziQ3txi9QHDIi78xouVAnkcaJkhprUBjnZ+NPtybQKXsFY9ruoZAsRtZ1soHhkDn65z+cn6CQLzlR9S85sVARKy+trGl0UANDvGWojrCQFee2IMI7uVAlWtMjSWnrkCh6znyQ0CwQEPNzWz8t+RALRrB9oxKokA7d3/gof7GQMOadARfdIlAlokk1+5hyECPqlYgGQ2qQLAXLjQnGJlAf6mzc/Ut7kBV0AK7TP6yQLU3r0S6MrNAemukKbUB6UC92ojRXm3hQDdXspMUed1A7Wy7dWo9s0DWFhZqGQCwQLoGktz34OBA3VQ9zWKHxED2T2TNOCyVQM30udJUhJFAHFsdU8IskkCrqh+LOcmXQBkVUe/K19BAvh/k4ER42kARh0pmRG3cQEd8HMbd3qBAyQidv8GowED0nkHJeRCGQB08pIh9cbFAx21DoNPhwUCzs73dNHUEQYzKCSwHCa5A/IV5vmsJkkCwDdBuj+jLQDalspRsxPhATuDq2NijykD75dWVxG3yQJz+DzaSPqZA0Ko+FPuhnEB0M5q5aSF5QBIXvmTYLsNAvECfFh8pwkAi/sER0n2qQJcXg9ZR6LJADzXP9ldvh0DViWsv4ijXQGsupc74y5FAiAUJlezVrkBruVvPRXK5QCL3/CCBgoBA6KT+hQYZkkAZYjVBORbCQN+RQvqHqnZAUhCOlZHbwkD7T0qGSMOyQF36agAJrHZAm8/NioZTpUCrlbvx/jKgQIWHhrBK2eVANTzFMyIw8kAo1XygSFmHQEDdOm3jdL9A3/KmHCzf4kBKSSeLrQXQQL7gRO6MUpZA1/S07didykBEcixKueTKQKqMOcccpbdAssHkPq18pkBQExJW5FukQN8dH4kthshAJ9CAav0Q3UAAAAAAAAD4fyFxFKMozdJA2jGXXh5HtUCHTUhSJ9PvQKN15OROQcJAdAUJGzE+hkAcx773ADawQIVFciY3P9RA0mZP8sSjo0DZ4dJfT4mSQLpJ3XWb0+pATHdXKrC1nkChIwtYfTeCQKEWPwvCq6xA/cRriY7sfUAauVgR7zWZQAp4XIHh1MBAe7SjHm6Cz0BXMJ5PSmLUQHvzhRuGz+hA4c0lveTPp0BNJxUpqMzMQAAAAAAAAPh/mW1gAaZqiECy0oiLzZuBQKbPCAVl1rZAGcEGzX62jECA6bslryC5QIBH1fyy+69AIhFwOk+F0UCZY82sdeetQG9r08RmdMVAADDfjCVAqUCTiREVoEGLQI1FFBj4GIVACkHySFOZoEAdMQHWa1LOQH082SZ6j+tAIF4vWSezoEB3qVId//W6QAAAAAAAAPh/H4IjlFYioEBxEN61ismlQIjuMZqhd5pAPY2VXUF1tED7mHvg/G62QI9hO/+Oh5RAYtOSei3Fk0A=\",\"dtype\":\"float64\",\"shape\":[193]}},\"selected\":{\"id\":\"84258\",\"type\":\"Selection\"},\"selection_policy\":{\"id\":\"84259\",\"type\":\"UnionRenderers\"}},\"id\":\"83149\",\"type\":\"ColumnDataSource\"},{\"attributes\":{\"fill_alpha\":{\"value\":0.2},\"fill_color\":{\"value\":\"#1f77b4\"},\"line_color\":{\"value\":\"#1f77b4\"},\"size\":{\"units\":\"screen\",\"value\":10},\"x\":{\"field\":\"x\"},\"y\":{\"field\":\"y\"}},\"id\":\"83185\",\"type\":\"Circle\"},{\"attributes\":{},\"id\":\"84258\",\"type\":\"Selection\"},{\"attributes\":{\"fill_alpha\":{\"value\":0.1},\"fill_color\":{\"value\":\"#1f77b4\"},\"line_alpha\":{\"value\":0.1},\"line_color\":{\"value\":\"#1f77b4\"},\"size\":{\"units\":\"screen\",\"value\":10},\"x\":{\"field\":\"x\"},\"y\":{\"field\":\"y\"}},\"id\":\"83186\",\"type\":\"Circle\"},{\"attributes\":{\"dimension\":1,\"ticker\":{\"id\":\"83167\",\"type\":\"LogTicker\"}},\"id\":\"83170\",\"type\":\"Grid\"},{\"attributes\":{\"bottom_units\":\"screen\",\"fill_alpha\":{\"value\":0.5},\"fill_color\":{\"value\":\"lightgrey\"},\"left_units\":\"screen\",\"level\":\"overlay\",\"line_alpha\":{\"value\":1.0},\"line_color\":{\"value\":\"black\"},\"line_dash\":[4,4],\"line_width\":{\"value\":2},\"render_mode\":\"css\",\"right_units\":\"screen\",\"top_units\":\"screen\"},\"id\":\"84260\",\"type\":\"BoxAnnotation\"},{\"attributes\":{\"num_minor_ticks\":10},\"id\":\"83167\",\"type\":\"LogTicker\"},{\"attributes\":{\"source\":{\"id\":\"83149\",\"type\":\"ColumnDataSource\"}},\"id\":\"83188\",\"type\":\"CDSView\"},{\"attributes\":{},\"id\":\"84259\",\"type\":\"UnionRenderers\"},{\"attributes\":{\"axis_label\":\"PIB en 2015\",\"formatter\":{\"id\":\"84254\",\"type\":\"LogTickFormatter\"},\"ticker\":{\"id\":\"83167\",\"type\":\"LogTicker\"}},\"id\":\"83166\",\"type\":\"LogAxis\"}],\"root_ids\":[\"83150\"]},\"title\":\"Bokeh Application\",\"version\":\"1.1.0\"}};\n",
       "  var render_items = [{\"docid\":\"3ad62027-6539-4125-96e8-874aff63e303\",\"roots\":{\"83150\":\"c1078bb8-9789-4fb5-8d71-678bed6b20e0\"}}];\n",
       "  root.Bokeh.embed.embed_items_notebook(docs_json, render_items);\n",
       "\n",
       "  }\n",
       "  if (root.Bokeh !== undefined) {\n",
       "    embed_document(root);\n",
       "  } else {\n",
       "    var attempts = 0;\n",
       "    var timer = setInterval(function(root) {\n",
       "      if (root.Bokeh !== undefined) {\n",
       "        embed_document(root);\n",
       "        clearInterval(timer);\n",
       "      }\n",
       "      attempts++;\n",
       "      if (attempts > 100) {\n",
       "        console.log(\"Bokeh: ERROR: Unable to run BokehJS code because BokehJS library is missing\");\n",
       "        clearInterval(timer);\n",
       "      }\n",
       "    }, 10, root)\n",
       "  }\n",
       "})(window);"
      ],
      "application/vnd.bokehjs_exec.v0+json": ""
     },
     "metadata": {
      "application/vnd.bokehjs_exec.v0+json": {
       "id": "83150"
      }
     },
     "output_type": "display_data"
    }
   ],
   "source": [
    "df = pd.read_csv('gdp_per_cap.csv')\n",
    "gov = pd.read_excel(\"all_5_wdb.xlsx\")\n",
    "gov = gov.dropna()\n",
    "gov = gov.set_index(\"WBCode\").join(df.set_index(\"Country Code\"), how=\"inner\")\n",
    "\n",
    "\n",
    "pca = TSNE(n_components=1,random_state=0,perplexity=20)\n",
    "mat = pca.fit_transform(X,y)\n",
    "source = ColumnDataSource(data={\"x\":gov[\"RegulatoryQuality\"], \"y\":gov[\"2015\"], \"label\":gov[\"Country/Territory\"], \n",
    "                                \"color\":list([colors[int(i)] for i in conts])})\n",
    "\n",
    "\n",
    "p = figure(title = \"PIB en 2015 en fonction de la qualité des régulations\",\n",
    "           x_axis_label=\"Qualité des régulations\",y_axis_label=\"PIB en 2015\",\n",
    "                 # x_axis_type=\"log\",\n",
    "           y_axis_type=\"log\")\n",
    "\n",
    "p.circle(x=\"x\",y=\"y\", source=source, fill_alpha=0.2, size=10)\n",
    "\n",
    "labels = LabelSet(x=\"x\",y=\"y\",source=source, text=\"label\", y_offset=8,\n",
    "                  text_font_size=\"8pt\", text_color=\"#555555\",\n",
    "                  text_align='center')\n",
    "p.add_layout(labels)\n",
    "\n",
    "show(p)"
   ]
  },
  {
   "cell_type": "code",
   "execution_count": 287,
   "metadata": {},
   "outputs": [
    {
     "name": "stderr",
     "output_type": "stream",
     "text": [
      "/home/leo/.local/lib/python3.6/site-packages/bokeh/models/sources.py:164: BokehUserWarning:\n",
      "\n",
      "ColumnDataSource's columns must be of the same length. Current lengths: ('color', 167), ('label', 193), ('x', 193), ('y', 193)\n",
      "\n"
     ]
    },
    {
     "data": {
      "text/html": [
       "\n",
       "\n",
       "\n",
       "\n",
       "\n",
       "\n",
       "  <div class=\"bk-root\" id=\"98ba6028-1e6a-4905-ac01-3839ea9d4c58\" data-root-id=\"84310\"></div>\n"
      ]
     },
     "metadata": {},
     "output_type": "display_data"
    },
    {
     "data": {
      "application/javascript": [
       "(function(root) {\n",
       "  function embed_document(root) {\n",
       "    \n",
       "  var docs_json = {\"937fe084-58b3-455b-ae6d-67f1730c3cae\":{\"roots\":{\"references\":[{\"attributes\":{\"below\":[{\"id\":\"84321\",\"type\":\"LinearAxis\"}],\"center\":[{\"id\":\"84325\",\"type\":\"Grid\"},{\"id\":\"84330\",\"type\":\"Grid\"},{\"id\":\"84349\",\"type\":\"LabelSet\"}],\"left\":[{\"id\":\"84326\",\"type\":\"LogAxis\"}],\"renderers\":[{\"id\":\"84347\",\"type\":\"GlyphRenderer\"}],\"title\":{\"id\":\"84311\",\"type\":\"Title\"},\"toolbar\":{\"id\":\"84337\",\"type\":\"Toolbar\"},\"x_range\":{\"id\":\"84313\",\"type\":\"DataRange1d\"},\"x_scale\":{\"id\":\"84317\",\"type\":\"LinearScale\"},\"y_range\":{\"id\":\"84315\",\"type\":\"DataRange1d\"},\"y_scale\":{\"id\":\"84319\",\"type\":\"LogScale\"}},\"id\":\"84310\",\"subtype\":\"Figure\",\"type\":\"Plot\"},{\"attributes\":{},\"id\":\"84335\",\"type\":\"ResetTool\"},{\"attributes\":{\"source\":{\"id\":\"84309\",\"type\":\"ColumnDataSource\"},\"text\":{\"field\":\"label\"},\"text_align\":\"center\",\"text_color\":{\"value\":\"#555555\"},\"text_font_size\":{\"value\":\"8pt\"},\"x\":{\"field\":\"x\"},\"y\":{\"field\":\"y\"},\"y_offset\":{\"value\":8}},\"id\":\"84349\",\"type\":\"LabelSet\"},{\"attributes\":{},\"id\":\"84334\",\"type\":\"SaveTool\"},{\"attributes\":{\"callback\":null,\"data\":{\"color\":[\"yellow\",\"blue\",\"red\",\"green\",\"blue\",\"brown\",\"blue\",\"yellow\",\"black\",\"green\",\"blue\",\"red\",\"green\",\"red\",\"red\",\"blue\",\"green\",\"blue\",\"green\",\"green\",\"yellow\",\"brown\",\"yellow\",\"blue\",\"blue\",\"red\",\"red\",\"red\",\"yellow\",\"green\",\"brown\",\"blue\",\"red\",\"red\",\"brown\",\"red\",\"yellow\",\"yellow\",\"yellow\",\"blue\",\"green\",\"red\",\"yellow\",\"green\",\"yellow\",\"red\",\"brown\",\"red\",\"green\",\"green\",\"red\",\"green\",\"black\",\"green\",\"red\",\"green\",\"blue\",\"red\",\"red\",\"red\",\"red\",\"green\",\"yellow\",\"yellow\",\"yellow\",\"brown\",\"yellow\",\"green\",\"yellow\",\"green\",\"blue\",\"blue\",\"green\",\"blue\",\"green\",\"blue\",\"green\",\"yellow\",\"blue\",\"blue\",\"blue\",\"red\",\"blue\",\"black\",\"blue\",\"blue\",\"red\",\"red\",\"green\",\"blue\",\"red\",\"green\",\"green\",\"green\",\"red\",\"red\",\"blue\",\"yellow\",\"black\",\"red\",\"green\",\"blue\",\"blue\",\"green\",\"red\",\"red\",\"red\",\"red\",\"blue\",\"red\",\"red\",\"red\",\"yellow\",\"green\",\"green\",\"blue\",\"black\",\"black\",\"blue\",\"blue\",\"yellow\",\"black\",\"brown\",\"blue\",\"black\",\"green\",\"yellow\",\"green\",\"brown\",\"blue\",\"green\",\"red\",\"black\",\"blue\",\"red\",\"red\",\"blue\",\"black\",\"red\",\"yellow\",\"red\",\"brown\",\"green\",\"green\",\"red\",\"red\",\"blue\",\"red\",\"red\",\"blue\",\"blue\",\"blue\",\"black\",\"yellow\",\"red\",\"blue\",\"black\",\"red\",\"green\",\"brown\",\"yellow\",\"blue\",\"black\",\"green\",\"red\",\"red\",\"red\"],\"label\":[\"Aruba\",\"Afghanistan\",\"Angola\",\"Albania\",\"United Arab Emirates\",\"Argentina\",\"Armenia\",\"Antigua and Barbuda\",\"Australia\",\"Austria\",\"Azerbaijan\",\"Burundi\",\"Belgium\",\"Benin\",\"Burkina Faso\",\"Bangladesh\",\"Bulgaria\",\"Bahrain\",\"Bahamas, The\",\"Bosnia and Herzegovina\",\"Belarus\",\"Belize\",\"Bolivia\",\"Brazil\",\"Barbados\",\"Brunei Darussalam\",\"Bhutan\",\"South Sudan\",\"Botswana\",\"Central African Republic\",\"Canada\",\"Switzerland\",\"Chile\",\"China\",\"C\\u00f4te d'Ivoire\",\"Cameroon\",\"Congo, Rep.\",\"Colombia\",\"Comoros\",\"Cape Verde\",\"Costa Rica\",\"Cuba\",\"Cayman Islands\",\"Cyprus\",\"Czech Republic\",\"Germany\",\"Djibouti\",\"Dominica\",\"Denmark\",\"Dominican Republic\",\"Algeria\",\"Ecuador\",\"Egypt, Arab Rep.\",\"Eritrea\",\"Spain\",\"Estonia\",\"Ethiopia\",\"Finland\",\"Fiji\",\"France\",\"Micronesia, Fed. Sts.\",\"Gabon\",\"United Kingdom\",\"Georgia\",\"Ghana\",\"Guinea\",\"Gambia, The\",\"Guinea-Bissau\",\"Equatorial Guinea\",\"Greece\",\"Grenada\",\"Greenland\",\"Guatemala\",\"Guyana\",\"Hong Kong SAR, China\",\"Honduras\",\"Croatia\",\"Haiti\",\"Hungary\",\"Indonesia\",\"India\",\"Ireland\",\"Iran, Islamic Rep.\",\"Iraq\",\"Iceland\",\"Israel\",\"Italy\",\"Jamaica\",\"Jordan\",\"Japan\",\"Kazakhstan\",\"Kenya\",\"Kyrgyz Republic\",\"Cambodia\",\"Kiribati\",\"St. Kitts and Nevis\",\"Korea, Rep.\",\"Kuwait\",\"Lao PDR\",\"Lebanon\",\"Liberia\",\"Libya\",\"St. Lucia\",\"Liechtenstein\",\"Sri Lanka\",\"Lesotho\",\"Lithuania\",\"Luxembourg\",\"Latvia\",\"Macao SAR, China\",\"Morocco\",\"Moldova\",\"Madagascar\",\"Maldives\",\"Mexico\",\"Marshall Islands\",\"Macedonia, FYR\",\"Mali\",\"Malta\",\"Myanmar\",\"Mongolia\",\"Montenegro\",\"Mozambique\",\"Mauritania\",\"Mauritius\",\"Malawi\",\"Malaysia\",\"Namibia\",\"Niger\",\"Nigeria\",\"Nicaragua\",\"Netherlands\",\"Norway\",\"Nepal\",\"Nauru\",\"New Zealand\",\"Oman\",\"Pakistan\",\"Panama\",\"Palau\",\"Peru\",\"Philippines\",\"Papua New Guinea\",\"Poland\",\"Puerto Rico\",\"Korea, Dem. Rep.\",\"Portugal\",\"Paraguay\",\"Qatar\",\"Russian Federation\",\"Rwanda\",\"Samoa\",\"Saudi Arabia\",\"Sudan\",\"Senegal\",\"Singapore\",\"Solomon Islands\",\"Sierra Leone\",\"El Salvador\",\"Somalia\",\"S\\u00e3o Tom\\u00e9 and Principe\",\"Suriname\",\"Slovak Republic\",\"Slovenia\",\"Sweden\",\"Swaziland\",\"Seychelles\",\"Syrian Arab Republic\",\"Chad\",\"Togo\",\"Thailand\",\"Tajikistan\",\"Turkmenistan\",\"Tonga\",\"Trinidad and Tobago\",\"Tunisia\",\"Turkey\",\"Tuvalu\",\"Tanzania\",\"Uganda\",\"Ukraine\",\"Uruguay\",\"United States\",\"Uzbekistan\",\"St. Vincent and the Grenadines\",\"Venezuela, RB\",\"Vietnam\",\"Vanuatu\",\"Yemen, Rep.\",\"Serbia\",\"South Africa\",\"Zambia\",\"Zimbabwe\"],\"x\":{\"__ndarray__\":\"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\",\"dtype\":\"float64\",\"shape\":[193]},\"y\":{\"__ndarray__\":\"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\",\"dtype\":\"float64\",\"shape\":[193]}},\"selected\":{\"id\":\"85426\",\"type\":\"Selection\"},\"selection_policy\":{\"id\":\"85427\",\"type\":\"UnionRenderers\"}},\"id\":\"84309\",\"type\":\"ColumnDataSource\"},{\"attributes\":{\"overlay\":{\"id\":\"85428\",\"type\":\"BoxAnnotation\"}},\"id\":\"84333\",\"type\":\"BoxZoomTool\"},{\"attributes\":{\"callback\":null},\"id\":\"84315\",\"type\":\"DataRange1d\"},{\"attributes\":{},\"id\":\"84332\",\"type\":\"WheelZoomTool\"},{\"attributes\":{},\"id\":\"84322\",\"type\":\"BasicTicker\"},{\"attributes\":{},\"id\":\"84331\",\"type\":\"PanTool\"},{\"attributes\":{\"active_drag\":\"auto\",\"active_inspect\":\"auto\",\"active_multi\":null,\"active_scroll\":\"auto\",\"active_tap\":\"auto\",\"tools\":[{\"id\":\"84331\",\"type\":\"PanTool\"},{\"id\":\"84332\",\"type\":\"WheelZoomTool\"},{\"id\":\"84333\",\"type\":\"BoxZoomTool\"},{\"id\":\"84334\",\"type\":\"SaveTool\"},{\"id\":\"84335\",\"type\":\"ResetTool\"},{\"id\":\"84336\",\"type\":\"HelpTool\"}]},\"id\":\"84337\",\"type\":\"Toolbar\"},{\"attributes\":{\"ticker\":null},\"id\":\"85422\",\"type\":\"LogTickFormatter\"},{\"attributes\":{\"fill_alpha\":{\"value\":0.2},\"fill_color\":{\"value\":\"#1f77b4\"},\"line_color\":{\"value\":\"#1f77b4\"},\"size\":{\"units\":\"screen\",\"value\":10},\"x\":{\"field\":\"x\"},\"y\":{\"field\":\"y\"}},\"id\":\"84345\",\"type\":\"Circle\"},{\"attributes\":{},\"id\":\"85426\",\"type\":\"Selection\"},{\"attributes\":{},\"id\":\"85427\",\"type\":\"UnionRenderers\"},{\"attributes\":{\"fill_alpha\":{\"value\":0.1},\"fill_color\":{\"value\":\"#1f77b4\"},\"line_alpha\":{\"value\":0.1},\"line_color\":{\"value\":\"#1f77b4\"},\"size\":{\"units\":\"screen\",\"value\":10},\"x\":{\"field\":\"x\"},\"y\":{\"field\":\"y\"}},\"id\":\"84346\",\"type\":\"Circle\"},{\"attributes\":{\"dimension\":1,\"ticker\":{\"id\":\"84327\",\"type\":\"LogTicker\"}},\"id\":\"84330\",\"type\":\"Grid\"},{\"attributes\":{},\"id\":\"84317\",\"type\":\"LinearScale\"},{\"attributes\":{},\"id\":\"85424\",\"type\":\"BasicTickFormatter\"},{\"attributes\":{},\"id\":\"84319\",\"type\":\"LogScale\"},{\"attributes\":{\"num_minor_ticks\":10},\"id\":\"84327\",\"type\":\"LogTicker\"},{\"attributes\":{\"source\":{\"id\":\"84309\",\"type\":\"ColumnDataSource\"}},\"id\":\"84348\",\"type\":\"CDSView\"},{\"attributes\":{\"text\":\"PIB en 2015 en fonction de l'\\u00e9coute des citoyens'\"},\"id\":\"84311\",\"type\":\"Title\"},{\"attributes\":{\"axis_label\":\"PIB en 2015\",\"formatter\":{\"id\":\"85422\",\"type\":\"LogTickFormatter\"},\"ticker\":{\"id\":\"84327\",\"type\":\"LogTicker\"}},\"id\":\"84326\",\"type\":\"LogAxis\"},{\"attributes\":{\"axis_label\":\"Ecoute des citoyens\",\"formatter\":{\"id\":\"85424\",\"type\":\"BasicTickFormatter\"},\"ticker\":{\"id\":\"84322\",\"type\":\"BasicTicker\"}},\"id\":\"84321\",\"type\":\"LinearAxis\"},{\"attributes\":{\"data_source\":{\"id\":\"84309\",\"type\":\"ColumnDataSource\"},\"glyph\":{\"id\":\"84345\",\"type\":\"Circle\"},\"hover_glyph\":null,\"muted_glyph\":null,\"nonselection_glyph\":{\"id\":\"84346\",\"type\":\"Circle\"},\"selection_glyph\":null,\"view\":{\"id\":\"84348\",\"type\":\"CDSView\"}},\"id\":\"84347\",\"type\":\"GlyphRenderer\"},{\"attributes\":{\"callback\":null},\"id\":\"84313\",\"type\":\"DataRange1d\"},{\"attributes\":{\"ticker\":{\"id\":\"84322\",\"type\":\"BasicTicker\"}},\"id\":\"84325\",\"type\":\"Grid\"},{\"attributes\":{},\"id\":\"84336\",\"type\":\"HelpTool\"},{\"attributes\":{\"bottom_units\":\"screen\",\"fill_alpha\":{\"value\":0.5},\"fill_color\":{\"value\":\"lightgrey\"},\"left_units\":\"screen\",\"level\":\"overlay\",\"line_alpha\":{\"value\":1.0},\"line_color\":{\"value\":\"black\"},\"line_dash\":[4,4],\"line_width\":{\"value\":2},\"render_mode\":\"css\",\"right_units\":\"screen\",\"top_units\":\"screen\"},\"id\":\"85428\",\"type\":\"BoxAnnotation\"}],\"root_ids\":[\"84310\"]},\"title\":\"Bokeh Application\",\"version\":\"1.1.0\"}};\n",
       "  var render_items = [{\"docid\":\"937fe084-58b3-455b-ae6d-67f1730c3cae\",\"roots\":{\"84310\":\"98ba6028-1e6a-4905-ac01-3839ea9d4c58\"}}];\n",
       "  root.Bokeh.embed.embed_items_notebook(docs_json, render_items);\n",
       "\n",
       "  }\n",
       "  if (root.Bokeh !== undefined) {\n",
       "    embed_document(root);\n",
       "  } else {\n",
       "    var attempts = 0;\n",
       "    var timer = setInterval(function(root) {\n",
       "      if (root.Bokeh !== undefined) {\n",
       "        embed_document(root);\n",
       "        clearInterval(timer);\n",
       "      }\n",
       "      attempts++;\n",
       "      if (attempts > 100) {\n",
       "        console.log(\"Bokeh: ERROR: Unable to run BokehJS code because BokehJS library is missing\");\n",
       "        clearInterval(timer);\n",
       "      }\n",
       "    }, 10, root)\n",
       "  }\n",
       "})(window);"
      ],
      "application/vnd.bokehjs_exec.v0+json": ""
     },
     "metadata": {
      "application/vnd.bokehjs_exec.v0+json": {
       "id": "84310"
      }
     },
     "output_type": "display_data"
    }
   ],
   "source": [
    "df = pd.read_csv('gdp_per_cap.csv')\n",
    "gov = pd.read_excel(\"all_5_wdb.xlsx\")\n",
    "gov = gov.dropna()\n",
    "gov = gov.set_index(\"WBCode\").join(df.set_index(\"Country Code\"), how=\"inner\")\n",
    "\n",
    "\n",
    "pca = TSNE(n_components=1,random_state=0,perplexity=20)\n",
    "mat = pca.fit_transform(X,y)\n",
    "source = ColumnDataSource(data={\"x\":gov[\"Voice\"], \"y\":gov[\"2015\"], \"label\":gov[\"Country/Territory\"], \n",
    "                                \"color\":list([colors[int(i)] for i in conts])})\n",
    "\n",
    "\n",
    "p = figure(title = \"PIB en 2015 en fonction de l'écoute des citoyens'\",\n",
    "           x_axis_label=\"Ecoute des citoyens\",y_axis_label=\"PIB en 2015\",\n",
    "                 # x_axis_type=\"log\",\n",
    "           y_axis_type=\"log\")\n",
    "\n",
    "p.circle(x=\"x\",y=\"y\", source=source, fill_alpha=0.2, size=10)\n",
    "\n",
    "labels = LabelSet(x=\"x\",y=\"y\",source=source, text=\"label\", y_offset=8,\n",
    "                  text_font_size=\"8pt\", text_color=\"#555555\",\n",
    "                  text_align='center')\n",
    "p.add_layout(labels)\n",
    "\n",
    "show(p)"
   ]
  },
  {
   "cell_type": "code",
   "execution_count": 319,
   "metadata": {},
   "outputs": [
    {
     "name": "stdout",
     "output_type": "stream",
     "text": [
      "Score R2= 0.5594636598845624\n"
     ]
    },
    {
     "data": {
      "text/plain": [
       "array([-0.02043237,  0.07216904, -0.00038913, -0.0011512 ,  0.04235768])"
      ]
     },
     "execution_count": 319,
     "metadata": {},
     "output_type": "execute_result"
    }
   ],
   "source": [
    "from sklearn.linear_model import LinearRegression\n",
    "gov = pd.read_excel(\"all_5_wdb.xlsx\")\n",
    "gdp = pd.read_csv(\"gdp_per_cap.csv\")\n",
    "gov = gov.set_index(\"WBCode\").join(df.set_index(\"Country Code\"), how=\"inner\")\n",
    "gov = gov[['Voice', 'RuleOfLaw', 'RegulatoryQuality', 'PoliticalStability', 'GovernmentEffectiveness','2015']]\n",
    "gov = gov.dropna()\n",
    "X = gov[['Voice', 'RuleOfLaw', 'RegulatoryQuality', 'PoliticalStability', 'GovernmentEffectiveness']]\n",
    "y = gov[\"2015\"].to_numpy()\n",
    "y /= np.max(y)\n",
    "lr = LinearRegression(normalize=True)\n",
    "lr.fit(X,y)\n",
    "print(\"Score R2=\",lr.score(X,y))\n",
    "lr.coef_"
   ]
  },
  {
   "cell_type": "code",
   "execution_count": null,
   "metadata": {},
   "outputs": [],
   "source": []
  }
 ],
 "metadata": {
  "kernelspec": {
   "display_name": "Python 3",
   "language": "python",
   "name": "python3"
  },
  "language_info": {
   "codemirror_mode": {
    "name": "ipython",
    "version": 3
   },
   "file_extension": ".py",
   "mimetype": "text/x-python",
   "name": "python",
   "nbconvert_exporter": "python",
   "pygments_lexer": "ipython3",
   "version": "3.6.7"
  }
 },
 "nbformat": 4,
 "nbformat_minor": 2
}
